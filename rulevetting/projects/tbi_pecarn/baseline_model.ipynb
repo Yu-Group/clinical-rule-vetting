{
 "cells": [
  {
   "cell_type": "code",
   "execution_count": 226,
   "id": "ddaa03d6",
   "metadata": {},
   "outputs": [
    {
     "name": "stdout",
     "output_type": "stream",
     "text": [
      "The autoreload extension is already loaded. To reload it, use:\n",
      "  %reload_ext autoreload\n"
     ]
    }
   ],
   "source": [
    "%matplotlib inline\n",
    "%load_ext autoreload\n",
    "%autoreload 2\n",
    "\n",
    "import os\n",
    "import pickle as pkl\n",
    "from os.path import join as oj\n",
    "\n",
    "import matplotlib.pyplot as plt\n",
    "from sklearn import metrics\n",
    "from sklearn.tree import DecisionTreeClassifier, plot_tree\n",
    "from sklearn.model_selection import train_test_split\n",
    "\n",
    "import pandas as pd\n",
    "import numpy as np\n",
    "import random\n",
    "\n",
    "random.seed(10)\n",
    "\n",
    "from imodels import GreedyRuleListClassifier\n",
    "from rulevetting.api import validation\n",
    "from rulevetting.projects.tbi_pecarn.dataset import Dataset\n",
    "from rulevetting.projects.tbi_pecarn.baseline import Baseline\n",
    "import rulevetting.projects.tbi_pecarn.helper as helper\n",
    "\n",
    "MODELS_DIR = './models'\n",
    "os.makedirs(MODELS_DIR, exist_ok=True)\n",
    "\n",
    "outcome_def = 'outcome'  # output"
   ]
  },
  {
   "cell_type": "markdown",
   "id": "6c0bc4a8",
   "metadata": {},
   "source": [
    "# Baseline Model\n",
    "\n",
    "We need to use the same predictors that appeared in the models in the paper. Our current feature selection methods do not give us the same variables, so I will have to retrieve them. The following predictors are used:\n",
    "\n",
    "* **AMS**: Altered mental status \n",
    "* **Hema**: Scalp haematoma \n",
    "* **LocLen**: Loss of conciousness \n",
    "* **High_impact_InjSev**: Mech. of injury \n",
    "* **SFxPalp**: Palp. or unclear skull fracture \n",
    "* **ActNorm**: Acting normally per parent \n",
    "* **Vomit**: History of vomiting\n",
    "* **SFxBas**: Signs of basilar skull fracture \n",
    "* **HASeverity**: Severe headache \n",
    "\n",
    "\n",
    "We will first load in the raw data set and create a list of the above variable names."
   ]
  },
  {
   "cell_type": "code",
   "execution_count": 228,
   "id": "f5329fd6",
   "metadata": {},
   "outputs": [
    {
     "name": "stdout",
     "output_type": "stream",
     "text": [
      "(32908, 31)\n",
      "(8227, 31)\n"
     ]
    },
    {
     "data": {
      "text/plain": [
       "High_impact_InjSev_3    0\n",
       "Clav_0                  0\n",
       "VomitNbr_1              0\n",
       "HemaLoc_1               0\n",
       "SFxBas_1                0\n",
       "NeuroD_1                0\n",
       "AMS_1                   0\n",
       "FontBulg_1              0\n",
       "GCSEye_3                0\n",
       "Seiz_1                  0\n",
       "HA_verb_1               0\n",
       "GCSMotor_6              0\n",
       "VomitStart_2            0\n",
       "Drugs_1                 0\n",
       "SFxPalp_1_or_2          0\n",
       "LOCSeparate_1_or_2      0\n",
       "SeizOccur_2_or_3        0\n",
       "SeizLen_3_or_4          0\n",
       "VomitStart_3_or_4       0\n",
       "HemaLoc_2_or_3          0\n",
       "outcome                 0\n",
       "AMS_1                   0\n",
       "AgeTwoPlus_1            0\n",
       "HemaLoc_2_or_3          0\n",
       "LocLen_2_3_4            0\n",
       "High_impact_InjSev_3    0\n",
       "SFxPalp_1_or_2          0\n",
       "ActNorm_0               0\n",
       "Vomit_1                 0\n",
       "SFxBas_1                0\n",
       "HASeverity_3            0\n",
       "dtype: int64"
      ]
     },
     "execution_count": 228,
     "metadata": {},
     "output_type": "execute_result"
    }
   ],
   "source": [
    "train, tune, test = Dataset().get_data(load_csvs = False)\n",
    "train = pd.concat([train, tune])\n",
    "#test = pd.concat([test, tune])\n",
    "print(train.shape)\n",
    "print(test.shape)\n",
    "\n",
    "base_pred = np.array(['AMS_1', \n",
    "                     'HemaLoc_2_or_3',\n",
    "                     'LocLen_2_3_4',\n",
    "                     'High_impact_InjSev_3', \n",
    "                     'SFxPalp_1_or_2', \n",
    "                     'ActNorm_0', \n",
    "                     'Vomit_1', \n",
    "                     'SFxBas_1', \n",
    "                     'HASeverity_3', \n",
    "                     'AgeTwoPlus_1', # True when under 2 y.o.\n",
    "                     'outcome'])\n",
    "\n",
    "young_predrs = np.array(['AMS_1', \n",
    "                     'HemaLoc_2_or_3',\n",
    "                     'LocLen_2_3_4',\n",
    "                     'High_impact_InjSev_3', \n",
    "                     'SFxPalp_1_or_2', \n",
    "                     'ActNorm_0', \n",
    "                     'outcome'])\n",
    "\n",
    "old_predrs = np.array(['AMS_1',                      \n",
    "                     'LocLen_2_3_4',\n",
    "                     'High_impact_InjSev_3',  \n",
    "                     'Vomit_1', \n",
    "                     'SFxBas_1', \n",
    "                     'HASeverity_3', \n",
    "                     'outcome'])\n",
    "\n",
    "train.isna().sum()"
   ]
  },
  {
   "cell_type": "markdown",
   "id": "3890fddb",
   "metadata": {},
   "source": [
    "## Processing the data\n",
    "\n",
    "Before we can start the analysis, we will try to process the data in a manner similar to that in the paper. According to Figure 1 in the paper, 42,412 patients remain after accounting for missing outcome values and GCS scores less than 14."
   ]
  },
  {
   "cell_type": "markdown",
   "id": "0dc4d344",
   "metadata": {},
   "source": [
    "Before further cleaning of the data, we will select the columns that we need for this model."
   ]
  },
  {
   "cell_type": "code",
   "execution_count": 174,
   "id": "9c0363f4",
   "metadata": {},
   "outputs": [
    {
     "name": "stdout",
     "output_type": "stream",
     "text": [
      "(32908, 16)\n",
      "(8227, 16)\n"
     ]
    }
   ],
   "source": [
    "filt_train = train[base_pred]\n",
    "filt_test = test[base_pred]\n",
    "print(filt_train.shape)\n",
    "print(filt_test.shape)"
   ]
  },
  {
   "cell_type": "markdown",
   "id": "2c4ab64a",
   "metadata": {},
   "source": [
    "The authors of the paper do not remove any entries containing NA values (other than the outcome). It is unclear how these NA entries are handled in the training of this model. Because the presence or absence of even a single predictor can determine whether a patient receives a CT scan, we will drop the rows containing NA values. \n",
    "\n",
    "The two age groups use different sets of predictors, so we will consider them separately. There is no sense eliminating a patient under 2 y.o. because they are missing information only useful to the $\\geq$ 2 y.o. model."
   ]
  },
  {
   "cell_type": "markdown",
   "id": "90d95ec7",
   "metadata": {},
   "source": [
    "Now that we have the appropriate predictors, we will drop rows that contain NA values. The data documentation tells us that NA entries do not have significant meaning for any of these predictors."
   ]
  },
  {
   "cell_type": "markdown",
   "id": "ab6229ab",
   "metadata": {},
   "source": [
    "## Age < 2 years\n",
    "\n",
    "We now split the data into two datasets: one representing patients younger than 2 y.o. and one representing patients older than 2 y.o. In the paper, the two models corresponding to these datasets do not use the exact same set of predictors."
   ]
  },
  {
   "cell_type": "code",
   "execution_count": 250,
   "id": "f4d0d045",
   "metadata": {},
   "outputs": [
    {
     "data": {
      "text/html": [
       "<div>\n",
       "<style scoped>\n",
       "    .dataframe tbody tr th:only-of-type {\n",
       "        vertical-align: middle;\n",
       "    }\n",
       "\n",
       "    .dataframe tbody tr th {\n",
       "        vertical-align: top;\n",
       "    }\n",
       "\n",
       "    .dataframe thead th {\n",
       "        text-align: right;\n",
       "    }\n",
       "</style>\n",
       "<table border=\"1\" class=\"dataframe\">\n",
       "  <thead>\n",
       "    <tr style=\"text-align: right;\">\n",
       "      <th></th>\n",
       "      <th>AMS_1</th>\n",
       "      <th>AgeTwoPlus_1</th>\n",
       "      <th>HemaLoc_2_or_3</th>\n",
       "      <th>LocLen_2_3_4</th>\n",
       "      <th>High_impact_InjSev_3</th>\n",
       "      <th>SFxPalp_1_or_2</th>\n",
       "      <th>ActNorm_0</th>\n",
       "      <th>Vomit_1</th>\n",
       "      <th>SFxBas_1</th>\n",
       "      <th>HASeverity_3</th>\n",
       "      <th>outcome</th>\n",
       "    </tr>\n",
       "  </thead>\n",
       "  <tbody>\n",
       "    <tr>\n",
       "      <th>17596</th>\n",
       "      <td>0</td>\n",
       "      <td>0</td>\n",
       "      <td>0</td>\n",
       "      <td>0</td>\n",
       "      <td>0</td>\n",
       "      <td>0</td>\n",
       "      <td>0</td>\n",
       "      <td>0</td>\n",
       "      <td>0</td>\n",
       "      <td>0</td>\n",
       "      <td>0.0</td>\n",
       "    </tr>\n",
       "    <tr>\n",
       "      <th>555</th>\n",
       "      <td>0</td>\n",
       "      <td>1</td>\n",
       "      <td>1</td>\n",
       "      <td>1</td>\n",
       "      <td>1</td>\n",
       "      <td>0</td>\n",
       "      <td>1</td>\n",
       "      <td>0</td>\n",
       "      <td>0</td>\n",
       "      <td>0</td>\n",
       "      <td>1.0</td>\n",
       "    </tr>\n",
       "    <tr>\n",
       "      <th>7565</th>\n",
       "      <td>1</td>\n",
       "      <td>0</td>\n",
       "      <td>0</td>\n",
       "      <td>0</td>\n",
       "      <td>0</td>\n",
       "      <td>0</td>\n",
       "      <td>1</td>\n",
       "      <td>1</td>\n",
       "      <td>0</td>\n",
       "      <td>0</td>\n",
       "      <td>0.0</td>\n",
       "    </tr>\n",
       "    <tr>\n",
       "      <th>41694</th>\n",
       "      <td>0</td>\n",
       "      <td>0</td>\n",
       "      <td>1</td>\n",
       "      <td>0</td>\n",
       "      <td>0</td>\n",
       "      <td>0</td>\n",
       "      <td>0</td>\n",
       "      <td>1</td>\n",
       "      <td>0</td>\n",
       "      <td>0</td>\n",
       "      <td>0.0</td>\n",
       "    </tr>\n",
       "    <tr>\n",
       "      <th>22390</th>\n",
       "      <td>0</td>\n",
       "      <td>1</td>\n",
       "      <td>0</td>\n",
       "      <td>1</td>\n",
       "      <td>1</td>\n",
       "      <td>0</td>\n",
       "      <td>0</td>\n",
       "      <td>0</td>\n",
       "      <td>0</td>\n",
       "      <td>0</td>\n",
       "      <td>0.0</td>\n",
       "    </tr>\n",
       "  </tbody>\n",
       "</table>\n",
       "</div>"
      ],
      "text/plain": [
       "       AMS_1  AgeTwoPlus_1  HemaLoc_2_or_3  LocLen_2_3_4  \\\n",
       "17596      0             0               0             0   \n",
       "555        0             1               1             1   \n",
       "7565       1             0               0             0   \n",
       "41694      0             0               1             0   \n",
       "22390      0             1               0             1   \n",
       "\n",
       "       High_impact_InjSev_3  SFxPalp_1_or_2  ActNorm_0  Vomit_1  SFxBas_1  \\\n",
       "17596                     0               0          0        0         0   \n",
       "555                       1               0          1        0         0   \n",
       "7565                      0               0          1        1         0   \n",
       "41694                     0               0          0        1         0   \n",
       "22390                     1               0          0        0         0   \n",
       "\n",
       "       HASeverity_3  outcome  \n",
       "17596             0      0.0  \n",
       "555               0      1.0  \n",
       "7565              0      0.0  \n",
       "41694             0      0.0  \n",
       "22390             0      0.0  "
      ]
     },
     "execution_count": 250,
     "metadata": {},
     "output_type": "execute_result"
    }
   ],
   "source": [
    "train, tune, test = dset.get_data()\n",
    "train, tune, test = helper.get_baseline_data(train, tune, test)\n",
    "#test = pd.concat([tune, test])\n",
    "train = pd.concat([tune, train])\n",
    "\n",
    "test = test.loc[:,~test.columns.duplicated()]\n",
    "train = train.loc[:,~train.columns.duplicated()]\n",
    "train.head()"
   ]
  },
  {
   "cell_type": "code",
   "execution_count": 251,
   "id": "116b7106",
   "metadata": {},
   "outputs": [
    {
     "name": "stdout",
     "output_type": "stream",
     "text": [
      "(8246, 6)\n",
      "(6151, 6)\n"
     ]
    },
    {
     "data": {
      "text/html": [
       "<div>\n",
       "<style scoped>\n",
       "    .dataframe tbody tr th:only-of-type {\n",
       "        vertical-align: middle;\n",
       "    }\n",
       "\n",
       "    .dataframe tbody tr th {\n",
       "        vertical-align: top;\n",
       "    }\n",
       "\n",
       "    .dataframe thead th {\n",
       "        text-align: right;\n",
       "    }\n",
       "</style>\n",
       "<table border=\"1\" class=\"dataframe\">\n",
       "  <thead>\n",
       "    <tr style=\"text-align: right;\">\n",
       "      <th></th>\n",
       "      <th>AMS_1</th>\n",
       "      <th>HemaLoc_2_or_3</th>\n",
       "      <th>LocLen_2_3_4</th>\n",
       "      <th>High_impact_InjSev_3</th>\n",
       "      <th>SFxPalp_1_or_2</th>\n",
       "      <th>ActNorm_0</th>\n",
       "      <th>outcome</th>\n",
       "    </tr>\n",
       "  </thead>\n",
       "  <tbody>\n",
       "    <tr>\n",
       "      <th>555</th>\n",
       "      <td>0</td>\n",
       "      <td>1</td>\n",
       "      <td>1</td>\n",
       "      <td>1</td>\n",
       "      <td>0</td>\n",
       "      <td>1</td>\n",
       "      <td>1.0</td>\n",
       "    </tr>\n",
       "    <tr>\n",
       "      <th>22390</th>\n",
       "      <td>0</td>\n",
       "      <td>0</td>\n",
       "      <td>1</td>\n",
       "      <td>1</td>\n",
       "      <td>0</td>\n",
       "      <td>0</td>\n",
       "      <td>0.0</td>\n",
       "    </tr>\n",
       "    <tr>\n",
       "      <th>7761</th>\n",
       "      <td>0</td>\n",
       "      <td>1</td>\n",
       "      <td>1</td>\n",
       "      <td>0</td>\n",
       "      <td>0</td>\n",
       "      <td>0</td>\n",
       "      <td>0.0</td>\n",
       "    </tr>\n",
       "    <tr>\n",
       "      <th>13425</th>\n",
       "      <td>0</td>\n",
       "      <td>0</td>\n",
       "      <td>1</td>\n",
       "      <td>1</td>\n",
       "      <td>0</td>\n",
       "      <td>0</td>\n",
       "      <td>0.0</td>\n",
       "    </tr>\n",
       "    <tr>\n",
       "      <th>20967</th>\n",
       "      <td>0</td>\n",
       "      <td>0</td>\n",
       "      <td>0</td>\n",
       "      <td>0</td>\n",
       "      <td>0</td>\n",
       "      <td>0</td>\n",
       "      <td>0.0</td>\n",
       "    </tr>\n",
       "  </tbody>\n",
       "</table>\n",
       "</div>"
      ],
      "text/plain": [
       "       AMS_1  HemaLoc_2_or_3  LocLen_2_3_4  High_impact_InjSev_3  \\\n",
       "555        0               1             1                     1   \n",
       "22390      0               0             1                     1   \n",
       "7761       0               1             1                     0   \n",
       "13425      0               0             1                     1   \n",
       "20967      0               0             0                     0   \n",
       "\n",
       "       SFxPalp_1_or_2  ActNorm_0  outcome  \n",
       "555                 0          1      1.0  \n",
       "22390               0          0      0.0  \n",
       "7761                0          0      0.0  \n",
       "13425               0          0      0.0  \n",
       "20967               0          0      0.0  "
      ]
     },
     "execution_count": 251,
     "metadata": {},
     "output_type": "execute_result"
    }
   ],
   "source": [
    "train_young = train[train['AgeTwoPlus_1'] == 1]\n",
    "train_young = train_young[young_predrs]\n",
    "test_young = test[test['AgeTwoPlus_1'] == 0]\n",
    "test_young = test_young[young_predrs]\n",
    "\n",
    "X_train_young = train_young.drop(columns = 'outcome')\n",
    "y_train_young = train_young['outcome'].to_numpy()\n",
    "\n",
    "X_test_young = test_young.drop(columns = 'outcome')\n",
    "y_test_young = test_young['outcome'].to_numpy()\n",
    "\n",
    "\n",
    "feat_names_young = X_train_young.columns.values\n",
    "\n",
    "print(X_train_young.shape)\n",
    "print(X_test_young.shape)\n",
    "train_young.head()"
   ]
  },
  {
   "cell_type": "code",
   "execution_count": 252,
   "id": "284ece88",
   "metadata": {},
   "outputs": [
    {
     "data": {
      "text/plain": [
       "[{'col': 'SFxPalp_1_or_2',\n",
       "  'index_col': 4,\n",
       "  'cutoff': 1,\n",
       "  'val': 0.01152073732718894,\n",
       "  'flip': False,\n",
       "  'val_right': 0.10652920962199312,\n",
       "  'num_pts': 8246,\n",
       "  'num_pts_right': 291},\n",
       " {'col': 'feat 0',\n",
       "  'index_col': 0,\n",
       "  'cutoff': 1,\n",
       "  'val': 0.008045254556882464,\n",
       "  'flip': False,\n",
       "  'val_right': 0.03625730994152047,\n",
       "  'num_pts': 7955,\n",
       "  'num_pts_right': 855},\n",
       " {'col': 'feat 2',\n",
       "  'index_col': 2,\n",
       "  'cutoff': 1,\n",
       "  'val': 0.004647887323943662,\n",
       "  'flip': False,\n",
       "  'val_right': 0.03211009174311927,\n",
       "  'num_pts': 7100,\n",
       "  'num_pts_right': 218},\n",
       " {'col': 'feat 1',\n",
       "  'index_col': 1,\n",
       "  'cutoff': 1,\n",
       "  'val': 0.003777971519907004,\n",
       "  'flip': False,\n",
       "  'val_right': 0.014155712841253791,\n",
       "  'num_pts': 6882,\n",
       "  'num_pts_right': 989},\n",
       " {'col': 'feat 3',\n",
       "  'index_col': 3,\n",
       "  'cutoff': 1,\n",
       "  'val': 0.002036314271169184,\n",
       "  'flip': False,\n",
       "  'val_right': 0.005084745762711864,\n",
       "  'num_pts': 5893,\n",
       "  'num_pts_right': 1180},\n",
       " {'col': 'feat 5',\n",
       "  'index_col': 5,\n",
       "  'cutoff': 1,\n",
       "  'val': 0.001273074474856779,\n",
       "  'flip': False,\n",
       "  'val_right': 0.005747126436781609,\n",
       "  'num_pts': 4713,\n",
       "  'num_pts_right': 348},\n",
       " {'col': 'feat 5',\n",
       "  'index_col': 5,\n",
       "  'cutoff': 0,\n",
       "  'val': 0.0009163802978235968,\n",
       "  'flip': False,\n",
       "  'val_right': 0.0009163802978235968,\n",
       "  'num_pts': 4365,\n",
       "  'num_pts_right': 4365}]"
      ]
     },
     "execution_count": 252,
     "metadata": {},
     "output_type": "execute_result"
    }
   ],
   "source": [
    "mod_young = GreedyRuleListClassifier(max_depth=7)\n",
    "mod_young.fit(X_train_young, y = y_train_young, feature_names= feat_names_young)"
   ]
  },
  {
   "cell_type": "code",
   "execution_count": 253,
   "id": "42c83ead",
   "metadata": {},
   "outputs": [
    {
     "name": "stdout",
     "output_type": "stream",
     "text": [
      "\t                                    => \u001b[96m1.15\u001b[00m% risk (8246 pts)\n",
      "                          if SFxPalp_1_or_2 ===> \u001b[91m10.7\u001b[00m% risk (291 pts)\n",
      "\t                                    => \u001b[96m0.8\u001b[00m% risk (7955 pts)\n",
      "                                  if feat 0 ===> \u001b[91m3.6\u001b[00m% risk (855 pts)\n",
      "\t                                    => \u001b[96m0.46\u001b[00m% risk (7100 pts)\n",
      "                                  if feat 2 ===> \u001b[91m3.2\u001b[00m% risk (218 pts)\n",
      "\t                                    => \u001b[96m0.38\u001b[00m% risk (6882 pts)\n",
      "                                  if feat 1 ===> \u001b[91m1.4\u001b[00m% risk (989 pts)\n",
      "\t                                    => \u001b[96m0.2\u001b[00m% risk (5893 pts)\n",
      "                                  if feat 3 ===> \u001b[91m0.5\u001b[00m% risk (1180 pts)\n",
      "\t                                    => \u001b[96m0.13\u001b[00m% risk (4713 pts)\n",
      "                                  if feat 5 ===> \u001b[91m0.6\u001b[00m% risk (348 pts)\n",
      "\t                                    => \u001b[96m0.09\u001b[00m% risk (4365 pts)\n",
      "                                  if feat 5 ===> \u001b[91m0.1\u001b[00m% risk (4365 pts)\n",
      "\n",
      "mean 0.012 (8246 pts)\n",
      "if SFxPalp_1_or_2 >= 1 then 0.107 (291 pts)\n",
      "mean 0.008 (7955 pts)\n",
      "if feat 0 >= 1 then 0.036 (855 pts)\n",
      "mean 0.005 (7100 pts)\n",
      "if feat 2 >= 1 then 0.032 (218 pts)\n",
      "mean 0.004 (6882 pts)\n",
      "if feat 1 >= 1 then 0.014 (989 pts)\n",
      "mean 0.002 (5893 pts)\n",
      "if feat 3 >= 1 then 0.005 (1180 pts)\n",
      "mean 0.001 (4713 pts)\n",
      "if feat 5 >= 1 then 0.006 (348 pts)\n",
      "mean 0.001 (4365 pts)\n",
      "if feat 5 >= 0 then 0.001 (4365 pts)\n",
      "\n"
     ]
    }
   ],
   "source": [
    "mod_young.print_list()\n",
    "print(mod_young)"
   ]
  },
  {
   "cell_type": "markdown",
   "id": "5b3d1d25",
   "metadata": {},
   "source": [
    "There is an error in this function from the imodels package. The predictor names never work after the first split, not even in Chandan's example code. The following functions fix the problem."
   ]
  },
  {
   "cell_type": "code",
   "execution_count": 254,
   "id": "711d1217",
   "metadata": {},
   "outputs": [],
   "source": [
    "def fix_rule_names(rule_list_mod, feature_names):\n",
    "    colname_dict = {}\n",
    "    keys = ['feat 0', 'feat 1', 'feat 2', 'feat 3', 'feat 4', 'feat 5']\n",
    "    values = feature_names.tolist()\n",
    "    for i in range(len(keys)):\n",
    "        colname_dict[keys[i]] = values[i]\n",
    "        \n",
    "    for i in range(len(rule_list_mod.rules_)):\n",
    "        if list(rule_list_mod.rules_[i].keys())[0] == 'col':\n",
    "            x = rule_list_mod.rules_[i]['col']\n",
    "            if x[0:4] == 'feat':\n",
    "                rule_list_mod.rules_[i]['col'] = colname_dict[rule_list_mod.rules_[i]['col']]\n",
    "            \n",
    "    return rule_list_mod\n",
    "\n",
    "def extract_rules(rule_list_mod):\n",
    "    rule_names = []\n",
    "    for i in range(len(rule_list_mod.rules_)):\n",
    "        if list(rule_list_mod.rules_[i].keys())[0] == 'col':\n",
    "            rule_names.append(rule_list_mod.rules_[i]['col'])\n",
    "\n",
    "    return rule_names"
   ]
  },
  {
   "cell_type": "code",
   "execution_count": 255,
   "id": "ea3de445",
   "metadata": {},
   "outputs": [
    {
     "name": "stdout",
     "output_type": "stream",
     "text": [
      "\t                                    => \u001b[96m1.15\u001b[00m% risk (8246 pts)\n",
      "                          if SFxPalp_1_or_2 ===> \u001b[91m10.7\u001b[00m% risk (291 pts)\n",
      "\t                                    => \u001b[96m0.8\u001b[00m% risk (7955 pts)\n",
      "                                   if AMS_1 ===> \u001b[91m3.6\u001b[00m% risk (855 pts)\n",
      "\t                                    => \u001b[96m0.46\u001b[00m% risk (7100 pts)\n",
      "                            if LocLen_2_3_4 ===> \u001b[91m3.2\u001b[00m% risk (218 pts)\n",
      "\t                                    => \u001b[96m0.38\u001b[00m% risk (6882 pts)\n",
      "                          if HemaLoc_2_or_3 ===> \u001b[91m1.4\u001b[00m% risk (989 pts)\n",
      "\t                                    => \u001b[96m0.2\u001b[00m% risk (5893 pts)\n",
      "                    if High_impact_InjSev_3 ===> \u001b[91m0.5\u001b[00m% risk (1180 pts)\n",
      "\t                                    => \u001b[96m0.13\u001b[00m% risk (4713 pts)\n",
      "                               if ActNorm_0 ===> \u001b[91m0.6\u001b[00m% risk (348 pts)\n",
      "\t                                    => \u001b[96m0.09\u001b[00m% risk (4365 pts)\n",
      "                               if ActNorm_0 ===> \u001b[91m0.1\u001b[00m% risk (4365 pts)\n",
      "\n",
      "mean 0.012 (8246 pts)\n",
      "if SFxPalp_1_or_2 >= 1 then 0.107 (291 pts)\n",
      "mean 0.008 (7955 pts)\n",
      "if AMS_1 >= 1 then 0.036 (855 pts)\n",
      "mean 0.005 (7100 pts)\n",
      "if LocLen_2_3_4 >= 1 then 0.032 (218 pts)\n",
      "mean 0.004 (6882 pts)\n",
      "if HemaLoc_2_or_3 >= 1 then 0.014 (989 pts)\n",
      "mean 0.002 (5893 pts)\n",
      "if High_impact_InjSev_3 >= 1 then 0.005 (1180 pts)\n",
      "mean 0.001 (4713 pts)\n",
      "if ActNorm_0 >= 1 then 0.006 (348 pts)\n",
      "mean 0.001 (4365 pts)\n",
      "if ActNorm_0 >= 0 then 0.001 (4365 pts)\n",
      "\n"
     ]
    }
   ],
   "source": [
    "mod_young_corrected = fix_rule_names(mod_young, feat_names_young)\n",
    "mod_young_corrected.print_list()\n",
    "print(mod_young_corrected)"
   ]
  },
  {
   "cell_type": "code",
   "execution_count": 256,
   "id": "b25fb92b",
   "metadata": {},
   "outputs": [
    {
     "data": {
      "text/plain": [
       "['SFxPalp_1_or_2',\n",
       " 'AMS_1',\n",
       " 'LocLen_2_3_4',\n",
       " 'HemaLoc_2_or_3',\n",
       " 'High_impact_InjSev_3',\n",
       " 'ActNorm_0',\n",
       " 'ActNorm_0']"
      ]
     },
     "execution_count": 256,
     "metadata": {},
     "output_type": "execute_result"
    }
   ],
   "source": [
    "extract_rules(mod_young_corrected)"
   ]
  },
  {
   "cell_type": "code",
   "execution_count": 269,
   "id": "4f6bdb54",
   "metadata": {},
   "outputs": [
    {
     "name": "stdout",
     "output_type": "stream",
     "text": [
      "Sensitivity:  0.868421052631579\n",
      "NPV:  0.9976370510396976\n",
      "Specificity:  0.6949794238683128\n",
      "Accuracy:  0.6971224191188424\n"
     ]
    }
   ],
   "source": [
    "young_baseline = Baseline()\n",
    "young_pred = young_baseline.predict(X_test_young)\n",
    "\n",
    "TN = ((young_pred == 0) & (y_test_young == 0)).sum()\n",
    "TP = ((young_pred == 1) & (y_test_young == 1)).sum()\n",
    "FN = ((young_pred == 0) & (y_test_young == 1)).sum()\n",
    "FP = ((young_pred == 1) & (y_test_young == 0)).sum()\n",
    "\n",
    "\n",
    "print(\"Sensitivity: \", TP/(TP + FN))\n",
    "print(\"NPV: \", TN/(TN + FN))\n",
    "print(\"Specificity: \", TN/(TN + FP))\n",
    "print(\"Accuracy: \", (young_pred == y_test_young).sum()/young_pred.shape[0])"
   ]
  },
  {
   "cell_type": "code",
   "execution_count": 272,
   "id": "d584ea6c",
   "metadata": {},
   "outputs": [
    {
     "name": "stdout",
     "output_type": "stream",
     "text": [
      "   Remaining patients have  0.88 % chance of ciTBI\n",
      "if  SFxPalp_1_or_2 == 1  then  9.2 % chance of ciTBI\n",
      "   Remaining patients have  0.58 % chance of ciTBI\n",
      "if  AMS_1 == 1  then  3.1 % chance of ciTBI\n",
      "   Remaining patients have  0.28 % chance of ciTBI\n",
      "if  High_impact_InjSev_3 == 1  then  0.9 % chance of ciTBI\n",
      "   Remaining patients have  0.11 % chance of ciTBI\n",
      "if  LocLen_2_3_4 == 1  then  1.3 % chance of ciTBI\n",
      "   Remaining patients have  0.08 % chance of ciTBI\n",
      "if  HemaLoc_2_or_3 == 1  then  0.3 % chance of ciTBI\n",
      "   Remaining patients have  0.04 % chance of ciTBI\n",
      "if  ActNorm_0 == 1  then  0.3 % chance of ciTBI\n",
      "   Remaining patients have  0.02 % chance of ciTBI\n"
     ]
    },
    {
     "data": {
      "text/plain": [
       "'test'"
      ]
     },
     "execution_count": 272,
     "metadata": {},
     "output_type": "execute_result"
    }
   ],
   "source": [
    "young_baseline.print_model(X_test_young)"
   ]
  },
  {
   "cell_type": "markdown",
   "id": "40cc0ece",
   "metadata": {},
   "source": [
    "# Discussion\n",
    "\n",
    "*Maybe some tables can help in this section*\n",
    "\n",
    "The paper presents very high sensitivity and negative predictive values. Among children in the validation groups who received CT scans, 24.1% under 2 y.o. and 20.1% over 2 y.o. expressed none of the six predictors in their respective models. The authors claim that the models provide evidence against CT scans for children in those groups. If true, it would seem that doctors using these models would reduce the number of unnecessary CT scans by around 20%.\n",
    "\n",
    "However, if a patient expresses any one of the predictors, the probability of them having a ciTBI goes up to at least 0.5%. As a result, almost half of the patients in the validation group were assigned probabilities over 0.5%. According to Dr. Nathan Liu, he and many other doctors would order a CT scan if they thought the probability of a ciTBI was any higher than 0.5%. Considering only children under 2 y.o., this model could lead to 1040/2216 (46.93%) being assigned CT scans instead of the original 694/2216 (31.32%). This is almost a 50% increase in the number of CT scans being given to children. \n",
    "\n",
    "The paper states that they are concerned with the number of unneccesary CT scans being assigned to children, but their proposed models have the potential to exacerbate the issue. Their focus is solely on maximizing the negative predictive value and sensitivity, which both perform better when there are fewer false negatives. As a result, thier models are overly concerned with not missing a single ciTBI, which is the same reason doctors assign CT scans more often then necessary.\n",
    "\n",
    "As a result, metrics like accuracy and specificity must also be considered.\n",
    "\n",
    "\n",
    "\n",
    "## NA values\n",
    "\n",
    "They somehow included entries that had NA values for at least one of the 6 predictors. We will exclude those because even a single predictor being true is enough to single a ciTBI. *I should ensure that the rate of ciTBIs isn't different among those with and those without NA values.* **Oops** *The distributions aren't the same. Honestly, just leave it at the two sentences you have above.*"
   ]
  },
  {
   "cell_type": "markdown",
   "id": "475221ed",
   "metadata": {},
   "source": [
    "## Age >= 2 years"
   ]
  },
  {
   "cell_type": "code",
   "execution_count": 258,
   "id": "c3780604",
   "metadata": {},
   "outputs": [
    {
     "name": "stdout",
     "output_type": "stream",
     "text": [
      "(24662, 6)\n",
      "(6151, 6)\n"
     ]
    },
    {
     "data": {
      "text/html": [
       "<div>\n",
       "<style scoped>\n",
       "    .dataframe tbody tr th:only-of-type {\n",
       "        vertical-align: middle;\n",
       "    }\n",
       "\n",
       "    .dataframe tbody tr th {\n",
       "        vertical-align: top;\n",
       "    }\n",
       "\n",
       "    .dataframe thead th {\n",
       "        text-align: right;\n",
       "    }\n",
       "</style>\n",
       "<table border=\"1\" class=\"dataframe\">\n",
       "  <thead>\n",
       "    <tr style=\"text-align: right;\">\n",
       "      <th></th>\n",
       "      <th>AMS_1</th>\n",
       "      <th>LocLen_2_3_4</th>\n",
       "      <th>High_impact_InjSev_3</th>\n",
       "      <th>Vomit_1</th>\n",
       "      <th>SFxBas_1</th>\n",
       "      <th>HASeverity_3</th>\n",
       "      <th>outcome</th>\n",
       "    </tr>\n",
       "  </thead>\n",
       "  <tbody>\n",
       "    <tr>\n",
       "      <th>17596</th>\n",
       "      <td>0</td>\n",
       "      <td>0</td>\n",
       "      <td>0</td>\n",
       "      <td>0</td>\n",
       "      <td>0</td>\n",
       "      <td>0</td>\n",
       "      <td>0.0</td>\n",
       "    </tr>\n",
       "    <tr>\n",
       "      <th>7565</th>\n",
       "      <td>1</td>\n",
       "      <td>0</td>\n",
       "      <td>0</td>\n",
       "      <td>1</td>\n",
       "      <td>0</td>\n",
       "      <td>0</td>\n",
       "      <td>0.0</td>\n",
       "    </tr>\n",
       "    <tr>\n",
       "      <th>41694</th>\n",
       "      <td>0</td>\n",
       "      <td>0</td>\n",
       "      <td>0</td>\n",
       "      <td>1</td>\n",
       "      <td>0</td>\n",
       "      <td>0</td>\n",
       "      <td>0.0</td>\n",
       "    </tr>\n",
       "    <tr>\n",
       "      <th>6727</th>\n",
       "      <td>0</td>\n",
       "      <td>0</td>\n",
       "      <td>1</td>\n",
       "      <td>0</td>\n",
       "      <td>0</td>\n",
       "      <td>0</td>\n",
       "      <td>0.0</td>\n",
       "    </tr>\n",
       "    <tr>\n",
       "      <th>20846</th>\n",
       "      <td>0</td>\n",
       "      <td>0</td>\n",
       "      <td>0</td>\n",
       "      <td>0</td>\n",
       "      <td>0</td>\n",
       "      <td>0</td>\n",
       "      <td>0.0</td>\n",
       "    </tr>\n",
       "  </tbody>\n",
       "</table>\n",
       "</div>"
      ],
      "text/plain": [
       "       AMS_1  LocLen_2_3_4  High_impact_InjSev_3  Vomit_1  SFxBas_1  \\\n",
       "17596      0             0                     0        0         0   \n",
       "7565       1             0                     0        1         0   \n",
       "41694      0             0                     0        1         0   \n",
       "6727       0             0                     1        0         0   \n",
       "20846      0             0                     0        0         0   \n",
       "\n",
       "       HASeverity_3  outcome  \n",
       "17596             0      0.0  \n",
       "7565              0      0.0  \n",
       "41694             0      0.0  \n",
       "6727              0      0.0  \n",
       "20846             0      0.0  "
      ]
     },
     "execution_count": 258,
     "metadata": {},
     "output_type": "execute_result"
    }
   ],
   "source": [
    "train_old = train[train['AgeTwoPlus_1'] == 0]\n",
    "train_old = train_old[old_predrs]\n",
    "test_old = test[test['AgeTwoPlus_1'] == 0]\n",
    "test_old = test_old[old_predrs]\n",
    "\n",
    "X_train_old = train_old.drop(columns = 'outcome')\n",
    "y_train_old = train_old['outcome'].to_numpy()\n",
    "\n",
    "X_test_old = test_old.drop(columns = 'outcome')\n",
    "y_test_old = test_old['outcome'].to_numpy()\n",
    "\n",
    "\n",
    "feat_names_old = X_train_old.columns.values\n",
    "\n",
    "print(X_train_old.shape)\n",
    "print(X_test_old.shape)\n",
    "train_old.head()"
   ]
  },
  {
   "cell_type": "code",
   "execution_count": 275,
   "id": "2e6b6a7a",
   "metadata": {},
   "outputs": [
    {
     "data": {
      "text/plain": [
       "[{'col': 'AMS_1',\n",
       "  'index_col': 0,\n",
       "  'cutoff': 1,\n",
       "  'val': 0.010866920768794096,\n",
       "  'flip': False,\n",
       "  'val_right': 0.0511501210653753,\n",
       "  'num_pts': 24662,\n",
       "  'num_pts_right': 3304},\n",
       " {'col': 'feat 4',\n",
       "  'index_col': 4,\n",
       "  'cutoff': 1,\n",
       "  'val': 0.004635265474295346,\n",
       "  'flip': False,\n",
       "  'val_right': 0.12195121951219512,\n",
       "  'num_pts': 21358,\n",
       "  'num_pts_right': 123},\n",
       " {'col': 'feat 2',\n",
       "  'index_col': 2,\n",
       "  'cutoff': 1,\n",
       "  'val': 0.003955733458912173,\n",
       "  'flip': False,\n",
       "  'val_right': 0.012643224022125641,\n",
       "  'num_pts': 21235,\n",
       "  'num_pts_right': 2531},\n",
       " {'col': 'feat 3',\n",
       "  'index_col': 3,\n",
       "  'cutoff': 1,\n",
       "  'val': 0.002780153977758768,\n",
       "  'flip': False,\n",
       "  'val_right': 0.009538152610441768,\n",
       "  'num_pts': 18704,\n",
       "  'num_pts_right': 1992},\n",
       " {'col': 'feat 5',\n",
       "  'index_col': 5,\n",
       "  'cutoff': 1,\n",
       "  'val': 0.001974629009095261,\n",
       "  'flip': False,\n",
       "  'val_right': 0.010869565217391304,\n",
       "  'num_pts': 16712,\n",
       "  'num_pts_right': 276},\n",
       " {'col': 'feat 1',\n",
       "  'index_col': 1,\n",
       "  'cutoff': 1,\n",
       "  'val': 0.0018252616208323193,\n",
       "  'flip': False,\n",
       "  'val_right': 0.0033444816053511705,\n",
       "  'num_pts': 16436,\n",
       "  'num_pts_right': 1196}]"
      ]
     },
     "execution_count": 275,
     "metadata": {},
     "output_type": "execute_result"
    }
   ],
   "source": [
    "mod_old = GreedyRuleListClassifier(max_depth=6)\n",
    "mod_old.fit(X_train_old, y = y_train_old, feature_names= feat_names_old)"
   ]
  },
  {
   "cell_type": "code",
   "execution_count": 276,
   "id": "07c6b05a",
   "metadata": {},
   "outputs": [
    {
     "name": "stdout",
     "output_type": "stream",
     "text": [
      "\t                                    => \u001b[96m1.09\u001b[00m% risk (24662 pts)\n",
      "                                   if AMS_1 ===> \u001b[91m5.1\u001b[00m% risk (3304 pts)\n",
      "\t                                    => \u001b[96m0.46\u001b[00m% risk (21358 pts)\n",
      "                                if SFxBas_1 ===> \u001b[91m12.2\u001b[00m% risk (123 pts)\n",
      "\t                                    => \u001b[96m0.4\u001b[00m% risk (21235 pts)\n",
      "                    if High_impact_InjSev_3 ===> \u001b[91m1.3\u001b[00m% risk (2531 pts)\n",
      "\t                                    => \u001b[96m0.28\u001b[00m% risk (18704 pts)\n",
      "                                 if Vomit_1 ===> \u001b[91m1.0\u001b[00m% risk (1992 pts)\n",
      "\t                                    => \u001b[96m0.2\u001b[00m% risk (16712 pts)\n",
      "                            if HASeverity_3 ===> \u001b[91m1.1\u001b[00m% risk (276 pts)\n",
      "\t                                    => \u001b[96m0.18\u001b[00m% risk (16436 pts)\n",
      "                            if LocLen_2_3_4 ===> \u001b[91m0.3\u001b[00m% risk (1196 pts)\n",
      "\n",
      "mean 0.011 (24662 pts)\n",
      "if AMS_1 >= 1 then 0.051 (3304 pts)\n",
      "mean 0.005 (21358 pts)\n",
      "if SFxBas_1 >= 1 then 0.122 (123 pts)\n",
      "mean 0.004 (21235 pts)\n",
      "if High_impact_InjSev_3 >= 1 then 0.013 (2531 pts)\n",
      "mean 0.003 (18704 pts)\n",
      "if Vomit_1 >= 1 then 0.01 (1992 pts)\n",
      "mean 0.002 (16712 pts)\n",
      "if HASeverity_3 >= 1 then 0.011 (276 pts)\n",
      "mean 0.002 (16436 pts)\n",
      "if LocLen_2_3_4 >= 1 then 0.003 (1196 pts)\n",
      "\n"
     ]
    }
   ],
   "source": [
    "mod_old_corrected = fix_rule_names(mod_old, feat_names_old)\n",
    "mod_old_corrected.print_list()\n",
    "print(mod_old_corrected)"
   ]
  },
  {
   "cell_type": "code",
   "execution_count": 266,
   "id": "6da6a98d",
   "metadata": {},
   "outputs": [
    {
     "name": "stdout",
     "output_type": "stream",
     "text": [
      "Sensitivity:  0.039473684210526314\n",
      "NPV:  0.9643380556912555\n",
      "Specificity:  0.32493827160493827\n",
      "Accuracy:  0.3214111526581044\n"
     ]
    }
   ],
   "source": [
    "old_pred_prob = pd.DataFrame(mod_old_corrected.predict_proba(X_test_old))[1]\n",
    "old_pred = old_pred_prob < 0.005\n",
    "\n",
    "TN_old = ((old_pred == 0) & (y_test_old == 0)).sum()\n",
    "TP_old = ((old_pred == 1) & (y_test_old == 1)).sum()\n",
    "FN_old = ((old_pred == 0) & (y_test_old == 1)).sum()\n",
    "FP_old = ((old_pred == 1) & (y_test_old == 0)).sum()\n",
    "\n",
    "\n",
    "print(\"Sensitivity: \", TP_old/(TP_old + FN_old))\n",
    "print(\"NPV: \", TN_old/(TN_old + FN_old))\n",
    "print(\"Specificity: \", TN_old/(TN_old + FP_old))\n",
    "print(\"Accuracy: \", (old_pred == y_test_old).sum()/old_pred.shape[0])"
   ]
  },
  {
   "cell_type": "code",
   "execution_count": 267,
   "id": "ee61ee20",
   "metadata": {},
   "outputs": [
    {
     "name": "stdout",
     "output_type": "stream",
     "text": [
      "Sensitivity:  0.11194029850746269\n",
      "NPV:  0.9710673474349624\n",
      "Specificity:  0.32745757153398375\n",
      "Accuracy:  0.325115562403698\n"
     ]
    }
   ],
   "source": [
    "old_pred_prob = pd.DataFrame(mod_old_corrected.predict_proba(X_train_old))[1]\n",
    "old_pred = old_pred_prob < 0.005\n",
    "\n",
    "TN_old = ((old_pred == 0) & (y_train_old == 0)).sum()\n",
    "TP_old = ((old_pred == 1) & (y_train_old == 1)).sum()\n",
    "FN_old = ((old_pred == 0) & (y_train_old == 1)).sum()\n",
    "FP_old = ((old_pred == 1) & (y_train_old == 0)).sum()\n",
    "\n",
    "\n",
    "print(\"Sensitivity: \", TP_old/(TP_old + FN_old))\n",
    "print(\"NPV: \", TN_old/(TN_old + FN_old))\n",
    "print(\"Specificity: \", TN_old/(TN_old + FP_old))\n",
    "print(\"Accuracy: \", (old_pred == y_train_old).sum()/old_pred.shape[0])"
   ]
  }
 ],
 "metadata": {
  "kernelspec": {
   "display_name": "rule-env",
   "language": "python",
   "name": "rule-env"
  },
  "language_info": {
   "codemirror_mode": {
    "name": "ipython",
    "version": 3
   },
   "file_extension": ".py",
   "mimetype": "text/x-python",
   "name": "python",
   "nbconvert_exporter": "python",
   "pygments_lexer": "ipython3",
   "version": "3.8.8"
  }
 },
 "nbformat": 4,
 "nbformat_minor": 5
}
