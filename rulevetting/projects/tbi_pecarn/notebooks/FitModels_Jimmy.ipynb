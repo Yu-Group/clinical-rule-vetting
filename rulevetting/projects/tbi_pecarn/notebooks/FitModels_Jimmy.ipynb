{
 "cells": [
  {
   "cell_type": "code",
   "execution_count": 1,
   "id": "cf98cfee",
   "metadata": {},
   "outputs": [
    {
     "name": "stdout",
     "output_type": "stream",
     "text": [
      "/Users/jbbutler129/Google Drive (butlerj@berkeley.edu)/Classes/215A/final_project/rule-vetting\n"
     ]
    },
    {
     "data": {
      "text/plain": [
       "'/Users/jbbutler129/Google Drive (butlerj@berkeley.edu)/Classes/215A/final_project/rule-vetting'"
      ]
     },
     "execution_count": 1,
     "metadata": {},
     "output_type": "execute_result"
    }
   ],
   "source": [
    "%cd ../../../..\n",
    "%pwd"
   ]
  },
  {
   "cell_type": "code",
   "execution_count": 2,
   "id": "61b2e96d",
   "metadata": {},
   "outputs": [],
   "source": [
    "# importing necessary packages\n",
    "\n",
    "import matplotlib.pyplot as plt\n",
    "import numpy as np\n",
    "import pandas as pd\n",
    "import seaborn as sns\n",
    "\n",
    "import rulevetting.api.viz as viz\n",
    "from rulevetting.projects.tbi_pecarn.dataset import Dataset\n",
    "\n",
    "import os\n",
    "import pickle as pkl\n",
    "from os.path import join as oj\n",
    "\n",
    "from sklearn import metrics\n",
    "from sklearn.tree import DecisionTreeClassifier, plot_tree\n",
    "\n",
    "import imodels\n",
    "from rulevetting.api import validation\n",
    "\n",
    "\n",
    "MODELS_DIR = './models'\n",
    "os.makedirs(MODELS_DIR, exist_ok=True)\n",
    "\n",
    "outcome_def = 'outcome'  # output"
   ]
  },
  {
   "cell_type": "markdown",
   "id": "1550d027",
   "metadata": {},
   "source": [
    "## Loading Data with Default Judgement Calls"
   ]
  },
  {
   "cell_type": "code",
   "execution_count": 3,
   "id": "7aba752b",
   "metadata": {},
   "outputs": [
    {
     "name": "stdout",
     "output_type": "stream",
     "text": [
      "kwargs {'clean_data': {}, 'preprocess_data': {'step1_injMech': False, 'step5_missSubGCS': True, 'step5_fake15GCS': True, 'step5_fake14GCS': True, 'step8_missingOSI': True, 'step9_HEMA': 3, 'step10_cautiousUncl': True, 'step14_vomitDtls': False, 'step15_HA': 2, 'step15_HAStart': False, 'step16_Seiz': 2, 'step16_SeizOccur': False, 'step17_cautiousUncl': True, 'step19_Drugs': False, 'step20_ActNormal': True}, 'extract_features': {'HEMA_umbrella': False, 'SFxPalp_umbrella': False, 'SFxBas_umbrella': False, 'AMS_umbrella': False, 'Clav_umbrella': False, 'NeuroD_umbrella': False, 'Vomit_umbrella': False, 'HA_umbrella': False, 'Seiz_umbrella': False, 'LOC_umbrella': False, 'remove_constVal': True}}\n"
     ]
    }
   ],
   "source": [
    "df_train_1, df_tune_1, df_test_1 = Dataset().get_data()"
   ]
  },
  {
   "cell_type": "markdown",
   "id": "5504d122",
   "metadata": {},
   "source": [
    "## Classifier: CORELS (Certifiably Optimal Rule Lists Classifer)\n",
    "\n",
    "(as opposed to CART, gives a certificate of optimality)"
   ]
  },
  {
   "cell_type": "markdown",
   "id": "42bac6b8",
   "metadata": {},
   "source": [
    "First, I will run the classifier on just the larger umbrella variables, as opposed to the subvariables because that seemed to yield complicated results for Xin"
   ]
  },
  {
   "cell_type": "code",
   "execution_count": 4,
   "id": "4789f802",
   "metadata": {},
   "outputs": [],
   "source": [
    "keys_to_keep = ['LOCSeparate',\n",
    " 'Seiz',\n",
    " 'ActNorm',\n",
    " 'Vomit',\n",
    " 'GCSEye',\n",
    " 'GCSVerbal',\n",
    " 'GCSMotor',\n",
    " 'AMS',\n",
    " 'SFxPalp',\n",
    " 'FontBulg',\n",
    " 'SFxBas',\n",
    " 'Hema',\n",
    " 'Clav',\n",
    " 'NeuroD',\n",
    " 'OSI',\n",
    " 'High_impact_InjSev_1',\n",
    " 'High_impact_InjSev_2',\n",
    " 'High_impact_InjSev_3',\n",
    " 'Amnesia_verb_0',\n",
    " 'Amnesia_verb_1',\n",
    " 'Amnesia_verb_91',\n",
    " 'HA_verb_0',\n",
    " 'HA_verb_1',\n",
    " 'HA_verb_91']"
   ]
  },
  {
   "cell_type": "markdown",
   "id": "63eef1e8",
   "metadata": {},
   "source": [
    "### Should we implement this?\n",
    "\n",
    "NOTE: Binary recoding of the GCS variables (either full score or not)"
   ]
  },
  {
   "cell_type": "code",
   "execution_count": 44,
   "id": "931af348",
   "metadata": {},
   "outputs": [],
   "source": [
    "def recode_GCS(df):\n",
    "    \n",
    "    keys = list(df.keys())\n",
    "    \n",
    "    for key in keys:\n",
    "        if 'GCS' in key:\n",
    "            unique_vals = tuple(df[key].unique())\n",
    "            replace = (1, 0)\n",
    "            df[key].replace(unique_vals, replace, inplace = True)"
   ]
  },
  {
   "cell_type": "code",
   "execution_count": 45,
   "id": "7d13b9bb",
   "metadata": {},
   "outputs": [],
   "source": [
    "recode_GCS(df_train_1)\n",
    "recode_GCS(df_tune_1)\n",
    "recode_GCS(df_test_1)"
   ]
  },
  {
   "cell_type": "code",
   "execution_count": 46,
   "id": "65b4ebf9",
   "metadata": {},
   "outputs": [],
   "source": [
    "umbrella_subset_tr = df_train_1[keys_to_keep]\n",
    "umbrella_subset_tu = df_tune_1[keys_to_keep]\n",
    "umbrella_subset_te = df_test_1[keys_to_keep]"
   ]
  },
  {
   "cell_type": "code",
   "execution_count": 92,
   "id": "b04d6e6e",
   "metadata": {},
   "outputs": [],
   "source": [
    "# penalization parameter: penalizes longer rulelists\n",
    "c = 0.001\n",
    "# maximum number of rulelists to search for before exiting\n",
    "n_iter = 100000\n",
    "# policy: search policy for traversing the tree\n",
    "policy = 'dfs'\n",
    "\n",
    "corel = imodels.OptimalRuleListClassifier(c, n_iter, policy = policy)"
   ]
  },
  {
   "cell_type": "code",
   "execution_count": 93,
   "id": "c9d02636",
   "metadata": {},
   "outputs": [],
   "source": [
    "corel.fit(umbrella_subset_tr, df_train_1['outcome'], prediction_name = 'outcome')"
   ]
  },
  {
   "cell_type": "markdown",
   "id": "cfc4d27d",
   "metadata": {},
   "source": [
    "Interesting, so the rule list that it is generating is simply that the outcome is always False. Will probably have to tune this so that it doesn't misclassify.."
   ]
  },
  {
   "cell_type": "code",
   "execution_count": 94,
   "id": "80de69b1",
   "metadata": {},
   "outputs": [
    {
     "data": {
      "text/plain": [
       "RULELIST:\n",
       "outcome = False\n",
       "All features: (['LOCSeparate', 'Seiz', 'ActNorm', 'Vomit', 'GCSEye', 'GCSVerbal', 'GCSMotor', 'AMS', 'SFxPalp', 'FontBulg', 'SFxBas', 'Hema', 'Clav', 'NeuroD', 'OSI', 'High_impact_InjSev_1', 'High_impact_InjSev_2', 'High_impact_InjSev_3', 'Amnesia_verb_0', 'Amnesia_verb_1', 'Amnesia_verb_91', 'HA_verb_0', 'HA_verb_1', 'HA_verb_91'])"
      ]
     },
     "execution_count": 94,
     "metadata": {},
     "output_type": "execute_result"
    }
   ],
   "source": [
    "corel.rl()"
   ]
  },
  {
   "cell_type": "markdown",
   "id": "3653c855",
   "metadata": {},
   "source": [
    "## What if I made the outcomes a bit more balanced, what would it give me?"
   ]
  },
  {
   "cell_type": "code",
   "execution_count": 99,
   "id": "250074a6",
   "metadata": {},
   "outputs": [],
   "source": [
    "trues = df_train_1[df_train_1['outcome'] == 1]\n",
    "falses = df_train_1[df_train_1['outcome'] == 0][1:150]"
   ]
  },
  {
   "cell_type": "code",
   "execution_count": 100,
   "id": "5864485f",
   "metadata": {},
   "outputs": [],
   "source": [
    "balanced_set = pd.concat([trues, falses])\n",
    "outcome = balanced_set['outcome']\n",
    "balanced_set = balanced_set[keys_to_keep]"
   ]
  },
  {
   "cell_type": "code",
   "execution_count": 105,
   "id": "5241e4e6",
   "metadata": {},
   "outputs": [],
   "source": [
    "recode_GCS(balanced_set)"
   ]
  },
  {
   "cell_type": "code",
   "execution_count": 113,
   "id": "fc3213e2",
   "metadata": {},
   "outputs": [],
   "source": [
    "c = 0.0001\n",
    "# maximum number of rulelists to search for before exiting\n",
    "n_iter = 1000000\n",
    "policy = 'dfs'\n",
    "corel = imodels.OptimalRuleListClassifier(c, n_iter, class_weight)\n",
    "corel.fit(balanced_set, outcome, prediction_name = 'outcome')"
   ]
  },
  {
   "cell_type": "code",
   "execution_count": 114,
   "id": "6f7863f4",
   "metadata": {
    "scrolled": true
   },
   "outputs": [
    {
     "data": {
      "text/plain": [
       "RULELIST:\n",
       "if [SFxPalp && not Hema]:\n",
       "  outcome = True\n",
       "else if [SFxPalp && High_impact_InjSev_3]:\n",
       "  outcome = True\n",
       "else if [not AMS && not SFxBas]:\n",
       "  outcome = False\n",
       "else \n",
       "  outcome = True\n",
       "All features: (['LOCSeparate', 'Seiz', 'ActNorm', 'Vomit', 'GCSEye', 'GCSVerbal', 'GCSMotor', 'AMS', 'SFxPalp', 'FontBulg', 'SFxBas', 'Hema', 'Clav', 'NeuroD', 'OSI', 'High_impact_InjSev_1', 'High_impact_InjSev_2', 'High_impact_InjSev_3', 'Amnesia_verb_0', 'Amnesia_verb_1', 'Amnesia_verb_91', 'HA_verb_0', 'HA_verb_1', 'HA_verb_91'])"
      ]
     },
     "execution_count": 114,
     "metadata": {},
     "output_type": "execute_result"
    }
   ],
   "source": [
    "corel.rl()"
   ]
  },
  {
   "cell_type": "code",
   "execution_count": 98,
   "id": "091d9283",
   "metadata": {},
   "outputs": [
    {
     "data": {
      "text/plain": [
       "array([0, 0, 0, ..., 0, 0, 0])"
      ]
     },
     "execution_count": 98,
     "metadata": {},
     "output_type": "execute_result"
    }
   ],
   "source": [
    "corel.predict(umbrella_subset_tu)"
   ]
  },
  {
   "cell_type": "markdown",
   "id": "9927b58f",
   "metadata": {},
   "source": [
    "Recode the outcome as 1 if you don't have a TBI, 0 otherwise?"
   ]
  },
  {
   "cell_type": "markdown",
   "id": "4223c0d9",
   "metadata": {},
   "source": [
    "## Classifier: GOSDT"
   ]
  },
  {
   "cell_type": "code",
   "execution_count": 117,
   "id": "e74da675",
   "metadata": {},
   "outputs": [
    {
     "name": "stderr",
     "output_type": "stream",
     "text": [
      "/opt/anaconda3/envs/myenv/lib/python3.7/site-packages/imodels/tree/gosdt/pygosdt.py:119: UserWarning: Should install gosdt C++ extenstion. On x86_64 linux or macOS: 'pip install gosdt'. On other platforms, see https://github.com/keyan3/GeneralizedOptimalSparseDecisionTrees. Using DecisionTreeClassifier instead.\n",
      "  \"Should install gosdt C++ extenstion. On x86_64 linux or macOS: \"\n"
     ]
    },
    {
     "data": {
      "text/plain": [
       "<imodels.tree.gosdt.pygosdt.OptimalTreeClassifier at 0x7f87509ba050>"
      ]
     },
     "execution_count": 117,
     "metadata": {},
     "output_type": "execute_result"
    }
   ],
   "source": [
    "gosdt = imodels.OptimalTreeClassifier(rule_list = True)\n",
    "gosdt.fit(umbrella_subset_tr, df_train_1['outcome'])"
   ]
  },
  {
   "cell_type": "code",
   "execution_count": null,
   "id": "fa9debb7",
   "metadata": {},
   "outputs": [],
   "source": []
  },
  {
   "cell_type": "markdown",
   "id": "a5fff947",
   "metadata": {},
   "source": [
    "## Classifier: Bayesian Rule Classifier"
   ]
  },
  {
   "cell_type": "code",
   "execution_count": 43,
   "id": "861767b0",
   "metadata": {},
   "outputs": [
    {
     "ename": "KeyboardInterrupt",
     "evalue": "",
     "output_type": "error",
     "traceback": [
      "\u001b[0;31m---------------------------------------------------------------------------\u001b[0m",
      "\u001b[0;31mKeyboardInterrupt\u001b[0m                         Traceback (most recent call last)",
      "\u001b[0;32m/var/folders/gx/574cq8p166nclbtl8f57gv900000gn/T/ipykernel_29535/2556114248.py\u001b[0m in \u001b[0;36m<module>\u001b[0;34m\u001b[0m\n\u001b[1;32m      1\u001b[0m \u001b[0mbayes\u001b[0m \u001b[0;34m=\u001b[0m \u001b[0mimodels\u001b[0m\u001b[0;34m.\u001b[0m\u001b[0mBayesianRuleSetClassifier\u001b[0m\u001b[0;34m(\u001b[0m\u001b[0;34m)\u001b[0m\u001b[0;34m\u001b[0m\u001b[0;34m\u001b[0m\u001b[0m\n\u001b[0;32m----> 2\u001b[0;31m \u001b[0mbayes\u001b[0m\u001b[0;34m.\u001b[0m\u001b[0mfit\u001b[0m\u001b[0;34m(\u001b[0m\u001b[0mumbrella_subset_tr\u001b[0m\u001b[0;34m,\u001b[0m \u001b[0mdf_train_1\u001b[0m\u001b[0;34m[\u001b[0m\u001b[0;34m'outcome'\u001b[0m\u001b[0;34m]\u001b[0m\u001b[0;34m,\u001b[0m \u001b[0mverbose\u001b[0m \u001b[0;34m=\u001b[0m \u001b[0;32mTrue\u001b[0m\u001b[0;34m)\u001b[0m\u001b[0;34m\u001b[0m\u001b[0;34m\u001b[0m\u001b[0m\n\u001b[0m",
      "\u001b[0;32m/opt/anaconda3/envs/myenv/lib/python3.7/site-packages/imodels/rule_set/brs.py\u001b[0m in \u001b[0;36mfit\u001b[0;34m(self, X, y, feature_names, init, verbose)\u001b[0m\n\u001b[1;32m    120\u001b[0m \u001b[0;34m\u001b[0m\u001b[0m\n\u001b[1;32m    121\u001b[0m         \u001b[0;31m# set up patterns\u001b[0m\u001b[0;34m\u001b[0m\u001b[0;34m\u001b[0m\u001b[0;34m\u001b[0m\u001b[0m\n\u001b[0;32m--> 122\u001b[0;31m         \u001b[0mself\u001b[0m\u001b[0;34m.\u001b[0m\u001b[0mset_pattern_space\u001b[0m\u001b[0;34m(\u001b[0m\u001b[0;34m)\u001b[0m\u001b[0;34m\u001b[0m\u001b[0;34m\u001b[0m\u001b[0m\n\u001b[0m\u001b[1;32m    123\u001b[0m \u001b[0;34m\u001b[0m\u001b[0m\n\u001b[1;32m    124\u001b[0m         \u001b[0;31m# parameter checking\u001b[0m\u001b[0;34m\u001b[0m\u001b[0;34m\u001b[0m\u001b[0;34m\u001b[0m\u001b[0m\n",
      "\u001b[0;32m/opt/anaconda3/envs/myenv/lib/python3.7/site-packages/imodels/rule_set/brs.py\u001b[0m in \u001b[0;36mset_pattern_space\u001b[0;34m(self)\u001b[0m\n\u001b[1;32m    228\u001b[0m                 \u001b[0mtmp\u001b[0m \u001b[0;34m=\u001b[0m \u001b[0;36m1\u001b[0m\u001b[0;34m\u001b[0m\u001b[0;34m\u001b[0m\u001b[0m\n\u001b[1;32m    229\u001b[0m                 \u001b[0;32mfor\u001b[0m \u001b[0mi\u001b[0m \u001b[0;32min\u001b[0m \u001b[0msubset\u001b[0m\u001b[0;34m:\u001b[0m\u001b[0;34m\u001b[0m\u001b[0;34m\u001b[0m\u001b[0m\n\u001b[0;32m--> 230\u001b[0;31m                     \u001b[0mtmp\u001b[0m \u001b[0;34m=\u001b[0m \u001b[0mtmp\u001b[0m \u001b[0;34m*\u001b[0m \u001b[0mself\u001b[0m\u001b[0;34m.\u001b[0m\u001b[0mattr_level_num\u001b[0m\u001b[0;34m[\u001b[0m\u001b[0mi\u001b[0m\u001b[0;34m]\u001b[0m\u001b[0;34m\u001b[0m\u001b[0;34m\u001b[0m\u001b[0m\n\u001b[0m\u001b[1;32m    231\u001b[0m                 \u001b[0;31m# print('subset', subset, 'tmp', tmp, 'k', k)\u001b[0m\u001b[0;34m\u001b[0m\u001b[0;34m\u001b[0m\u001b[0;34m\u001b[0m\u001b[0m\n\u001b[1;32m    232\u001b[0m                 \u001b[0mself\u001b[0m\u001b[0;34m.\u001b[0m\u001b[0mpattern_space\u001b[0m\u001b[0;34m[\u001b[0m\u001b[0mk\u001b[0m\u001b[0;34m]\u001b[0m \u001b[0;34m=\u001b[0m \u001b[0mself\u001b[0m\u001b[0;34m.\u001b[0m\u001b[0mpattern_space\u001b[0m\u001b[0;34m[\u001b[0m\u001b[0mk\u001b[0m\u001b[0;34m]\u001b[0m \u001b[0;34m+\u001b[0m \u001b[0mtmp\u001b[0m\u001b[0;34m\u001b[0m\u001b[0;34m\u001b[0m\u001b[0m\n",
      "\u001b[0;31mKeyboardInterrupt\u001b[0m: "
     ]
    }
   ],
   "source": [
    "bayes = imodels.BayesianRuleSetClassifier()\n",
    "bayes.fit(umbrella_subset_tr, df_train_1['outcome'], verbose = True)"
   ]
  },
  {
   "cell_type": "markdown",
   "id": "87ed90b2",
   "metadata": {},
   "source": [
    "### Making sure Xin's stuff works for mine as well"
   ]
  },
  {
   "cell_type": "code",
   "execution_count": 16,
   "id": "3b89c3a8",
   "metadata": {},
   "outputs": [
    {
     "data": {
      "text/plain": [
       "RuleFitRegressor(max_rules=5)"
      ]
     },
     "execution_count": 16,
     "metadata": {},
     "output_type": "execute_result"
    }
   ],
   "source": [
    "rulefit = imodels.RuleFitRegressor(max_rules=5)\n",
    "rulefit.fit(umbrella_subset_tr, df_train_1['outcome'])"
   ]
  },
  {
   "cell_type": "code",
   "execution_count": 22,
   "id": "7e22d41e",
   "metadata": {},
   "outputs": [
    {
     "data": {
      "text/html": [
       "<div>\n",
       "<style scoped>\n",
       "    .dataframe tbody tr th:only-of-type {\n",
       "        vertical-align: middle;\n",
       "    }\n",
       "\n",
       "    .dataframe tbody tr th {\n",
       "        vertical-align: top;\n",
       "    }\n",
       "\n",
       "    .dataframe thead th {\n",
       "        text-align: right;\n",
       "    }\n",
       "</style>\n",
       "<table border=\"1\" class=\"dataframe\">\n",
       "  <thead>\n",
       "    <tr style=\"text-align: right;\">\n",
       "      <th></th>\n",
       "      <th>rule</th>\n",
       "      <th>type</th>\n",
       "      <th>coef</th>\n",
       "      <th>support</th>\n",
       "      <th>importance</th>\n",
       "    </tr>\n",
       "  </thead>\n",
       "  <tbody>\n",
       "    <tr>\n",
       "      <th>24</th>\n",
       "      <td>SFxBas &lt;= 0.5 and GCSEye &gt; 0.5 and GCSVerbal &gt;...</td>\n",
       "      <td>rule</td>\n",
       "      <td>-0.033034</td>\n",
       "      <td>0.955683</td>\n",
       "      <td>0.006798</td>\n",
       "    </tr>\n",
       "    <tr>\n",
       "      <th>26</th>\n",
       "      <td>SFxBas &lt;= 0.5 and NeuroD &lt;= 0.5 and High_impac...</td>\n",
       "      <td>rule</td>\n",
       "      <td>-0.006262</td>\n",
       "      <td>0.845541</td>\n",
       "      <td>0.002263</td>\n",
       "    </tr>\n",
       "    <tr>\n",
       "      <th>27</th>\n",
       "      <td>ActNorm &gt; 0.5</td>\n",
       "      <td>rule</td>\n",
       "      <td>-0.001079</td>\n",
       "      <td>0.872913</td>\n",
       "      <td>0.000359</td>\n",
       "    </tr>\n",
       "    <tr>\n",
       "      <th>25</th>\n",
       "      <td>LOCSeparate &lt;= 0.5</td>\n",
       "      <td>rule</td>\n",
       "      <td>-0.000915</td>\n",
       "      <td>0.899734</td>\n",
       "      <td>0.000275</td>\n",
       "    </tr>\n",
       "  </tbody>\n",
       "</table>\n",
       "</div>"
      ],
      "text/plain": [
       "                                                 rule  type      coef  \\\n",
       "24  SFxBas <= 0.5 and GCSEye > 0.5 and GCSVerbal >...  rule -0.033034   \n",
       "26  SFxBas <= 0.5 and NeuroD <= 0.5 and High_impac...  rule -0.006262   \n",
       "27                                      ActNorm > 0.5  rule -0.001079   \n",
       "25                                 LOCSeparate <= 0.5  rule -0.000915   \n",
       "\n",
       "     support  importance  \n",
       "24  0.955683    0.006798  \n",
       "26  0.845541    0.002263  \n",
       "27  0.872913    0.000359  \n",
       "25  0.899734    0.000275  "
      ]
     },
     "execution_count": 22,
     "metadata": {},
     "output_type": "execute_result"
    }
   ],
   "source": [
    "rules = rulefit.get_rules() \n",
    "rules = rules[rules['type']!='linear']\n",
    "rules = rules[rules['coef'] != 0] \n",
    "rules = rules.sort_values('importance', ascending=False) \n",
    "rules"
   ]
  },
  {
   "cell_type": "code",
   "execution_count": null,
   "id": "72dd7a30",
   "metadata": {},
   "outputs": [],
   "source": []
  },
  {
   "cell_type": "code",
   "execution_count": null,
   "id": "39a0a4f5",
   "metadata": {},
   "outputs": [],
   "source": []
  }
 ],
 "metadata": {
  "kernelspec": {
   "display_name": "Python 3 (ipykernel)",
   "language": "python",
   "name": "python3"
  },
  "language_info": {
   "codemirror_mode": {
    "name": "ipython",
    "version": 3
   },
   "file_extension": ".py",
   "mimetype": "text/x-python",
   "name": "python",
   "nbconvert_exporter": "python",
   "pygments_lexer": "ipython3",
   "version": "3.7.11"
  }
 },
 "nbformat": 4,
 "nbformat_minor": 5
}
