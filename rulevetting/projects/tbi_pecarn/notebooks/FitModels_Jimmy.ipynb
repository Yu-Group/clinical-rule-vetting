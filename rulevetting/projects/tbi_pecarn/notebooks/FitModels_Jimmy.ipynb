{
 "cells": [
  {
   "cell_type": "code",
   "execution_count": 1,
   "id": "0246b7a8",
   "metadata": {},
   "outputs": [
    {
     "name": "stdout",
     "output_type": "stream",
     "text": [
      "/Users/jbbutler129/Google Drive (butlerj@berkeley.edu)/Classes/215A/final_project/rule-vetting\n"
     ]
    },
    {
     "data": {
      "text/plain": [
       "'/Users/jbbutler129/Google Drive (butlerj@berkeley.edu)/Classes/215A/final_project/rule-vetting'"
      ]
     },
     "execution_count": 1,
     "metadata": {},
     "output_type": "execute_result"
    }
   ],
   "source": [
    "%cd ../../../..\n",
    "%pwd"
   ]
  },
  {
   "cell_type": "code",
   "execution_count": 2,
   "id": "04868ee6",
   "metadata": {},
   "outputs": [],
   "source": [
    "# importing necessary packages\n",
    "\n",
    "import matplotlib.pyplot as plt\n",
    "import numpy as np\n",
    "import pandas as pd\n",
    "import seaborn as sns\n",
    "\n",
    "import rulevetting.api.viz as viz\n",
    "from rulevetting.projects.tbi_pecarn.dataset import Dataset\n",
    "\n",
    "import os\n",
    "import pickle as pkl\n",
    "from os.path import join as oj\n",
    "\n",
    "from sklearn import metrics\n",
    "from sklearn.tree import DecisionTreeClassifier, plot_tree\n",
    "\n",
    "import imodels\n",
    "from rulevetting.api import validation\n",
    "\n",
    "\n",
    "MODELS_DIR = './models'\n",
    "os.makedirs(MODELS_DIR, exist_ok=True)\n",
    "\n",
    "outcome_def = 'outcome'  # output"
   ]
  },
  {
   "cell_type": "markdown",
   "id": "74b30af8",
   "metadata": {},
   "source": [
    "## Loading Data with Default Judgement Calls"
   ]
  },
  {
   "cell_type": "code",
   "execution_count": 3,
   "id": "ed63d26f",
   "metadata": {},
   "outputs": [
    {
     "name": "stdout",
     "output_type": "stream",
     "text": [
      "kwargs {'clean_data': {}, 'preprocess_data': {'step1_injMech': False, 'step5_missSubGCS': True, 'step5_fake15GCS': True, 'step5_fake14GCS': True, 'step8_missingOSI': True, 'step9_HEMA': 3, 'step10_cautiousUncl': True, 'step14_vomitDtls': False, 'step15_HA': 2, 'step15_HAStart': False, 'step16_Seiz': 2, 'step16_SeizOccur': False, 'step17_cautiousUncl': True, 'step19_Drugs': False, 'step20_ActNormal': True}, 'extract_features': {'HEMA_umbrella': False, 'SFxPalp_umbrella': False, 'SFxBas_umbrella': False, 'AMS_umbrella': False, 'Clav_umbrella': False, 'NeuroD_umbrella': False, 'Vomit_umbrella': False, 'HA_umbrella': False, 'Seiz_umbrella': False, 'LOC_umbrella': False, 'GCS': True, 'remove_constVal': True}}\n"
     ]
    },
    {
     "name": "stderr",
     "output_type": "stream",
     "text": [
      "100%|█████████████████████████████████████████████| 1/1 [00:00<00:00,  3.77it/s]\n"
     ]
    }
   ],
   "source": [
    "df_train_1, df_tune_1, df_test_1 = Dataset().get_data()"
   ]
  },
  {
   "cell_type": "markdown",
   "id": "8884479f",
   "metadata": {},
   "source": [
    "## Classifier: CORELS (Certifiably Optimal Rule Lists Classifer)\n",
    "\n",
    "(as opposed to CART, gives a certificate of optimality)"
   ]
  },
  {
   "cell_type": "markdown",
   "id": "3f4ed201",
   "metadata": {},
   "source": [
    "First, I will run the classifier on just the larger umbrella variables, as opposed to the subvariables because that seemed to yield complicated results for Xin"
   ]
  },
  {
   "cell_type": "code",
   "execution_count": 6,
   "id": "a3280d5e",
   "metadata": {},
   "outputs": [],
   "source": [
    "keys_to_keep = ['LOCSeparate',\n",
    " 'Seiz',\n",
    " 'ActNorm',\n",
    " 'Vomit',\n",
    " 'GCSEye',\n",
    " 'GCSVerbal',\n",
    " 'GCSMotor',\n",
    " 'AMS',\n",
    " 'SFxPalp',\n",
    " 'FontBulg',\n",
    " 'SFxBas',\n",
    " 'Hema',\n",
    " 'Clav',\n",
    " 'NeuroD',\n",
    " 'OSI',\n",
    " 'High_impact_InjSev_1',\n",
    " 'High_impact_InjSev_2',\n",
    " 'High_impact_InjSev_3',\n",
    " 'Amnesia_verb_0',\n",
    " 'Amnesia_verb_1',\n",
    " 'Amnesia_verb_91',\n",
    " 'HA_verb_0',\n",
    " 'HA_verb_1',\n",
    " 'HA_verb_91']"
   ]
  },
  {
   "cell_type": "code",
   "execution_count": 7,
   "id": "d60cf47d",
   "metadata": {},
   "outputs": [],
   "source": [
    "umbrella_subset_tr = df_train_1[keys_to_keep]\n",
    "umbrella_subset_tu = df_tune_1[keys_to_keep]\n",
    "umbrella_subset_te = df_test_1[keys_to_keep]"
   ]
  },
  {
   "cell_type": "code",
   "execution_count": 8,
   "id": "6c2d73ec",
   "metadata": {},
   "outputs": [],
   "source": [
    "# penalization parameter: penalizes longer rulelists\n",
    "c = 0.001\n",
    "# maximum number of rulelists to search for before exiting\n",
    "n_iter = 100000\n",
    "# policy: search policy for traversing the tree\n",
    "policy = 'dfs'\n",
    "\n",
    "corel = imodels.OptimalRuleListClassifier(c, n_iter, policy = policy)"
   ]
  },
  {
   "cell_type": "code",
   "execution_count": 9,
   "id": "5aef4e67",
   "metadata": {},
   "outputs": [],
   "source": [
    "corel.fit(umbrella_subset_tr, df_train_1['outcome'], prediction_name = 'outcome')"
   ]
  },
  {
   "cell_type": "markdown",
   "id": "5f5175a9",
   "metadata": {},
   "source": [
    "Interesting, so the rule list that it is generating is simply that the outcome is always False. Will probably have to tune this so that it doesn't misclassify.."
   ]
  },
  {
   "cell_type": "code",
   "execution_count": 10,
   "id": "65e14cbc",
   "metadata": {},
   "outputs": [
    {
     "data": {
      "text/plain": [
       "RULELIST:\n",
       "outcome = False\n",
       "All features: (['LOCSeparate', 'Seiz', 'ActNorm', 'Vomit', 'GCSEye', 'GCSVerbal', 'GCSMotor', 'AMS', 'SFxPalp', 'FontBulg', 'SFxBas', 'Hema', 'Clav', 'NeuroD', 'OSI', 'High_impact_InjSev_1', 'High_impact_InjSev_2', 'High_impact_InjSev_3', 'Amnesia_verb_0', 'Amnesia_verb_1', 'Amnesia_verb_91', 'HA_verb_0', 'HA_verb_1', 'HA_verb_91'])"
      ]
     },
     "execution_count": 10,
     "metadata": {},
     "output_type": "execute_result"
    }
   ],
   "source": [
    "corel.rl()"
   ]
  },
  {
   "cell_type": "markdown",
   "id": "5954f597",
   "metadata": {},
   "source": [
    "## What if I made the outcomes a bit more balanced, what would it give me?"
   ]
  },
  {
   "cell_type": "code",
   "execution_count": null,
   "id": "6ef8d676",
   "metadata": {},
   "outputs": [],
   "source": [
    "trues = df_train_1[df_train_1['outcome'] == 1]\n",
    "falses = df_train_1[df_train_1['outcome'] == 0][1:150]"
   ]
  },
  {
   "cell_type": "code",
   "execution_count": null,
   "id": "f94a6466",
   "metadata": {},
   "outputs": [],
   "source": [
    "balanced_set = pd.concat([trues, falses])\n",
    "outcome = balanced_set['outcome']\n",
    "balanced_set = balanced_set[keys_to_keep]"
   ]
  },
  {
   "cell_type": "code",
   "execution_count": null,
   "id": "f7aa56a6",
   "metadata": {},
   "outputs": [],
   "source": [
    "recode_GCS(balanced_set)"
   ]
  },
  {
   "cell_type": "code",
   "execution_count": null,
   "id": "cc91d13e",
   "metadata": {},
   "outputs": [],
   "source": [
    "c = 0.0001\n",
    "# maximum number of rulelists to search for before exiting\n",
    "n_iter = 1000000\n",
    "policy = 'dfs'\n",
    "corel = imodels.OptimalRuleListClassifier(c, n_iter, class_weight)\n",
    "corel.fit(balanced_set, outcome, prediction_name = 'outcome')"
   ]
  },
  {
   "cell_type": "code",
   "execution_count": null,
   "id": "7d1bc4f3",
   "metadata": {
    "scrolled": true
   },
   "outputs": [],
   "source": [
    "corel.rl()"
   ]
  },
  {
   "cell_type": "code",
   "execution_count": null,
   "id": "c392795a",
   "metadata": {},
   "outputs": [],
   "source": [
    "corel.predict(umbrella_subset_tu)"
   ]
  },
  {
   "cell_type": "markdown",
   "id": "0fc55bec",
   "metadata": {},
   "source": [
    "Recode the outcome as 1 if you don't have a TBI, 0 otherwise?"
   ]
  },
  {
   "cell_type": "markdown",
   "id": "378e8640",
   "metadata": {},
   "source": [
    "## Classifier: GOSDT"
   ]
  },
  {
   "cell_type": "code",
   "execution_count": null,
   "id": "55c1e4b2",
   "metadata": {},
   "outputs": [],
   "source": [
    "gosdt = imodels.OptimalTreeClassifier(rule_list = True)\n",
    "gosdt.fit(umbrella_subset_tr, df_train_1['outcome'])"
   ]
  },
  {
   "cell_type": "code",
   "execution_count": null,
   "id": "a63b43f2",
   "metadata": {},
   "outputs": [],
   "source": []
  },
  {
   "cell_type": "markdown",
   "id": "d81b8162",
   "metadata": {},
   "source": [
    "## Classifier: Bayesian Rule Classifier"
   ]
  },
  {
   "cell_type": "code",
   "execution_count": null,
   "id": "b43934f5",
   "metadata": {},
   "outputs": [],
   "source": [
    "bayes = imodels.BayesianRuleSetClassifier()\n",
    "bayes.fit(umbrella_subset_tr, df_train_1['outcome'], verbose = True)"
   ]
  },
  {
   "cell_type": "markdown",
   "id": "c493710a",
   "metadata": {},
   "source": [
    "### Making sure Xin's stuff works for mine as well"
   ]
  },
  {
   "cell_type": "code",
   "execution_count": null,
   "id": "80f524f1",
   "metadata": {},
   "outputs": [],
   "source": [
    "rulefit = imodels.RuleFitRegressor(max_rules=5)\n",
    "rulefit.fit(umbrella_subset_tr, df_train_1['outcome'])"
   ]
  },
  {
   "cell_type": "code",
   "execution_count": null,
   "id": "20323cbe",
   "metadata": {},
   "outputs": [],
   "source": [
    "rules = rulefit.get_rules() \n",
    "rules = rules[rules['type']!='linear']\n",
    "rules = rules[rules['coef'] != 0] \n",
    "rules = rules.sort_values('importance', ascending=False) \n",
    "rules"
   ]
  },
  {
   "cell_type": "code",
   "execution_count": null,
   "id": "a8e8946d",
   "metadata": {},
   "outputs": [],
   "source": []
  },
  {
   "cell_type": "code",
   "execution_count": null,
   "id": "1ea132e6",
   "metadata": {},
   "outputs": [],
   "source": []
  }
 ],
 "metadata": {
  "kernelspec": {
   "display_name": "Python 3 (ipykernel)",
   "language": "python",
   "name": "python3"
  },
  "language_info": {
   "codemirror_mode": {
    "name": "ipython",
    "version": 3
   },
   "file_extension": ".py",
   "mimetype": "text/x-python",
   "name": "python",
   "nbconvert_exporter": "python",
   "pygments_lexer": "ipython3",
   "version": "3.7.11"
  }
 },
 "nbformat": 4,
 "nbformat_minor": 5
}
