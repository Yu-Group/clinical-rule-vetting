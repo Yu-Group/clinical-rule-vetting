{
 "cells": [
  {
   "cell_type": "code",
   "execution_count": 1,
   "id": "68436a18",
   "metadata": {},
   "outputs": [
    {
     "name": "stdout",
     "output_type": "stream",
     "text": [
      "/Users/jbbutler129/Google Drive (butlerj@berkeley.edu)/Classes/215A/final_project/rule-vetting\n"
     ]
    }
   ],
   "source": [
    "%cd ../../../.."
   ]
  },
  {
   "cell_type": "code",
   "execution_count": 21,
   "id": "78825111",
   "metadata": {},
   "outputs": [],
   "source": [
    "import rulevetting.projects.tbi_pecarn.model_best as mb\n",
    "from rulevetting.projects.tbi_pecarn.dataset import Dataset\n",
    "from rulevetting.projects.tbi_pecarn.dataset import AgeSplit\n",
    "import pandas as pd"
   ]
  },
  {
   "cell_type": "code",
   "execution_count": 5,
   "id": "80277f29",
   "metadata": {},
   "outputs": [
    {
     "name": "stdout",
     "output_type": "stream",
     "text": [
      "kwargs {'clean_data': {}, 'preprocess_data': {'step1_injMech': False, 'step5_missSubGCS': True, 'step5_fake15GCS': True, 'step5_fake14GCS': True, 'step7_AMS': 3, 'step8_OSI': 3, 'step9_HEMA': 3, 'step9a_HEMA': True, 'step10_SFx': 2, 'step11_SFxBas': 3, 'step12_Clav': 3, 'step13_NeuroD': 3, 'step14_Vomit': 1, 'step14a_Vomit': False, 'step15_HA': 2, 'step15_HAStart': False, 'step16_Seiz': 2, 'step16_SeizOccur': False, 'step17_LOC': 2, 'step19_Drugs': False, 'step20_ActNormal': True}, 'extract_features': {'HEMA_umbrella': False, 'SFxPalp_umbrella': False, 'SFxBas_umbrella': False, 'AMS_umbrella': False, 'OSI_umbrella': False, 'Clav_umbrella': False, 'NeuroD_umbrella': False, 'Vomit_umbrella': False, 'HA_umbrella': False, 'Seiz_umbrella': False, 'LOC_umbrella': False, 'GCS': 3, 'remove_constVal': True}}\n"
     ]
    }
   ],
   "source": [
    "df_train, df_tune, df_test = Dataset().get_data(split_age=AgeSplit.AGEINVARIANT,load_csvs=False)\n",
    "true = df_test['outcome']\n",
    "demos = df_test[['AgeinYears', 'Race', 'Gender']]\n",
    "df_test.drop(['AgeinYears', 'Race', 'Gender', 'outcome'], axis = 1, inplace = True)"
   ]
  },
  {
   "cell_type": "code",
   "execution_count": 6,
   "id": "a8d054c9",
   "metadata": {},
   "outputs": [],
   "source": [
    "best_mod = mb.Model()\n",
    "preds = best_mod.predict(df_test)"
   ]
  },
  {
   "cell_type": "markdown",
   "id": "0e8f886d",
   "metadata": {},
   "source": [
    "Let's examine the one individual in the test set who was misclassified"
   ]
  },
  {
   "cell_type": "code",
   "execution_count": 15,
   "id": "a9b7de78",
   "metadata": {},
   "outputs": [
    {
     "name": "stdout",
     "output_type": "stream",
     "text": [
      "5295\n"
     ]
    }
   ],
   "source": [
    "for i in range(0, len(preds)):\n",
    "    if true.iloc[i] == 1 and preds[i] == 0:\n",
    "        print(i)"
   ]
  },
  {
   "cell_type": "markdown",
   "id": "af5e6269",
   "metadata": {},
   "source": [
    "Seems like we miscategorized patient 5295. Let's look at them and their characteristics."
   ]
  },
  {
   "cell_type": "code",
   "execution_count": 22,
   "id": "da31c2f6",
   "metadata": {},
   "outputs": [
    {
     "name": "stdout",
     "output_type": "stream",
     "text": [
      "LOCSeparate             0.0\n",
      "Seiz                    0.0\n",
      "ActNorm                 1.0\n",
      "Vomit                   0.0\n",
      "AMS                     0.0\n",
      "SFxPalp                 0.0\n",
      "SFxBas                  0.0\n",
      "Hema                    1.0\n",
      "Clav                    1.0\n",
      "NeuroD                  0.0\n",
      "OSI                     0.0\n",
      "High_impact_InjSev_1    0.0\n",
      "High_impact_InjSev_2    1.0\n",
      "High_impact_InjSev_3    0.0\n",
      "LocLen_1                0.0\n",
      "LocLen_2                0.0\n",
      "LocLen_3                0.0\n",
      "LocLen_4                0.0\n",
      "LocLen_92               1.0\n",
      "SeizLen_1               0.0\n",
      "SeizLen_2               0.0\n",
      "SeizLen_3               0.0\n",
      "SeizLen_4               0.0\n",
      "SeizLen_92              1.0\n",
      "AMSAgitated_0           0.0\n",
      "AMSAgitated_1           0.0\n",
      "AMSAgitated_92          1.0\n",
      "AMSSleep_0              0.0\n",
      "AMSSleep_1              0.0\n",
      "AMSSleep_92             1.0\n",
      "AMSSlow_0               0.0\n",
      "AMSSlow_1               0.0\n",
      "AMSSlow_92              1.0\n",
      "AMSRepeat_0             0.0\n",
      "AMSRepeat_1             0.0\n",
      "AMSRepeat_92            1.0\n",
      "AMSOth_0                0.0\n",
      "AMSOth_1                0.0\n",
      "AMSOth_92               1.0\n",
      "SFxPalpDepress_0        0.0\n",
      "SFxPalpDepress_1        0.0\n",
      "SFxPalpDepress_92       1.0\n",
      "SFxBasHem_0             0.0\n",
      "SFxBasHem_1             0.0\n",
      "SFxBasHem_92            1.0\n",
      "SFxBasOto_0             0.0\n",
      "SFxBasOto_1             0.0\n",
      "SFxBasOto_92            1.0\n",
      "SFxBasPer_0             0.0\n",
      "SFxBasPer_1             0.0\n",
      "SFxBasPer_92            1.0\n",
      "SFxBasRet_0             0.0\n",
      "SFxBasRet_1             0.0\n",
      "SFxBasRet_92            1.0\n",
      "SFxBasRhi_0             0.0\n",
      "SFxBasRhi_1             0.0\n",
      "SFxBasRhi_92            1.0\n",
      "HemaLoc_1               1.0\n",
      "HemaLoc_2               0.0\n",
      "HemaLoc_3               0.0\n",
      "HemaLoc_92              0.0\n",
      "HemaSize_1              0.0\n",
      "HemaSize_2              0.0\n",
      "HemaSize_3              1.0\n",
      "HemaSize_92             0.0\n",
      "ClavFace_0              1.0\n",
      "ClavFace_1              0.0\n",
      "ClavFace_92             0.0\n",
      "ClavNeck_0              1.0\n",
      "ClavNeck_1              0.0\n",
      "ClavNeck_92             0.0\n",
      "ClavFro_0               0.0\n",
      "ClavFro_1               1.0\n",
      "ClavFro_92              0.0\n",
      "ClavOcc_0               1.0\n",
      "ClavOcc_1               0.0\n",
      "ClavOcc_92              0.0\n",
      "ClavPar_0               1.0\n",
      "ClavPar_1               0.0\n",
      "ClavPar_92              0.0\n",
      "ClavTem_0               1.0\n",
      "ClavTem_1               0.0\n",
      "ClavTem_92              0.0\n",
      "NeuroDMotor_0           0.0\n",
      "NeuroDMotor_1           0.0\n",
      "NeuroDMotor_92          1.0\n",
      "NeuroDSensory_0         0.0\n",
      "NeuroDSensory_1         0.0\n",
      "NeuroDSensory_92        1.0\n",
      "NeuroDCranial_0         0.0\n",
      "NeuroDCranial_1         0.0\n",
      "NeuroDCranial_92        1.0\n",
      "NeuroDReflex_0          0.0\n",
      "NeuroDReflex_1          0.0\n",
      "NeuroDReflex_92         1.0\n",
      "NeuroDOth_0             0.0\n",
      "NeuroDOth_1             0.0\n",
      "NeuroDOth_92            1.0\n",
      "OSIExtremity_0          0.0\n",
      "OSIExtremity_1          0.0\n",
      "OSIExtremity_92         1.0\n",
      "OSICut_0                0.0\n",
      "OSICut_1                0.0\n",
      "OSICut_92               1.0\n",
      "OSICspine_0             0.0\n",
      "OSICspine_1             0.0\n",
      "OSICspine_92            1.0\n",
      "OSIFlank_0              0.0\n",
      "OSIFlank_1              0.0\n",
      "OSIFlank_92             1.0\n",
      "OSIAbdomen_0            0.0\n",
      "OSIAbdomen_1            0.0\n",
      "OSIAbdomen_92           1.0\n",
      "OSIPelvis_0             0.0\n",
      "OSIPelvis_1             0.0\n",
      "OSIPelvis_92            1.0\n",
      "OSIOth_0                0.0\n",
      "OSIOth_1                0.0\n",
      "OSIOth_92               1.0\n",
      "Name: 5295, dtype: float64\n"
     ]
    }
   ],
   "source": [
    "pd.set_option(\"display.max_rows\", None, \"display.max_columns\", None)\n",
    "print(df_test.loc[5295])"
   ]
  },
  {
   "cell_type": "markdown",
   "id": "3276e6dc",
   "metadata": {},
   "source": [
    "Demographic characteristics? 4 y/o, black, and male"
   ]
  },
  {
   "cell_type": "code",
   "execution_count": 23,
   "id": "7d3dcfe5",
   "metadata": {},
   "outputs": [
    {
     "data": {
      "text/plain": [
       "AgeinYears    4.0\n",
       "Race          2.0\n",
       "Gender        1.0\n",
       "Name: 5295, dtype: float64"
      ]
     },
     "execution_count": 23,
     "metadata": {},
     "output_type": "execute_result"
    }
   ],
   "source": [
    "demos.loc[5295]"
   ]
  },
  {
   "cell_type": "code",
   "execution_count": null,
   "id": "96ed0a5d",
   "metadata": {},
   "outputs": [],
   "source": []
  }
 ],
 "metadata": {
  "kernelspec": {
   "display_name": "Python 3",
   "language": "python",
   "name": "python3"
  },
  "language_info": {
   "codemirror_mode": {
    "name": "ipython",
    "version": 3
   },
   "file_extension": ".py",
   "mimetype": "text/x-python",
   "name": "python",
   "nbconvert_exporter": "python",
   "pygments_lexer": "ipython3",
   "version": "3.8.2"
  }
 },
 "nbformat": 4,
 "nbformat_minor": 5
}
