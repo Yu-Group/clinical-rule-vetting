{
 "cells": [
  {
   "cell_type": "code",
   "execution_count": 1,
   "id": "252373f5",
   "metadata": {},
   "outputs": [
    {
     "name": "stderr",
     "output_type": "stream",
     "text": [
      "/usr/local/lib/python3.9/site-packages/redis/connection.py:77: UserWarning: redis-py works best with hiredis. Please consider installing\n",
      "  warnings.warn(msg)\n"
     ]
    },
    {
     "name": "stdout",
     "output_type": "stream",
     "text": [
      "The autoreload extension is already loaded. To reload it, use:\n",
      "  %reload_ext autoreload\n"
     ]
    }
   ],
   "source": [
    "%load_ext autoreload\n",
    "%autoreload 2\n",
    "\n",
    "import sys\n",
    "import matplotlib.pyplot as plt\n",
    "import numpy as np\n",
    "import pandas as pd\n",
    "import seaborn as sns\n",
    "\n",
    "#IMPORTANT: REPLACE WITH YOUR PATH TO THE RULE-VETTING GITHUB\n",
    "repo_path = '/Users/zhouxin/study/stat215/lab5_git/group/rule-vetting/'\n",
    "\n",
    "sys.path.insert(1, repo_path)\n",
    "\n",
    "import rulevetting.api.viz as viz\n",
    "from rulevetting.projects.tbi_pecarn.dataset import Dataset\n",
    "\n",
    "outcome_def = 'outcome'  # output\n",
    "%matplotlib inline\n",
    "%load_ext autoreload\n",
    "%autoreload 2"
   ]
  },
  {
   "cell_type": "markdown",
   "id": "73816509",
   "metadata": {},
   "source": [
    "# Load cleaned data"
   ]
  },
  {
   "cell_type": "code",
   "execution_count": 57,
   "id": "74d0468c",
   "metadata": {},
   "outputs": [],
   "source": [
    "# this is me loading up the main CSV on my own\n",
    "tbi_df = pd.read_csv(repo_path + '/rulevetting/projects/tbi_pecarn/notebooks/clean_dataset_11_24.csv',\n",
    "                    index_col = 0)\n",
    "tbi_df.index = tbi_df.PatNum.copy()"
   ]
  },
  {
   "cell_type": "code",
   "execution_count": 101,
   "id": "57072fa5",
   "metadata": {},
   "outputs": [],
   "source": [
    "tbi_df_young = tbi_df[tbi_df['AgeinYears'] < 2]\n",
    "tbi_df_old = tbi_df[tbi_df['AgeinYears'] >= 2]"
   ]
  },
  {
   "cell_type": "markdown",
   "id": "9a40fbbf",
   "metadata": {},
   "source": [
    "# Baseline model for age < 2"
   ]
  },
  {
   "cell_type": "code",
   "execution_count": 73,
   "id": "d7c02b95",
   "metadata": {},
   "outputs": [],
   "source": [
    "df_features = tbi_df_young.copy()\n",
    "predicted_probabilities = pd.Series(index=df_features.index, dtype=float) # for each patient id\n",
    "df = df_features.copy()\n",
    "o = 'PosIntFinal' # outcome variable name"
   ]
  },
  {
   "cell_type": "code",
   "execution_count": 74,
   "id": "cfec4823",
   "metadata": {},
   "outputs": [
    {
     "data": {
      "text/plain": [
       "0.7000000000000001"
      ]
     },
     "execution_count": 74,
     "metadata": {},
     "output_type": "execute_result"
    }
   ],
   "source": [
    "# original proportion in percent\n",
    "df[o].sum() / df.shape[0] * 100"
   ]
  },
  {
   "cell_type": "code",
   "execution_count": 75,
   "id": "392ffed5",
   "metadata": {},
   "outputs": [
    {
     "name": "stdout",
     "output_type": "stream",
     "text": [
      "3.634361233480176\n"
     ]
    }
   ],
   "source": [
    "# step 1\n",
    "query = 'AMS == 1'\n",
    "df_rhs = df.query(query)\n",
    "idxs_satisfying_rule = df_rhs.index\n",
    "# proportion in percent\n",
    "prob = df_rhs[o].sum() / df_rhs.shape[0] * 100\n",
    "predicted_probabilities.loc[idxs_satisfying_rule] = prob\n",
    "df.drop(index=idxs_satisfying_rule, inplace=True)\n",
    "print(prob)"
   ]
  },
  {
   "cell_type": "code",
   "execution_count": 86,
   "id": "ec41a07b",
   "metadata": {},
   "outputs": [
    {
     "name": "stdout",
     "output_type": "stream",
     "text": [
      "1.5202702702702704\n"
     ]
    }
   ],
   "source": [
    "# step 2\n",
    "query = 'HemaLoc == [2, 3]'\n",
    "df_rhs = df.query(query)\n",
    "idxs_satisfying_rule = df_rhs.index\n",
    "# proportion in percent\n",
    "prob = df_rhs[o].sum() / df_rhs.shape[0] * 100\n",
    "predicted_probabilities.loc[idxs_satisfying_rule] = prob\n",
    "df.drop(index=idxs_satisfying_rule, inplace=True)\n",
    "print(prob)"
   ]
  },
  {
   "cell_type": "code",
   "execution_count": 88,
   "id": "0117ece4",
   "metadata": {},
   "outputs": [
    {
     "name": "stdout",
     "output_type": "stream",
     "text": [
      "1.4084507042253522\n"
     ]
    }
   ],
   "source": [
    "# step 3\n",
    "query = 'LocLen == [2, 3, 4]'\n",
    "df_rhs = df.query(query)\n",
    "idxs_satisfying_rule = df_rhs.index\n",
    "# proportion in percent\n",
    "prob = df_rhs[o].sum() / df_rhs.shape[0] * 100\n",
    "predicted_probabilities.loc[idxs_satisfying_rule] = prob\n",
    "df.drop(index=idxs_satisfying_rule, inplace=True)\n",
    "print(prob)"
   ]
  },
  {
   "cell_type": "code",
   "execution_count": 90,
   "id": "77461787",
   "metadata": {},
   "outputs": [
    {
     "name": "stdout",
     "output_type": "stream",
     "text": [
      "0.3105590062111801\n"
     ]
    }
   ],
   "source": [
    "# step 4\n",
    "query = 'High_impact_InjSev == 3'\n",
    "df_rhs = df.query(query)\n",
    "idxs_satisfying_rule = df_rhs.index\n",
    "# proportion in percent\n",
    "prob = df_rhs[o].sum() / df_rhs.shape[0] * 100\n",
    "predicted_probabilities.loc[idxs_satisfying_rule] = prob\n",
    "df.drop(index=idxs_satisfying_rule, inplace=True)\n",
    "print(prob)"
   ]
  },
  {
   "cell_type": "code",
   "execution_count": 92,
   "id": "683fbfae",
   "metadata": {},
   "outputs": [
    {
     "name": "stdout",
     "output_type": "stream",
     "text": [
      "3.3707865168539324\n"
     ]
    }
   ],
   "source": [
    "# step 5\n",
    "query = 'SFxPalp == 1'\n",
    "df_rhs = df.query(query)\n",
    "idxs_satisfying_rule = df_rhs.index\n",
    "# proportion in percent\n",
    "prob = df_rhs[o].sum() / df_rhs.shape[0] * 100\n",
    "predicted_probabilities.loc[idxs_satisfying_rule] = prob\n",
    "df.drop(index=idxs_satisfying_rule, inplace=True)\n",
    "print(prob)"
   ]
  },
  {
   "cell_type": "code",
   "execution_count": 95,
   "id": "788b5ca0",
   "metadata": {},
   "outputs": [
    {
     "name": "stdout",
     "output_type": "stream",
     "text": [
      "0.2762430939226519\n"
     ]
    }
   ],
   "source": [
    "# step 6\n",
    "query = 'ActNorm == 0'\n",
    "df_rhs = df.query(query)\n",
    "idxs_satisfying_rule = df_rhs.index\n",
    "# proportion in percent\n",
    "prob = df_rhs[o].sum() / df_rhs.shape[0] * 100\n",
    "predicted_probabilities.loc[idxs_satisfying_rule] = prob\n",
    "df.drop(index=idxs_satisfying_rule, inplace=True)\n",
    "print(prob)"
   ]
  },
  {
   "cell_type": "code",
   "execution_count": 96,
   "id": "6406e1fe",
   "metadata": {},
   "outputs": [
    {
     "name": "stdout",
     "output_type": "stream",
     "text": [
      "0.020177562550443905\n"
     ]
    }
   ],
   "source": [
    "# step 7\n",
    "query = 'GCSTotal >= 0' # always true\n",
    "df_rhs = df.query(query)\n",
    "idxs_satisfying_rule = df_rhs.index\n",
    "# proportion in percent\n",
    "prob = df_rhs[o].sum() / df_rhs.shape[0] * 100\n",
    "predicted_probabilities.loc[idxs_satisfying_rule] = prob\n",
    "df.drop(index=idxs_satisfying_rule, inplace=True)\n",
    "print(prob)"
   ]
  },
  {
   "cell_type": "code",
   "execution_count": 98,
   "id": "4e168931",
   "metadata": {},
   "outputs": [],
   "source": [
    "self_rules = [\n",
    "            ('AMS == 1', 3.6),\n",
    "            ('HemaLoc == [2, 3]', 1.5),\n",
    "            ('LocLen == [2, 3, 4]', 1.4),\n",
    "            ('High_impact_InjSev == 3', 0.31),\n",
    "            ('SFxPalp == 1', 3.4),\n",
    "            ('ActNorm == 0', 0.28),\n",
    "\n",
    "            # final condition is just something that is always true\n",
    "            ('GCSTotal >= 0', 0.02),\n",
    "        ]"
   ]
  },
  {
   "cell_type": "code",
   "execution_count": 100,
   "id": "3600bded",
   "metadata": {},
   "outputs": [
    {
     "name": "stdout",
     "output_type": "stream",
     "text": [
      "63.0 / 9000 (positive class / total)\n",
      "\t↓ \n",
      "\u001b[96mIf AMS                                \u001b[00m → 33.0 /  908 (3.6%)\n",
      "\t↓ \n",
      "   30.0 /  8092\t \n",
      "\u001b[96mIf HemaLoc == [2, 3]                  \u001b[00m → 18.0 / 1184 (1.5%)\n",
      "\t↓ \n",
      "   12.0 /  6908\t \n",
      "\u001b[96mIf LocLen == [2, 3, 4]                \u001b[00m → 3.0 /  213 (1.4%)\n",
      "\t↓ \n",
      "   9.0 /  6695\t \n",
      "\u001b[96mIf High_impact_InjSev == 3            \u001b[00m → 4.0 / 1288 (0.3%)\n",
      "\t↓ \n",
      "   5.0 /  5407\t \n",
      "\u001b[96mIf SFxPalp                            \u001b[00m → 3.0 /   89 (3.4%)\n",
      "\t↓ \n",
      "   2.0 /  5318\t \n",
      "\u001b[96mIf ActNorm == 0                       \u001b[00m → 1.0 /  362 (0.3%)\n",
      "\t↓ \n",
      "   1.0 /  4956\t \n",
      "\n"
     ]
    }
   ],
   "source": [
    "df_features = tbi_df_young.copy()\n",
    "str_print = f''\n",
    "predicted_probabilities = pd.Series(index=df_features.index, dtype=float)\n",
    "df = df_features.copy()\n",
    "o = 'PosIntFinal'\n",
    "str_print += f'{df[o].sum()} / {df.shape[0]} (positive class / total)\\n\\t\\u2193 \\n'\n",
    "for j, rule in enumerate(self_rules):\n",
    "    query, prob = rule\n",
    "    df_rhs = df.query(query)\n",
    "    idxs_satisfying_rule = df_rhs.index\n",
    "    predicted_probabilities.loc[idxs_satisfying_rule] = prob\n",
    "\n",
    "    df.drop(index=idxs_satisfying_rule, inplace=True)\n",
    "    computed_prob = 100 * df_rhs[o].sum() / df_rhs.shape[0]\n",
    "    query_print = query.replace(' == 1', '')\n",
    "    if j < len(self_rules) - 1:\n",
    "        str_print += f'\\033[96mIf {query_print:<35}\\033[00m \\u2192 {df_rhs[o].sum():>3} / {df_rhs.shape[0]:>4} ({computed_prob:0.1f}%)\\n\\t\\u2193 \\n   {df[o].sum():>3} / {df.shape[0]:>5}\\t \\n'\n",
    "predicted_probabilities = predicted_probabilities.values\n",
    "self_str_print = str_print\n",
    "print(self_str_print)"
   ]
  },
  {
   "cell_type": "markdown",
   "id": "963c4aea",
   "metadata": {},
   "source": [
    "# Baseline model for age >= 2"
   ]
  },
  {
   "cell_type": "code",
   "execution_count": 116,
   "id": "7ab995a7",
   "metadata": {},
   "outputs": [],
   "source": [
    "df_features = tbi_df_old.copy()\n",
    "predicted_probabilities = pd.Series(index=df_features.index, dtype=float) # for each patient id\n",
    "df = df_features.copy()\n",
    "o = 'PosIntFinal' # outcome variable name"
   ]
  },
  {
   "cell_type": "code",
   "execution_count": 117,
   "id": "ada27880",
   "metadata": {},
   "outputs": [
    {
     "data": {
      "text/plain": [
       "0.4744224422442244"
      ]
     },
     "execution_count": 117,
     "metadata": {},
     "output_type": "execute_result"
    }
   ],
   "source": [
    "# original proportion in percent\n",
    "df[o].sum() / df.shape[0] * 100"
   ]
  },
  {
   "cell_type": "code",
   "execution_count": 118,
   "id": "d7b8f482",
   "metadata": {},
   "outputs": [
    {
     "name": "stdout",
     "output_type": "stream",
     "text": [
      "2.570480928689884\n"
     ]
    }
   ],
   "source": [
    "# step 1\n",
    "query = 'AMS == 1'\n",
    "df_rhs = df.query(query)\n",
    "idxs_satisfying_rule = df_rhs.index\n",
    "# proportion in percent\n",
    "prob = df_rhs[o].sum() / df_rhs.shape[0] * 100\n",
    "predicted_probabilities.loc[idxs_satisfying_rule] = prob\n",
    "df.drop(index=idxs_satisfying_rule, inplace=True)\n",
    "print(prob)"
   ]
  },
  {
   "cell_type": "code",
   "execution_count": 119,
   "id": "8b8a7ce0",
   "metadata": {},
   "outputs": [
    {
     "name": "stdout",
     "output_type": "stream",
     "text": [
      "0.8200258955545966\n"
     ]
    }
   ],
   "source": [
    "# step 2\n",
    "query = 'LOCSeparate == [1, 2]'\n",
    "df_rhs = df.query(query)\n",
    "idxs_satisfying_rule = df_rhs.index\n",
    "# proportion in percent\n",
    "prob = df_rhs[o].sum() / df_rhs.shape[0] * 100\n",
    "predicted_probabilities.loc[idxs_satisfying_rule] = prob\n",
    "df.drop(index=idxs_satisfying_rule, inplace=True)\n",
    "print(prob)"
   ]
  },
  {
   "cell_type": "code",
   "execution_count": 120,
   "id": "3adf8b6a",
   "metadata": {},
   "outputs": [
    {
     "name": "stdout",
     "output_type": "stream",
     "text": [
      "0.87527352297593\n"
     ]
    }
   ],
   "source": [
    "# step 3\n",
    "query = 'Vomit == 1'\n",
    "df_rhs = df.query(query)\n",
    "idxs_satisfying_rule = df_rhs.index\n",
    "# proportion in percent\n",
    "prob = df_rhs[o].sum() / df_rhs.shape[0] * 100\n",
    "predicted_probabilities.loc[idxs_satisfying_rule] = prob\n",
    "df.drop(index=idxs_satisfying_rule, inplace=True)\n",
    "print(prob)"
   ]
  },
  {
   "cell_type": "code",
   "execution_count": 121,
   "id": "8a29d028",
   "metadata": {},
   "outputs": [
    {
     "name": "stdout",
     "output_type": "stream",
     "text": [
      "0.20811654526534862\n"
     ]
    }
   ],
   "source": [
    "# step 4\n",
    "query = 'High_impact_InjSev == 3'\n",
    "df_rhs = df.query(query)\n",
    "idxs_satisfying_rule = df_rhs.index\n",
    "# proportion in percent\n",
    "prob = df_rhs[o].sum() / df_rhs.shape[0] * 100\n",
    "predicted_probabilities.loc[idxs_satisfying_rule] = prob\n",
    "df.drop(index=idxs_satisfying_rule, inplace=True)\n",
    "print(prob)"
   ]
  },
  {
   "cell_type": "code",
   "execution_count": 122,
   "id": "3d66e1d4",
   "metadata": {},
   "outputs": [
    {
     "name": "stdout",
     "output_type": "stream",
     "text": [
      "5.714285714285714\n"
     ]
    }
   ],
   "source": [
    "# step 5\n",
    "query = 'SFxBas == 1'\n",
    "df_rhs = df.query(query)\n",
    "idxs_satisfying_rule = df_rhs.index\n",
    "# proportion in percent\n",
    "prob = df_rhs[o].sum() / df_rhs.shape[0] * 100\n",
    "predicted_probabilities.loc[idxs_satisfying_rule] = prob\n",
    "df.drop(index=idxs_satisfying_rule, inplace=True)\n",
    "print(prob)"
   ]
  },
  {
   "cell_type": "code",
   "execution_count": 123,
   "id": "fc0f939e",
   "metadata": {},
   "outputs": [
    {
     "name": "stdout",
     "output_type": "stream",
     "text": [
      "1.0471204188481675\n"
     ]
    }
   ],
   "source": [
    "# step 6\n",
    "query = 'HASeverity == 3'\n",
    "df_rhs = df.query(query)\n",
    "idxs_satisfying_rule = df_rhs.index\n",
    "# proportion in percent\n",
    "prob = df_rhs[o].sum() / df_rhs.shape[0] * 100\n",
    "predicted_probabilities.loc[idxs_satisfying_rule] = prob\n",
    "df.drop(index=idxs_satisfying_rule, inplace=True)\n",
    "print(prob)"
   ]
  },
  {
   "cell_type": "code",
   "execution_count": 124,
   "id": "d6db5a83",
   "metadata": {},
   "outputs": [
    {
     "name": "stdout",
     "output_type": "stream",
     "text": [
      "0.05161290322580645\n"
     ]
    }
   ],
   "source": [
    "# step 7\n",
    "query = 'GCSTotal >= 0' # always true\n",
    "df_rhs = df.query(query)\n",
    "idxs_satisfying_rule = df_rhs.index\n",
    "# proportion in percent\n",
    "prob = df_rhs[o].sum() / df_rhs.shape[0] * 100\n",
    "predicted_probabilities.loc[idxs_satisfying_rule] = prob\n",
    "df.drop(index=idxs_satisfying_rule, inplace=True)\n",
    "print(prob)"
   ]
  },
  {
   "cell_type": "code",
   "execution_count": 125,
   "id": "83cdd7fd",
   "metadata": {},
   "outputs": [],
   "source": [
    "self_rules = [\n",
    "            ('AMS == 1', 2.6),\n",
    "            ('LOCSeparate == [1, 2]', 0.82),\n",
    "            ('Vomit == 1', 0.88),\n",
    "            ('High_impact_InjSev == 3', 0.21),\n",
    "            ('SFxBas == 1', 5.7),\n",
    "            ('HASeverity == 3', 1.0),\n",
    "\n",
    "            # final condition is just something that is always true\n",
    "            ('GCSTotal >= 0', 0.05),\n",
    "        ]"
   ]
  },
  {
   "cell_type": "code",
   "execution_count": 126,
   "id": "fdf1228a",
   "metadata": {},
   "outputs": [
    {
     "name": "stdout",
     "output_type": "stream",
     "text": [
      "115.0 / 24240 (positive class / total)\n",
      "\t↓ \n",
      "\u001b[96mIf AMS                                \u001b[00m → 62.0 / 2412 (2.6%)\n",
      "\t↓ \n",
      "   53.0 / 21828\t \n",
      "\u001b[96mIf LOCSeparate == [1, 2]              \u001b[00m → 19.0 / 2317 (0.8%)\n",
      "\t↓ \n",
      "   34.0 / 19511\t \n",
      "\u001b[96mIf Vomit                              \u001b[00m → 16.0 / 1828 (0.9%)\n",
      "\t↓ \n",
      "   18.0 / 17683\t \n",
      "\u001b[96mIf High_impact_InjSev == 3            \u001b[00m → 4.0 / 1922 (0.2%)\n",
      "\t↓ \n",
      "   14.0 / 15761\t \n",
      "\u001b[96mIf SFxBas                             \u001b[00m → 4.0 /   70 (5.7%)\n",
      "\t↓ \n",
      "   10.0 / 15691\t \n",
      "\u001b[96mIf HASeverity == 3                    \u001b[00m → 2.0 /  191 (1.0%)\n",
      "\t↓ \n",
      "   8.0 / 15500\t \n",
      "\n"
     ]
    }
   ],
   "source": [
    "df_features = tbi_df_old.copy()\n",
    "str_print = f''\n",
    "predicted_probabilities = pd.Series(index=df_features.index, dtype=float)\n",
    "df = df_features.copy()\n",
    "o = 'PosIntFinal'\n",
    "str_print += f'{df[o].sum()} / {df.shape[0]} (positive class / total)\\n\\t\\u2193 \\n'\n",
    "for j, rule in enumerate(self_rules):\n",
    "    query, prob = rule\n",
    "    df_rhs = df.query(query)\n",
    "    idxs_satisfying_rule = df_rhs.index\n",
    "    predicted_probabilities.loc[idxs_satisfying_rule] = prob\n",
    "\n",
    "    df.drop(index=idxs_satisfying_rule, inplace=True)\n",
    "    computed_prob = 100 * df_rhs[o].sum() / df_rhs.shape[0]\n",
    "    query_print = query.replace(' == 1', '')\n",
    "    if j < len(self_rules) - 1:\n",
    "        str_print += f'\\033[96mIf {query_print:<35}\\033[00m \\u2192 {df_rhs[o].sum():>3} / {df_rhs.shape[0]:>4} ({computed_prob:0.1f}%)\\n\\t\\u2193 \\n   {df[o].sum():>3} / {df.shape[0]:>5}\\t \\n'\n",
    "predicted_probabilities = predicted_probabilities.values\n",
    "self_str_print = str_print\n",
    "print(self_str_print)"
   ]
  },
  {
   "cell_type": "code",
   "execution_count": null,
   "id": "a721d635",
   "metadata": {},
   "outputs": [],
   "source": []
  },
  {
   "cell_type": "code",
   "execution_count": 16,
   "id": "d4a62be1",
   "metadata": {},
   "outputs": [
    {
     "data": {
      "text/plain": [
       "['Unnamed: 0',\n",
       " 'PatNum',\n",
       " 'High_impact_InjSev',\n",
       " 'Amnesia_verb',\n",
       " 'LOCSeparate',\n",
       " 'LocLen',\n",
       " 'Seiz',\n",
       " 'SeizLen',\n",
       " 'ActNorm',\n",
       " 'HA_verb',\n",
       " 'HASeverity',\n",
       " 'Vomit',\n",
       " 'GCSEye',\n",
       " 'GCSVerbal',\n",
       " 'GCSMotor',\n",
       " 'GCSTotal',\n",
       " 'AMS',\n",
       " 'AMSAgitated',\n",
       " 'AMSSleep',\n",
       " 'AMSSlow',\n",
       " 'AMSRepeat',\n",
       " 'AMSOth',\n",
       " 'SFxPalp',\n",
       " 'SFxPalpDepress',\n",
       " 'FontBulg',\n",
       " 'SFxBas',\n",
       " 'SFxBasHem',\n",
       " 'SFxBasOto',\n",
       " 'SFxBasPer',\n",
       " 'SFxBasRet',\n",
       " 'SFxBasRhi',\n",
       " 'Hema',\n",
       " 'HemaLoc',\n",
       " 'HemaSize',\n",
       " 'Clav',\n",
       " 'ClavFace',\n",
       " 'ClavNeck',\n",
       " 'ClavFro',\n",
       " 'ClavOcc',\n",
       " 'ClavPar',\n",
       " 'ClavTem',\n",
       " 'NeuroD',\n",
       " 'NeuroDMotor',\n",
       " 'NeuroDSensory',\n",
       " 'NeuroDCranial',\n",
       " 'NeuroDReflex',\n",
       " 'NeuroDOth',\n",
       " 'OSI',\n",
       " 'OSIExtremity',\n",
       " 'OSICut',\n",
       " 'OSICspine',\n",
       " 'OSIFlank',\n",
       " 'OSIAbdomen',\n",
       " 'OSIPelvis',\n",
       " 'OSIOth',\n",
       " 'AgeinYears',\n",
       " 'Gender',\n",
       " 'Race',\n",
       " 'DeathTBI',\n",
       " 'HospHead',\n",
       " 'Intub24Head',\n",
       " 'Neurosurgery',\n",
       " 'PosIntFinal',\n",
       " 'PosIntFinalNoHosp']"
      ]
     },
     "execution_count": 16,
     "metadata": {},
     "output_type": "execute_result"
    }
   ],
   "source": [
    "df.keys().tolist()"
   ]
  },
  {
   "cell_type": "code",
   "execution_count": null,
   "id": "7206341c",
   "metadata": {},
   "outputs": [],
   "source": []
  }
 ],
 "metadata": {
  "kernelspec": {
   "display_name": "Python 3 (ipykernel)",
   "language": "python",
   "name": "python3"
  },
  "language_info": {
   "codemirror_mode": {
    "name": "ipython",
    "version": 3
   },
   "file_extension": ".py",
   "mimetype": "text/x-python",
   "name": "python",
   "nbconvert_exporter": "python",
   "pygments_lexer": "ipython3",
   "version": "3.8.10"
  },
  "toc": {
   "base_numbering": 1,
   "nav_menu": {},
   "number_sections": true,
   "sideBar": true,
   "skip_h1_title": false,
   "title_cell": "Table of Contents",
   "title_sidebar": "Contents",
   "toc_cell": false,
   "toc_position": {},
   "toc_section_display": true,
   "toc_window_display": false
  }
 },
 "nbformat": 4,
 "nbformat_minor": 5
}
