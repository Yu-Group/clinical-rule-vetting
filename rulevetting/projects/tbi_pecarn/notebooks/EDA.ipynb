{
 "cells": [
  {
   "cell_type": "code",
   "execution_count": 1,
   "id": "36d69ea1",
   "metadata": {},
   "outputs": [
    {
     "name": "stdout",
     "output_type": "stream",
     "text": [
      "/Users/jbbutler129/Google Drive (butlerj@berkeley.edu)/Classes/215A/final_project/rule-vetting\n"
     ]
    },
    {
     "data": {
      "text/plain": [
       "'/Users/jbbutler129/Google Drive (butlerj@berkeley.edu)/Classes/215A/final_project/rule-vetting'"
      ]
     },
     "execution_count": 1,
     "metadata": {},
     "output_type": "execute_result"
    }
   ],
   "source": [
    "%cd ../../../..\n",
    "%pwd"
   ]
  },
  {
   "cell_type": "code",
   "execution_count": 2,
   "id": "c901c27f",
   "metadata": {},
   "outputs": [
    {
     "name": "stderr",
     "output_type": "stream",
     "text": [
      "/opt/anaconda3/lib/python3.8/site-packages/redis/connection.py:77: UserWarning: redis-py works best with hiredis. Please consider installing\n",
      "  warnings.warn(msg)\n"
     ]
    }
   ],
   "source": [
    "import matplotlib.pyplot as plt\n",
    "import numpy as np\n",
    "import pandas as pd\n",
    "import seaborn as sns\n",
    "\n",
    "import rulevetting.api.viz as viz\n",
    "from rulevetting.projects.tbi_pecarn.dataset import Dataset\n",
    "\n",
    "outcome_def = 'outcome'  # output"
   ]
  },
  {
   "cell_type": "markdown",
   "id": "8a041304",
   "metadata": {},
   "source": [
    "## Loading the Data - Default Judgement Calls (Flatten Umbrella)"
   ]
  },
  {
   "cell_type": "markdown",
   "id": "8808c6e9",
   "metadata": {},
   "source": [
    "Note: this is with the default judgement calls, including flattening of the umbrella variables in feature extraction"
   ]
  },
  {
   "cell_type": "code",
   "execution_count": 3,
   "id": "469e5b4d",
   "metadata": {},
   "outputs": [
    {
     "name": "stdout",
     "output_type": "stream",
     "text": [
      "kwargs {'clean_data': {}, 'preprocess_data': {'step1_injMech': False, 'step5_missSubGCS': True, 'step5_fake15GCS': True, 'step5_fake14GCS': True, 'step8_missingOSI': True, 'step9_HEMA': 3, 'step10_cautiousUncl': True, 'step14_vomitDtls': False, 'step15_HA': 2, 'step15_HAStart': False, 'step16_Seiz': 2, 'step16_SeizOccur': False, 'step17_cautiousUncl': True, 'step19_Drugs': False, 'step20_ActNormal': True}, 'extract_features': {'HEMA_umbrella': False, 'SFxPalp_umbrella': False, 'SFxBas_umbrella': False, 'Clav_umbrella': False, 'NeuroD_umbrella': False, 'Vomit_umbrella': False, 'HA_umbrella': False, 'Seiz_umbrella': False, 'LOC_umbrella': False, 'remove_constVal': True}}\n"
     ]
    }
   ],
   "source": [
    "df_train_1, df_tune_1, df_test_1 = Dataset().get_data()"
   ]
  },
  {
   "cell_type": "markdown",
   "id": "77f5bb82",
   "metadata": {},
   "source": [
    "## Loading the Data - Default Preprocess JCs, But No Flattening Umbrella"
   ]
  },
  {
   "cell_type": "code",
   "execution_count": null,
   "id": "f4f4afdd",
   "metadata": {},
   "outputs": [],
   "source": [
    "# load judgement calls dictionary\n",
    "judgement_calls = Dataset().get_judgement_calls_dictionary()"
   ]
  },
  {
   "cell_type": "code",
   "execution_count": 4,
   "id": "06a40480",
   "metadata": {},
   "outputs": [],
   "source": [
    "# get the default judgement calls for preprocessing + no flattening of umbrella variables\n",
    "\n",
    "judgement_calls2 = {}\n",
    "\n",
    "judgement_calls2['clean_data'] = {}\n",
    "judgement_calls2['preprocess_data'] = {'step1_injMech': False,\n",
    "  'step5_missSubGCS': True,\n",
    "  'step5_fake15GCS': True,\n",
    "  'step5_fake14GCS': True,\n",
    "  'step8_missingOSI': True,\n",
    "  'step9_HEMA': 3,\n",
    "  'step10_cautiousUncl': True,\n",
    "  'step14_vomitDtls': False,\n",
    "  'step15_HA': 2,\n",
    "  'step15_HAStart': False,\n",
    "  'step16_Seiz': 2,\n",
    "  'step16_SeizOccur': False,\n",
    "  'step17_cautiousUncl': True,\n",
    "  'step19_Drugs': False,\n",
    "  'step20_ActNormal': True}\n",
    "\n",
    "judgement_calls2['extract_features'] = {'HEMA_umbrella': True,\n",
    "  'SFxPalp_umbrella': True,\n",
    "  'SFxBas_umbrella': True,\n",
    "  'Clav_umbrella': True,\n",
    "  'NeuroD_umbrella': True,\n",
    "  'Vomit_umbrella': True,\n",
    "  'HA_umbrella': True,\n",
    "  'Seiz_umbrella': True,\n",
    "  'LOC_umbrella': True,\n",
    "  'remove_constVal': True}\n",
    "        "
   ]
  },
  {
   "cell_type": "code",
   "execution_count": null,
   "id": "d7e7d307",
   "metadata": {},
   "outputs": [],
   "source": [
    "judgement_calls2 = {'step1_injMech': False,\n",
    "  'step5_missSubGCS': True,\n",
    "  'step5_fake15GCS': True,\n",
    "  'step5_fake14GCS': True,\n",
    "  'step8_missingOSI': True,\n",
    "  'step9_HEMA': 3,\n",
    "  'step10_cautiousUncl': True,\n",
    "  'step14_vomitDtls': False,\n",
    "  'step15_HA': 2,\n",
    "  'step15_HAStart': False,\n",
    "  'step16_Seiz': 2,\n",
    "  'step16_SeizOccur': False,\n",
    "  'step17_cautiousUncl': True,\n",
    "  'step19_Drugs': False,\n",
    "  'step20_ActNormal': True,\n",
    "  'HEMA_umbrella': True,\n",
    "  'SFxPalp_umbrella': True,\n",
    "  'SFxBas_umbrella': True,\n",
    "  'Clav_umbrella': True,\n",
    "  'NeuroD_umbrella': True,\n",
    "  'Vomit_umbrella': True,\n",
    "  'HA_umbrella': True,\n",
    "  'Seiz_umbrella': True,\n",
    "  'LOC_umbrella': True,\n",
    "  'remove_constVal': True}"
   ]
  },
  {
   "cell_type": "code",
   "execution_count": 5,
   "id": "b65987e4",
   "metadata": {},
   "outputs": [
    {
     "name": "stdout",
     "output_type": "stream",
     "text": [
      "kwargs {'clean_data': {}, 'preprocess_data': {'step1_injMech': False, 'step5_missSubGCS': True, 'step5_fake15GCS': True, 'step5_fake14GCS': True, 'step8_missingOSI': True, 'step9_HEMA': 3, 'step10_cautiousUncl': True, 'step14_vomitDtls': False, 'step15_HA': 2, 'step15_HAStart': False, 'step16_Seiz': 2, 'step16_SeizOccur': False, 'step17_cautiousUncl': True, 'step19_Drugs': False, 'step20_ActNormal': True}, 'extract_features': {'HEMA_umbrella': False, 'SFxPalp_umbrella': False, 'SFxBas_umbrella': False, 'Clav_umbrella': False, 'NeuroD_umbrella': False, 'Vomit_umbrella': False, 'HA_umbrella': False, 'Seiz_umbrella': False, 'LOC_umbrella': False, 'remove_constVal': True}}\n"
     ]
    }
   ],
   "source": [
    "# load the data with these new judgement calls\n",
    "df_train_2, df_tune_2, df_test_2 = Dataset().get_data(**judgement_calls2)"
   ]
  },
  {
   "cell_type": "code",
   "execution_count": 7,
   "id": "1013c57b",
   "metadata": {},
   "outputs": [
    {
     "data": {
      "text/plain": [
       "['LOCSeparate',\n",
       " 'Seiz',\n",
       " 'ActNorm',\n",
       " 'Vomit',\n",
       " 'GCSEye',\n",
       " 'GCSVerbal',\n",
       " 'GCSMotor',\n",
       " 'GCSTotal',\n",
       " 'AMS',\n",
       " 'SFxPalp',\n",
       " 'FontBulg',\n",
       " 'SFxBas',\n",
       " 'Hema',\n",
       " 'Clav',\n",
       " 'NeuroD',\n",
       " 'OSI',\n",
       " 'AgeinYears',\n",
       " 'Gender',\n",
       " 'Race',\n",
       " 'outcome',\n",
       " 'High_impact_InjSev_1',\n",
       " 'High_impact_InjSev_2',\n",
       " 'High_impact_InjSev_3',\n",
       " 'Amnesia_verb_0',\n",
       " 'Amnesia_verb_1',\n",
       " 'Amnesia_verb_91',\n",
       " 'LocLen_1',\n",
       " 'LocLen_2',\n",
       " 'LocLen_3',\n",
       " 'LocLen_4',\n",
       " 'LocLen_92',\n",
       " 'SeizLen_1',\n",
       " 'SeizLen_2',\n",
       " 'SeizLen_3',\n",
       " 'SeizLen_4',\n",
       " 'SeizLen_92',\n",
       " 'HA_verb_0',\n",
       " 'HA_verb_1',\n",
       " 'HA_verb_91',\n",
       " 'HASeverity_1',\n",
       " 'HASeverity_2',\n",
       " 'HASeverity_3',\n",
       " 'HASeverity_92',\n",
       " 'AMSAgitated_0',\n",
       " 'AMSAgitated_1',\n",
       " 'AMSAgitated_92',\n",
       " 'AMSSleep_0',\n",
       " 'AMSSleep_1',\n",
       " 'AMSSleep_92',\n",
       " 'AMSSlow_0',\n",
       " 'AMSSlow_1',\n",
       " 'AMSSlow_92',\n",
       " 'AMSRepeat_0',\n",
       " 'AMSRepeat_1',\n",
       " 'AMSRepeat_92',\n",
       " 'AMSOth_0',\n",
       " 'AMSOth_1',\n",
       " 'AMSOth_92',\n",
       " 'SFxPalpDepress_0',\n",
       " 'SFxPalpDepress_1',\n",
       " 'SFxPalpDepress_92',\n",
       " 'SFxBasHem_0',\n",
       " 'SFxBasHem_1',\n",
       " 'SFxBasHem_92',\n",
       " 'SFxBasOto_0',\n",
       " 'SFxBasOto_1',\n",
       " 'SFxBasOto_92',\n",
       " 'SFxBasPer_0',\n",
       " 'SFxBasPer_1',\n",
       " 'SFxBasPer_92',\n",
       " 'SFxBasRet_0',\n",
       " 'SFxBasRet_1',\n",
       " 'SFxBasRet_92',\n",
       " 'SFxBasRhi_0',\n",
       " 'SFxBasRhi_1',\n",
       " 'SFxBasRhi_92',\n",
       " 'HemaLoc_1',\n",
       " 'HemaLoc_2',\n",
       " 'HemaLoc_3',\n",
       " 'HemaLoc_92',\n",
       " 'HemaSize_1',\n",
       " 'HemaSize_2',\n",
       " 'HemaSize_3',\n",
       " 'HemaSize_92',\n",
       " 'ClavFace_0',\n",
       " 'ClavFace_1',\n",
       " 'ClavFace_92',\n",
       " 'ClavNeck_0',\n",
       " 'ClavNeck_1',\n",
       " 'ClavNeck_92',\n",
       " 'ClavFro_0',\n",
       " 'ClavFro_1',\n",
       " 'ClavFro_92',\n",
       " 'ClavOcc_0',\n",
       " 'ClavOcc_1',\n",
       " 'ClavOcc_92',\n",
       " 'ClavPar_0',\n",
       " 'ClavPar_1',\n",
       " 'ClavPar_92',\n",
       " 'ClavTem_0',\n",
       " 'ClavTem_1',\n",
       " 'ClavTem_92',\n",
       " 'NeuroDMotor_0',\n",
       " 'NeuroDMotor_1',\n",
       " 'NeuroDMotor_92',\n",
       " 'NeuroDSensory_0',\n",
       " 'NeuroDSensory_1',\n",
       " 'NeuroDSensory_92',\n",
       " 'NeuroDCranial_0',\n",
       " 'NeuroDCranial_1',\n",
       " 'NeuroDCranial_92',\n",
       " 'NeuroDReflex_0',\n",
       " 'NeuroDReflex_1',\n",
       " 'NeuroDReflex_92',\n",
       " 'NeuroDOth_0',\n",
       " 'NeuroDOth_1',\n",
       " 'NeuroDOth_92',\n",
       " 'OSIExtremity_0',\n",
       " 'OSIExtremity_1',\n",
       " 'OSIExtremity_92',\n",
       " 'OSICut_0',\n",
       " 'OSICut_1',\n",
       " 'OSICut_92',\n",
       " 'OSICspine_0',\n",
       " 'OSICspine_1',\n",
       " 'OSICspine_92',\n",
       " 'OSIFlank_0',\n",
       " 'OSIFlank_1',\n",
       " 'OSIFlank_92',\n",
       " 'OSIAbdomen_0',\n",
       " 'OSIAbdomen_1',\n",
       " 'OSIAbdomen_92',\n",
       " 'OSIPelvis_0',\n",
       " 'OSIPelvis_1',\n",
       " 'OSIPelvis_92',\n",
       " 'OSIOth_0',\n",
       " 'OSIOth_1',\n",
       " 'OSIOth_92']"
      ]
     },
     "execution_count": 7,
     "metadata": {},
     "output_type": "execute_result"
    }
   ],
   "source": [
    "list(df_train_2.keys())"
   ]
  },
  {
   "cell_type": "code",
   "execution_count": 13,
   "id": "0d089592",
   "metadata": {},
   "outputs": [
    {
     "ename": "KeyError",
     "evalue": "'HospHeadPosCT'",
     "output_type": "error",
     "traceback": [
      "\u001b[0;31m---------------------------------------------------------------------------\u001b[0m",
      "\u001b[0;31mKeyError\u001b[0m                                  Traceback (most recent call last)",
      "\u001b[0;32m/opt/anaconda3/lib/python3.8/site-packages/pandas/core/indexes/base.py\u001b[0m in \u001b[0;36mget_loc\u001b[0;34m(self, key, method, tolerance)\u001b[0m\n\u001b[1;32m   3079\u001b[0m             \u001b[0;32mtry\u001b[0m\u001b[0;34m:\u001b[0m\u001b[0;34m\u001b[0m\u001b[0;34m\u001b[0m\u001b[0m\n\u001b[0;32m-> 3080\u001b[0;31m                 \u001b[0;32mreturn\u001b[0m \u001b[0mself\u001b[0m\u001b[0;34m.\u001b[0m\u001b[0m_engine\u001b[0m\u001b[0;34m.\u001b[0m\u001b[0mget_loc\u001b[0m\u001b[0;34m(\u001b[0m\u001b[0mcasted_key\u001b[0m\u001b[0;34m)\u001b[0m\u001b[0;34m\u001b[0m\u001b[0;34m\u001b[0m\u001b[0m\n\u001b[0m\u001b[1;32m   3081\u001b[0m             \u001b[0;32mexcept\u001b[0m \u001b[0mKeyError\u001b[0m \u001b[0;32mas\u001b[0m \u001b[0merr\u001b[0m\u001b[0;34m:\u001b[0m\u001b[0;34m\u001b[0m\u001b[0;34m\u001b[0m\u001b[0m\n",
      "\u001b[0;32mpandas/_libs/index.pyx\u001b[0m in \u001b[0;36mpandas._libs.index.IndexEngine.get_loc\u001b[0;34m()\u001b[0m\n",
      "\u001b[0;32mpandas/_libs/index.pyx\u001b[0m in \u001b[0;36mpandas._libs.index.IndexEngine.get_loc\u001b[0;34m()\u001b[0m\n",
      "\u001b[0;32mpandas/_libs/hashtable_class_helper.pxi\u001b[0m in \u001b[0;36mpandas._libs.hashtable.PyObjectHashTable.get_item\u001b[0;34m()\u001b[0m\n",
      "\u001b[0;32mpandas/_libs/hashtable_class_helper.pxi\u001b[0m in \u001b[0;36mpandas._libs.hashtable.PyObjectHashTable.get_item\u001b[0;34m()\u001b[0m\n",
      "\u001b[0;31mKeyError\u001b[0m: 'HospHeadPosCT'",
      "\nThe above exception was the direct cause of the following exception:\n",
      "\u001b[0;31mKeyError\u001b[0m                                  Traceback (most recent call last)",
      "\u001b[0;32m<ipython-input-13-f327d1676e12>\u001b[0m in \u001b[0;36m<module>\u001b[0;34m\u001b[0m\n\u001b[0;32m----> 1\u001b[0;31m \u001b[0mdf_train_2\u001b[0m\u001b[0;34m[\u001b[0m\u001b[0;34m'HospHeadPosCT'\u001b[0m\u001b[0;34m]\u001b[0m\u001b[0;34m.\u001b[0m\u001b[0munique\u001b[0m\u001b[0;34m(\u001b[0m\u001b[0;34m)\u001b[0m\u001b[0;34m\u001b[0m\u001b[0;34m\u001b[0m\u001b[0m\n\u001b[0m",
      "\u001b[0;32m/opt/anaconda3/lib/python3.8/site-packages/pandas/core/frame.py\u001b[0m in \u001b[0;36m__getitem__\u001b[0;34m(self, key)\u001b[0m\n\u001b[1;32m   3022\u001b[0m             \u001b[0;32mif\u001b[0m \u001b[0mself\u001b[0m\u001b[0;34m.\u001b[0m\u001b[0mcolumns\u001b[0m\u001b[0;34m.\u001b[0m\u001b[0mnlevels\u001b[0m \u001b[0;34m>\u001b[0m \u001b[0;36m1\u001b[0m\u001b[0;34m:\u001b[0m\u001b[0;34m\u001b[0m\u001b[0;34m\u001b[0m\u001b[0m\n\u001b[1;32m   3023\u001b[0m                 \u001b[0;32mreturn\u001b[0m \u001b[0mself\u001b[0m\u001b[0;34m.\u001b[0m\u001b[0m_getitem_multilevel\u001b[0m\u001b[0;34m(\u001b[0m\u001b[0mkey\u001b[0m\u001b[0;34m)\u001b[0m\u001b[0;34m\u001b[0m\u001b[0;34m\u001b[0m\u001b[0m\n\u001b[0;32m-> 3024\u001b[0;31m             \u001b[0mindexer\u001b[0m \u001b[0;34m=\u001b[0m \u001b[0mself\u001b[0m\u001b[0;34m.\u001b[0m\u001b[0mcolumns\u001b[0m\u001b[0;34m.\u001b[0m\u001b[0mget_loc\u001b[0m\u001b[0;34m(\u001b[0m\u001b[0mkey\u001b[0m\u001b[0;34m)\u001b[0m\u001b[0;34m\u001b[0m\u001b[0;34m\u001b[0m\u001b[0m\n\u001b[0m\u001b[1;32m   3025\u001b[0m             \u001b[0;32mif\u001b[0m \u001b[0mis_integer\u001b[0m\u001b[0;34m(\u001b[0m\u001b[0mindexer\u001b[0m\u001b[0;34m)\u001b[0m\u001b[0;34m:\u001b[0m\u001b[0;34m\u001b[0m\u001b[0;34m\u001b[0m\u001b[0m\n\u001b[1;32m   3026\u001b[0m                 \u001b[0mindexer\u001b[0m \u001b[0;34m=\u001b[0m \u001b[0;34m[\u001b[0m\u001b[0mindexer\u001b[0m\u001b[0;34m]\u001b[0m\u001b[0;34m\u001b[0m\u001b[0;34m\u001b[0m\u001b[0m\n",
      "\u001b[0;32m/opt/anaconda3/lib/python3.8/site-packages/pandas/core/indexes/base.py\u001b[0m in \u001b[0;36mget_loc\u001b[0;34m(self, key, method, tolerance)\u001b[0m\n\u001b[1;32m   3080\u001b[0m                 \u001b[0;32mreturn\u001b[0m \u001b[0mself\u001b[0m\u001b[0;34m.\u001b[0m\u001b[0m_engine\u001b[0m\u001b[0;34m.\u001b[0m\u001b[0mget_loc\u001b[0m\u001b[0;34m(\u001b[0m\u001b[0mcasted_key\u001b[0m\u001b[0;34m)\u001b[0m\u001b[0;34m\u001b[0m\u001b[0;34m\u001b[0m\u001b[0m\n\u001b[1;32m   3081\u001b[0m             \u001b[0;32mexcept\u001b[0m \u001b[0mKeyError\u001b[0m \u001b[0;32mas\u001b[0m \u001b[0merr\u001b[0m\u001b[0;34m:\u001b[0m\u001b[0;34m\u001b[0m\u001b[0;34m\u001b[0m\u001b[0m\n\u001b[0;32m-> 3082\u001b[0;31m                 \u001b[0;32mraise\u001b[0m \u001b[0mKeyError\u001b[0m\u001b[0;34m(\u001b[0m\u001b[0mkey\u001b[0m\u001b[0;34m)\u001b[0m \u001b[0;32mfrom\u001b[0m \u001b[0merr\u001b[0m\u001b[0;34m\u001b[0m\u001b[0;34m\u001b[0m\u001b[0m\n\u001b[0m\u001b[1;32m   3083\u001b[0m \u001b[0;34m\u001b[0m\u001b[0m\n\u001b[1;32m   3084\u001b[0m         \u001b[0;32mif\u001b[0m \u001b[0mtolerance\u001b[0m \u001b[0;32mis\u001b[0m \u001b[0;32mnot\u001b[0m \u001b[0;32mNone\u001b[0m\u001b[0;34m:\u001b[0m\u001b[0;34m\u001b[0m\u001b[0;34m\u001b[0m\u001b[0m\n",
      "\u001b[0;31mKeyError\u001b[0m: 'HospHeadPosCT'"
     ]
    }
   ],
   "source": [
    "df_train_2['HospHeadPosCT'].unique()"
   ]
  },
  {
   "cell_type": "markdown",
   "id": "4b7b14b4",
   "metadata": {},
   "source": [
    "-AMS missing from the extract features (should be binarized in a similar fashion I feel), also missing from the preprocessing"
   ]
  }
 ],
 "metadata": {
  "kernelspec": {
   "display_name": "Python 3",
   "language": "python",
   "name": "python3"
  },
  "language_info": {
   "codemirror_mode": {
    "name": "ipython",
    "version": 3
   },
   "file_extension": ".py",
   "mimetype": "text/x-python",
   "name": "python",
   "nbconvert_exporter": "python",
   "pygments_lexer": "ipython3",
   "version": "3.8.2"
  }
 },
 "nbformat": 4,
 "nbformat_minor": 5
}
