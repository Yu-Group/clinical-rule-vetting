{
 "cells": [
  {
   "cell_type": "markdown",
   "id": "f8e90539",
   "metadata": {},
   "source": [
    "# Preamble"
   ]
  },
  {
   "cell_type": "code",
   "execution_count": 1,
   "id": "a1acce3f",
   "metadata": {},
   "outputs": [
    {
     "name": "stdout",
     "output_type": "stream",
     "text": [
      "/home/andrej/myStuff/berkeley/STAT215A/assignments/final\n"
     ]
    },
    {
     "data": {
      "text/plain": [
       "'/home/andrej/myStuff/berkeley/STAT215A/assignments/final'"
      ]
     },
     "execution_count": 1,
     "metadata": {},
     "output_type": "execute_result"
    }
   ],
   "source": [
    "%cd ../../../..\n",
    "%pwd"
   ]
  },
  {
   "cell_type": "code",
   "execution_count": 2,
   "id": "850c45d6",
   "metadata": {},
   "outputs": [],
   "source": [
    "import os\n",
    "import pickle as pkl\n",
    "\n",
    "import matplotlib.pyplot as plt\n",
    "import numpy as np\n",
    "import pandas as pd\n",
    "from sklearn import metrics\n",
    "\n",
    "import imodels\n",
    "\n",
    "from rulevetting.api import validation\n",
    "\n",
    "from rulevetting.projects.tbi_pecarn.dataset import *"
   ]
  },
  {
   "cell_type": "markdown",
   "id": "f1408820",
   "metadata": {},
   "source": [
    "## Loading Data with Default Judgement Calls"
   ]
  },
  {
   "cell_type": "code",
   "execution_count": 4,
   "id": "12dba320",
   "metadata": {},
   "outputs": [],
   "source": [
    "dset = Dataset()"
   ]
  },
  {
   "cell_type": "markdown",
   "id": "4136b8e1",
   "metadata": {},
   "source": [
    "# Basic Model - `rulefit` rule set , minimal data set"
   ]
  },
  {
   "cell_type": "markdown",
   "id": "3c221707",
   "metadata": {},
   "source": [
    "Union / drop whenever possible"
   ]
  },
  {
   "cell_type": "code",
   "execution_count": 4,
   "id": "8da8b577",
   "metadata": {},
   "outputs": [],
   "source": [
    "judg_calls = \\\n",
    "    {\n",
    "        'clean_data'      : {},\n",
    "        'preprocess_data' : {\n",
    "            # Unioning policies:\n",
    "            # 1: union - impute parent from children, drop children\n",
    "            # 2: mixed: keep (some) children & parent, impute parent from the children kept\n",
    "            # 3: no: no imputation, keep all children, drop those with N/A in any child\n",
    "            # Include how the injury occurred\n",
    "            \"step1_injMech\"   : False,\n",
    "            \"step5_missSubGCS\": True,\n",
    "            \"step5_fake15GCS\" : True,\n",
    "            \"step5_fake14GCS\" : False,\n",
    "            # GCS < 15, or other signs of altered mental status\n",
    "            \"step7_AMS\"       : 1,\n",
    "            # Evidence of substantial non-head injuries\n",
    "            \"step8_OSI\"       : 1,\n",
    "            # Raised scalp hematoma or swelling?\n",
    "            \"step9_HEMA\"      : 1,\n",
    "            # Palpable skull fracture?\n",
    "            \"step10_SFx\"      : 1,\n",
    "            # Signs of basilar skull fracture?\n",
    "            \"step11_SFxBas\"   : 1,\n",
    "            # Evidence of trauma above the clavicles\n",
    "            \"step12_Clav\"     : 1,\n",
    "            # Evidence of neurological deficit, besides altered mental status\n",
    "            \"step13_NeuroD\"   : 1,\n",
    "            # Whether the individual vomited after the injury\n",
    "            \"step14_Vomit\"    : 1,\n",
    "            # Whether there was a headache at the time of evaluation\n",
    "            \"step15_HA\"       : 1,\n",
    "            # only affects 3 above\n",
    "            \"step15_HAStart\"  : False,\n",
    "            # Whether there was a seizure\n",
    "            \"step16_Seiz\"     : 1,\n",
    "            # only affects 3 above\n",
    "            \"step16_SeizOccur\": False,\n",
    "            # History of loss of consciousness\n",
    "            \"step17_LOC\"      : 1,\n",
    "            # Clinical suspicion for alcohol or drug intoxication\n",
    "            \"step19_Drugs\"    : False,\n",
    "            # Whether the parent thinks the child is acting normally\n",
    "            \"step20_ActNormal\": True\n",
    "\n",
    "        },\n",
    "        'extract_features': {\n",
    "            \"HEMA_umbrella\"   : False,\n",
    "            \"SFxPalp_umbrella\": False,\n",
    "            \"SFxBas_umbrella\" : False,\n",
    "            \"AMS_umbrella\"    : False,\n",
    "            \"OSI_umbrella\"    : False,\n",
    "            \"Clav_umbrella\"   : False,\n",
    "            \"NeuroD_umbrella\" : False,\n",
    "            \"Vomit_umbrella\"  : False,\n",
    "            \"HA_umbrella\"     : False,\n",
    "            \"Seiz_umbrella\"   : False,\n",
    "            \"LOC_umbrella\"    : False,\n",
    "            # binarize GCS\n",
    "            \"GCS\"             : False,\n",
    "            # remove columns with const values\n",
    "            \"remove_constVal\" : True\n",
    "        },\n",
    "    }"
   ]
  },
  {
   "cell_type": "code",
   "execution_count": 5,
   "id": "841527e2",
   "metadata": {},
   "outputs": [
    {
     "name": "stdout",
     "output_type": "stream",
     "text": [
      "kwargs {'clean_data': {}, 'preprocess_data': {'step1_injMech': False, 'step5_missSubGCS': True, 'step5_fake15GCS': True, 'step5_fake14GCS': False, 'step7_AMS': 1, 'step8_OSI': 1, 'step9_HEMA': 1, 'step10_SFx': 1, 'step11_SFxBas': 1, 'step12_Clav': 1, 'step13_NeuroD': 1, 'step14_Vomit': 1, 'step15_HA': 1, 'step15_HAStart': False, 'step16_Seiz': 1, 'step16_SeizOccur': False, 'step17_LOC': 1, 'step19_Drugs': False, 'step20_ActNormal': True}, 'extract_features': {'HEMA_umbrella': False, 'SFxPalp_umbrella': False, 'SFxBas_umbrella': False, 'AMS_umbrella': False, 'OSI_umbrella': False, 'Clav_umbrella': False, 'NeuroD_umbrella': False, 'Vomit_umbrella': False, 'HA_umbrella': False, 'Seiz_umbrella': False, 'LOC_umbrella': False, 'GCS': False, 'remove_constVal': True}}\n"
     ]
    }
   ],
   "source": [
    "df_train, df_tune, df_test = dset.get_data(split_age=AgeSplit.NOSPLIT, **judg_calls)"
   ]
  },
  {
   "cell_type": "code",
   "execution_count": 6,
   "id": "7408390e",
   "metadata": {},
   "outputs": [
    {
     "name": "stdout",
     "output_type": "stream",
     "text": [
      "2050 684 684\n"
     ]
    }
   ],
   "source": [
    "print(len(df_train), len(df_tune), len(df_test))"
   ]
  },
  {
   "cell_type": "code",
   "execution_count": 7,
   "id": "533848bf",
   "metadata": {},
   "outputs": [],
   "source": [
    "feature_names = list(df_train)\n",
    "for col in dset.get_meta_keys() + [dset.get_outcome_name()]:\n",
    "    try:\n",
    "        feature_names.remove(col)\n",
    "    except ValueError:\n",
    "        pass"
   ]
  },
  {
   "cell_type": "code",
   "execution_count": 8,
   "id": "6d5578e2",
   "metadata": {},
   "outputs": [
    {
     "data": {
      "text/plain": [
       "['LOCSeparate',\n",
       " 'Seiz',\n",
       " 'ActNorm',\n",
       " 'HA_verb',\n",
       " 'Vomit',\n",
       " 'GCSTotal',\n",
       " 'AMS',\n",
       " 'SFxPalp',\n",
       " 'SFxBas',\n",
       " 'Hema',\n",
       " 'Clav',\n",
       " 'NeuroD',\n",
       " 'OSI',\n",
       " 'AgeinYears',\n",
       " 'High_impact_InjSev_1',\n",
       " 'High_impact_InjSev_2',\n",
       " 'High_impact_InjSev_3',\n",
       " 'Amnesia_verb_0',\n",
       " 'Amnesia_verb_1',\n",
       " 'Amnesia_verb_91']"
      ]
     },
     "execution_count": 8,
     "metadata": {},
     "output_type": "execute_result"
    }
   ],
   "source": [
    "feature_names"
   ]
  },
  {
   "cell_type": "code",
   "execution_count": 9,
   "id": "e9974ba8",
   "metadata": {},
   "outputs": [
    {
     "data": {
      "text/plain": [
       "True"
      ]
     },
     "execution_count": 9,
     "metadata": {},
     "output_type": "execute_result"
    }
   ],
   "source": [
    "any(pd.isna(df_train.loc[:, feature_names]))"
   ]
  },
  {
   "cell_type": "code",
   "execution_count": 10,
   "id": "02511dfe",
   "metadata": {},
   "outputs": [
    {
     "data": {
      "text/plain": [
       "LOCSeparate             0\n",
       "Seiz                    0\n",
       "ActNorm                 0\n",
       "HA_verb                 0\n",
       "Vomit                   0\n",
       "GCSTotal                0\n",
       "AMS                     0\n",
       "SFxPalp                 0\n",
       "SFxBas                  0\n",
       "Hema                    0\n",
       "Clav                    0\n",
       "NeuroD                  0\n",
       "OSI                     0\n",
       "AgeinYears              0\n",
       "High_impact_InjSev_1    0\n",
       "High_impact_InjSev_2    0\n",
       "High_impact_InjSev_3    0\n",
       "Amnesia_verb_0          0\n",
       "Amnesia_verb_1          0\n",
       "Amnesia_verb_91         0\n",
       "dtype: int64"
      ]
     },
     "execution_count": 10,
     "metadata": {},
     "output_type": "execute_result"
    }
   ],
   "source": [
    "np.sum(pd.isna(df_train.loc[:, feature_names]))"
   ]
  },
  {
   "cell_type": "code",
   "execution_count": 20,
   "id": "00273a68",
   "metadata": {},
   "outputs": [
    {
     "data": {
      "text/plain": [
       "RuleFitClassifier(include_linear=False, max_rules=10)"
      ]
     },
     "execution_count": 20,
     "metadata": {},
     "output_type": "execute_result"
    }
   ],
   "source": [
    "rulefit = imodels.RuleFitClassifier(max_rules=10, include_linear=False)\n",
    "rulefit.fit(df_train.loc[:, feature_names], df_train.outcome, feature_names=feature_names)"
   ]
  },
  {
   "cell_type": "code",
   "execution_count": 11,
   "id": "fb018896",
   "metadata": {},
   "outputs": [],
   "source": [
    "def predict_and_save(model, model_name, X_train, X_tune, y_train, y_tune):\n",
    "    '''Plots cv and returns cv, saves all stats\n",
    "    '''\n",
    "    \n",
    "    results = {'model': model}\n",
    "    for x, y, suffix in zip([X_train, X_tune],\n",
    "                            [y_train, y_tune],\n",
    "                            ['_train', '_tune']):\n",
    "        stats, threshes = validation.all_stats_curve(y, model.predict_proba(x)[:, 1],\n",
    "                                                     plot=suffix == '_tune')\n",
    "        plt.xlim(0, 1)\n",
    "        plt.ylim(0, 1)\n",
    "        \n",
    "        for stat in stats.keys():\n",
    "            results[stat + suffix] = stats[stat]\n",
    "        results['threshes' + suffix] = threshes\n",
    "\n",
    "    return stats, threshes"
   ]
  },
  {
   "cell_type": "code",
   "execution_count": 21,
   "id": "01b161ae",
   "metadata": {},
   "outputs": [
    {
     "name": "stderr",
     "output_type": "stream",
     "text": [
      "100%|██████████| 79/79 [00:00<00:00, 1260.66it/s]\n",
      "100%|██████████| 50/50 [00:00<00:00, 1762.99it/s]\n"
     ]
    },
    {
     "data": {
      "image/png": "[encoded data removed]",
      "text/plain": [
       "<Figure size 432x288 with 1 Axes>"
      ]
     },
     "metadata": {
      "needs_background": "light"
     },
     "output_type": "display_data"
    }
   ],
   "source": [
    "stats, threshes = predict_and_save(rulefit, 'rulefit',\n",
    "                                   df_train.loc[:, feature_names],\n",
    "                                   df_tune.loc[:, feature_names],\n",
    "                                   df_train.outcome,\n",
    "                                   df_tune.outcome)"
   ]
  },
  {
   "cell_type": "code",
   "execution_count": 14,
   "id": "67217a5f",
   "metadata": {},
   "outputs": [],
   "source": [
    "# TODO: check what the linear is "
   ]
  },
  {
   "cell_type": "code",
   "execution_count": 43,
   "id": "7d19f10d",
   "metadata": {},
   "outputs": [
    {
     "ename": "NameError",
     "evalue": "name 'rulefit' is not defined",
     "output_type": "error",
     "traceback": [
      "\u001b[0;31m---------------------------------------------------------------------------\u001b[0m",
      "\u001b[0;31mNameError\u001b[0m                                 Traceback (most recent call last)",
      "\u001b[0;32m/tmp/ipykernel_10335/694623189.py\u001b[0m in \u001b[0;36m<module>\u001b[0;34m\u001b[0m\n\u001b[0;32m----> 1\u001b[0;31m \u001b[0mrules\u001b[0m \u001b[0;34m=\u001b[0m \u001b[0mrulefit\u001b[0m\u001b[0;34m.\u001b[0m\u001b[0mget_rules\u001b[0m\u001b[0;34m(\u001b[0m\u001b[0;34m)\u001b[0m\u001b[0;34m\u001b[0m\u001b[0;34m\u001b[0m\u001b[0m\n\u001b[0m\u001b[1;32m      2\u001b[0m \u001b[0mrules\u001b[0m\u001b[0;34m.\u001b[0m\u001b[0msort_values\u001b[0m\u001b[0;34m(\u001b[0m\u001b[0;34m\"importance\"\u001b[0m\u001b[0;34m,\u001b[0m \u001b[0mascending\u001b[0m\u001b[0;34m=\u001b[0m\u001b[0;32mFalse\u001b[0m\u001b[0;34m)\u001b[0m\u001b[0;34m.\u001b[0m\u001b[0mrule\u001b[0m\u001b[0;34m\u001b[0m\u001b[0;34m\u001b[0m\u001b[0m\n",
      "\u001b[0;31mNameError\u001b[0m: name 'rulefit' is not defined"
     ]
    }
   ],
   "source": [
    "rules = rulefit.get_rules()\n",
    "rules.sort_values(\"importance\", ascending=False)"
   ]
  },
  {
   "cell_type": "markdown",
   "id": "95a050de",
   "metadata": {},
   "source": [
    "## Splitting by age"
   ]
  },
  {
   "cell_type": "code",
   "execution_count": 16,
   "id": "162a5c2c",
   "metadata": {},
   "outputs": [
    {
     "name": "stdout",
     "output_type": "stream",
     "text": [
      "kwargs {'clean_data': {}, 'preprocess_data': {'step1_injMech': False, 'step5_missSubGCS': True, 'step5_fake15GCS': True, 'step5_fake14GCS': False, 'step7_AMS': 1, 'step8_OSI': 1, 'step9_HEMA': 1, 'step10_SFx': 1, 'step11_SFxBas': 1, 'step12_Clav': 1, 'step13_NeuroD': 1, 'step14_Vomit': 1, 'step15_HA': 1, 'step15_HAStart': False, 'step16_Seiz': 1, 'step16_SeizOccur': False, 'step17_LOC': 1, 'step19_Drugs': False, 'step20_ActNormal': True}, 'extract_features': {'HEMA_umbrella': False, 'SFxPalp_umbrella': False, 'SFxBas_umbrella': False, 'AMS_umbrella': False, 'OSI_umbrella': False, 'Clav_umbrella': False, 'NeuroD_umbrella': False, 'Vomit_umbrella': False, 'HA_umbrella': False, 'Seiz_umbrella': False, 'LOC_umbrella': False, 'GCS': False, 'remove_constVal': True}}\n"
     ]
    },
    {
     "name": "stderr",
     "output_type": "stream",
     "text": [
      "100%|██████████| 72/72 [00:00<00:00, 942.47it/s]\n",
      "100%|██████████| 47/47 [00:00<00:00, 622.37it/s]\n"
     ]
    },
    {
     "data": {
      "image/png": "[encoded data removed]",
      "text/plain": [
       "<Figure size 432x288 with 1 Axes>"
      ]
     },
     "metadata": {
      "needs_background": "light"
     },
     "output_type": "display_data"
    }
   ],
   "source": [
    "df_trainO, df_tuneO, df_testO = dset.get_data(split_age=AgeSplit.OLD ,**judg_calls)\n",
    "feature_namesO = list(df_trainO)\n",
    "for col in dset.get_meta_keys() + [dset.get_outcome_name()]:\n",
    "    try:\n",
    "        feature_namesO.remove(col)\n",
    "    except ValueError:\n",
    "        pass\n",
    "    \n",
    "rulefit = imodels.RuleFitClassifier(max_rules=10)\n",
    "rulefit.fit(df_trainO.loc[:, feature_namesO], df_trainO.outcome, feature_names=feature_namesO)\n",
    "\n",
    "sy, ty = predict_and_save(rulefit, 'rulefit',\n",
    "                                   df_trainO.loc[:, feature_namesO],\n",
    "                                   df_tuneO.loc[:, feature_namesO],\n",
    "                                   df_trainO.outcome,\n",
    "                                   df_tuneO.outcome)"
   ]
  },
  {
   "cell_type": "code",
   "execution_count": 17,
   "id": "2e6e934f",
   "metadata": {},
   "outputs": [
    {
     "data": {
      "text/html": [
       "<div>\n",
       "<style scoped>\n",
       "    .dataframe tbody tr th:only-of-type {\n",
       "        vertical-align: middle;\n",
       "    }\n",
       "\n",
       "    .dataframe tbody tr th {\n",
       "        vertical-align: top;\n",
       "    }\n",
       "\n",
       "    .dataframe thead th {\n",
       "        text-align: right;\n",
       "    }\n",
       "</style>\n",
       "<table border=\"1\" class=\"dataframe\">\n",
       "  <thead>\n",
       "    <tr style=\"text-align: right;\">\n",
       "      <th></th>\n",
       "      <th>rule</th>\n",
       "      <th>type</th>\n",
       "      <th>coef</th>\n",
       "      <th>support</th>\n",
       "      <th>importance</th>\n",
       "    </tr>\n",
       "  </thead>\n",
       "  <tbody>\n",
       "    <tr>\n",
       "      <th>26</th>\n",
       "      <td>Amnesia_verb_91 &lt;= 0.5 and Vomit &lt;= 0.5</td>\n",
       "      <td>rule</td>\n",
       "      <td>-1.122153</td>\n",
       "      <td>0.901639</td>\n",
       "      <td>0.334179</td>\n",
       "    </tr>\n",
       "    <tr>\n",
       "      <th>27</th>\n",
       "      <td>Seiz &lt;= 0.5 and AMS &lt;= 0.5</td>\n",
       "      <td>rule</td>\n",
       "      <td>-0.565448</td>\n",
       "      <td>0.834973</td>\n",
       "      <td>0.209897</td>\n",
       "    </tr>\n",
       "    <tr>\n",
       "      <th>24</th>\n",
       "      <td>Seiz &lt;= 0.5 and GCSTotal &gt; 0.5 and SFxBas &lt;= 0.5</td>\n",
       "      <td>rule</td>\n",
       "      <td>-0.844047</td>\n",
       "      <td>0.944262</td>\n",
       "      <td>0.193637</td>\n",
       "    </tr>\n",
       "    <tr>\n",
       "      <th>23</th>\n",
       "      <td>GCSTotal &gt; 0.5 and SFxBas &lt;= 0.5</td>\n",
       "      <td>rule</td>\n",
       "      <td>-0.712370</td>\n",
       "      <td>0.951913</td>\n",
       "      <td>0.152412</td>\n",
       "    </tr>\n",
       "    <tr>\n",
       "      <th>22</th>\n",
       "      <td>LOCSeparate &lt;= 0.5</td>\n",
       "      <td>rule</td>\n",
       "      <td>-0.216551</td>\n",
       "      <td>0.677049</td>\n",
       "      <td>0.101260</td>\n",
       "    </tr>\n",
       "    <tr>\n",
       "      <th>20</th>\n",
       "      <td>SFxBas &lt;= 0.5 and Hema &lt;= 0.5</td>\n",
       "      <td>rule</td>\n",
       "      <td>-0.210025</td>\n",
       "      <td>0.682514</td>\n",
       "      <td>0.097766</td>\n",
       "    </tr>\n",
       "    <tr>\n",
       "      <th>28</th>\n",
       "      <td>Seiz &lt;= 0.5 and SFxBas &lt;= 0.5</td>\n",
       "      <td>rule</td>\n",
       "      <td>-0.266542</td>\n",
       "      <td>0.983607</td>\n",
       "      <td>0.033846</td>\n",
       "    </tr>\n",
       "    <tr>\n",
       "      <th>21</th>\n",
       "      <td>High_impact_InjSev_3 &lt;= 0.5 and GCSTotal &gt; 0.5</td>\n",
       "      <td>rule</td>\n",
       "      <td>-0.059321</td>\n",
       "      <td>0.706557</td>\n",
       "      <td>0.027011</td>\n",
       "    </tr>\n",
       "    <tr>\n",
       "      <th>25</th>\n",
       "      <td>Vomit &lt;= 0.5</td>\n",
       "      <td>rule</td>\n",
       "      <td>-0.061141</td>\n",
       "      <td>0.932787</td>\n",
       "      <td>0.015309</td>\n",
       "    </tr>\n",
       "    <tr>\n",
       "      <th>29</th>\n",
       "      <td>Seiz &lt;= 0.5 and SFxBas &lt;= 0.5</td>\n",
       "      <td>rule</td>\n",
       "      <td>-0.057845</td>\n",
       "      <td>0.983607</td>\n",
       "      <td>0.007345</td>\n",
       "    </tr>\n",
       "  </tbody>\n",
       "</table>\n",
       "</div>"
      ],
      "text/plain": [
       "                                                rule  type      coef  \\\n",
       "26           Amnesia_verb_91 <= 0.5 and Vomit <= 0.5  rule -1.122153   \n",
       "27                        Seiz <= 0.5 and AMS <= 0.5  rule -0.565448   \n",
       "24  Seiz <= 0.5 and GCSTotal > 0.5 and SFxBas <= 0.5  rule -0.844047   \n",
       "23                  GCSTotal > 0.5 and SFxBas <= 0.5  rule -0.712370   \n",
       "22                                LOCSeparate <= 0.5  rule -0.216551   \n",
       "20                     SFxBas <= 0.5 and Hema <= 0.5  rule -0.210025   \n",
       "28                     Seiz <= 0.5 and SFxBas <= 0.5  rule -0.266542   \n",
       "21    High_impact_InjSev_3 <= 0.5 and GCSTotal > 0.5  rule -0.059321   \n",
       "25                                      Vomit <= 0.5  rule -0.061141   \n",
       "29                     Seiz <= 0.5 and SFxBas <= 0.5  rule -0.057845   \n",
       "\n",
       "     support  importance  \n",
       "26  0.901639    0.334179  \n",
       "27  0.834973    0.209897  \n",
       "24  0.944262    0.193637  \n",
       "23  0.951913    0.152412  \n",
       "22  0.677049    0.101260  \n",
       "20  0.682514    0.097766  \n",
       "28  0.983607    0.033846  \n",
       "21  0.706557    0.027011  \n",
       "25  0.932787    0.015309  \n",
       "29  0.983607    0.007345  "
      ]
     },
     "execution_count": 17,
     "metadata": {},
     "output_type": "execute_result"
    }
   ],
   "source": [
    "rules = rulefit.get_rules()\n",
    "rules = rules[rules['type']!='linear']\n",
    "rules = rules.sort_values('importance', ascending=False) \n",
    "rules"
   ]
  },
  {
   "cell_type": "markdown",
   "id": "92f43fba",
   "metadata": {},
   "source": [
    "**NOTE:** the drop-off above 80% sensitivity in both cases!"
   ]
  },
  {
   "cell_type": "markdown",
   "id": "f1567f29",
   "metadata": {},
   "source": [
    "# Maximal model"
   ]
  },
  {
   "cell_type": "code",
   "execution_count": 5,
   "id": "27bfb0c3",
   "metadata": {},
   "outputs": [],
   "source": [
    "judg_calls_max = \\\n",
    "    {\n",
    "        'clean_data'      : {},\n",
    "        'preprocess_data' : {\n",
    "            # Unioning policies:\n",
    "            # 1: union - impute parent from children, drop children\n",
    "            # 2: mixed: keep (some) children & parent, impute parent from the children kept\n",
    "            # 3: no: no imputation, keep all children, drop those with N/A in any child\n",
    "            # Include how the injury occurred\n",
    "            \"step1_injMech\"   : True,\n",
    "            \"step5_missSubGCS\": True,\n",
    "            \"step5_fake15GCS\" : True,\n",
    "            \"step5_fake14GCS\" : True,\n",
    "            # GCS < 15, or other signs of altered mental status\n",
    "            \"step7_AMS\"       : 3,\n",
    "            # Evidence of substantial non-head injuries\n",
    "            \"step8_OSI\"       : 3,\n",
    "            # Raised scalp hematoma or swelling?\n",
    "            \"step9_HEMA\"      : 3,\n",
    "            # Palpable skull fracture?\n",
    "            \"step10_SFx\"      : 3,\n",
    "            # Signs of basilar skull fracture?\n",
    "            \"step11_SFxBas\"   : 3,\n",
    "            # Evidence of trauma above the clavicles\n",
    "            \"step12_Clav\"     : 3,\n",
    "            # Evidence of neurological deficit, besides altered mental status\n",
    "            \"step13_NeuroD\"   : 3,\n",
    "            # Whether the individual vomited after the injury\n",
    "            \"step14_Vomit\"    : 3,\n",
    "            # Whether there was a headache at the time of evaluation\n",
    "            \"step15_HA\"       : 3,\n",
    "            # only affects 3 above\n",
    "            \"step15_HAStart\"  : True,\n",
    "            # Whether there was a seizure\n",
    "            \"step16_Seiz\"     : 3,\n",
    "            # only affects 3 above\n",
    "            \"step16_SeizOccur\": 3,\n",
    "            # History of loss of consciousness\n",
    "            \"step17_LOC\"      : 3,\n",
    "            # Clinical suspicion for alcohol or drug intoxication\n",
    "            \"step19_Drugs\"    : True,\n",
    "            # Whether the parent thinks the child is acting normally\n",
    "            \"step20_ActNormal\": False\n",
    "\n",
    "        },\n",
    "        'extract_features': {\n",
    "            \"HEMA_umbrella\"   : False,\n",
    "            \"SFxPalp_umbrella\": False,\n",
    "            \"SFxBas_umbrella\" : False,\n",
    "            \"AMS_umbrella\"    : False,\n",
    "            \"OSI_umbrella\"    : False,\n",
    "            \"Clav_umbrella\"   : False,\n",
    "            \"NeuroD_umbrella\" : False,\n",
    "            \"Vomit_umbrella\"  : False,\n",
    "            \"HA_umbrella\"     : False,\n",
    "            \"Seiz_umbrella\"   : False,\n",
    "            \"LOC_umbrella\"    : False,\n",
    "            # binarize GCS\n",
    "            \"GCS\"             : True,\n",
    "            # remove columns with const values\n",
    "            \"remove_constVal\" : True\n",
    "        },\n",
    "    }"
   ]
  },
  {
   "cell_type": "code",
   "execution_count": 6,
   "id": "4bae6858",
   "metadata": {},
   "outputs": [
    {
     "name": "stdout",
     "output_type": "stream",
     "text": [
      "kwargs {'clean_data': {}, 'preprocess_data': {'step1_injMech': True, 'step5_missSubGCS': True, 'step5_fake15GCS': True, 'step5_fake14GCS': True, 'step7_AMS': 3, 'step8_OSI': 3, 'step9_HEMA': 3, 'step10_SFx': 3, 'step11_SFxBas': 3, 'step12_Clav': 3, 'step13_NeuroD': 3, 'step14_Vomit': 3, 'step15_HA': 3, 'step15_HAStart': True, 'step16_Seiz': 3, 'step16_SeizOccur': 3, 'step17_LOC': 3, 'step19_Drugs': True, 'step20_ActNormal': False}, 'extract_features': {'HEMA_umbrella': False, 'SFxPalp_umbrella': False, 'SFxBas_umbrella': False, 'AMS_umbrella': False, 'OSI_umbrella': False, 'Clav_umbrella': False, 'NeuroD_umbrella': False, 'Vomit_umbrella': False, 'HA_umbrella': False, 'Seiz_umbrella': False, 'LOC_umbrella': False, 'GCS': True, 'remove_constVal': True}}\n"
     ]
    },
    {
     "name": "stderr",
     "output_type": "stream",
     "text": [
      "100%|██████████| 1/1 [00:00<00:00,  3.01it/s]\n"
     ]
    }
   ],
   "source": [
    "df_trainM, df_tuneM, df_testM = dset.get_data(split_age=AgeSplit.NOSPLIT, **judg_calls_max)"
   ]
  },
  {
   "cell_type": "code",
   "execution_count": 7,
   "id": "04916806",
   "metadata": {},
   "outputs": [],
   "source": [
    "feature_namesM = list(df_trainM)\n",
    "for col in dset.get_meta_keys() + [dset.get_outcome_name()]:\n",
    "    try:\n",
    "        feature_namesM.remove(col)\n",
    "    except ValueError:\n",
    "        pass"
   ]
  },
  {
   "cell_type": "code",
   "execution_count": 39,
   "id": "8e5a656a",
   "metadata": {},
   "outputs": [
    {
     "data": {
      "text/plain": [
       "RuleFitClassifier(max_rules=20)"
      ]
     },
     "execution_count": 39,
     "metadata": {},
     "output_type": "execute_result"
    }
   ],
   "source": [
    "rulefitM = imodels.RuleFitClassifier(max_rules=20, include_linear=True)\n",
    "rulefitM.fit(df_trainM.loc[:, feature_namesM], df_trainM.outcome, feature_names=feature_namesM)"
   ]
  },
  {
   "cell_type": "code",
   "execution_count": 40,
   "id": "da774d50",
   "metadata": {},
   "outputs": [
    {
     "name": "stderr",
     "output_type": "stream",
     "text": [
      "100%|██████████| 537/537 [00:01<00:00, 402.55it/s]\n",
      "100%|██████████| 319/319 [00:00<00:00, 842.25it/s]\n"
     ]
    },
    {
     "data": {
      "image/png": "[encoded data removed]",
      "text/plain": [
       "<Figure size 432x288 with 1 Axes>"
      ]
     },
     "metadata": {
      "needs_background": "light"
     },
     "output_type": "display_data"
    }
   ],
   "source": [
    "sy, ty = predict_and_save(rulefitM, 'rulefit',\n",
    "                                   df_trainM.loc[:, feature_namesM],\n",
    "                                   df_tuneM.loc[:, feature_namesM],\n",
    "                                   df_trainM.outcome,\n",
    "                                   df_tuneM.outcome)"
   ]
  },
  {
   "cell_type": "code",
   "execution_count": 41,
   "id": "a33825b4",
   "metadata": {},
   "outputs": [
    {
     "data": {
      "text/html": [
       "<div>\n",
       "<style scoped>\n",
       "    .dataframe tbody tr th:only-of-type {\n",
       "        vertical-align: middle;\n",
       "    }\n",
       "\n",
       "    .dataframe tbody tr th {\n",
       "        vertical-align: top;\n",
       "    }\n",
       "\n",
       "    .dataframe thead th {\n",
       "        text-align: right;\n",
       "    }\n",
       "</style>\n",
       "<table border=\"1\" class=\"dataframe\">\n",
       "  <thead>\n",
       "    <tr style=\"text-align: right;\">\n",
       "      <th></th>\n",
       "      <th>rule</th>\n",
       "      <th>type</th>\n",
       "      <th>coef</th>\n",
       "      <th>support</th>\n",
       "      <th>importance</th>\n",
       "    </tr>\n",
       "  </thead>\n",
       "  <tbody>\n",
       "    <tr>\n",
       "      <th>179</th>\n",
       "      <td>ClavNeck_1 &lt;= 0.5 and AMS &lt;= 0.5 and SFxBasHem...</td>\n",
       "      <td>rule</td>\n",
       "      <td>-1.042762</td>\n",
       "      <td>0.890244</td>\n",
       "      <td>0.325952</td>\n",
       "    </tr>\n",
       "    <tr>\n",
       "      <th>174</th>\n",
       "      <td>SFxBasOto_1 &lt;= 0.5 and SFxBasRet_1 &lt;= 0.5 and ...</td>\n",
       "      <td>rule</td>\n",
       "      <td>-0.707749</td>\n",
       "      <td>0.899741</td>\n",
       "      <td>0.212569</td>\n",
       "    </tr>\n",
       "    <tr>\n",
       "      <th>183</th>\n",
       "      <td>SFxBasRhi_92 &gt; 0.5 and SFxPalp_0 &gt; 0.5</td>\n",
       "      <td>rule</td>\n",
       "      <td>-1.095084</td>\n",
       "      <td>0.973397</td>\n",
       "      <td>0.176220</td>\n",
       "    </tr>\n",
       "    <tr>\n",
       "      <th>185</th>\n",
       "      <td>SFxBasPer_92 &gt; 0.5 and SeizOccur_3 &lt;= 0.5 and ...</td>\n",
       "      <td>rule</td>\n",
       "      <td>-0.664031</td>\n",
       "      <td>0.935085</td>\n",
       "      <td>0.163601</td>\n",
       "    </tr>\n",
       "    <tr>\n",
       "      <th>182</th>\n",
       "      <td>HemaSize_3 &lt;= 0.5 and SFxBasHem_1 &lt;= 0.5</td>\n",
       "      <td>rule</td>\n",
       "      <td>-0.444344</td>\n",
       "      <td>0.926937</td>\n",
       "      <td>0.115636</td>\n",
       "    </tr>\n",
       "    <tr>\n",
       "      <th>177</th>\n",
       "      <td>GCSVerbal &gt; 0.5 and VomitLast_2 &lt;= 0.5 and SFx...</td>\n",
       "      <td>rule</td>\n",
       "      <td>-0.341451</td>\n",
       "      <td>0.941938</td>\n",
       "      <td>0.079852</td>\n",
       "    </tr>\n",
       "    <tr>\n",
       "      <th>184</th>\n",
       "      <td>HemaSize_3 &lt;= 0.5 and OSIFlank_1 &lt;= 0.5 and SF...</td>\n",
       "      <td>rule</td>\n",
       "      <td>-0.251478</td>\n",
       "      <td>0.916253</td>\n",
       "      <td>0.069661</td>\n",
       "    </tr>\n",
       "    <tr>\n",
       "      <th>181</th>\n",
       "      <td>SFxBasOto_92 &gt; 0.5 and AMSAgitated_1 &lt;= 0.5 an...</td>\n",
       "      <td>rule</td>\n",
       "      <td>-0.080106</td>\n",
       "      <td>0.903518</td>\n",
       "      <td>0.023651</td>\n",
       "    </tr>\n",
       "    <tr>\n",
       "      <th>175</th>\n",
       "      <td>SeizOccur_2 &lt;= 0.5 and SFxPalpDepress_1 &lt;= 0.5...</td>\n",
       "      <td>rule</td>\n",
       "      <td>-0.181748</td>\n",
       "      <td>0.993039</td>\n",
       "      <td>0.015111</td>\n",
       "    </tr>\n",
       "    <tr>\n",
       "      <th>178</th>\n",
       "      <td>GCSVerbal &gt; 0.5 and LocLen_4 &lt;= 0.5 and GCSMot...</td>\n",
       "      <td>rule</td>\n",
       "      <td>-0.090114</td>\n",
       "      <td>0.978847</td>\n",
       "      <td>0.012967</td>\n",
       "    </tr>\n",
       "    <tr>\n",
       "      <th>180</th>\n",
       "      <td>ClavPar_1 &lt;= 0.5</td>\n",
       "      <td>rule</td>\n",
       "      <td>-0.015528</td>\n",
       "      <td>0.922566</td>\n",
       "      <td>0.004150</td>\n",
       "    </tr>\n",
       "    <tr>\n",
       "      <th>176</th>\n",
       "      <td>AMSOth_0 &lt;= 0.5</td>\n",
       "      <td>rule</td>\n",
       "      <td>-0.006761</td>\n",
       "      <td>0.918789</td>\n",
       "      <td>0.001847</td>\n",
       "    </tr>\n",
       "  </tbody>\n",
       "</table>\n",
       "</div>"
      ],
      "text/plain": [
       "                                                  rule  type      coef  \\\n",
       "179  ClavNeck_1 <= 0.5 and AMS <= 0.5 and SFxBasHem...  rule -1.042762   \n",
       "174  SFxBasOto_1 <= 0.5 and SFxBasRet_1 <= 0.5 and ...  rule -0.707749   \n",
       "183             SFxBasRhi_92 > 0.5 and SFxPalp_0 > 0.5  rule -1.095084   \n",
       "185  SFxBasPer_92 > 0.5 and SeizOccur_3 <= 0.5 and ...  rule -0.664031   \n",
       "182           HemaSize_3 <= 0.5 and SFxBasHem_1 <= 0.5  rule -0.444344   \n",
       "177  GCSVerbal > 0.5 and VomitLast_2 <= 0.5 and SFx...  rule -0.341451   \n",
       "184  HemaSize_3 <= 0.5 and OSIFlank_1 <= 0.5 and SF...  rule -0.251478   \n",
       "181  SFxBasOto_92 > 0.5 and AMSAgitated_1 <= 0.5 an...  rule -0.080106   \n",
       "175  SeizOccur_2 <= 0.5 and SFxPalpDepress_1 <= 0.5...  rule -0.181748   \n",
       "178  GCSVerbal > 0.5 and LocLen_4 <= 0.5 and GCSMot...  rule -0.090114   \n",
       "180                                   ClavPar_1 <= 0.5  rule -0.015528   \n",
       "176                                    AMSOth_0 <= 0.5  rule -0.006761   \n",
       "\n",
       "      support  importance  \n",
       "179  0.890244    0.325952  \n",
       "174  0.899741    0.212569  \n",
       "183  0.973397    0.176220  \n",
       "185  0.935085    0.163601  \n",
       "182  0.926937    0.115636  \n",
       "177  0.941938    0.079852  \n",
       "184  0.916253    0.069661  \n",
       "181  0.903518    0.023651  \n",
       "175  0.993039    0.015111  \n",
       "178  0.978847    0.012967  \n",
       "180  0.922566    0.004150  \n",
       "176  0.918789    0.001847  "
      ]
     },
     "execution_count": 41,
     "metadata": {},
     "output_type": "execute_result"
    }
   ],
   "source": [
    "rulesM = rulefitM.get_rules()\n",
    "rulesM = rulesM[rulesM['type']!='linear']\n",
    "rulesM = rulesM.sort_values('importance', ascending=False) \n",
    "rulesM"
   ]
  },
  {
   "cell_type": "code",
   "execution_count": 42,
   "id": "8cce9501",
   "metadata": {},
   "outputs": [
    {
     "data": {
      "text/html": [
       "<div>\n",
       "<style scoped>\n",
       "    .dataframe tbody tr th:only-of-type {\n",
       "        vertical-align: middle;\n",
       "    }\n",
       "\n",
       "    .dataframe tbody tr th {\n",
       "        vertical-align: top;\n",
       "    }\n",
       "\n",
       "    .dataframe thead th {\n",
       "        text-align: right;\n",
       "    }\n",
       "</style>\n",
       "<table border=\"1\" class=\"dataframe\">\n",
       "  <thead>\n",
       "    <tr style=\"text-align: right;\">\n",
       "      <th></th>\n",
       "      <th>rule</th>\n",
       "      <th>type</th>\n",
       "      <th>coef</th>\n",
       "      <th>support</th>\n",
       "      <th>importance</th>\n",
       "    </tr>\n",
       "  </thead>\n",
       "  <tbody>\n",
       "    <tr>\n",
       "      <th>1</th>\n",
       "      <td>ActNorm</td>\n",
       "      <td>linear</td>\n",
       "      <td>-0.739527</td>\n",
       "      <td>1.0</td>\n",
       "      <td>0.275974</td>\n",
       "    </tr>\n",
       "    <tr>\n",
       "      <th>51</th>\n",
       "      <td>HA_verb_0</td>\n",
       "      <td>linear</td>\n",
       "      <td>-0.153310</td>\n",
       "      <td>1.0</td>\n",
       "      <td>0.074929</td>\n",
       "    </tr>\n",
       "    <tr>\n",
       "      <th>34</th>\n",
       "      <td>LOCSeparate_0</td>\n",
       "      <td>linear</td>\n",
       "      <td>-0.245106</td>\n",
       "      <td>1.0</td>\n",
       "      <td>0.072476</td>\n",
       "    </tr>\n",
       "    <tr>\n",
       "      <th>41</th>\n",
       "      <td>LocLen_92</td>\n",
       "      <td>linear</td>\n",
       "      <td>-0.033378</td>\n",
       "      <td>1.0</td>\n",
       "      <td>0.009870</td>\n",
       "    </tr>\n",
       "  </tbody>\n",
       "</table>\n",
       "</div>"
      ],
      "text/plain": [
       "             rule    type      coef  support  importance\n",
       "1         ActNorm  linear -0.739527      1.0    0.275974\n",
       "51      HA_verb_0  linear -0.153310      1.0    0.074929\n",
       "34  LOCSeparate_0  linear -0.245106      1.0    0.072476\n",
       "41      LocLen_92  linear -0.033378      1.0    0.009870"
      ]
     },
     "execution_count": 42,
     "metadata": {},
     "output_type": "execute_result"
    }
   ],
   "source": [
    "rules = rulefitM.get_rules()\n",
    "rules.loc[(rules.type =='linear') & (rules.coef != 0), :].sort_values(\"importance\",\n",
    "                                                                      ascending = False)"
   ]
  }
 ],
 "metadata": {
  "kernelspec": {
   "display_name": "rule-env",
   "language": "python",
   "name": "rule-env"
  },
  "language_info": {
   "codemirror_mode": {
    "name": "ipython",
    "version": 3
   },
   "file_extension": ".py",
   "mimetype": "text/x-python",
   "name": "python",
   "nbconvert_exporter": "python",
   "pygments_lexer": "ipython3",
   "version": "3.8.10"
  },
  "toc": {
   "base_numbering": 1,
   "nav_menu": {},
   "number_sections": true,
   "sideBar": true,
   "skip_h1_title": false,
   "title_cell": "Table of Contents",
   "title_sidebar": "Contents",
   "toc_cell": false,
   "toc_position": {},
   "toc_section_display": true,
   "toc_window_display": false
  }
 },
 "nbformat": 4,
 "nbformat_minor": 5
}
