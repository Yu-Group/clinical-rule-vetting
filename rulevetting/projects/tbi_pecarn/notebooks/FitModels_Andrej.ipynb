{
 "cells": [
  {
   "cell_type": "markdown",
   "id": "f8e90539",
   "metadata": {},
   "source": [
    "# Preamble"
   ]
  },
  {
   "cell_type": "code",
   "execution_count": 1,
   "id": "a1acce3f",
   "metadata": {},
   "outputs": [
    {
     "name": "stdout",
     "output_type": "stream",
     "text": [
      "/home/andrej/myStuff/berkeley/STAT215A/assignments/final\n"
     ]
    },
    {
     "data": {
      "text/plain": [
       "'/home/andrej/myStuff/berkeley/STAT215A/assignments/final'"
      ]
     },
     "execution_count": 1,
     "metadata": {},
     "output_type": "execute_result"
    }
   ],
   "source": [
    "%cd ../../../..\n",
    "%pwd"
   ]
  },
  {
   "cell_type": "code",
   "execution_count": 2,
   "id": "850c45d6",
   "metadata": {},
   "outputs": [],
   "source": [
    "import os\n",
    "import pickle as pkl\n",
    "\n",
    "import matplotlib.pyplot as plt\n",
    "import numpy as np\n",
    "import pandas as pd\n",
    "from sklearn import metrics\n",
    "\n",
    "import imodels\n",
    "\n",
    "from rulevetting.api import validation\n",
    "\n",
    "from rulevetting.projects.tbi_pecarn.dataset import *"
   ]
  },
  {
   "cell_type": "markdown",
   "id": "f1408820",
   "metadata": {},
   "source": [
    "## Loading Data with Default Judgement Calls"
   ]
  },
  {
   "cell_type": "code",
   "execution_count": 3,
   "id": "12dba320",
   "metadata": {},
   "outputs": [],
   "source": [
    "dset = Dataset()"
   ]
  },
  {
   "cell_type": "markdown",
   "id": "4136b8e1",
   "metadata": {},
   "source": [
    "# Basic Model - `rulefit` rule set , minimal data set"
   ]
  },
  {
   "cell_type": "markdown",
   "id": "3c221707",
   "metadata": {},
   "source": [
    "Union / drop whenever possible"
   ]
  },
  {
   "cell_type": "code",
   "execution_count": 4,
   "id": "8da8b577",
   "metadata": {},
   "outputs": [],
   "source": [
    "judg_calls = \\\n",
    "    {\n",
    "        'clean_data'      : {},\n",
    "        'preprocess_data' : {\n",
    "            # Unioning policies:\n",
    "            # 1: union - impute parent from children, drop children\n",
    "            # 2: mixed: keep (some) children & parent, impute parent from the children kept\n",
    "            # 3: no: no imputation, keep all children, drop those with N/A in any child\n",
    "            # Include how the injury occurred\n",
    "            \"step1_injMech\"   : False,\n",
    "            \"step5_missSubGCS\": True,\n",
    "            \"step5_fake15GCS\" : True,\n",
    "            \"step5_fake14GCS\" : False,\n",
    "            # GCS < 15, or other signs of altered mental status\n",
    "            \"step7_AMS\"       : 1,\n",
    "            # Evidence of substantial non-head injuries\n",
    "            \"step8_OSI\"       : 1,\n",
    "            # Raised scalp hematoma or swelling?\n",
    "            \"step9_HEMA\"      : 1,\n",
    "            # Palpable skull fracture?\n",
    "            \"step10_SFx\"      : 1,\n",
    "            # Signs of basilar skull fracture?\n",
    "            \"step11_SFxBas\"   : 1,\n",
    "            # Evidence of trauma above the clavicles\n",
    "            \"step12_Clav\"     : 1,\n",
    "            # Evidence of neurological deficit, besides altered mental status\n",
    "            \"step13_NeuroD\"   : 1,\n",
    "            # Whether the individual vomited after the injury\n",
    "            \"step14_Vomit\"    : 1,\n",
    "            # Whether there was a headache at the time of evaluation\n",
    "            \"step15_HA\"       : 1,\n",
    "            # only affects 3 above\n",
    "            \"step15_HAStart\"  : False,\n",
    "            # Whether there was a seizure\n",
    "            \"step16_Seiz\"     : 1,\n",
    "            # only affects 3 above\n",
    "            \"step16_SeizOccur\": False,\n",
    "            # History of loss of consciousness\n",
    "            \"step17_LOC\"      : 1,\n",
    "            # Clinical suspicion for alcohol or drug intoxication\n",
    "            \"step19_Drugs\"    : False,\n",
    "            # Whether the parent thinks the child is acting normally\n",
    "            \"step20_ActNormal\": True\n",
    "\n",
    "        },\n",
    "        'extract_features': {\n",
    "            \"HEMA_umbrella\"   : False,\n",
    "            \"SFxPalp_umbrella\": False,\n",
    "            \"SFxBas_umbrella\" : False,\n",
    "            \"AMS_umbrella\"    : False,\n",
    "            \"OSI_umbrella\"    : False,\n",
    "            \"Clav_umbrella\"   : False,\n",
    "            \"NeuroD_umbrella\" : False,\n",
    "            \"Vomit_umbrella\"  : False,\n",
    "            \"HA_umbrella\"     : False,\n",
    "            \"Seiz_umbrella\"   : False,\n",
    "            \"LOC_umbrella\"    : False,\n",
    "            # binarize GCS\n",
    "            \"GCS\"             : False,\n",
    "            # remove columns with const values\n",
    "            \"remove_constVal\" : True\n",
    "        },\n",
    "    }"
   ]
  },
  {
   "cell_type": "code",
   "execution_count": 5,
   "id": "841527e2",
   "metadata": {},
   "outputs": [
    {
     "name": "stdout",
     "output_type": "stream",
     "text": [
      "kwargs {'clean_data': {}, 'preprocess_data': {'step1_injMech': False, 'step5_missSubGCS': True, 'step5_fake15GCS': True, 'step5_fake14GCS': False, 'step7_AMS': 1, 'step8_OSI': 1, 'step9_HEMA': 1, 'step10_SFx': 1, 'step11_SFxBas': 1, 'step12_Clav': 1, 'step13_NeuroD': 1, 'step14_Vomit': 1, 'step15_HA': 1, 'step15_HAStart': False, 'step16_Seiz': 1, 'step16_SeizOccur': False, 'step17_LOC': 1, 'step19_Drugs': False, 'step20_ActNormal': True}, 'extract_features': {'HEMA_umbrella': False, 'SFxPalp_umbrella': False, 'SFxBas_umbrella': False, 'AMS_umbrella': False, 'OSI_umbrella': False, 'Clav_umbrella': False, 'NeuroD_umbrella': False, 'Vomit_umbrella': False, 'HA_umbrella': False, 'Seiz_umbrella': False, 'LOC_umbrella': False, 'GCS': False, 'remove_constVal': True}}\n"
     ]
    }
   ],
   "source": [
    "df_train, df_tune, df_test = dset.get_data(split_age=AgeSplit.NOSPLIT ,**judg_calls)"
   ]
  },
  {
   "cell_type": "code",
   "execution_count": 6,
   "id": "7408390e",
   "metadata": {},
   "outputs": [
    {
     "name": "stdout",
     "output_type": "stream",
     "text": [
      "2050 684 684\n"
     ]
    }
   ],
   "source": [
    "print(len(df_train), len(df_tune), len(df_test))"
   ]
  },
  {
   "cell_type": "code",
   "execution_count": 7,
   "id": "533848bf",
   "metadata": {},
   "outputs": [],
   "source": [
    "feature_names = list(df_train)\n",
    "for col in dset.get_meta_keys() + [dset.get_outcome_name()]:\n",
    "    try:\n",
    "        feature_names.remove(col)\n",
    "    except ValueError:\n",
    "        pass"
   ]
  },
  {
   "cell_type": "code",
   "execution_count": 8,
   "id": "6d5578e2",
   "metadata": {},
   "outputs": [
    {
     "data": {
      "text/plain": [
       "['LOCSeparate',\n",
       " 'Seiz',\n",
       " 'ActNorm',\n",
       " 'HA_verb',\n",
       " 'Vomit',\n",
       " 'GCSTotal',\n",
       " 'AMS',\n",
       " 'SFxPalp',\n",
       " 'SFxBas',\n",
       " 'Hema',\n",
       " 'Clav',\n",
       " 'NeuroD',\n",
       " 'OSI',\n",
       " 'AgeinYears',\n",
       " 'High_impact_InjSev_1',\n",
       " 'High_impact_InjSev_2',\n",
       " 'High_impact_InjSev_3',\n",
       " 'Amnesia_verb_0',\n",
       " 'Amnesia_verb_1',\n",
       " 'Amnesia_verb_91']"
      ]
     },
     "execution_count": 8,
     "metadata": {},
     "output_type": "execute_result"
    }
   ],
   "source": [
    "feature_names"
   ]
  },
  {
   "cell_type": "code",
   "execution_count": 9,
   "id": "e9974ba8",
   "metadata": {},
   "outputs": [
    {
     "data": {
      "text/plain": [
       "True"
      ]
     },
     "execution_count": 9,
     "metadata": {},
     "output_type": "execute_result"
    }
   ],
   "source": [
    "any(pd.isna(df_train.loc[:, feature_names]))"
   ]
  },
  {
   "cell_type": "code",
   "execution_count": 10,
   "id": "02511dfe",
   "metadata": {},
   "outputs": [
    {
     "data": {
      "text/plain": [
       "LOCSeparate             0\n",
       "Seiz                    0\n",
       "ActNorm                 0\n",
       "HA_verb                 0\n",
       "Vomit                   0\n",
       "GCSTotal                0\n",
       "AMS                     0\n",
       "SFxPalp                 0\n",
       "SFxBas                  0\n",
       "Hema                    0\n",
       "Clav                    0\n",
       "NeuroD                  0\n",
       "OSI                     0\n",
       "AgeinYears              0\n",
       "High_impact_InjSev_1    0\n",
       "High_impact_InjSev_2    0\n",
       "High_impact_InjSev_3    0\n",
       "Amnesia_verb_0          0\n",
       "Amnesia_verb_1          0\n",
       "Amnesia_verb_91         0\n",
       "dtype: int64"
      ]
     },
     "execution_count": 10,
     "metadata": {},
     "output_type": "execute_result"
    }
   ],
   "source": [
    "np.sum(pd.isna(df_train.loc[:, feature_names]))"
   ]
  },
  {
   "cell_type": "code",
   "execution_count": 23,
   "id": "00273a68",
   "metadata": {},
   "outputs": [
    {
     "data": {
      "text/plain": [
       "RuleFitClassifier(max_rules=10)"
      ]
     },
     "execution_count": 23,
     "metadata": {},
     "output_type": "execute_result"
    }
   ],
   "source": [
    "rulefit = imodels.RuleFitClassifier(max_rules=10)\n",
    "rulefit.fit(df_train.loc[:, feature_names], df_train.outcome, feature_names=feature_names)"
   ]
  },
  {
   "cell_type": "code",
   "execution_count": 12,
   "id": "fb018896",
   "metadata": {},
   "outputs": [],
   "source": [
    "def predict_and_save(model, model_name, X_train, X_tune, y_train, y_tune):\n",
    "    '''Plots cv and returns cv, saves all stats\n",
    "    '''\n",
    "    \n",
    "    results = {'model': model}\n",
    "    for x, y, suffix in zip([X_train, X_tune],\n",
    "                            [y_train, y_tune],\n",
    "                            ['_train', '_tune']):\n",
    "        stats, threshes = validation.all_stats_curve(y, model.predict_proba(x)[:, 1],\n",
    "                                                     plot=suffix == '_tune')\n",
    "        for stat in stats.keys():\n",
    "            results[stat + suffix] = stats[stat]\n",
    "        results['threshes' + suffix] = threshes\n",
    "\n",
    "    return stats, threshes"
   ]
  },
  {
   "cell_type": "code",
   "execution_count": 24,
   "id": "01b161ae",
   "metadata": {},
   "outputs": [
    {
     "name": "stderr",
     "output_type": "stream",
     "text": [
      "100%|██████████| 5/5 [00:00<00:00, 454.73it/s]\n",
      "100%|██████████| 6/6 [00:00<00:00, 911.81it/s]\n"
     ]
    },
    {
     "data": {
      "image/png": "[encoded data removed]",
      "text/plain": [
       "<Figure size 432x288 with 1 Axes>"
      ]
     },
     "metadata": {
      "needs_background": "light"
     },
     "output_type": "display_data"
    }
   ],
   "source": [
    "stats, threshes = predict_and_save(rulefit, 'rulefit',\n",
    "                                   df_train.loc[:, feature_names],\n",
    "                                   df_tune.loc[:, feature_names],\n",
    "                                   df_train.outcome,\n",
    "                                   df_tune.outcome)"
   ]
  },
  {
   "cell_type": "code",
   "execution_count": 14,
   "id": "67217a5f",
   "metadata": {},
   "outputs": [],
   "source": [
    "# TODO: check what the linear is "
   ]
  },
  {
   "cell_type": "code",
   "execution_count": 25,
   "id": "781a520f",
   "metadata": {},
   "outputs": [
    {
     "data": {
      "text/html": [
       "<div>\n",
       "<style scoped>\n",
       "    .dataframe tbody tr th:only-of-type {\n",
       "        vertical-align: middle;\n",
       "    }\n",
       "\n",
       "    .dataframe tbody tr th {\n",
       "        vertical-align: top;\n",
       "    }\n",
       "\n",
       "    .dataframe thead th {\n",
       "        text-align: right;\n",
       "    }\n",
       "</style>\n",
       "<table border=\"1\" class=\"dataframe\">\n",
       "  <thead>\n",
       "    <tr style=\"text-align: right;\">\n",
       "      <th></th>\n",
       "      <th>rule</th>\n",
       "      <th>type</th>\n",
       "      <th>coef</th>\n",
       "      <th>support</th>\n",
       "      <th>importance</th>\n",
       "    </tr>\n",
       "  </thead>\n",
       "  <tbody>\n",
       "    <tr>\n",
       "      <th>24</th>\n",
       "      <td>SFxBas &lt;= 0.5</td>\n",
       "      <td>rule</td>\n",
       "      <td>-1.065089</td>\n",
       "      <td>0.990244</td>\n",
       "      <td>0.104688</td>\n",
       "    </tr>\n",
       "    <tr>\n",
       "      <th>20</th>\n",
       "      <td>Seiz &lt;= 0.5 and GCSTotal &gt; 0.5</td>\n",
       "      <td>rule</td>\n",
       "      <td>-0.205447</td>\n",
       "      <td>0.948780</td>\n",
       "      <td>0.045290</td>\n",
       "    </tr>\n",
       "    <tr>\n",
       "      <th>21</th>\n",
       "      <td>GCSTotal &gt; 0.5</td>\n",
       "      <td>rule</td>\n",
       "      <td>-0.201122</td>\n",
       "      <td>0.956585</td>\n",
       "      <td>0.040986</td>\n",
       "    </tr>\n",
       "    <tr>\n",
       "      <th>22</th>\n",
       "      <td>Seiz &lt;= 0.5</td>\n",
       "      <td>rule</td>\n",
       "      <td>-0.034324</td>\n",
       "      <td>0.992195</td>\n",
       "      <td>0.003021</td>\n",
       "    </tr>\n",
       "    <tr>\n",
       "      <th>23</th>\n",
       "      <td>Seiz &lt;= 0.5 and GCSTotal &gt; 0.5</td>\n",
       "      <td>rule</td>\n",
       "      <td>-0.012344</td>\n",
       "      <td>0.948780</td>\n",
       "      <td>0.002721</td>\n",
       "    </tr>\n",
       "  </tbody>\n",
       "</table>\n",
       "</div>"
      ],
      "text/plain": [
       "                              rule  type      coef   support  importance\n",
       "24                   SFxBas <= 0.5  rule -1.065089  0.990244    0.104688\n",
       "20  Seiz <= 0.5 and GCSTotal > 0.5  rule -0.205447  0.948780    0.045290\n",
       "21                  GCSTotal > 0.5  rule -0.201122  0.956585    0.040986\n",
       "22                     Seiz <= 0.5  rule -0.034324  0.992195    0.003021\n",
       "23  Seiz <= 0.5 and GCSTotal > 0.5  rule -0.012344  0.948780    0.002721"
      ]
     },
     "execution_count": 25,
     "metadata": {},
     "output_type": "execute_result"
    }
   ],
   "source": [
    "rules = rulefit.get_rules()\n",
    "rules = rules[rules['type']!='linear']\n",
    "rules = rules.sort_values('importance', ascending=False) \n",
    "rules"
   ]
  },
  {
   "cell_type": "markdown",
   "id": "95a050de",
   "metadata": {},
   "source": [
    "## Splitting by age"
   ]
  },
  {
   "cell_type": "code",
   "execution_count": 31,
   "id": "162a5c2c",
   "metadata": {},
   "outputs": [
    {
     "name": "stdout",
     "output_type": "stream",
     "text": [
      "kwargs {'clean_data': {}, 'preprocess_data': {'step1_injMech': False, 'step5_missSubGCS': True, 'step5_fake15GCS': True, 'step5_fake14GCS': False, 'step7_AMS': 1, 'step8_OSI': 1, 'step9_HEMA': 1, 'step10_SFx': 1, 'step11_SFxBas': 1, 'step12_Clav': 1, 'step13_NeuroD': 1, 'step14_Vomit': 1, 'step15_HA': 1, 'step15_HAStart': False, 'step16_Seiz': 1, 'step16_SeizOccur': False, 'step17_LOC': 1, 'step19_Drugs': False, 'step20_ActNormal': True}, 'extract_features': {'HEMA_umbrella': False, 'SFxPalp_umbrella': False, 'SFxBas_umbrella': False, 'AMS_umbrella': False, 'OSI_umbrella': False, 'Clav_umbrella': False, 'NeuroD_umbrella': False, 'Vomit_umbrella': False, 'HA_umbrella': False, 'Seiz_umbrella': False, 'LOC_umbrella': False, 'GCS': False, 'remove_constVal': True}}\n"
     ]
    },
    {
     "name": "stderr",
     "output_type": "stream",
     "text": [
      "100%|██████████| 66/66 [00:00<00:00, 954.06it/s]\n",
      "100%|██████████| 47/47 [00:00<00:00, 1179.99it/s]\n"
     ]
    },
    {
     "data": {
      "image/png": "[encoded data removed]",
      "text/plain": [
       "<Figure size 432x288 with 1 Axes>"
      ]
     },
     "metadata": {
      "needs_background": "light"
     },
     "output_type": "display_data"
    }
   ],
   "source": [
    "df_trainO, df_tuneO, df_testO = dset.get_data(split_age=AgeSplit.OLD ,**judg_calls)\n",
    "feature_namesO = list(df_trainO)\n",
    "for col in dset.get_meta_keys() + [dset.get_outcome_name()]:\n",
    "    try:\n",
    "        feature_namesO.remove(col)\n",
    "    except ValueError:\n",
    "        pass\n",
    "    \n",
    "rulefit = imodels.RuleFitClassifier(max_rules=10)\n",
    "rulefit.fit(df_trainO.loc[:, feature_namesO], df_trainO.outcome, feature_names=feature_namesO)\n",
    "\n",
    "sy, ty = predict_and_save(rulefit, 'rulefit',\n",
    "                                   df_trainO.loc[:, feature_namesO],\n",
    "                                   df_tuneO.loc[:, feature_namesO],\n",
    "                                   df_trainO.outcome,\n",
    "                                   df_tuneO.outcome)"
   ]
  },
  {
   "cell_type": "code",
   "execution_count": 32,
   "id": "2e6e934f",
   "metadata": {},
   "outputs": [
    {
     "data": {
      "text/html": [
       "<div>\n",
       "<style scoped>\n",
       "    .dataframe tbody tr th:only-of-type {\n",
       "        vertical-align: middle;\n",
       "    }\n",
       "\n",
       "    .dataframe tbody tr th {\n",
       "        vertical-align: top;\n",
       "    }\n",
       "\n",
       "    .dataframe thead th {\n",
       "        text-align: right;\n",
       "    }\n",
       "</style>\n",
       "<table border=\"1\" class=\"dataframe\">\n",
       "  <thead>\n",
       "    <tr style=\"text-align: right;\">\n",
       "      <th></th>\n",
       "      <th>rule</th>\n",
       "      <th>type</th>\n",
       "      <th>coef</th>\n",
       "      <th>support</th>\n",
       "      <th>importance</th>\n",
       "    </tr>\n",
       "  </thead>\n",
       "  <tbody>\n",
       "    <tr>\n",
       "      <th>24</th>\n",
       "      <td>Amnesia_verb_91 &lt;= 0.5 and Vomit &lt;= 0.5</td>\n",
       "      <td>rule</td>\n",
       "      <td>-1.087372</td>\n",
       "      <td>0.901639</td>\n",
       "      <td>0.323821</td>\n",
       "    </tr>\n",
       "    <tr>\n",
       "      <th>25</th>\n",
       "      <td>GCSTotal &gt; 0.5 and SFxBas &lt;= 0.5</td>\n",
       "      <td>rule</td>\n",
       "      <td>-1.394140</td>\n",
       "      <td>0.951913</td>\n",
       "      <td>0.298278</td>\n",
       "    </tr>\n",
       "    <tr>\n",
       "      <th>23</th>\n",
       "      <td>Seiz &lt;= 0.5 and AMS &lt;= 0.5</td>\n",
       "      <td>rule</td>\n",
       "      <td>-0.659152</td>\n",
       "      <td>0.834973</td>\n",
       "      <td>0.244681</td>\n",
       "    </tr>\n",
       "    <tr>\n",
       "      <th>22</th>\n",
       "      <td>LOCSeparate &lt;= 0.5</td>\n",
       "      <td>rule</td>\n",
       "      <td>-0.205351</td>\n",
       "      <td>0.677049</td>\n",
       "      <td>0.096023</td>\n",
       "    </tr>\n",
       "    <tr>\n",
       "      <th>27</th>\n",
       "      <td>Seiz &lt;= 0.5 and SFxBas &lt;= 0.5</td>\n",
       "      <td>rule</td>\n",
       "      <td>-0.498512</td>\n",
       "      <td>0.983607</td>\n",
       "      <td>0.063303</td>\n",
       "    </tr>\n",
       "    <tr>\n",
       "      <th>20</th>\n",
       "      <td>SFxBas &lt;= 0.5 and Hema &lt;= 0.5</td>\n",
       "      <td>rule</td>\n",
       "      <td>-0.127922</td>\n",
       "      <td>0.682514</td>\n",
       "      <td>0.059547</td>\n",
       "    </tr>\n",
       "    <tr>\n",
       "      <th>26</th>\n",
       "      <td>High_impact_InjSev_2 &gt; 0.5 and GCSTotal &gt; 0.5</td>\n",
       "      <td>rule</td>\n",
       "      <td>-0.070096</td>\n",
       "      <td>0.654098</td>\n",
       "      <td>0.033342</td>\n",
       "    </tr>\n",
       "    <tr>\n",
       "      <th>21</th>\n",
       "      <td>Vomit &lt;= 0.5 and Hema &lt;= 0.5</td>\n",
       "      <td>rule</td>\n",
       "      <td>-0.055793</td>\n",
       "      <td>0.641530</td>\n",
       "      <td>0.026755</td>\n",
       "    </tr>\n",
       "  </tbody>\n",
       "</table>\n",
       "</div>"
      ],
      "text/plain": [
       "                                             rule  type      coef   support  \\\n",
       "24        Amnesia_verb_91 <= 0.5 and Vomit <= 0.5  rule -1.087372  0.901639   \n",
       "25               GCSTotal > 0.5 and SFxBas <= 0.5  rule -1.394140  0.951913   \n",
       "23                     Seiz <= 0.5 and AMS <= 0.5  rule -0.659152  0.834973   \n",
       "22                             LOCSeparate <= 0.5  rule -0.205351  0.677049   \n",
       "27                  Seiz <= 0.5 and SFxBas <= 0.5  rule -0.498512  0.983607   \n",
       "20                  SFxBas <= 0.5 and Hema <= 0.5  rule -0.127922  0.682514   \n",
       "26  High_impact_InjSev_2 > 0.5 and GCSTotal > 0.5  rule -0.070096  0.654098   \n",
       "21                   Vomit <= 0.5 and Hema <= 0.5  rule -0.055793  0.641530   \n",
       "\n",
       "    importance  \n",
       "24    0.323821  \n",
       "25    0.298278  \n",
       "23    0.244681  \n",
       "22    0.096023  \n",
       "27    0.063303  \n",
       "20    0.059547  \n",
       "26    0.033342  \n",
       "21    0.026755  "
      ]
     },
     "execution_count": 32,
     "metadata": {},
     "output_type": "execute_result"
    }
   ],
   "source": [
    "rules = rulefit.get_rules()\n",
    "rules = rules[rules['type']!='linear']\n",
    "rules = rules.sort_values('importance', ascending=False) \n",
    "rules"
   ]
  }
 ],
 "metadata": {
  "kernelspec": {
   "display_name": "rule-env",
   "language": "python",
   "name": "rule-env"
  },
  "language_info": {
   "codemirror_mode": {
    "name": "ipython",
    "version": 3
   },
   "file_extension": ".py",
   "mimetype": "text/x-python",
   "name": "python",
   "nbconvert_exporter": "python",
   "pygments_lexer": "ipython3",
   "version": "3.8.10"
  },
  "toc": {
   "base_numbering": 1,
   "nav_menu": {},
   "number_sections": true,
   "sideBar": true,
   "skip_h1_title": false,
   "title_cell": "Table of Contents",
   "title_sidebar": "Contents",
   "toc_cell": false,
   "toc_position": {},
   "toc_section_display": true,
   "toc_window_display": false
  }
 },
 "nbformat": 4,
 "nbformat_minor": 5
}
