{
 "cells": [
  {
   "cell_type": "code",
   "execution_count": 1,
   "metadata": {},
   "outputs": [
    {
     "name": "stderr",
     "output_type": "stream",
     "text": [
      "/accounts/grad/wtorous/.local/lib/python3.7/site-packages/pandas/compat/_optional.py:138: UserWarning: Pandas requires version '2.7.0' or newer of 'numexpr' (version '2.6.9' currently installed).\n",
      "  warnings.warn(msg, UserWarning)\n"
     ]
    },
    {
     "name": "stdout",
     "output_type": "stream",
     "text": [
      "/accounts/grad/wtorous/rule-vetting\n"
     ]
    }
   ],
   "source": [
    "%load_ext autoreload\n",
    "%autoreload 2\n",
    "\n",
    "import numpy as np\n",
    "import pandas as pd\n",
    "import matplotlib.pyplot as plt\n",
    "%matplotlib inline\n",
    "import seaborn as sns\n",
    "import sys \n",
    "import os\n",
    "\n",
    "# this line walks up file directory so rule-vetting is cwd\n",
    "# Currently this breaks if chunk is run multiple times\n",
    "os.chdir(os.path.dirname(os.path.dirname(os.path.dirname(os.path.dirname(os.getcwd())))))\n",
    "print(os.getcwd())\n",
    "\n",
    "import rulevetting.api.viz as viz\n",
    "from rulevetting.projects.csi_pecarn.dataset import Dataset\n",
    "from rulevetting.projects.csi_pecarn.tree_functions import *\n",
    "from rulevetting.projects.csi_pecarn.baseline import Baseline\n",
    "from rulevetting.projects.csi_pecarn.model_best import SpecialTree\n",
    "\n",
    "from sklearn import tree\n",
    "from sklearn.inspection import permutation_importance\n",
    "from sklearn.ensemble import RandomForestClassifier\n",
    "from sklearn.metrics import RocCurveDisplay"
   ]
  },
  {
   "cell_type": "code",
   "execution_count": 2,
   "metadata": {},
   "outputs": [],
   "source": [
    "def classify_experiment_results(experiment_df):\n",
    "    # compute confusion matrix entries\n",
    "    TN = experiment_df[ (experiment_df['pred'] == 0) & (experiment_df['csi_injury'] == 0)].shape[0]\n",
    "    TP = experiment_df[ (experiment_df['pred'] == 1) & (experiment_df['csi_injury'] == 1)].shape[0]\n",
    "    FN = experiment_df[ (experiment_df['pred'] == 0) & (experiment_df['csi_injury'] == 1)].shape[0]\n",
    "    FP = experiment_df[ (experiment_df['pred'] == 1) & (experiment_df['csi_injury'] == 0)].shape[0]\n",
    "    sensitivity = TP/(FN+TP)\n",
    "    specificity = TN/(FP+TN)\n",
    "    confusion_data = None\n",
    "            \n",
    "    return (sensitivity, specificity)"
   ]
  },
  {
   "cell_type": "code",
   "execution_count": 3,
   "metadata": {},
   "outputs": [],
   "source": [
    "def get_single_outcomes(df_ran):\n",
    "    \n",
    "    df0 = df_ran[0]\n",
    "    df1 = df_ran[1]\n",
    "    df2 = df_ran[2]\n",
    "    data_train = pd.concat([df0,df1])\n",
    "    data_test = df2\n",
    "    \n",
    "    results_dict = {}\n",
    "\n",
    "    #####\n",
    "    # SpecialTree on training+tuning\n",
    "\n",
    "    pred_train = SpecialTree().predict(data_train)\n",
    "    evaluate = pd.DataFrame(data = {'csi_injury': data_train['csi_injury'], \n",
    "                                    'pred': pred_train})\n",
    "    st_results = classify_experiment_results(evaluate)\n",
    "    \n",
    "    #####\n",
    "    # Baseline on training+tuning\n",
    "\n",
    "    pred_train = Baseline().predict(data_train)\n",
    "    evaluate = pd.DataFrame(data = {'csi_injury': data_train['csi_injury'], \n",
    "                                    'pred': pred_train})\n",
    "    bt_results = classify_experiment_results(evaluate)\n",
    "    #####\n",
    "    # SpecialTree on on unseen testing\n",
    "\n",
    "    pred_test = SpecialTree().predict(data_test)\n",
    "    evaluate = pd.DataFrame(data = {'csi_injury': data_test['csi_injury'], \n",
    "                                    'pred': pred_test})\n",
    "    stt_results = classify_experiment_results(evaluate)\n",
    "    #####\n",
    "    # Baseline on unseen testing\n",
    "\n",
    "    pred_test = Baseline().predict(data_test)\n",
    "    evaluate = pd.DataFrame(data = {'csi_injury': data_test['csi_injury'], \n",
    "                                    'pred': pred_test})\n",
    "    btt_results = classify_experiment_results(evaluate)\n",
    "    \n",
    "    results_tuple = (st_results[0],st_results[1],bt_results[0],bt_results[1],stt_results[0],stt_results[1],btt_results[0],btt_results[1])\n",
    "    print(results_tuple)\n",
    "    return results_tuple"
   ]
  },
  {
   "cell_type": "code",
   "execution_count": 4,
   "metadata": {},
   "outputs": [
    {
     "name": "stderr",
     "output_type": "stream",
     "text": [
      "100%|██████████| 12/12 [00:00<00:00, 66.15it/s]"
     ]
    },
    {
     "name": "stdout",
     "output_type": "stream",
     "text": [
      "read all the csvs...\n",
      " ['analysisvariables.csv', 'clinicalpresentationfield.csv', 'clinicalpresentationoutside.csv', 'clinicalpresentationsite.csv', 'demographics.csv', 'injuryclassification.csv', 'injurymechanism.csv', 'kappa.csv', 'medicalhistory.csv', 'radiologyoutside.csv', 'radiologyreview.csv', 'radiologysite.csv']\n"
     ]
    },
    {
     "name": "stderr",
     "output_type": "stream",
     "text": [
      "\n",
      "/accounts/grad/wtorous/.local/lib/python3.7/site-packages/pandas/core/frame.py:5047: SettingWithCopyWarning: \n",
      "A value is trying to be set on a copy of a slice from a DataFrame\n",
      "\n",
      "See the caveats in the documentation: https://pandas.pydata.org/pandas-docs/stable/user_guide/indexing.html#returning-a-view-versus-a-copy\n",
      "  errors=errors,\n"
     ]
    },
    {
     "name": "stdout",
     "output_type": "stream",
     "text": [
      "119 Raw Covariates Selected\n"
     ]
    },
    {
     "name": "stderr",
     "output_type": "stream",
     "text": [
      "/accounts/grad/wtorous/rule-vetting/rulevetting/projects/csi_pecarn/helper.py:140: SettingWithCopyWarning: \n",
      "A value is trying to be set on a copy of a slice from a DataFrame\n",
      "\n",
      "See the caveats in the documentation: https://pandas.pydata.org/pandas-docs/stable/user_guide/indexing.html#returning-a-view-versus-a-copy\n",
      "  df[base_av_improved][df[base_av+'_binary'].copy()==1] = 0 # condition remains indicated at study site\n",
      "/accounts/grad/wtorous/.local/lib/python3.7/site-packages/pandas/core/frame.py:3641: SettingWithCopyWarning: \n",
      "A value is trying to be set on a copy of a slice from a DataFrame.\n",
      "Try using .loc[row_indexer,col_indexer] = value instead\n",
      "\n",
      "See the caveats in the documentation: https://pandas.pydata.org/pandas-docs/stable/user_guide/indexing.html#returning-a-view-versus-a-copy\n",
      "  self[k1] = value[k2]\n",
      "/accounts/grad/wtorous/rule-vetting/rulevetting/projects/csi_pecarn/dataset.py:383: SettingWithCopyWarning: \n",
      "A value is trying to be set on a copy of a slice from a DataFrame\n",
      "\n",
      "See the caveats in the documentation: https://pandas.pydata.org/pandas-docs/stable/user_guide/indexing.html#returning-a-view-versus-a-copy\n",
      "  .fillna(np.max(df[col][(df['AlteredMentalStatus']==0)]))\n",
      "/accounts/grad/wtorous/rule-vetting/rulevetting/projects/csi_pecarn/dataset.py:390: SettingWithCopyWarning: \n",
      "A value is trying to be set on a copy of a slice from a DataFrame\n",
      "\n",
      "See the caveats in the documentation: https://pandas.pydata.org/pandas-docs/stable/user_guide/indexing.html#returning-a-view-versus-a-copy\n",
      "  .fillna(np.nanmedian(df[col][(df['AlteredMentalStatus']==1)]))\n",
      "/accounts/grad/wtorous/rule-vetting/rulevetting/projects/csi_pecarn/dataset.py:394: SettingWithCopyWarning: \n",
      "A value is trying to be set on a copy of a slice from a DataFrame\n",
      "\n",
      "See the caveats in the documentation: https://pandas.pydata.org/pandas-docs/stable/user_guide/indexing.html#returning-a-view-versus-a-copy\n",
      "  .fillna(np.nanmean(df[col][(df['AlteredMentalStatus']==1)]))\n"
     ]
    },
    {
     "name": "stdout",
     "output_type": "stream",
     "text": [
      "split_data kwargs {'control_types': ['ran']}\n",
      "['ran']\n",
      "split_data kwargs {'control_types': ['ran']}\n",
      "['ran']\n",
      "split_data kwargs {'control_types': ['ran']}\n",
      "['ran']\n",
      "split_data kwargs {'control_types': ['ran']}\n",
      "['ran']\n",
      "split_data kwargs {'control_types': ['ran']}\n",
      "['ran']\n",
      "split_data kwargs {'control_types': ['ran']}\n",
      "['ran']\n",
      "split_data kwargs {'control_types': ['ran']}\n",
      "['ran']\n",
      "split_data kwargs {'control_types': ['ran']}\n",
      "['ran']\n",
      "split_data kwargs {'control_types': ['ran']}\n",
      "['ran']\n",
      "split_data kwargs {'control_types': ['ran']}\n",
      "['ran']\n",
      "split_data kwargs {'control_types': ['ran']}\n",
      "['ran']\n",
      "split_data kwargs {'control_types': ['ran']}\n",
      "['ran']\n",
      "split_data kwargs {'control_types': ['ran']}\n",
      "['ran']\n",
      "split_data kwargs {'control_types': ['ran']}\n",
      "['ran']\n",
      "split_data kwargs {'control_types': ['ran']}\n",
      "['ran']\n",
      "split_data kwargs {'control_types': ['ran']}\n",
      "['ran']\n",
      "split_data kwargs {'control_types': ['ran']}\n",
      "['ran']\n",
      "split_data kwargs {'control_types': ['ran']}\n",
      "['ran']\n",
      "split_data kwargs {'control_types': ['ran']}\n",
      "['ran']\n",
      "split_data kwargs {'control_types': ['ran']}\n",
      "['ran']\n",
      "split_data kwargs {'control_types': ['ran']}\n",
      "['ran']\n",
      "split_data kwargs {'control_types': ['ran']}\n",
      "['ran']\n",
      "split_data kwargs {'control_types': ['ran']}\n",
      "['ran']\n",
      "split_data kwargs {'control_types': ['ran']}\n",
      "['ran']\n",
      "split_data kwargs {'control_types': ['ran']}\n",
      "['ran']\n",
      "split_data kwargs {'control_types': ['ran']}\n",
      "['ran']\n",
      "split_data kwargs {'control_types': ['ran']}\n",
      "['ran']\n",
      "split_data kwargs {'control_types': ['ran']}\n",
      "['ran']\n",
      "split_data kwargs {'control_types': ['ran']}\n",
      "['ran']\n",
      "split_data kwargs {'control_types': ['ran']}\n",
      "['ran']\n",
      "split_data kwargs {'control_types': ['ran']}\n",
      "['ran']\n",
      "split_data kwargs {'control_types': ['ran']}\n",
      "['ran']\n",
      "split_data kwargs {'control_types': ['ran']}\n",
      "['ran']\n",
      "split_data kwargs {'control_types': ['ran']}\n",
      "['ran']\n",
      "split_data kwargs {'control_types': ['ran']}\n",
      "['ran']\n",
      "split_data kwargs {'control_types': ['ran']}\n",
      "['ran']\n",
      "split_data kwargs {'control_types': ['ran']}\n",
      "['ran']\n",
      "split_data kwargs {'control_types': ['ran']}\n",
      "['ran']\n",
      "split_data kwargs {'control_types': ['ran']}\n",
      "['ran']\n",
      "split_data kwargs {'control_types': ['ran']}\n",
      "['ran']\n",
      "split_data kwargs {'control_types': ['ran']}\n",
      "['ran']\n",
      "split_data kwargs {'control_types': ['ran']}\n",
      "['ran']\n",
      "split_data kwargs {'control_types': ['ran']}\n",
      "['ran']\n",
      "split_data kwargs {'control_types': ['ran']}\n",
      "['ran']\n",
      "split_data kwargs {'control_types': ['ran']}\n",
      "['ran']\n",
      "split_data kwargs {'control_types': ['ran']}\n",
      "['ran']\n",
      "split_data kwargs {'control_types': ['ran']}\n",
      "['ran']\n",
      "split_data kwargs {'control_types': ['ran']}\n",
      "['ran']\n",
      "split_data kwargs {'control_types': ['ran']}\n",
      "['ran']\n",
      "split_data kwargs {'control_types': ['ran']}\n",
      "['ran']\n",
      "split_data kwargs {'control_types': ['ran']}\n",
      "['ran']\n",
      "split_data kwargs {'control_types': ['ran']}\n",
      "['ran']\n",
      "split_data kwargs {'control_types': ['ran']}\n",
      "['ran']\n",
      "split_data kwargs {'control_types': ['ran']}\n",
      "['ran']\n",
      "split_data kwargs {'control_types': ['ran']}\n",
      "['ran']\n",
      "split_data kwargs {'control_types': ['ran']}\n",
      "['ran']\n",
      "split_data kwargs {'control_types': ['ran']}\n",
      "['ran']\n",
      "split_data kwargs {'control_types': ['ran']}\n",
      "['ran']\n",
      "split_data kwargs {'control_types': ['ran']}\n",
      "['ran']\n",
      "split_data kwargs {'control_types': ['ran']}\n",
      "['ran']\n",
      "split_data kwargs {'control_types': ['ran']}\n",
      "['ran']\n",
      "split_data kwargs {'control_types': ['ran']}\n",
      "['ran']\n",
      "split_data kwargs {'control_types': ['ran']}\n",
      "['ran']\n",
      "split_data kwargs {'control_types': ['ran']}\n",
      "['ran']\n",
      "split_data kwargs {'control_types': ['ran']}\n",
      "['ran']\n",
      "split_data kwargs {'control_types': ['ran']}\n",
      "['ran']\n",
      "split_data kwargs {'control_types': ['ran']}\n",
      "['ran']\n",
      "split_data kwargs {'control_types': ['ran']}\n",
      "['ran']\n",
      "split_data kwargs {'control_types': ['ran']}\n",
      "['ran']\n",
      "split_data kwargs {'control_types': ['ran']}\n",
      "['ran']\n",
      "split_data kwargs {'control_types': ['ran']}\n",
      "['ran']\n",
      "split_data kwargs {'control_types': ['ran']}\n",
      "['ran']\n",
      "split_data kwargs {'control_types': ['ran']}\n",
      "['ran']\n",
      "split_data kwargs {'control_types': ['ran']}\n",
      "['ran']\n",
      "split_data kwargs {'control_types': ['ran']}\n",
      "['ran']\n",
      "split_data kwargs {'control_types': ['ran']}\n",
      "['ran']\n",
      "split_data kwargs {'control_types': ['ran']}\n",
      "['ran']\n",
      "split_data kwargs {'control_types': ['ran']}\n",
      "['ran']\n",
      "split_data kwargs {'control_types': ['ran']}\n",
      "['ran']\n",
      "split_data kwargs {'control_types': ['ran']}\n",
      "['ran']\n",
      "split_data kwargs {'control_types': ['ran']}\n",
      "['ran']\n",
      "split_data kwargs {'control_types': ['ran']}\n",
      "['ran']\n",
      "split_data kwargs {'control_types': ['ran']}\n",
      "['ran']\n",
      "split_data kwargs {'control_types': ['ran']}\n",
      "['ran']\n",
      "split_data kwargs {'control_types': ['ran']}\n",
      "['ran']\n",
      "split_data kwargs {'control_types': ['ran']}\n",
      "['ran']\n",
      "split_data kwargs {'control_types': ['ran']}\n",
      "['ran']\n",
      "split_data kwargs {'control_types': ['ran']}\n",
      "['ran']\n",
      "split_data kwargs {'control_types': ['ran']}\n",
      "['ran']\n",
      "split_data kwargs {'control_types': ['ran']}\n",
      "['ran']\n",
      "split_data kwargs {'control_types': ['ran']}\n",
      "['ran']\n",
      "split_data kwargs {'control_types': ['ran']}\n",
      "['ran']\n",
      "split_data kwargs {'control_types': ['ran']}\n",
      "['ran']\n",
      "split_data kwargs {'control_types': ['ran']}\n",
      "['ran']\n",
      "split_data kwargs {'control_types': ['ran']}\n",
      "['ran']\n",
      "split_data kwargs {'control_types': ['ran']}\n",
      "['ran']\n"
     ]
    }
   ],
   "source": [
    "jc_dfs = Dataset().get_data(control_types=['ran'],run_perturbations=True)"
   ]
  },
  {
   "cell_type": "code",
   "execution_count": 51,
   "metadata": {},
   "outputs": [],
   "source": [
    "results_df = pd.DataFrame(columns=['ST Train Sensitivity','ST Train Specificity','Baseline Train Sensitivity','Baseline Train Specificity'\\\n",
    "                                  ,'ST Test Sensitivity','ST Test Specificity','Baseline Test Sensitivity','Baseline Test Specificity'])"
   ]
  },
  {
   "cell_type": "code",
   "execution_count": 52,
   "metadata": {},
   "outputs": [
    {
     "name": "stdout",
     "output_type": "stream",
     "text": [
      "(0.966542750929368, 0.34355828220858897, 0.9182156133828996, 0.3987730061349693, 0.96, 0.366412213740458, 0.92, 0.4122137404580153)\n",
      "(0.9628252788104089, 0.3374233128834356, 0.9182156133828996, 0.3987730061349693, 0.92, 0.35877862595419846, 0.92, 0.4122137404580153)\n",
      "(0.9628252788104089, 0.3456032719836401, 0.9182156133828996, 0.3987730061349693, 0.96, 0.366412213740458, 0.92, 0.4122137404580153)\n",
      "(0.9591078066914498, 0.3394683026584867, 0.9182156133828996, 0.3987730061349693, 0.92, 0.35877862595419846, 0.92, 0.4122137404580153)\n",
      "(0.9628252788104089, 0.3803680981595092, 0.9182156133828996, 0.3987730061349693, 0.96, 0.3893129770992366, 0.92, 0.4122137404580153)\n",
      "(0.9591078066914498, 0.37423312883435583, 0.9182156133828996, 0.3987730061349693, 0.92, 0.3816793893129771, 0.92, 0.4122137404580153)\n",
      "(0.9591078066914498, 0.3824130879345603, 0.9182156133828996, 0.3987730061349693, 0.96, 0.3893129770992366, 0.92, 0.4122137404580153)\n",
      "(0.9553903345724907, 0.37627811860940696, 0.9182156133828996, 0.3987730061349693, 0.92, 0.3816793893129771, 0.92, 0.4122137404580153)\n",
      "(0.966542750929368, 0.3374233128834356, 0.9182156133828996, 0.3987730061349693, 0.96, 0.35877862595419846, 0.92, 0.4122137404580153)\n",
      "(0.9628252788104089, 0.3292433537832311, 0.9182156133828996, 0.3987730061349693, 0.92, 0.3511450381679389, 0.92, 0.4122137404580153)\n",
      "(0.966542750929368, 0.3374233128834356, 0.9182156133828996, 0.3987730061349693, 0.96, 0.35877862595419846, 0.92, 0.4122137404580153)\n",
      "(0.9628252788104089, 0.3292433537832311, 0.9182156133828996, 0.3987730061349693, 0.92, 0.3511450381679389, 0.92, 0.4122137404580153)\n",
      "(0.9628252788104089, 0.37423312883435583, 0.9182156133828996, 0.3987730061349693, 0.96, 0.3816793893129771, 0.92, 0.4122137404580153)\n",
      "(0.9591078066914498, 0.3660531697341513, 0.9182156133828996, 0.3987730061349693, 0.92, 0.37404580152671757, 0.92, 0.4122137404580153)\n",
      "(0.9628252788104089, 0.37423312883435583, 0.9182156133828996, 0.3987730061349693, 0.96, 0.3816793893129771, 0.92, 0.4122137404580153)\n",
      "(0.9591078066914498, 0.3660531697341513, 0.9182156133828996, 0.3987730061349693, 0.92, 0.37404580152671757, 0.92, 0.4122137404580153)\n",
      "(0.9628252788104089, 0.35991820040899797, 0.9182156133828996, 0.3987730061349693, 0.96, 0.366412213740458, 0.92, 0.4122137404580153)\n",
      "(0.9591078066914498, 0.3496932515337423, 0.9182156133828996, 0.3987730061349693, 0.92, 0.35877862595419846, 0.92, 0.4122137404580153)\n",
      "(0.9553903345724907, 0.3619631901840491, 0.9182156133828996, 0.3987730061349693, 0.96, 0.366412213740458, 0.92, 0.4122137404580153)\n",
      "(0.9516728624535316, 0.35173824130879344, 0.9182156133828996, 0.3987730061349693, 0.92, 0.35877862595419846, 0.92, 0.4122137404580153)\n",
      "(0.9591078066914498, 0.3967280163599182, 0.9182156133828996, 0.3987730061349693, 0.96, 0.3893129770992366, 0.92, 0.4122137404580153)\n",
      "(0.9553903345724907, 0.38650306748466257, 0.9182156133828996, 0.3987730061349693, 0.92, 0.3816793893129771, 0.92, 0.4122137404580153)\n",
      "(0.9516728624535316, 0.3987730061349693, 0.9182156133828996, 0.3987730061349693, 0.96, 0.3893129770992366, 0.92, 0.4122137404580153)\n",
      "(0.9479553903345725, 0.3885480572597137, 0.9182156133828996, 0.3987730061349693, 0.92, 0.3816793893129771, 0.92, 0.4122137404580153)\n",
      "(0.966542750929368, 0.3374233128834356, 0.9182156133828996, 0.3987730061349693, 0.96, 0.35877862595419846, 0.92, 0.4122137404580153)\n",
      "(0.9628252788104089, 0.3292433537832311, 0.9182156133828996, 0.3987730061349693, 0.92, 0.3511450381679389, 0.92, 0.4122137404580153)\n",
      "(0.966542750929368, 0.3374233128834356, 0.9182156133828996, 0.3987730061349693, 0.96, 0.35877862595419846, 0.92, 0.4122137404580153)\n",
      "(0.9628252788104089, 0.3292433537832311, 0.9182156133828996, 0.3987730061349693, 0.92, 0.3511450381679389, 0.92, 0.4122137404580153)\n",
      "(0.9628252788104089, 0.37423312883435583, 0.9182156133828996, 0.3987730061349693, 0.96, 0.3816793893129771, 0.92, 0.4122137404580153)\n",
      "(0.9591078066914498, 0.3660531697341513, 0.9182156133828996, 0.3987730061349693, 0.92, 0.37404580152671757, 0.92, 0.4122137404580153)\n",
      "(0.9628252788104089, 0.37423312883435583, 0.9182156133828996, 0.3987730061349693, 0.96, 0.3816793893129771, 0.92, 0.4122137404580153)\n",
      "(0.9591078066914498, 0.3660531697341513, 0.9182156133828996, 0.3987730061349693, 0.92, 0.37404580152671757, 0.92, 0.4122137404580153)\n",
      "(0.9683377308707124, 0.36893203883495146, 0.920844327176781, 0.40221914008321774, 0.912621359223301, 0.3422459893048128, 0.9611650485436893, 0.42245989304812837)\n",
      "(0.9551451187335093, 0.3550624133148405, 0.920844327176781, 0.40221914008321774, 0.912621359223301, 0.33689839572192515, 0.9611650485436893, 0.42245989304812837)\n",
      "(0.9630606860158312, 0.36893203883495146, 0.920844327176781, 0.40221914008321774, 0.912621359223301, 0.35294117647058826, 0.9611650485436893, 0.42245989304812837)\n",
      "(0.9498680738786279, 0.3550624133148405, 0.920844327176781, 0.40221914008321774, 0.912621359223301, 0.34759358288770054, 0.9611650485436893, 0.42245989304812837)\n",
      "(0.9630606860158312, 0.39805825242718446, 0.920844327176781, 0.40221914008321774, 0.912621359223301, 0.37433155080213903, 0.9611650485436893, 0.42245989304812837)\n",
      "(0.9498680738786279, 0.3841886269070735, 0.920844327176781, 0.40221914008321774, 0.912621359223301, 0.3689839572192513, 0.9611650485436893, 0.42245989304812837)\n",
      "(0.9577836411609498, 0.39805825242718446, 0.920844327176781, 0.40221914008321774, 0.912621359223301, 0.3850267379679144, 0.9611650485436893, 0.42245989304812837)\n",
      "(0.9445910290237467, 0.3841886269070735, 0.920844327176781, 0.40221914008321774, 0.912621359223301, 0.37967914438502676, 0.9611650485436893, 0.42245989304812837)\n",
      "(0.9683377308707124, 0.34812760055478503, 0.920844327176781, 0.40221914008321774, 0.9223300970873787, 0.3315508021390374, 0.9611650485436893, 0.42245989304812837)\n",
      "(0.9551451187335093, 0.3356449375866852, 0.920844327176781, 0.40221914008321774, 0.9223300970873787, 0.32620320855614976, 0.9611650485436893, 0.42245989304812837)\n",
      "(0.9683377308707124, 0.34674063800277394, 0.920844327176781, 0.40221914008321774, 0.9223300970873787, 0.3422459893048128, 0.9611650485436893, 0.42245989304812837)\n",
      "(0.9551451187335093, 0.3342579750346741, 0.920844327176781, 0.40221914008321774, 0.9223300970873787, 0.33689839572192515, 0.9611650485436893, 0.42245989304812837)\n",
      "(0.9630606860158312, 0.37725381414701803, 0.920844327176781, 0.40221914008321774, 0.9223300970873787, 0.36363636363636365, 0.9611650485436893, 0.42245989304812837)\n",
      "(0.9498680738786279, 0.3647711511789182, 0.920844327176781, 0.40221914008321774, 0.9223300970873787, 0.3582887700534759, 0.9611650485436893, 0.42245989304812837)\n",
      "(0.9630606860158312, 0.37586685159500693, 0.920844327176781, 0.40221914008321774, 0.9223300970873787, 0.37433155080213903, 0.9611650485436893, 0.42245989304812837)\n",
      "(0.9498680738786279, 0.3633841886269071, 0.920844327176781, 0.40221914008321774, 0.9223300970873787, 0.3689839572192513, 0.9611650485436893, 0.42245989304812837)\n",
      "(0.9683377308707124, 0.36893203883495146, 0.920844327176781, 0.40221914008321774, 0.912621359223301, 0.3422459893048128, 0.9611650485436893, 0.42245989304812837)\n",
      "(0.9551451187335093, 0.3550624133148405, 0.920844327176781, 0.40221914008321774, 0.912621359223301, 0.33689839572192515, 0.9611650485436893, 0.42245989304812837)\n",
      "(0.9630606860158312, 0.36893203883495146, 0.920844327176781, 0.40221914008321774, 0.912621359223301, 0.35294117647058826, 0.9611650485436893, 0.42245989304812837)\n",
      "(0.9498680738786279, 0.3550624133148405, 0.920844327176781, 0.40221914008321774, 0.912621359223301, 0.34759358288770054, 0.9611650485436893, 0.42245989304812837)\n",
      "(0.9630606860158312, 0.39805825242718446, 0.920844327176781, 0.40221914008321774, 0.912621359223301, 0.37433155080213903, 0.9611650485436893, 0.42245989304812837)\n",
      "(0.9498680738786279, 0.3841886269070735, 0.920844327176781, 0.40221914008321774, 0.912621359223301, 0.3689839572192513, 0.9611650485436893, 0.42245989304812837)\n",
      "(0.9577836411609498, 0.39805825242718446, 0.920844327176781, 0.40221914008321774, 0.912621359223301, 0.3850267379679144, 0.9611650485436893, 0.42245989304812837)\n",
      "(0.9445910290237467, 0.3841886269070735, 0.920844327176781, 0.40221914008321774, 0.912621359223301, 0.37967914438502676, 0.9611650485436893, 0.42245989304812837)\n",
      "(0.9683377308707124, 0.34812760055478503, 0.920844327176781, 0.40221914008321774, 0.9223300970873787, 0.3315508021390374, 0.9611650485436893, 0.42245989304812837)\n"
     ]
    },
    {
     "name": "stdout",
     "output_type": "stream",
     "text": [
      "(0.9551451187335093, 0.3356449375866852, 0.920844327176781, 0.40221914008321774, 0.9223300970873787, 0.32620320855614976, 0.9611650485436893, 0.42245989304812837)\n",
      "(0.9683377308707124, 0.34674063800277394, 0.920844327176781, 0.40221914008321774, 0.9223300970873787, 0.3422459893048128, 0.9611650485436893, 0.42245989304812837)\n",
      "(0.9551451187335093, 0.3342579750346741, 0.920844327176781, 0.40221914008321774, 0.9223300970873787, 0.33689839572192515, 0.9611650485436893, 0.42245989304812837)\n",
      "(0.9630606860158312, 0.37725381414701803, 0.920844327176781, 0.40221914008321774, 0.9223300970873787, 0.36363636363636365, 0.9611650485436893, 0.42245989304812837)\n",
      "(0.9498680738786279, 0.3647711511789182, 0.920844327176781, 0.40221914008321774, 0.9223300970873787, 0.3582887700534759, 0.9611650485436893, 0.42245989304812837)\n",
      "(0.9630606860158312, 0.37586685159500693, 0.920844327176781, 0.40221914008321774, 0.9223300970873787, 0.37433155080213903, 0.9611650485436893, 0.42245989304812837)\n",
      "(0.9498680738786279, 0.3633841886269071, 0.920844327176781, 0.40221914008321774, 0.9223300970873787, 0.3689839572192513, 0.9611650485436893, 0.42245989304812837)\n",
      "(0.9496221662468514, 0.3705080545229244, 0.9219143576826196, 0.40644361833952913, 0.9454545454545454, 0.3588516746411483, 0.9454545454545454, 0.42105263157894735)\n",
      "(0.9395465994962217, 0.355638166047088, 0.9219143576826196, 0.40644361833952913, 0.9363636363636364, 0.35406698564593303, 0.9454545454545454, 0.42105263157894735)\n",
      "(0.9496221662468514, 0.3705080545229244, 0.9219143576826196, 0.40644361833952913, 0.9272727272727272, 0.35406698564593303, 0.9454545454545454, 0.42105263157894735)\n",
      "(0.9395465994962217, 0.355638166047088, 0.9219143576826196, 0.40644361833952913, 0.9181818181818182, 0.3492822966507177, 0.9454545454545454, 0.42105263157894735)\n",
      "(0.947103274559194, 0.39776951672862454, 0.9219143576826196, 0.40644361833952913, 0.9363636363636364, 0.3923444976076555, 0.9454545454545454, 0.42105263157894735)\n",
      "(0.9370277078085643, 0.3828996282527881, 0.9219143576826196, 0.40644361833952913, 0.9272727272727272, 0.3875598086124402, 0.9454545454545454, 0.42105263157894735)\n",
      "(0.947103274559194, 0.39776951672862454, 0.9219143576826196, 0.40644361833952913, 0.9181818181818182, 0.3875598086124402, 0.9454545454545454, 0.42105263157894735)\n",
      "(0.9370277078085643, 0.3828996282527881, 0.9219143576826196, 0.40644361833952913, 0.9090909090909091, 0.3827751196172249, 0.9454545454545454, 0.42105263157894735)\n",
      "(0.9521410579345088, 0.35192069392812886, 0.9219143576826196, 0.40644361833952913, 0.9545454545454546, 0.3397129186602871, 0.9454545454545454, 0.42105263157894735)\n",
      "(0.9420654911838791, 0.3382899628252788, 0.9219143576826196, 0.40644361833952913, 0.9454545454545454, 0.3349282296650718, 0.9454545454545454, 0.42105263157894735)\n",
      "(0.9521410579345088, 0.3506815365551425, 0.9219143576826196, 0.40644361833952913, 0.9545454545454546, 0.3349282296650718, 0.9454545454545454, 0.42105263157894735)\n",
      "(0.9420654911838791, 0.33705080545229243, 0.9219143576826196, 0.40644361833952913, 0.9454545454545454, 0.33014354066985646, 0.9454545454545454, 0.42105263157894735)\n",
      "(0.9496221662468514, 0.379182156133829, 0.9219143576826196, 0.40644361833952913, 0.9454545454545454, 0.37320574162679426, 0.9454545454545454, 0.42105263157894735)\n",
      "(0.9395465994962217, 0.3655514250309789, 0.9219143576826196, 0.40644361833952913, 0.9363636363636364, 0.3684210526315789, 0.9454545454545454, 0.42105263157894735)\n",
      "(0.9496221662468514, 0.37794299876084264, 0.9219143576826196, 0.40644361833952913, 0.9454545454545454, 0.3684210526315789, 0.9454545454545454, 0.42105263157894735)\n",
      "(0.9395465994962217, 0.3643122676579926, 0.9219143576826196, 0.40644361833952913, 0.9363636363636364, 0.36363636363636365, 0.9454545454545454, 0.42105263157894735)\n",
      "(0.9496221662468514, 0.3705080545229244, 0.9219143576826196, 0.40644361833952913, 0.9454545454545454, 0.3588516746411483, 0.9454545454545454, 0.42105263157894735)\n",
      "(0.9395465994962217, 0.355638166047088, 0.9219143576826196, 0.40644361833952913, 0.9363636363636364, 0.35406698564593303, 0.9454545454545454, 0.42105263157894735)\n",
      "(0.9496221662468514, 0.3705080545229244, 0.9219143576826196, 0.40644361833952913, 0.9272727272727272, 0.35406698564593303, 0.9454545454545454, 0.42105263157894735)\n",
      "(0.9395465994962217, 0.355638166047088, 0.9219143576826196, 0.40644361833952913, 0.9181818181818182, 0.3492822966507177, 0.9454545454545454, 0.42105263157894735)\n",
      "(0.947103274559194, 0.39776951672862454, 0.9219143576826196, 0.40644361833952913, 0.9363636363636364, 0.3923444976076555, 0.9454545454545454, 0.42105263157894735)\n",
      "(0.9370277078085643, 0.3828996282527881, 0.9219143576826196, 0.40644361833952913, 0.9272727272727272, 0.3875598086124402, 0.9454545454545454, 0.42105263157894735)\n",
      "(0.947103274559194, 0.39776951672862454, 0.9219143576826196, 0.40644361833952913, 0.9181818181818182, 0.3875598086124402, 0.9454545454545454, 0.42105263157894735)\n",
      "(0.9370277078085643, 0.3828996282527881, 0.9219143576826196, 0.40644361833952913, 0.9090909090909091, 0.3827751196172249, 0.9454545454545454, 0.42105263157894735)\n",
      "(0.9521410579345088, 0.35192069392812886, 0.9219143576826196, 0.40644361833952913, 0.9545454545454546, 0.3397129186602871, 0.9454545454545454, 0.42105263157894735)\n",
      "(0.9420654911838791, 0.3382899628252788, 0.9219143576826196, 0.40644361833952913, 0.9454545454545454, 0.3349282296650718, 0.9454545454545454, 0.42105263157894735)\n",
      "(0.9521410579345088, 0.3506815365551425, 0.9219143576826196, 0.40644361833952913, 0.9545454545454546, 0.3349282296650718, 0.9454545454545454, 0.42105263157894735)\n",
      "(0.9420654911838791, 0.33705080545229243, 0.9219143576826196, 0.40644361833952913, 0.9454545454545454, 0.33014354066985646, 0.9454545454545454, 0.42105263157894735)\n",
      "(0.9496221662468514, 0.379182156133829, 0.9219143576826196, 0.40644361833952913, 0.9454545454545454, 0.37320574162679426, 0.9454545454545454, 0.42105263157894735)\n",
      "(0.9395465994962217, 0.3655514250309789, 0.9219143576826196, 0.40644361833952913, 0.9363636363636364, 0.3684210526315789, 0.9454545454545454, 0.42105263157894735)\n",
      "(0.9496221662468514, 0.37794299876084264, 0.9219143576826196, 0.40644361833952913, 0.9454545454545454, 0.3684210526315789, 0.9454545454545454, 0.42105263157894735)\n",
      "(0.9395465994962217, 0.3643122676579926, 0.9219143576826196, 0.40644361833952913, 0.9363636363636364, 0.36363636363636365, 0.9454545454545454, 0.42105263157894735)\n"
     ]
    }
   ],
   "source": [
    "for key, data_tuple in jc_dfs.items():\n",
    "    if key != '__prev__':\n",
    "        results = get_single_outcomes(data_tuple)\n",
    "        results_df.loc[len(results_df.index)] = [i for i in results]"
   ]
  },
  {
   "cell_type": "code",
   "execution_count": 53,
   "metadata": {},
   "outputs": [
    {
     "data": {
      "text/plain": [
       "(96, 8)"
      ]
     },
     "execution_count": 53,
     "metadata": {},
     "output_type": "execute_result"
    }
   ],
   "source": [
    "results_df.shape"
   ]
  },
  {
   "cell_type": "code",
   "execution_count": 54,
   "metadata": {},
   "outputs": [],
   "source": [
    "sens_df = results_df[[col for col in results_df.columns.astype(str) if 'sens' in col.lower()]]\n",
    "spec_df = results_df[[col for col in results_df.columns.astype(str) if 'spec' in col.lower()]]"
   ]
  },
  {
   "cell_type": "code",
   "execution_count": 55,
   "metadata": {},
   "outputs": [
    {
     "data": {
      "text/plain": [
       "<matplotlib.axes._subplots.AxesSubplot at 0x7fabc7b90550>"
      ]
     },
     "execution_count": 55,
     "metadata": {},
     "output_type": "execute_result"
    },
    {
     "data": {
      "image/png": "[encoded data removed]",
      "text/plain": [
       "<Figure size 1440x288 with 1 Axes>"
      ]
     },
     "metadata": {
      "needs_background": "light"
     },
     "output_type": "display_data"
    }
   ],
   "source": [
    "spec_df.mean().plot(kind='bar')"
   ]
  },
  {
   "cell_type": "code",
   "execution_count": 56,
   "metadata": {},
   "outputs": [
    {
     "data": {
      "text/html": [
       "<div>\n",
       "<style scoped>\n",
       "    .dataframe tbody tr th:only-of-type {\n",
       "        vertical-align: middle;\n",
       "    }\n",
       "\n",
       "    .dataframe tbody tr th {\n",
       "        vertical-align: top;\n",
       "    }\n",
       "\n",
       "    .dataframe thead th {\n",
       "        text-align: right;\n",
       "    }\n",
       "</style>\n",
       "<table border=\"1\" class=\"dataframe\">\n",
       "  <thead>\n",
       "    <tr style=\"text-align: right;\">\n",
       "      <th></th>\n",
       "      <th>ST Train Sensitivity</th>\n",
       "      <th>Baseline Train Sensitivity</th>\n",
       "      <th>ST Test Sensitivity</th>\n",
       "      <th>Baseline Test Sensitivity</th>\n",
       "    </tr>\n",
       "  </thead>\n",
       "  <tbody>\n",
       "    <tr>\n",
       "      <th>0</th>\n",
       "      <td>0.966543</td>\n",
       "      <td>0.918216</td>\n",
       "      <td>0.960000</td>\n",
       "      <td>0.920000</td>\n",
       "    </tr>\n",
       "    <tr>\n",
       "      <th>1</th>\n",
       "      <td>0.962825</td>\n",
       "      <td>0.918216</td>\n",
       "      <td>0.920000</td>\n",
       "      <td>0.920000</td>\n",
       "    </tr>\n",
       "    <tr>\n",
       "      <th>2</th>\n",
       "      <td>0.962825</td>\n",
       "      <td>0.918216</td>\n",
       "      <td>0.960000</td>\n",
       "      <td>0.920000</td>\n",
       "    </tr>\n",
       "    <tr>\n",
       "      <th>3</th>\n",
       "      <td>0.959108</td>\n",
       "      <td>0.918216</td>\n",
       "      <td>0.920000</td>\n",
       "      <td>0.920000</td>\n",
       "    </tr>\n",
       "    <tr>\n",
       "      <th>4</th>\n",
       "      <td>0.962825</td>\n",
       "      <td>0.918216</td>\n",
       "      <td>0.960000</td>\n",
       "      <td>0.920000</td>\n",
       "    </tr>\n",
       "    <tr>\n",
       "      <th>...</th>\n",
       "      <td>...</td>\n",
       "      <td>...</td>\n",
       "      <td>...</td>\n",
       "      <td>...</td>\n",
       "    </tr>\n",
       "    <tr>\n",
       "      <th>91</th>\n",
       "      <td>0.942065</td>\n",
       "      <td>0.921914</td>\n",
       "      <td>0.945455</td>\n",
       "      <td>0.945455</td>\n",
       "    </tr>\n",
       "    <tr>\n",
       "      <th>92</th>\n",
       "      <td>0.949622</td>\n",
       "      <td>0.921914</td>\n",
       "      <td>0.945455</td>\n",
       "      <td>0.945455</td>\n",
       "    </tr>\n",
       "    <tr>\n",
       "      <th>93</th>\n",
       "      <td>0.939547</td>\n",
       "      <td>0.921914</td>\n",
       "      <td>0.936364</td>\n",
       "      <td>0.945455</td>\n",
       "    </tr>\n",
       "    <tr>\n",
       "      <th>94</th>\n",
       "      <td>0.949622</td>\n",
       "      <td>0.921914</td>\n",
       "      <td>0.945455</td>\n",
       "      <td>0.945455</td>\n",
       "    </tr>\n",
       "    <tr>\n",
       "      <th>95</th>\n",
       "      <td>0.939547</td>\n",
       "      <td>0.921914</td>\n",
       "      <td>0.936364</td>\n",
       "      <td>0.945455</td>\n",
       "    </tr>\n",
       "  </tbody>\n",
       "</table>\n",
       "<p>96 rows × 4 columns</p>\n",
       "</div>"
      ],
      "text/plain": [
       "    ST Train Sensitivity  Baseline Train Sensitivity  ST Test Sensitivity  \\\n",
       "0               0.966543                    0.918216             0.960000   \n",
       "1               0.962825                    0.918216             0.920000   \n",
       "2               0.962825                    0.918216             0.960000   \n",
       "3               0.959108                    0.918216             0.920000   \n",
       "4               0.962825                    0.918216             0.960000   \n",
       "..                   ...                         ...                  ...   \n",
       "91              0.942065                    0.921914             0.945455   \n",
       "92              0.949622                    0.921914             0.945455   \n",
       "93              0.939547                    0.921914             0.936364   \n",
       "94              0.949622                    0.921914             0.945455   \n",
       "95              0.939547                    0.921914             0.936364   \n",
       "\n",
       "    Baseline Test Sensitivity  \n",
       "0                    0.920000  \n",
       "1                    0.920000  \n",
       "2                    0.920000  \n",
       "3                    0.920000  \n",
       "4                    0.920000  \n",
       "..                        ...  \n",
       "91                   0.945455  \n",
       "92                   0.945455  \n",
       "93                   0.945455  \n",
       "94                   0.945455  \n",
       "95                   0.945455  \n",
       "\n",
       "[96 rows x 4 columns]"
      ]
     },
     "execution_count": 56,
     "metadata": {},
     "output_type": "execute_result"
    }
   ],
   "source": [
    "sens_df"
   ]
  },
  {
   "cell_type": "code",
   "execution_count": 57,
   "metadata": {},
   "outputs": [
    {
     "data": {
      "text/plain": [
       "(0.9, 1)"
      ]
     },
     "execution_count": 57,
     "metadata": {},
     "output_type": "execute_result"
    },
    {
     "data": {
      "image/png": "[encoded data removed]",
      "text/plain": [
       "<Figure size 1440x288 with 1 Axes>"
      ]
     },
     "metadata": {
      "needs_background": "light"
     },
     "output_type": "display_data"
    }
   ],
   "source": [
    "plt.bar(sens_df.columns,list(sens_df.mean()), align='center', alpha = 0.5)\n",
    "error_stack = np.vstack((sens_df.mean() - sens_df.min(),sens_df.max() - sens_df.mean()))\n",
    "plt.errorbar(sens_df.columns,list(sens_df.mean()), yerr=error_stack,ls='none')\n",
    "plt.ylabel('Sensitivity')\n",
    "plt.title('Sensitivity Over 96 Judgement Call Perturbations')\n",
    "plt.rcParams[\"figure.figsize\"] = (20,4)\n",
    "plt.ylim([0.9,1])"
   ]
  },
  {
   "cell_type": "code",
   "execution_count": 58,
   "metadata": {},
   "outputs": [
    {
     "data": {
      "text/plain": [
       "(0.3, 0.45)"
      ]
     },
     "execution_count": 58,
     "metadata": {},
     "output_type": "execute_result"
    },
    {
     "data": {
      "image/png": "[encoded data removed]",
      "text/plain": [
       "<Figure size 1440x288 with 1 Axes>"
      ]
     },
     "metadata": {
      "needs_background": "light"
     },
     "output_type": "display_data"
    }
   ],
   "source": [
    "plt.bar(spec_df.columns,list(spec_df.mean()), align='center', alpha = 0.5)\n",
    "error_stack = np.vstack((spec_df.mean() - spec_df.min(),spec_df.max() - spec_df.mean()))\n",
    "plt.errorbar(spec_df.columns,list(spec_df.mean()), yerr=error_stack,ls='none')\n",
    "plt.ylabel('Specificity')\n",
    "plt.title('Specificity Over 96 Judgement Call Perturbations')\n",
    "plt.rcParams[\"figure.figsize\"] = (20,4)\n",
    "plt.ylim([0.3,.45])"
   ]
  },
  {
   "cell_type": "code",
   "execution_count": null,
   "metadata": {},
   "outputs": [],
   "source": []
  }
 ],
 "metadata": {
  "kernelspec": {
   "display_name": "Python 3.7",
   "language": "python",
   "name": "python3.7"
  },
  "language_info": {
   "codemirror_mode": {
    "name": "ipython",
    "version": 3
   },
   "file_extension": ".py",
   "mimetype": "text/x-python",
   "name": "python",
   "nbconvert_exporter": "python",
   "pygments_lexer": "ipython3",
   "version": "3.7.5"
  }
 },
 "nbformat": 4,
 "nbformat_minor": 4
}
