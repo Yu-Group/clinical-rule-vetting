{
 "cells": [
  {
   "cell_type": "code",
   "execution_count": 1,
   "id": "38cbafb6",
   "metadata": {},
   "outputs": [
    {
     "name": "stdout",
     "output_type": "stream",
     "text": [
      "/Users/Yaxuan/Github/stat-215-final/csi-pecarn-rule-vetting\n"
     ]
    },
    {
     "name": "stderr",
     "output_type": "stream",
     "text": [
      "/Users/Yaxuan/opt/anaconda3/envs/“rule-env”/lib/python3.7/site-packages/redis/connection.py:77: UserWarning: redis-py works best with hiredis. Please consider installing\n",
      "  warnings.warn(msg)\n"
     ]
    }
   ],
   "source": [
    "%load_ext autoreload\n",
    "%autoreload 2\n",
    "\n",
    "import numpy as np\n",
    "import pandas as pd\n",
    "import matplotlib.pyplot as plt\n",
    "%matplotlib inline\n",
    "import seaborn as sns\n",
    "import sys \n",
    "import os\n",
    "\n",
    "# this line walks up file directory so rule-vetting is cwd\n",
    "# Currently this breaks if chunk is run multiple times\n",
    "os.chdir(os.path.dirname(os.path.dirname(os.path.dirname(os.path.dirname(os.getcwd())))))\n",
    "print(os.getcwd())\n",
    "\n",
    "import rulevetting.api.viz as viz\n",
    "from rulevetting.projects.csi_pecarn.dataset import Dataset\n",
    "from rulevetting.projects.csi_pecarn.tree_functions import *\n",
    "from rulevetting.projects.csi_pecarn.baseline import Baseline\n",
    "from rulevetting.projects.csi_pecarn.model_best import SpecialTree\n",
    "\n",
    "from sklearn import tree\n",
    "from sklearn.inspection import permutation_importance\n",
    "from sklearn.ensemble import RandomForestClassifier\n",
    "from sklearn.metrics import RocCurveDisplay"
   ]
  },
  {
   "cell_type": "code",
   "execution_count": 2,
   "id": "a602963c",
   "metadata": {},
   "outputs": [],
   "source": [
    "df_ran = Dataset().get_data(control_types=['ran'])\n",
    "\n",
    "df0 = df_ran[0]\n",
    "df1 = df_ran[1]\n",
    "df2 = df_ran[2]\n",
    "\n",
    "# \n",
    "# df0 = df0[(df0['NonVerbal'] == 1) & (df0['VeryYoung'] == 0)]\n",
    "# df1 = df1[(df1['NonVerbal'] == 1) & (df1['VeryYoung'] == 0)]\n",
    "# df2 = df2[(df2['NonVerbal'] == 1) & (df2['VeryYoung'] == 0)]\n",
    "\n",
    "frames = [df0,df1]\n",
    "\n",
    "data_train = pd.concat(frames)\n",
    "data_test = df2"
   ]
  },
  {
   "cell_type": "code",
   "execution_count": 3,
   "id": "b828debd",
   "metadata": {},
   "outputs": [
    {
     "name": "stdout",
     "output_type": "stream",
     "text": [
      "sens: 0.9604221635883905,spec: 0.32038834951456313\n"
     ]
    }
   ],
   "source": [
    "# SpecialTree on training+tuning\n",
    "\n",
    "pred_train = SpecialTree(data_train).predict()\n",
    "evaluate = pd.DataFrame(data = {'csi_injury': data_train['csi_injury'], \n",
    "                                'pred': pred_train})\n",
    "TN = evaluate[ (evaluate['pred'] == 0) & (evaluate['csi_injury'] == 0)].shape[0]\n",
    "TP = evaluate[ (evaluate['pred'] == 1) & (evaluate['csi_injury'] == 1)].shape[0]\n",
    "FN = evaluate[ (evaluate['pred'] == 0) & (evaluate['csi_injury'] == 1)].shape[0]\n",
    "FP = evaluate[ (evaluate['pred'] == 1) & (evaluate['csi_injury'] == 0)].shape[0]\n",
    "sensitivity = TP/(FN+TP)\n",
    "specificity = TN/(FP+TN)\n",
    "print('sens: '+ str(sensitivity) +',spec: '+ str(specificity))"
   ]
  },
  {
   "cell_type": "code",
   "execution_count": 4,
   "id": "a07f19bc",
   "metadata": {},
   "outputs": [
    {
     "name": "stdout",
     "output_type": "stream",
     "text": [
      "sens: 0.920844327176781, spec: 0.40221914008321774\n"
     ]
    }
   ],
   "source": [
    "# Baseline on training+tuning\n",
    "\n",
    "pred_train = Baseline(data_train).predict()\n",
    "evaluate = pd.DataFrame(data = {'csi_injury': data_train['csi_injury'], \n",
    "                                'pred': pred_train})\n",
    "TN = evaluate[ (evaluate['pred'] == 0) & (evaluate['csi_injury'] == 0)].shape[0]\n",
    "TP = evaluate[ (evaluate['pred'] == 1) & (evaluate['csi_injury'] == 1)].shape[0]\n",
    "FN = evaluate[ (evaluate['pred'] == 0) & (evaluate['csi_injury'] == 1)].shape[0]\n",
    "FP = evaluate[ (evaluate['pred'] == 1) & (evaluate['csi_injury'] == 0)].shape[0]\n",
    "sensitivity = TP/(FN+TP)\n",
    "specificity = TN/(FP+TN)\n",
    "print('sens: '+ str(sensitivity) +', spec: '+ str(specificity))"
   ]
  },
  {
   "cell_type": "code",
   "execution_count": 5,
   "id": "0bf395fe",
   "metadata": {},
   "outputs": [
    {
     "name": "stdout",
     "output_type": "stream",
     "text": [
      "sens: 0.912621359223301, spec: 0.27807486631016043\n"
     ]
    }
   ],
   "source": [
    "# SpecialTree on testing\n",
    "\n",
    "pred_test = SpecialTree(data_test).predict()\n",
    "evaluate = pd.DataFrame(data = {'csi_injury': data_test['csi_injury'], \n",
    "                                'pred': pred_test})\n",
    "TN = evaluate[ (evaluate['pred'] == 0) & (evaluate['csi_injury'] == 0)].shape[0]\n",
    "TP = evaluate[ (evaluate['pred'] == 1) & (evaluate['csi_injury'] == 1)].shape[0]\n",
    "FN = evaluate[ (evaluate['pred'] == 0) & (evaluate['csi_injury'] == 1)].shape[0]\n",
    "FP = evaluate[ (evaluate['pred'] == 1) & (evaluate['csi_injury'] == 0)].shape[0]\n",
    "sensitivity = TP/(FN+TP)\n",
    "specificity = TN/(FP+TN)\n",
    "print('sens: '+ str(sensitivity) +', spec: '+ str(specificity))"
   ]
  },
  {
   "cell_type": "code",
   "execution_count": 6,
   "id": "6a461e2d",
   "metadata": {},
   "outputs": [
    {
     "name": "stdout",
     "output_type": "stream",
     "text": [
      "sens: 0.9611650485436893, spec: 0.42245989304812837\n"
     ]
    }
   ],
   "source": [
    "# Baseline on testing\n",
    "pred_test = Baseline(data_test).predict()\n",
    "evaluate = pd.DataFrame(data = {'csi_injury': data_test['csi_injury'], \n",
    "                                'pred': pred_test})\n",
    "TN = evaluate[ (evaluate['pred'] == 0) & (evaluate['csi_injury'] == 0)].shape[0]\n",
    "TP = evaluate[ (evaluate['pred'] == 1) & (evaluate['csi_injury'] == 1)].shape[0]\n",
    "FN = evaluate[ (evaluate['pred'] == 0) & (evaluate['csi_injury'] == 1)].shape[0]\n",
    "FP = evaluate[ (evaluate['pred'] == 1) & (evaluate['csi_injury'] == 0)].shape[0]\n",
    "sensitivity = TP/(FN+TP)\n",
    "specificity = TN/(FP+TN)\n",
    "print('sens: '+ str(sensitivity) +', spec: '+ str(specificity))"
   ]
  }
 ],
 "metadata": {
  "kernelspec": {
   "display_name": "Python 3 (ipykernel)",
   "language": "python",
   "name": "python3"
  },
  "language_info": {
   "codemirror_mode": {
    "name": "ipython",
    "version": 3
   },
   "file_extension": ".py",
   "mimetype": "text/x-python",
   "name": "python",
   "nbconvert_exporter": "python",
   "pygments_lexer": "ipython3",
   "version": "3.7.0"
  }
 },
 "nbformat": 4,
 "nbformat_minor": 5
}
