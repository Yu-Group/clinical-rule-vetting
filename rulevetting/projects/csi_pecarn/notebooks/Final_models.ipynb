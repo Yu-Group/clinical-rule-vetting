{
 "cells": [
  {
   "cell_type": "code",
   "execution_count": 1,
   "id": "38cbafb6",
   "metadata": {},
   "outputs": [
    {
     "name": "stdout",
     "output_type": "stream",
     "text": [
      "/accounts/grad/wtorous/rule-vetting\n"
     ]
    }
   ],
   "source": [
    "%load_ext autoreload\n",
    "%autoreload 2\n",
    "\n",
    "import numpy as np\n",
    "import pandas as pd\n",
    "import matplotlib.pyplot as plt\n",
    "%matplotlib inline\n",
    "import seaborn as sns\n",
    "import sys \n",
    "import os\n",
    "\n",
    "# this line walks up file directory so rule-vetting is cwd\n",
    "# Currently this breaks if chunk is run multiple times\n",
    "os.chdir(os.path.dirname(os.path.dirname(os.path.dirname(os.path.dirname(os.getcwd())))))\n",
    "print(os.getcwd())\n",
    "\n",
    "import rulevetting.api.viz as viz\n",
    "from rulevetting.projects.csi_pecarn.dataset import Dataset\n",
    "from rulevetting.projects.csi_pecarn.tree_functions import *\n",
    "from rulevetting.projects.csi_pecarn.baseline import Baseline\n",
    "from rulevetting.projects.csi_pecarn.model_best import SpecialTree\n",
    "\n",
    "from sklearn import tree\n",
    "from sklearn.inspection import permutation_importance\n",
    "from sklearn.ensemble import RandomForestClassifier\n",
    "from sklearn.metrics import RocCurveDisplay"
   ]
  },
  {
   "cell_type": "code",
   "execution_count": 2,
   "id": "a602963c",
   "metadata": {},
   "outputs": [
    {
     "name": "stderr",
     "output_type": "stream",
     "text": [
      "/accounts/grad/wtorous/rule-vetting/rulevetting/projects/csi_pecarn/helper.py:140: SettingWithCopyWarning: \n",
      "A value is trying to be set on a copy of a slice from a DataFrame\n",
      "\n",
      "See the caveats in the documentation: https://pandas.pydata.org/pandas-docs/stable/user_guide/indexing.html#returning-a-view-versus-a-copy\n",
      "  df[base_av_improved][df[base_av+'_binary'].copy()==1] = 0 # condition remains indicated at study site\n",
      "/accounts/grad/wtorous/rule-vetting/rulevetting/projects/csi_pecarn/helper.py:140: SettingWithCopyWarning: \n",
      "A value is trying to be set on a copy of a slice from a DataFrame\n",
      "\n",
      "See the caveats in the documentation: https://pandas.pydata.org/pandas-docs/stable/user_guide/indexing.html#returning-a-view-versus-a-copy\n",
      "  df[base_av_improved][df[base_av+'_binary'].copy()==1] = 0 # condition remains indicated at study site\n",
      "/accounts/grad/wtorous/rule-vetting/rulevetting/projects/csi_pecarn/helper.py:140: SettingWithCopyWarning: \n",
      "A value is trying to be set on a copy of a slice from a DataFrame\n",
      "\n",
      "See the caveats in the documentation: https://pandas.pydata.org/pandas-docs/stable/user_guide/indexing.html#returning-a-view-versus-a-copy\n",
      "  df[base_av_improved][df[base_av+'_binary'].copy()==1] = 0 # condition remains indicated at study site\n",
      "/accounts/grad/wtorous/rule-vetting/rulevetting/projects/csi_pecarn/helper.py:140: SettingWithCopyWarning: \n",
      "A value is trying to be set on a copy of a slice from a DataFrame\n",
      "\n",
      "See the caveats in the documentation: https://pandas.pydata.org/pandas-docs/stable/user_guide/indexing.html#returning-a-view-versus-a-copy\n",
      "  df[base_av_improved][df[base_av+'_binary'].copy()==1] = 0 # condition remains indicated at study site\n",
      "/accounts/grad/wtorous/rule-vetting/rulevetting/projects/csi_pecarn/helper.py:140: SettingWithCopyWarning: \n",
      "A value is trying to be set on a copy of a slice from a DataFrame\n",
      "\n",
      "See the caveats in the documentation: https://pandas.pydata.org/pandas-docs/stable/user_guide/indexing.html#returning-a-view-versus-a-copy\n",
      "  df[base_av_improved][df[base_av+'_binary'].copy()==1] = 0 # condition remains indicated at study site\n",
      "/accounts/grad/wtorous/rule-vetting/rulevetting/projects/csi_pecarn/helper.py:140: SettingWithCopyWarning: \n",
      "A value is trying to be set on a copy of a slice from a DataFrame\n",
      "\n",
      "See the caveats in the documentation: https://pandas.pydata.org/pandas-docs/stable/user_guide/indexing.html#returning-a-view-versus-a-copy\n",
      "  df[base_av_improved][df[base_av+'_binary'].copy()==1] = 0 # condition remains indicated at study site\n",
      "/accounts/grad/wtorous/rule-vetting/rulevetting/projects/csi_pecarn/helper.py:140: SettingWithCopyWarning: \n",
      "A value is trying to be set on a copy of a slice from a DataFrame\n",
      "\n",
      "See the caveats in the documentation: https://pandas.pydata.org/pandas-docs/stable/user_guide/indexing.html#returning-a-view-versus-a-copy\n",
      "  df[base_av_improved][df[base_av+'_binary'].copy()==1] = 0 # condition remains indicated at study site\n",
      "/accounts/grad/wtorous/rule-vetting/rulevetting/projects/csi_pecarn/helper.py:140: SettingWithCopyWarning: \n",
      "A value is trying to be set on a copy of a slice from a DataFrame\n",
      "\n",
      "See the caveats in the documentation: https://pandas.pydata.org/pandas-docs/stable/user_guide/indexing.html#returning-a-view-versus-a-copy\n",
      "  df[base_av_improved][df[base_av+'_binary'].copy()==1] = 0 # condition remains indicated at study site\n",
      "/accounts/grad/wtorous/rule-vetting/rulevetting/projects/csi_pecarn/helper.py:140: SettingWithCopyWarning: \n",
      "A value is trying to be set on a copy of a slice from a DataFrame\n",
      "\n",
      "See the caveats in the documentation: https://pandas.pydata.org/pandas-docs/stable/user_guide/indexing.html#returning-a-view-versus-a-copy\n",
      "  df[base_av_improved][df[base_av+'_binary'].copy()==1] = 0 # condition remains indicated at study site\n",
      "/accounts/grad/wtorous/rule-vetting/rulevetting/projects/csi_pecarn/helper.py:140: SettingWithCopyWarning: \n",
      "A value is trying to be set on a copy of a slice from a DataFrame\n",
      "\n",
      "See the caveats in the documentation: https://pandas.pydata.org/pandas-docs/stable/user_guide/indexing.html#returning-a-view-versus-a-copy\n",
      "  df[base_av_improved][df[base_av+'_binary'].copy()==1] = 0 # condition remains indicated at study site\n",
      "/usr/local/linux/anaconda3.8/lib/python3.8/site-packages/pandas/core/frame.py:3191: SettingWithCopyWarning: \n",
      "A value is trying to be set on a copy of a slice from a DataFrame.\n",
      "Try using .loc[row_indexer,col_indexer] = value instead\n",
      "\n",
      "See the caveats in the documentation: https://pandas.pydata.org/pandas-docs/stable/user_guide/indexing.html#returning-a-view-versus-a-copy\n",
      "  self[k1] = value[k2]\n",
      "/accounts/grad/wtorous/rule-vetting/rulevetting/projects/csi_pecarn/dataset.py:381: SettingWithCopyWarning: \n",
      "A value is trying to be set on a copy of a slice from a DataFrame\n",
      "\n",
      "See the caveats in the documentation: https://pandas.pydata.org/pandas-docs/stable/user_guide/indexing.html#returning-a-view-versus-a-copy\n",
      "  df[col][(df['AlteredMentalStatus']==0)] =\\\n",
      "/accounts/grad/wtorous/rule-vetting/rulevetting/projects/csi_pecarn/dataset.py:381: SettingWithCopyWarning: \n",
      "A value is trying to be set on a copy of a slice from a DataFrame\n",
      "\n",
      "See the caveats in the documentation: https://pandas.pydata.org/pandas-docs/stable/user_guide/indexing.html#returning-a-view-versus-a-copy\n",
      "  df[col][(df['AlteredMentalStatus']==0)] =\\\n",
      "/accounts/grad/wtorous/rule-vetting/rulevetting/projects/csi_pecarn/dataset.py:381: SettingWithCopyWarning: \n",
      "A value is trying to be set on a copy of a slice from a DataFrame\n",
      "\n",
      "See the caveats in the documentation: https://pandas.pydata.org/pandas-docs/stable/user_guide/indexing.html#returning-a-view-versus-a-copy\n",
      "  df[col][(df['AlteredMentalStatus']==0)] =\\\n",
      "/accounts/grad/wtorous/rule-vetting/rulevetting/projects/csi_pecarn/dataset.py:388: SettingWithCopyWarning: \n",
      "A value is trying to be set on a copy of a slice from a DataFrame\n",
      "\n",
      "See the caveats in the documentation: https://pandas.pydata.org/pandas-docs/stable/user_guide/indexing.html#returning-a-view-versus-a-copy\n",
      "  df[col][(df['AlteredMentalStatus']==1)]=\\\n",
      "/accounts/grad/wtorous/rule-vetting/rulevetting/projects/csi_pecarn/dataset.py:388: SettingWithCopyWarning: \n",
      "A value is trying to be set on a copy of a slice from a DataFrame\n",
      "\n",
      "See the caveats in the documentation: https://pandas.pydata.org/pandas-docs/stable/user_guide/indexing.html#returning-a-view-versus-a-copy\n",
      "  df[col][(df['AlteredMentalStatus']==1)]=\\\n",
      "/accounts/grad/wtorous/rule-vetting/rulevetting/projects/csi_pecarn/dataset.py:388: SettingWithCopyWarning: \n",
      "A value is trying to be set on a copy of a slice from a DataFrame\n",
      "\n",
      "See the caveats in the documentation: https://pandas.pydata.org/pandas-docs/stable/user_guide/indexing.html#returning-a-view-versus-a-copy\n",
      "  df[col][(df['AlteredMentalStatus']==1)]=\\\n"
     ]
    },
    {
     "name": "stdout",
     "output_type": "stream",
     "text": [
      "split_data kwargs {'control_types': ['ran']}\n",
      "['ran']\n"
     ]
    }
   ],
   "source": [
    "df_ran = Dataset().get_data(control_types=['ran'])\n",
    "\n",
    "\n",
    "df0 = df_ran[0]\n",
    "df1 = df_ran[1]\n",
    "df2 = df_ran[2]\n",
    "\n",
    "# \n",
    "# df0 = df0[(df0['NonVerbal'] == 1) & (df0['VeryYoung'] == 0)]\n",
    "# df1 = df1[(df1['NonVerbal'] == 1) & (df1['VeryYoung'] == 0)]\n",
    "# df2 = df2[(df2['NonVerbal'] == 1) & (df2['VeryYoung'] == 0)]\n",
    "\n",
    "frames = [df0,df1]\n",
    "\n",
    "data_train = pd.concat(frames)\n",
    "data_test = df2"
   ]
  },
  {
   "cell_type": "code",
   "execution_count": 3,
   "id": "b828debd",
   "metadata": {},
   "outputs": [
    {
     "name": "stdout",
     "output_type": "stream",
     "text": [
      "sens: 0.966542750929368,spec: 0.34355828220858897\n"
     ]
    }
   ],
   "source": [
    "# SpecialTree on training+tuning\n",
    "\n",
    "pred_train = SpecialTree().predict(data_train)\n",
    "evaluate = pd.DataFrame(data = {'outcome': data_train['outcome'], \n",
    "                                'pred': pred_train})\n",
    "TN = evaluate[ (evaluate['pred'] == 0) & (evaluate['outcome'] == 0)].shape[0]\n",
    "TP = evaluate[ (evaluate['pred'] == 1) & (evaluate['outcome'] == 1)].shape[0]\n",
    "FN = evaluate[ (evaluate['pred'] == 0) & (evaluate['outcome'] == 1)].shape[0]\n",
    "FP = evaluate[ (evaluate['pred'] == 1) & (evaluate['outcome'] == 0)].shape[0]\n",
    "sensitivity = TP/(FN+TP)\n",
    "specificity = TN/(FP+TN)\n",
    "print('sens: '+ str(sensitivity) +',spec: '+ str(specificity))"
   ]
  },
  {
   "cell_type": "code",
   "execution_count": 4,
   "id": "68bf2e37",
   "metadata": {},
   "outputs": [
    {
     "data": {
      "text/plain": [
       "'Classification summary: 581 patients labeled 1 and 177 patients labeled 0.'"
      ]
     },
     "execution_count": 4,
     "metadata": {},
     "output_type": "execute_result"
    }
   ],
   "source": [
    "SpecialTree().print_model(data_train)"
   ]
  },
  {
   "cell_type": "code",
   "execution_count": 5,
   "id": "a07f19bc",
   "metadata": {},
   "outputs": [
    {
     "name": "stdout",
     "output_type": "stream",
     "text": [
      "sens: 0.9182156133828996, spec: 0.3987730061349693\n"
     ]
    }
   ],
   "source": [
    "# Baseline on training+tuning\n",
    "\n",
    "pred_train = Baseline().predict(data_train)\n",
    "evaluate = pd.DataFrame(data = {'outcome': data_train['outcome'], \n",
    "                                'pred': pred_train})\n",
    "TN = evaluate[ (evaluate['pred'] == 0) & (evaluate['outcome'] == 0)].shape[0]\n",
    "TP = evaluate[ (evaluate['pred'] == 1) & (evaluate['outcome'] == 1)].shape[0]\n",
    "FN = evaluate[ (evaluate['pred'] == 0) & (evaluate['outcome'] == 1)].shape[0]\n",
    "FP = evaluate[ (evaluate['pred'] == 1) & (evaluate['outcome'] == 0)].shape[0]\n",
    "sensitivity = TP/(FN+TP)\n",
    "specificity = TN/(FP+TN)\n",
    "print('sens: '+ str(sensitivity) +', spec: '+ str(specificity))"
   ]
  },
  {
   "cell_type": "code",
   "execution_count": 7,
   "id": "997c95fa",
   "metadata": {},
   "outputs": [
    {
     "data": {
      "text/plain": [
       "541"
      ]
     },
     "execution_count": 7,
     "metadata": {},
     "output_type": "execute_result"
    }
   ],
   "source": [
    "sum(pred_train)"
   ]
  },
  {
   "cell_type": "code",
   "execution_count": null,
   "id": "db6f4235",
   "metadata": {},
   "outputs": [],
   "source": [
    "Baseline().print_model(data_train)"
   ]
  },
  {
   "cell_type": "code",
   "execution_count": null,
   "id": "0bf395fe",
   "metadata": {},
   "outputs": [],
   "source": [
    "# SpecialTree on testing\n",
    "\n",
    "pred_test = SpecialTree().predict(data_test)\n",
    "evaluate = pd.DataFrame(data = {'outcome': data_test['outcome'], \n",
    "                                'pred': pred_test})\n",
    "TN = evaluate[ (evaluate['pred'] == 0) & (evaluate['outcome'] == 0)].shape[0]\n",
    "TP = evaluate[ (evaluate['pred'] == 1) & (evaluate['outcome'] == 1)].shape[0]\n",
    "FN = evaluate[ (evaluate['pred'] == 0) & (evaluate['outcome'] == 1)].shape[0]\n",
    "FP = evaluate[ (evaluate['pred'] == 1) & (evaluate['outcome'] == 0)].shape[0]\n",
    "sensitivity = TP/(FN+TP)\n",
    "specificity = TN/(FP+TN)\n",
    "print('sens: '+ str(sensitivity) +', spec: '+ str(specificity))"
   ]
  },
  {
   "cell_type": "code",
   "execution_count": null,
   "id": "6a461e2d",
   "metadata": {},
   "outputs": [],
   "source": [
    "# Baseline on testing\n",
    "pred_test = Baseline().predict(data_test)\n",
    "evaluate = pd.DataFrame(data = {'outcome': data_test['outcome'], \n",
    "                                'pred': pred_test})\n",
    "TN = evaluate[ (evaluate['pred'] == 0) & (evaluate['outcome'] == 0)].shape[0]\n",
    "TP = evaluate[ (evaluate['pred'] == 1) & (evaluate['outcome'] == 1)].shape[0]\n",
    "FN = evaluate[ (evaluate['pred'] == 0) & (evaluate['outcome'] == 1)].shape[0]\n",
    "FP = evaluate[ (evaluate['pred'] == 1) & (evaluate['outcome'] == 0)].shape[0]\n",
    "sensitivity = TP/(FN+TP)\n",
    "specificity = TN/(FP+TN)\n",
    "print('sens: '+ str(sensitivity) +', spec: '+ str(specificity))"
   ]
  }
 ],
 "metadata": {
  "kernelspec": {
   "display_name": "Python 3.8",
   "language": "python",
   "name": "python3"
  },
  "language_info": {
   "codemirror_mode": {
    "name": "ipython",
    "version": 3
   },
   "file_extension": ".py",
   "mimetype": "text/x-python",
   "name": "python",
   "nbconvert_exporter": "python",
   "pygments_lexer": "ipython3",
   "version": "3.8.3"
  }
 },
 "nbformat": 4,
 "nbformat_minor": 5
}
