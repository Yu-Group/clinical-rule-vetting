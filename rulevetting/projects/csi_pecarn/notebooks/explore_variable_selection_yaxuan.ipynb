{
 "cells": [
  {
   "cell_type": "code",
   "execution_count": 4,
   "id": "3a6fd903",
   "metadata": {},
   "outputs": [
    {
     "name": "stdout",
     "output_type": "stream",
     "text": [
      "/Users/Yaxuan/Github/stat-215-final/csi-pecarn-rule-vetting\n"
     ]
    },
    {
     "name": "stderr",
     "output_type": "stream",
     "text": [
      "/Users/Yaxuan/opt/anaconda3/envs/“rule-env”/lib/python3.7/site-packages/redis/connection.py:77: UserWarning: redis-py works best with hiredis. Please consider installing\n",
      "  warnings.warn(msg)\n"
     ]
    }
   ],
   "source": [
    "%load_ext autoreload\n",
    "%autoreload 2\n",
    "\n",
    "import numpy as np\n",
    "import pandas as pd\n",
    "\n",
    "import matplotlib.pyplot as plt\n",
    "%matplotlib inline\n",
    "import seaborn as sns\n",
    "\n",
    "import sys \n",
    "import os\n",
    "\n",
    "# this line walks up file directory so rule-vetting is cwd\n",
    "# Currently this breaks if chunk is run multiple times\n",
    "os.chdir(os.path.dirname(os.path.dirname(os.path.dirname(os.path.dirname(os.getcwd())))))\n",
    "print(os.getcwd())\n",
    "\n",
    "import rulevetting.api.viz as viz\n",
    "from rulevetting.projects.csi_pecarn.av_dataset import Dataset"
   ]
  },
  {
   "cell_type": "code",
   "execution_count": 5,
   "id": "9e079670",
   "metadata": {},
   "outputs": [],
   "source": [
    "avdf_all = Dataset().get_data(use_robust_av = False)\n",
    "avdf_ran = Dataset().get_data(use_robust_av = False, control_types=['ran'])\n",
    "avdf_moi = Dataset().get_data(use_robust_av = False, control_types=['moi'])\n",
    "avdf_ems = Dataset().get_data(use_robust_av = False, control_types=['ems'])\n",
    "\n",
    "avdf_ran_train = avdf_ran[0]\n",
    "avdf_ran_tuning = avdf_ran[1]\n",
    "avdf_ran_testing = avdf_ran[2]\n",
    "\n",
    "avdf_all_train = avdf_all[0]\n",
    "avdf_all_tuning = avdf_all[1]\n",
    "avdf_all_testing = avdf_all[2]\n",
    "\n",
    "avdf_ems_train = avdf_ems[0]\n",
    "avdf_ems_tuning = avdf_ems[1]\n",
    "avdf_ems_testing = avdf_ems[2]\n",
    "\n",
    "avdf_moi_train = avdf_moi[0]\n",
    "avdf_moi_tuning = avdf_moi[1]\n",
    "avdf_moi_testing = avdf_moi[2]\n"
   ]
  },
  {
   "cell_type": "markdown",
   "id": "e3b5a488",
   "metadata": {},
   "source": [
    "### Leonard (2011)"
   ]
  },
  {
   "cell_type": "code",
   "execution_count": 6,
   "id": "e126ea34",
   "metadata": {},
   "outputs": [],
   "source": [
    "Leonard = ['AlteredMentalStatus','FocalNeuroFindings','PainNeck','Torticollis',\n",
    "          'SubInj_TorsoTrunk','Predisposed','HighriskDiving','HighriskMVC']\n",
    "RF = ['AlteredMentalStatus','FocalNeuroFindings','PainNeck','Torticollis',\n",
    "          'LOC','NonAmbulatory','HighriskDiving','HighriskMVC']"
   ]
  },
  {
   "cell_type": "code",
   "execution_count": 103,
   "id": "5a3e2301",
   "metadata": {},
   "outputs": [
    {
     "data": {
      "text/plain": [
       "array([<AxesSubplot:title={'center':'0'}>,\n",
       "       <AxesSubplot:title={'center':'1'}>], dtype=object)"
      ]
     },
     "execution_count": 103,
     "metadata": {},
     "output_type": "execute_result"
    },
    {
     "data": {
      "image/png": "[encoded data removed]",
      "text/plain": [
       "<Figure size 432x288 with 2 Axes>"
      ]
     },
     "metadata": {
      "needs_background": "light"
     },
     "output_type": "display_data"
    }
   ],
   "source": [
    "avdf_all_train['indicator'] = avdf_all_train[Leonard].sum(axis = 1)\n",
    "avdf_all_train['indicator'].hist(by = avdf_all_train['csi_injury'])"
   ]
  },
  {
   "cell_type": "code",
   "execution_count": null,
   "id": "3d9a8477",
   "metadata": {},
   "outputs": [],
   "source": []
  },
  {
   "cell_type": "code",
   "execution_count": 92,
   "id": "3ddb49ae",
   "metadata": {},
   "outputs": [],
   "source": [
    "def find_best(data, v_list, method = \"gini\"):\n",
    "    '''\n",
    "    find the best one to split the data from a variable list\n",
    "    \n",
    "    Parameters:\n",
    "    data: same structure as what we get from Dataset().get_data()[0]\n",
    "    v_list: names of variable names we are considering\n",
    "    '''\n",
    "    \n",
    "    v = len(v_list)\n",
    "    n = data.shape[0]\n",
    "    \n",
    "    score = [1]*v\n",
    "    \n",
    "    for i in range(v):\n",
    "        \n",
    "        variable = v_list[i]\n",
    "        \n",
    "        v1c1 = data[(data[variable] == 1) & (data['csi_injury'] == 1)].shape[0]\n",
    "        v1c0 = data[(data[variable] == 1) & (data['csi_injury'] == 0)].shape[0]\n",
    "        if (v1c1+v1c0) == 0:\n",
    "            p1 = 1/2\n",
    "        else:\n",
    "            p1 = v1c1/(v1c1+v1c0)\n",
    "        \n",
    "        v0c1 = data[(data[variable] == 0) & (data['csi_injury'] == 1)].shape[0]\n",
    "        v0c0 = data[(data[variable] == 0) & (data['csi_injury'] == 0)].shape[0]\n",
    "        if (v0c1+v0c0) == 0:\n",
    "            p2 = 1/2\n",
    "        else:\n",
    "            p2 = v0c1/(v0c1+v0c0)\n",
    "        \n",
    "        if method == 'gini':\n",
    "            score[i] = (v1c1+v1c0)/n * p1 * (1-p1) + (v0c1+v0c0)/n * p2 * (1-p2)\n",
    "            \n",
    "        elif method == 'semi_gini':\n",
    "            score[i] = 1-p1\n",
    "            \n",
    "        # print(variable, p1, score[i])\n",
    "    \n",
    "    ind = score.index(min(score))\n",
    "    variable_best = v_list[ind]\n",
    "    v_list.remove(variable_best)\n",
    "    data_update = data[data[variable_best] == 0]\n",
    "    \n",
    "    return [variable_best, v_list, data_update]\n",
    "\n",
    "def find_best_two(data, v_list, method = \"gini\"):\n",
    "    '''\n",
    "    find the best one to split the data from a variable list\n",
    "    \n",
    "    Parameters:\n",
    "    data: same structure as what we get from Dataset().get_data()[0]\n",
    "    v_list: names of variable names we are considering\n",
    "    '''\n",
    "    \n",
    "    v = len(v_list)\n",
    "    n = data.shape[0]\n",
    "    \n",
    "    score = [1]*v\n",
    "    for i in range(v):\n",
    "        variable = v_list[i]\n",
    "        v1c1 = data[(data[variable] == 1) & (data['csi_injury'] == 1)].shape[0]\n",
    "        v1c0 = data[(data[variable] == 1) & (data['csi_injury'] == 0)].shape[0]\n",
    "        if (v1c1+v1c0) == 0:\n",
    "            p1 = 1/2\n",
    "        else:\n",
    "            p1 = v1c1/(v1c1+v1c0)\n",
    "        v0c1 = data[(data[variable] == 0) & (data['csi_injury'] == 1)].shape[0]\n",
    "        v0c0 = data[(data[variable] == 0) & (data['csi_injury'] == 0)].shape[0]\n",
    "        if (v0c1+v0c0) == 0:\n",
    "            p2 = 1/2\n",
    "        else:\n",
    "            p2 = v0c1/(v0c1+v0c0)\n",
    "        if method == 'gini':\n",
    "            score[i] = (v1c1+v1c0)/n * p1 * (1-p1) + (v0c1+v0c0)/n * p2 * (1-p2)  \n",
    "        elif method == 'semi_gini':\n",
    "            score[i] = 1-p1   \n",
    "        # print(variable, p1, score[i])\n",
    "    ind = score.index(min(score))\n",
    "    variable_best = v_list[ind]\n",
    "    v_list.remove(variable_best)\n",
    "    data_update = data[data[variable_best] == 0]\n",
    "    \n",
    "    # find the second rule\n",
    "    \n",
    "    data_selected = data[data[variable_best] == 1]\n",
    "    n0 = data_selected.shape[0]\n",
    "    \n",
    "    if n0 == 0:\n",
    "        variable_best_two = [variable_best, \"no observations\"]\n",
    "        return [variable_best_two, v_list, data_update]\n",
    "    \n",
    "    p0 = data_selected[data_selected['csi_injury'] == 1].shape[0]/n0\n",
    "    score0 = p0*(1-p0)\n",
    "    \n",
    "    score = [1]*(v-1)\n",
    "    for i in range(v-1):\n",
    "        variable = v_list[i]\n",
    "        \n",
    "        v1c1 = data_selected[(data_selected[variable] == 1) & (data_selected['csi_injury'] == 1)].shape[0]\n",
    "        v1c0 = data_selected[(data_selected[variable] == 1) & (data_selected['csi_injury'] == 0)].shape[0]\n",
    "        if (v1c1+v1c0) == 0:\n",
    "            p1 = 1/2\n",
    "        else:\n",
    "            p1 = v1c1/(v1c1+v1c0)\n",
    "        v0c1 = data_selected[(data_selected[variable] == 0) & (data_selected['csi_injury'] == 1)].shape[0]\n",
    "        v0c0 = data_selected[(data_selected[variable] == 0) & (data_selected['csi_injury'] == 0)].shape[0]\n",
    "        if (v0c1+v0c0) == 0:\n",
    "            p2 = 1/2\n",
    "        else:\n",
    "            p2 = v0c1/(v0c1+v0c0)\n",
    "    \n",
    "        score[i] = (v1c1+v1c0)/n0 * p1 * (1-p1) + (v0c1+v0c0)/n0 * p2 * (1-p2)  \n",
    "    \n",
    "    min_score = min(score)\n",
    "    if score0 <= min_score:\n",
    "        variable_best_two = [variable_best, \"no need\"]\n",
    "    else:\n",
    "        ind = score.index(min_score)\n",
    "        variable_best_two = [variable_best, v_list[ind]]\n",
    "    \n",
    "    return [variable_best_two, v_list, data_update]\n",
    "\n",
    "\n",
    "def make_decision_ob(observation, v_list):\n",
    "    \n",
    "    '''\n",
    "    make decision by v_list with two columns\n",
    "    '''\n",
    "    n = len(v_list)\n",
    "    for i in range(n):\n",
    "        \n",
    "        v0 = v_list[i][0]\n",
    "        v1 = v_list[i][1]\n",
    "        \n",
    "        if (observation[v0].item() == 1):\n",
    "            if (v1 in [\"no need\", 'no observations']):\n",
    "                return 0\n",
    "            elif (observation[v1].item() == 1):\n",
    "                return 1\n",
    "            \n",
    "    return 0\n",
    "        \n",
    "\n",
    "def make_decision_data(data, v_list):\n",
    "    \n",
    "    n = data.shape[0]\n",
    "    decision = [0]*n\n",
    "    for i in range(n):\n",
    "        observation = data.iloc[[i]]\n",
    "        decision[i] = make_decision_ob(observation, v_list)\n",
    "    return decision\n",
    "\n",
    "def evaluate_vlist(data, v_list, method = 'one'):\n",
    "    \n",
    "    data0 = pd.DataFrame({'csi_injury': data['csi_injury']})\n",
    "    \n",
    "    if method == \"one\":\n",
    "        indicator = data[v_list].sum(axis = 1)\n",
    "        data0['pred'] = [1 if (i > 0) else 0 for i in indicator]\n",
    "    if method == \"two\":\n",
    "        data0['pred'] = make_decision_data(data, v_list)\n",
    "\n",
    "    TN = data0[ (data0['pred'] == 0) & (data0['csi_injury'] == 0)].shape[0]\n",
    "    TP = data0[ (data0['pred'] == 1) & (data0['csi_injury'] == 1)].shape[0]\n",
    "    FN = data0[ (data0['pred'] == 0) & (data0['csi_injury'] == 1)].shape[0]\n",
    "    FP = data0[ (data0['pred'] == 1) & (data0['csi_injury'] == 0)].shape[0]\n",
    "    \n",
    "    sensitivity = TP/(FN+TP)\n",
    "    specificity = TN/(FP+TN)\n",
    "    \n",
    "    return [sensitivity, specificity]\n",
    "    "
   ]
  },
  {
   "cell_type": "code",
   "execution_count": 93,
   "id": "17e2f57c",
   "metadata": {},
   "outputs": [
    {
     "data": {
      "text/plain": [
       "['csi_injury', 'no need']"
      ]
     },
     "execution_count": 93,
     "metadata": {},
     "output_type": "execute_result"
    }
   ],
   "source": [
    "data = avdf_ems_train\n",
    "v_list = list(data.columns)\n",
    "# v_list.remove('csi_injury')\n",
    "result = find_best_two(data,v_list)\n",
    "result[0]"
   ]
  },
  {
   "cell_type": "code",
   "execution_count": 94,
   "id": "2dcb4725",
   "metadata": {},
   "outputs": [],
   "source": [
    "data = avdf_ems_train\n",
    "v_list = list(data.columns)\n",
    "v_list.remove('csi_injury')\n",
    "variable_rank_ems = []\n",
    "while len(v_list) > 0:\n",
    "    result = find_best_two(data,v_list)\n",
    "    variable_rank_ems.append(result[0])\n",
    "    v_list = result[1]\n",
    "    data = result[2]"
   ]
  },
  {
   "cell_type": "code",
   "execution_count": 95,
   "id": "a2c6966e",
   "metadata": {},
   "outputs": [
    {
     "data": {
      "text/plain": [
       "0.0"
      ]
     },
     "execution_count": 95,
     "metadata": {},
     "output_type": "execute_result"
    }
   ],
   "source": [
    "observation = data.iloc[[1]]\n",
    "v0 = variable_rank_ems[1][1]\n",
    "observation[v0].item()"
   ]
  },
  {
   "cell_type": "code",
   "execution_count": 100,
   "id": "9247dc89",
   "metadata": {},
   "outputs": [
    {
     "data": {
      "text/plain": [
       "[0.2756183745583039, 0.9105691056910569]"
      ]
     },
     "execution_count": 100,
     "metadata": {},
     "output_type": "execute_result"
    }
   ],
   "source": [
    "data = avdf_ems_train\n",
    "evaluate_vlist(data,variable_rank_ems[0:8], method = 'two')"
   ]
  },
  {
   "cell_type": "code",
   "execution_count": 97,
   "id": "dd82cc4a",
   "metadata": {},
   "outputs": [
    {
     "data": {
      "text/plain": [
       "[0.9222614840989399, 0.4742547425474255]"
      ]
     },
     "execution_count": 97,
     "metadata": {},
     "output_type": "execute_result"
    }
   ],
   "source": [
    "evaluate_vlist(avdf_ems_train, Leonard)"
   ]
  },
  {
   "cell_type": "code",
   "execution_count": 28,
   "id": "08edd16f",
   "metadata": {},
   "outputs": [
    {
     "data": {
      "text/plain": [
       "[['FocalNeuroFindings', 'SubInj_Ext'],\n",
       " ['Torticollis', 'NonAmbulatory'],\n",
       " ['AlteredMentalStatus', 'SubInj_TorsoTrunk'],\n",
       " ['PainNeck', 'HighriskDiving'],\n",
       " ['HighriskDiving', 'no need'],\n",
       " ['Predisposed', 'LOC'],\n",
       " ['Clotheslining', 'LOC'],\n",
       " ['HighriskMVC', 'LOC'],\n",
       " ['PosMidNeckTenderness', 'SubInj_TorsoTrunk'],\n",
       " ['LOC', 'HighriskHitByCar'],\n",
       " ['axialloadtop', 'no need'],\n",
       " ['HighriskHitByCar', 'SubInj_TorsoTrunk'],\n",
       " ['NonAmbulatory', 'TenderNeck'],\n",
       " ['SubInj_Ext', 'no need'],\n",
       " ['AxialLoadAnyDoc', 'SubInj_Face'],\n",
       " ['TenderNeck', 'no need'],\n",
       " ['SubInj_Face', 'no need'],\n",
       " ['SubInj_Head', 'no oobservations'],\n",
       " ['SubInj_TorsoTrunk', 'no oobservations'],\n",
       " ['HighriskFall', 'no oobservations'],\n",
       " ['HighriskHanging', 'no oobservations'],\n",
       " ['HighriskOtherMV', 'no oobservations']]"
      ]
     },
     "execution_count": 28,
     "metadata": {},
     "output_type": "execute_result"
    }
   ],
   "source": [
    "variable_rank_ems"
   ]
  },
  {
   "cell_type": "code",
   "execution_count": 254,
   "id": "07c7e331",
   "metadata": {},
   "outputs": [],
   "source": [
    "data = avdf_ems_train\n",
    "v_list = list(data.columns)\n",
    "v_list.remove('csi_injury')\n",
    "variable_rank_ems = []\n",
    "while len(v_list) > 0:\n",
    "    result = find_best(data,v_list)\n",
    "    variable_rank_ems.append(result[0])\n",
    "    v_list = result[1]\n",
    "    data = result[2]"
   ]
  },
  {
   "cell_type": "code",
   "execution_count": 255,
   "id": "ad7eeebc",
   "metadata": {},
   "outputs": [],
   "source": [
    "data = avdf_moi_train\n",
    "v_list = list(data.columns)\n",
    "v_list.remove('csi_injury')\n",
    "variable_rank_moi = []\n",
    "while len(v_list) > 0:\n",
    "    result = find_best(data,v_list)\n",
    "    variable_rank_moi.append(result[0])\n",
    "    v_list = result[1]\n",
    "    data = result[2]"
   ]
  },
  {
   "cell_type": "code",
   "execution_count": 256,
   "id": "753c15ba",
   "metadata": {},
   "outputs": [
    {
     "data": {
      "text/plain": [
       "['FocalNeuroFindings',\n",
       " 'Torticollis',\n",
       " 'AlteredMentalStatus',\n",
       " 'PainNeck',\n",
       " 'HighriskDiving',\n",
       " 'Predisposed',\n",
       " 'Clotheslining',\n",
       " 'HighriskMVC']"
      ]
     },
     "execution_count": 256,
     "metadata": {},
     "output_type": "execute_result"
    }
   ],
   "source": [
    "variable_rank_ems[0:8] "
   ]
  },
  {
   "cell_type": "code",
   "execution_count": 257,
   "id": "b9dd9047",
   "metadata": {},
   "outputs": [
    {
     "data": {
      "text/plain": [
       "['FocalNeuroFindings',\n",
       " 'AlteredMentalStatus',\n",
       " 'PainNeck',\n",
       " 'Torticollis',\n",
       " 'Predisposed',\n",
       " 'HighriskDiving',\n",
       " 'Clotheslining',\n",
       " 'HighriskMVC']"
      ]
     },
     "execution_count": 257,
     "metadata": {},
     "output_type": "execute_result"
    }
   ],
   "source": [
    "variable_rank_moi[0:8] "
   ]
  },
  {
   "cell_type": "code",
   "execution_count": 258,
   "id": "e8d184e5",
   "metadata": {},
   "outputs": [
    {
     "data": {
      "text/plain": [
       "['AlteredMentalStatus',\n",
       " 'FocalNeuroFindings',\n",
       " 'PainNeck',\n",
       " 'Torticollis',\n",
       " 'SubInj_TorsoTrunk',\n",
       " 'Predisposed',\n",
       " 'HighriskDiving',\n",
       " 'HighriskMVC']"
      ]
     },
     "execution_count": 258,
     "metadata": {},
     "output_type": "execute_result"
    }
   ],
   "source": [
    "Leonard"
   ]
  },
  {
   "cell_type": "code",
   "execution_count": 81,
   "id": "2907fe46",
   "metadata": {},
   "outputs": [
    {
     "data": {
      "text/plain": [
       "[0.9222614840989399, 0.4742547425474255]"
      ]
     },
     "execution_count": 81,
     "metadata": {},
     "output_type": "execute_result"
    }
   ],
   "source": [
    "evaluate_vlist(avdf_ems_train, Leonard)"
   ]
  },
  {
   "cell_type": "code",
   "execution_count": 261,
   "id": "f9c2743d",
   "metadata": {},
   "outputs": [
    {
     "data": {
      "text/plain": [
       "[0.9187279151943463, 0.40892193308550184]"
      ]
     },
     "execution_count": 261,
     "metadata": {},
     "output_type": "execute_result"
    }
   ],
   "source": [
    "evaluate_vlist(avdf_ran_train, variable_rank_moi[0:8])"
   ]
  },
  {
   "cell_type": "code",
   "execution_count": 262,
   "id": "1050b7f6",
   "metadata": {},
   "outputs": [
    {
     "data": {
      "text/plain": [
       "[0.9166666666666666, 0.4207650273224044]"
      ]
     },
     "execution_count": 262,
     "metadata": {},
     "output_type": "execute_result"
    }
   ],
   "source": [
    "evaluate_vlist(avdf_ran_tuning, Leonard)"
   ]
  },
  {
   "cell_type": "code",
   "execution_count": 263,
   "id": "47968da5",
   "metadata": {},
   "outputs": [
    {
     "data": {
      "text/plain": [
       "[0.90625, 0.4426229508196721]"
      ]
     },
     "execution_count": 263,
     "metadata": {},
     "output_type": "execute_result"
    }
   ],
   "source": [
    "evaluate_vlist(avdf_ran_tuning, variable_rank_moi[0:8])"
   ]
  },
  {
   "cell_type": "code",
   "execution_count": 289,
   "id": "7ecd6c80",
   "metadata": {},
   "outputs": [],
   "source": [
    "data = avdf_ran_train\n",
    "v_list = list(data.columns)\n",
    "v_list.remove('csi_injury')\n",
    "variable_rank = []\n",
    "while len(v_list) > 0:\n",
    "    result = find_best(data,v_list,method = 'semi_gini')\n",
    "    variable_rank.append(result[0])\n",
    "    v_list = result[1]\n",
    "    data = result[2]"
   ]
  },
  {
   "cell_type": "code",
   "execution_count": 291,
   "id": "c7eab982",
   "metadata": {},
   "outputs": [
    {
     "name": "stdout",
     "output_type": "stream",
     "text": [
      "[0.9222614840989399, 0.395910780669145]\n",
      "[0.9328621908127208, 0.3903345724907063]\n"
     ]
    }
   ],
   "source": [
    "print(evaluate_vlist(avdf_ran_train, Leonard))\n",
    "print(evaluate_vlist(avdf_ran_train, variable_rank[0:11]))"
   ]
  },
  {
   "cell_type": "code",
   "execution_count": 295,
   "id": "a751ffb0",
   "metadata": {},
   "outputs": [
    {
     "name": "stdout",
     "output_type": "stream",
     "text": [
      "[0.9166666666666666, 0.4207650273224044]\n",
      "[0.9270833333333334, 0.4098360655737705]\n"
     ]
    }
   ],
   "source": [
    "print(evaluate_vlist(avdf_ran_tuning, Leonard))\n",
    "print(evaluate_vlist(avdf_ran_tuning, variable_rank[0:11]))"
   ]
  },
  {
   "cell_type": "code",
   "execution_count": 297,
   "id": "2777a1ae",
   "metadata": {},
   "outputs": [
    {
     "data": {
      "text/plain": [
       "['HighriskDiving',\n",
       " 'FocalNeuroFindings',\n",
       " 'Predisposed',\n",
       " 'Clotheslining',\n",
       " 'SubInj_TorsoTrunk',\n",
       " 'Torticollis',\n",
       " 'HighriskMVC',\n",
       " 'axialloadtop',\n",
       " 'AlteredMentalStatus',\n",
       " 'HighriskHanging',\n",
       " 'PainNeck']"
      ]
     },
     "execution_count": 297,
     "metadata": {},
     "output_type": "execute_result"
    }
   ],
   "source": [
    "variable_rank[0:11]"
   ]
  },
  {
   "cell_type": "code",
   "execution_count": 287,
   "id": "28a64e37",
   "metadata": {},
   "outputs": [
    {
     "data": {
      "text/plain": [
       "['AlteredMentalStatus',\n",
       " 'FocalNeuroFindings',\n",
       " 'PainNeck',\n",
       " 'Torticollis',\n",
       " 'SubInj_TorsoTrunk',\n",
       " 'Predisposed',\n",
       " 'HighriskDiving',\n",
       " 'HighriskMVC']"
      ]
     },
     "execution_count": 287,
     "metadata": {},
     "output_type": "execute_result"
    }
   ],
   "source": [
    "Leonard"
   ]
  }
 ],
 "metadata": {
  "kernelspec": {
   "display_name": "Python 3 (ipykernel)",
   "language": "python",
   "name": "python3"
  },
  "language_info": {
   "codemirror_mode": {
    "name": "ipython",
    "version": 3
   },
   "file_extension": ".py",
   "mimetype": "text/x-python",
   "name": "python",
   "nbconvert_exporter": "python",
   "pygments_lexer": "ipython3",
   "version": "3.7.0"
  }
 },
 "nbformat": 4,
 "nbformat_minor": 5
}
