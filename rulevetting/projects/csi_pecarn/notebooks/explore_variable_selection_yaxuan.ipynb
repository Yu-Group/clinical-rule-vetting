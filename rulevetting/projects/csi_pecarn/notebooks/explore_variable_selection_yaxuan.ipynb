{
 "cells": [
  {
   "cell_type": "code",
   "execution_count": 3,
   "id": "3a6fd903",
   "metadata": {},
   "outputs": [
    {
     "name": "stdout",
     "output_type": "stream",
     "text": [
      "The autoreload extension is already loaded. To reload it, use:\n",
      "  %reload_ext autoreload\n",
      "/\n"
     ]
    }
   ],
   "source": [
    "%load_ext autoreload\n",
    "%autoreload 2\n",
    "\n",
    "import numpy as np\n",
    "import pandas as pd\n",
    "\n",
    "import matplotlib.pyplot as plt\n",
    "%matplotlib inline\n",
    "import seaborn as sns\n",
    "\n",
    "import sys \n",
    "import os\n",
    "\n",
    "# this line walks up file directory so rule-vetting is cwd\n",
    "# Currently this breaks if chunk is run multiple times\n",
    "os.chdir(os.path.dirname(os.path.dirname(os.path.dirname(os.path.dirname(os.getcwd())))))\n",
    "print(os.getcwd())\n",
    "\n",
    "import rulevetting.api.viz as viz\n",
    "from rulevetting.projects.csi_pecarn.av_dataset import Dataset"
   ]
  },
  {
   "cell_type": "code",
   "execution_count": 4,
   "id": "9e079670",
   "metadata": {},
   "outputs": [
    {
     "name": "stdout",
     "output_type": "stream",
     "text": [
      "preprocess_data kwargs {'frac_missing_allowed': 0.05}\n",
      "split_data kwargs {'control_types': ['ran', 'moi', 'ems']}\n",
      "['ran', 'moi', 'ems']\n"
     ]
    },
    {
     "ename": "KeyError",
     "evalue": "1",
     "output_type": "error",
     "traceback": [
      "\u001b[0;31m---------------------------------------------------------------------------\u001b[0m",
      "\u001b[0;31mKeyError\u001b[0m                                  Traceback (most recent call last)",
      "\u001b[0;32m<ipython-input-4-e84538f425ee>\u001b[0m in \u001b[0;36m<module>\u001b[0;34m\u001b[0m\n\u001b[0;32m----> 1\u001b[0;31m \u001b[0mavdf_all\u001b[0m \u001b[0;34m=\u001b[0m \u001b[0mDataset\u001b[0m\u001b[0;34m(\u001b[0m\u001b[0;34m)\u001b[0m\u001b[0;34m.\u001b[0m\u001b[0mget_data\u001b[0m\u001b[0;34m(\u001b[0m\u001b[0muse_robust_av\u001b[0m \u001b[0;34m=\u001b[0m \u001b[0;32mFalse\u001b[0m\u001b[0;34m)\u001b[0m\u001b[0;34m\u001b[0m\u001b[0;34m\u001b[0m\u001b[0m\n\u001b[0m\u001b[1;32m      2\u001b[0m \u001b[0mavdf_ran\u001b[0m \u001b[0;34m=\u001b[0m \u001b[0mDataset\u001b[0m\u001b[0;34m(\u001b[0m\u001b[0;34m)\u001b[0m\u001b[0;34m.\u001b[0m\u001b[0mget_data\u001b[0m\u001b[0;34m(\u001b[0m\u001b[0muse_robust_av\u001b[0m \u001b[0;34m=\u001b[0m \u001b[0;32mFalse\u001b[0m\u001b[0;34m,\u001b[0m \u001b[0mcontrol_types\u001b[0m\u001b[0;34m=\u001b[0m\u001b[0;34m[\u001b[0m\u001b[0;34m'ran'\u001b[0m\u001b[0;34m]\u001b[0m\u001b[0;34m)\u001b[0m\u001b[0;34m\u001b[0m\u001b[0;34m\u001b[0m\u001b[0m\n\u001b[1;32m      3\u001b[0m \u001b[0mavdf_moi\u001b[0m \u001b[0;34m=\u001b[0m \u001b[0mDataset\u001b[0m\u001b[0;34m(\u001b[0m\u001b[0;34m)\u001b[0m\u001b[0;34m.\u001b[0m\u001b[0mget_data\u001b[0m\u001b[0;34m(\u001b[0m\u001b[0muse_robust_av\u001b[0m \u001b[0;34m=\u001b[0m \u001b[0;32mFalse\u001b[0m\u001b[0;34m,\u001b[0m \u001b[0mcontrol_types\u001b[0m\u001b[0;34m=\u001b[0m\u001b[0;34m[\u001b[0m\u001b[0;34m'moi'\u001b[0m\u001b[0;34m]\u001b[0m\u001b[0;34m)\u001b[0m\u001b[0;34m\u001b[0m\u001b[0;34m\u001b[0m\u001b[0m\n\u001b[1;32m      4\u001b[0m \u001b[0mavdf_ems\u001b[0m \u001b[0;34m=\u001b[0m \u001b[0mDataset\u001b[0m\u001b[0;34m(\u001b[0m\u001b[0;34m)\u001b[0m\u001b[0;34m.\u001b[0m\u001b[0mget_data\u001b[0m\u001b[0;34m(\u001b[0m\u001b[0muse_robust_av\u001b[0m \u001b[0;34m=\u001b[0m \u001b[0;32mFalse\u001b[0m\u001b[0;34m,\u001b[0m \u001b[0mcontrol_types\u001b[0m\u001b[0;34m=\u001b[0m\u001b[0;34m[\u001b[0m\u001b[0;34m'ems'\u001b[0m\u001b[0;34m]\u001b[0m\u001b[0;34m)\u001b[0m\u001b[0;34m\u001b[0m\u001b[0;34m\u001b[0m\u001b[0m\n\u001b[1;32m      5\u001b[0m \u001b[0;34m\u001b[0m\u001b[0m\n",
      "\u001b[0;32m~/rule-vetting/rulevetting/projects/csi_pecarn/av_dataset.py\u001b[0m in \u001b[0;36mget_data\u001b[0;34m(self, save_csvs, data_path, load_csvs, run_perturbations, control_types, use_robust_av)\u001b[0m\n\u001b[1;32m    209\u001b[0m             \u001b[0mcleaned_data\u001b[0m \u001b[0;34m=\u001b[0m \u001b[0mcache\u001b[0m\u001b[0;34m(\u001b[0m\u001b[0mself\u001b[0m\u001b[0;34m.\u001b[0m\u001b[0mclean_data\u001b[0m\u001b[0;34m)\u001b[0m\u001b[0;34m(\u001b[0m\u001b[0mdata_path\u001b[0m\u001b[0;34m=\u001b[0m\u001b[0mdata_path\u001b[0m\u001b[0;34m,\u001b[0m \u001b[0;34m**\u001b[0m\u001b[0;34m{\u001b[0m\u001b[0;34m'use_robust_av'\u001b[0m\u001b[0;34m:\u001b[0m \u001b[0muse_robust_av\u001b[0m\u001b[0;34m}\u001b[0m\u001b[0;34m)\u001b[0m\u001b[0;34m\u001b[0m\u001b[0;34m\u001b[0m\u001b[0m\n\u001b[1;32m    210\u001b[0m             \u001b[0mpreprocessed_data\u001b[0m \u001b[0;34m=\u001b[0m \u001b[0mcache\u001b[0m\u001b[0;34m(\u001b[0m\u001b[0mself\u001b[0m\u001b[0;34m.\u001b[0m\u001b[0mpreprocess_data\u001b[0m\u001b[0;34m)\u001b[0m\u001b[0;34m(\u001b[0m\u001b[0mcleaned_data\u001b[0m\u001b[0;34m,\u001b[0m \u001b[0;34m**\u001b[0m\u001b[0mdefault_kwargs\u001b[0m\u001b[0;34m[\u001b[0m\u001b[0;34m'preprocess_data'\u001b[0m\u001b[0;34m]\u001b[0m\u001b[0;34m)\u001b[0m\u001b[0;34m\u001b[0m\u001b[0;34m\u001b[0m\u001b[0m\n\u001b[0;32m--> 211\u001b[0;31m             \u001b[0mdf_train\u001b[0m\u001b[0;34m,\u001b[0m \u001b[0mdf_tune\u001b[0m\u001b[0;34m,\u001b[0m \u001b[0mdf_test\u001b[0m \u001b[0;34m=\u001b[0m \u001b[0mcache\u001b[0m\u001b[0;34m(\u001b[0m\u001b[0mself\u001b[0m\u001b[0;34m.\u001b[0m\u001b[0msplit_data\u001b[0m\u001b[0;34m)\u001b[0m\u001b[0;34m(\u001b[0m\u001b[0mpreprocessed_data\u001b[0m\u001b[0;34m,\u001b[0m \u001b[0;34m**\u001b[0m\u001b[0;34m{\u001b[0m\u001b[0;34m'control_types'\u001b[0m\u001b[0;34m:\u001b[0m \u001b[0mcontrol_types\u001b[0m\u001b[0;34m}\u001b[0m\u001b[0;34m)\u001b[0m\u001b[0;34m\u001b[0m\u001b[0;34m\u001b[0m\u001b[0m\n\u001b[0m\u001b[1;32m    212\u001b[0m         \u001b[0;32melif\u001b[0m \u001b[0mrun_perturbations\u001b[0m\u001b[0;34m:\u001b[0m\u001b[0;34m\u001b[0m\u001b[0;34m\u001b[0m\u001b[0m\n\u001b[1;32m    213\u001b[0m             \u001b[0mdata_path_arg\u001b[0m \u001b[0;34m=\u001b[0m \u001b[0minit_args\u001b[0m\u001b[0;34m(\u001b[0m\u001b[0;34m[\u001b[0m\u001b[0mdata_path\u001b[0m\u001b[0;34m]\u001b[0m\u001b[0;34m,\u001b[0m \u001b[0mnames\u001b[0m\u001b[0;34m=\u001b[0m\u001b[0;34m[\u001b[0m\u001b[0;34m'data_path'\u001b[0m\u001b[0;34m]\u001b[0m\u001b[0;34m)\u001b[0m\u001b[0;34m[\u001b[0m\u001b[0;36m0\u001b[0m\u001b[0;34m]\u001b[0m\u001b[0;34m\u001b[0m\u001b[0;34m\u001b[0m\u001b[0m\n",
      "\u001b[0;32m/usr/local/linux/anaconda3.8/lib/python3.8/site-packages/joblib/memory.py\u001b[0m in \u001b[0;36m__call__\u001b[0;34m(self, *args, **kwargs)\u001b[0m\n\u001b[1;32m    563\u001b[0m \u001b[0;34m\u001b[0m\u001b[0m\n\u001b[1;32m    564\u001b[0m     \u001b[0;32mdef\u001b[0m \u001b[0m__call__\u001b[0m\u001b[0;34m(\u001b[0m\u001b[0mself\u001b[0m\u001b[0;34m,\u001b[0m \u001b[0;34m*\u001b[0m\u001b[0margs\u001b[0m\u001b[0;34m,\u001b[0m \u001b[0;34m**\u001b[0m\u001b[0mkwargs\u001b[0m\u001b[0;34m)\u001b[0m\u001b[0;34m:\u001b[0m\u001b[0;34m\u001b[0m\u001b[0;34m\u001b[0m\u001b[0m\n\u001b[0;32m--> 565\u001b[0;31m         \u001b[0;32mreturn\u001b[0m \u001b[0mself\u001b[0m\u001b[0;34m.\u001b[0m\u001b[0m_cached_call\u001b[0m\u001b[0;34m(\u001b[0m\u001b[0margs\u001b[0m\u001b[0;34m,\u001b[0m \u001b[0mkwargs\u001b[0m\u001b[0;34m)\u001b[0m\u001b[0;34m[\u001b[0m\u001b[0;36m0\u001b[0m\u001b[0;34m]\u001b[0m\u001b[0;34m\u001b[0m\u001b[0;34m\u001b[0m\u001b[0m\n\u001b[0m\u001b[1;32m    566\u001b[0m \u001b[0;34m\u001b[0m\u001b[0m\n\u001b[1;32m    567\u001b[0m     \u001b[0;32mdef\u001b[0m \u001b[0m__getstate__\u001b[0m\u001b[0;34m(\u001b[0m\u001b[0mself\u001b[0m\u001b[0;34m)\u001b[0m\u001b[0;34m:\u001b[0m\u001b[0;34m\u001b[0m\u001b[0;34m\u001b[0m\u001b[0m\n",
      "\u001b[0;32m/usr/local/linux/anaconda3.8/lib/python3.8/site-packages/joblib/memory.py\u001b[0m in \u001b[0;36m_cached_call\u001b[0;34m(self, args, kwargs, shelving)\u001b[0m\n\u001b[1;32m    529\u001b[0m \u001b[0;34m\u001b[0m\u001b[0m\n\u001b[1;32m    530\u001b[0m         \u001b[0;32mif\u001b[0m \u001b[0mmust_call\u001b[0m\u001b[0;34m:\u001b[0m\u001b[0;34m\u001b[0m\u001b[0;34m\u001b[0m\u001b[0m\n\u001b[0;32m--> 531\u001b[0;31m             \u001b[0mout\u001b[0m\u001b[0;34m,\u001b[0m \u001b[0mmetadata\u001b[0m \u001b[0;34m=\u001b[0m \u001b[0mself\u001b[0m\u001b[0;34m.\u001b[0m\u001b[0mcall\u001b[0m\u001b[0;34m(\u001b[0m\u001b[0;34m*\u001b[0m\u001b[0margs\u001b[0m\u001b[0;34m,\u001b[0m \u001b[0;34m**\u001b[0m\u001b[0mkwargs\u001b[0m\u001b[0;34m)\u001b[0m\u001b[0;34m\u001b[0m\u001b[0;34m\u001b[0m\u001b[0m\n\u001b[0m\u001b[1;32m    532\u001b[0m             \u001b[0;32mif\u001b[0m \u001b[0mself\u001b[0m\u001b[0;34m.\u001b[0m\u001b[0mmmap_mode\u001b[0m \u001b[0;32mis\u001b[0m \u001b[0;32mnot\u001b[0m \u001b[0;32mNone\u001b[0m\u001b[0;34m:\u001b[0m\u001b[0;34m\u001b[0m\u001b[0;34m\u001b[0m\u001b[0m\n\u001b[1;32m    533\u001b[0m                 \u001b[0;31m# Memmap the output at the first call to be consistent with\u001b[0m\u001b[0;34m\u001b[0m\u001b[0;34m\u001b[0m\u001b[0;34m\u001b[0m\u001b[0m\n",
      "\u001b[0;32m/usr/local/linux/anaconda3.8/lib/python3.8/site-packages/joblib/memory.py\u001b[0m in \u001b[0;36mcall\u001b[0;34m(self, *args, **kwargs)\u001b[0m\n\u001b[1;32m    725\u001b[0m         \u001b[0;32mif\u001b[0m \u001b[0mself\u001b[0m\u001b[0;34m.\u001b[0m\u001b[0m_verbose\u001b[0m \u001b[0;34m>\u001b[0m \u001b[0;36m0\u001b[0m\u001b[0;34m:\u001b[0m\u001b[0;34m\u001b[0m\u001b[0;34m\u001b[0m\u001b[0m\n\u001b[1;32m    726\u001b[0m             \u001b[0mprint\u001b[0m\u001b[0;34m(\u001b[0m\u001b[0mformat_call\u001b[0m\u001b[0;34m(\u001b[0m\u001b[0mself\u001b[0m\u001b[0;34m.\u001b[0m\u001b[0mfunc\u001b[0m\u001b[0;34m,\u001b[0m \u001b[0margs\u001b[0m\u001b[0;34m,\u001b[0m \u001b[0mkwargs\u001b[0m\u001b[0;34m)\u001b[0m\u001b[0;34m)\u001b[0m\u001b[0;34m\u001b[0m\u001b[0;34m\u001b[0m\u001b[0m\n\u001b[0;32m--> 727\u001b[0;31m         \u001b[0moutput\u001b[0m \u001b[0;34m=\u001b[0m \u001b[0mself\u001b[0m\u001b[0;34m.\u001b[0m\u001b[0mfunc\u001b[0m\u001b[0;34m(\u001b[0m\u001b[0;34m*\u001b[0m\u001b[0margs\u001b[0m\u001b[0;34m,\u001b[0m \u001b[0;34m**\u001b[0m\u001b[0mkwargs\u001b[0m\u001b[0;34m)\u001b[0m\u001b[0;34m\u001b[0m\u001b[0;34m\u001b[0m\u001b[0m\n\u001b[0m\u001b[1;32m    728\u001b[0m         self.store_backend.dump_item(\n\u001b[1;32m    729\u001b[0m             [func_id, args_id], output, verbose=self._verbose)\n",
      "\u001b[0;32m~/rule-vetting/rulevetting/projects/csi_pecarn/av_dataset.py\u001b[0m in \u001b[0;36msplit_data\u001b[0;34m(self, preprocessed_data, **kwargs)\u001b[0m\n\u001b[1;32m    125\u001b[0m         \u001b[0;32mfor\u001b[0m \u001b[0mss\u001b[0m \u001b[0;32min\u001b[0m \u001b[0mstudy_site_list\u001b[0m\u001b[0;34m:\u001b[0m\u001b[0;34m\u001b[0m\u001b[0;34m\u001b[0m\u001b[0m\n\u001b[1;32m    126\u001b[0m             \u001b[0;32mfor\u001b[0m \u001b[0mct\u001b[0m \u001b[0;32min\u001b[0m \u001b[0mselected_control_types\u001b[0m\u001b[0;34m:\u001b[0m\u001b[0;34m\u001b[0m\u001b[0;34m\u001b[0m\u001b[0m\n\u001b[0;32m--> 127\u001b[0;31m                 \u001b[0msplit_subset\u001b[0m \u001b[0;34m=\u001b[0m \u001b[0mpreprocessed_data\u001b[0m\u001b[0;34m.\u001b[0m\u001b[0mxs\u001b[0m\u001b[0;34m(\u001b[0m\u001b[0;34m(\u001b[0m\u001b[0mss\u001b[0m\u001b[0;34m,\u001b[0m \u001b[0mct\u001b[0m\u001b[0;34m)\u001b[0m\u001b[0;34m,\u001b[0m \u001b[0mlevel\u001b[0m\u001b[0;34m=\u001b[0m\u001b[0;34m(\u001b[0m\u001b[0;34m'site'\u001b[0m\u001b[0;34m,\u001b[0m\u001b[0;34m'control_type'\u001b[0m\u001b[0;34m)\u001b[0m\u001b[0;34m,\u001b[0m \u001b[0mdrop_level\u001b[0m\u001b[0;34m=\u001b[0m\u001b[0;32mFalse\u001b[0m\u001b[0;34m)\u001b[0m \u001b[0;31m# subset to split\u001b[0m\u001b[0;34m\u001b[0m\u001b[0;34m\u001b[0m\u001b[0m\n\u001b[0m\u001b[1;32m    128\u001b[0m \u001b[0;34m\u001b[0m\u001b[0m\n\u001b[1;32m    129\u001b[0m                 \u001b[0;31m# do the splitting below\u001b[0m\u001b[0;34m\u001b[0m\u001b[0;34m\u001b[0m\u001b[0;34m\u001b[0m\u001b[0m\n",
      "\u001b[0;32m/usr/local/linux/anaconda3.8/lib/python3.8/site-packages/pandas/core/generic.py\u001b[0m in \u001b[0;36mxs\u001b[0;34m(self, key, axis, level, drop_level)\u001b[0m\n\u001b[1;32m   3709\u001b[0m             \u001b[0;32mif\u001b[0m \u001b[0;32mnot\u001b[0m \u001b[0misinstance\u001b[0m\u001b[0;34m(\u001b[0m\u001b[0mlabels\u001b[0m\u001b[0;34m,\u001b[0m \u001b[0mMultiIndex\u001b[0m\u001b[0;34m)\u001b[0m\u001b[0;34m:\u001b[0m\u001b[0;34m\u001b[0m\u001b[0;34m\u001b[0m\u001b[0m\n\u001b[1;32m   3710\u001b[0m                 \u001b[0;32mraise\u001b[0m \u001b[0mTypeError\u001b[0m\u001b[0;34m(\u001b[0m\u001b[0;34m\"Index must be a MultiIndex\"\u001b[0m\u001b[0;34m)\u001b[0m\u001b[0;34m\u001b[0m\u001b[0;34m\u001b[0m\u001b[0m\n\u001b[0;32m-> 3711\u001b[0;31m             \u001b[0mloc\u001b[0m\u001b[0;34m,\u001b[0m \u001b[0mnew_ax\u001b[0m \u001b[0;34m=\u001b[0m \u001b[0mlabels\u001b[0m\u001b[0;34m.\u001b[0m\u001b[0mget_loc_level\u001b[0m\u001b[0;34m(\u001b[0m\u001b[0mkey\u001b[0m\u001b[0;34m,\u001b[0m \u001b[0mlevel\u001b[0m\u001b[0;34m=\u001b[0m\u001b[0mlevel\u001b[0m\u001b[0;34m,\u001b[0m \u001b[0mdrop_level\u001b[0m\u001b[0;34m=\u001b[0m\u001b[0mdrop_level\u001b[0m\u001b[0;34m)\u001b[0m\u001b[0;34m\u001b[0m\u001b[0;34m\u001b[0m\u001b[0m\n\u001b[0m\u001b[1;32m   3712\u001b[0m \u001b[0;34m\u001b[0m\u001b[0m\n\u001b[1;32m   3713\u001b[0m             \u001b[0;31m# create the tuple of the indexer\u001b[0m\u001b[0;34m\u001b[0m\u001b[0;34m\u001b[0m\u001b[0;34m\u001b[0m\u001b[0m\n",
      "\u001b[0;32m/usr/local/linux/anaconda3.8/lib/python3.8/site-packages/pandas/core/indexes/multi.py\u001b[0m in \u001b[0;36mget_loc_level\u001b[0;34m(self, key, level, drop_level)\u001b[0m\n\u001b[1;32m   2963\u001b[0m         \u001b[0;32melse\u001b[0m\u001b[0;34m:\u001b[0m\u001b[0;34m\u001b[0m\u001b[0;34m\u001b[0m\u001b[0m\n\u001b[1;32m   2964\u001b[0m             \u001b[0mlevel\u001b[0m \u001b[0;34m=\u001b[0m \u001b[0;34m[\u001b[0m\u001b[0mself\u001b[0m\u001b[0;34m.\u001b[0m\u001b[0m_get_level_number\u001b[0m\u001b[0;34m(\u001b[0m\u001b[0mlev\u001b[0m\u001b[0;34m)\u001b[0m \u001b[0;32mfor\u001b[0m \u001b[0mlev\u001b[0m \u001b[0;32min\u001b[0m \u001b[0mlevel\u001b[0m\u001b[0;34m]\u001b[0m\u001b[0;34m\u001b[0m\u001b[0;34m\u001b[0m\u001b[0m\n\u001b[0;32m-> 2965\u001b[0;31m         \u001b[0;32mreturn\u001b[0m \u001b[0mself\u001b[0m\u001b[0;34m.\u001b[0m\u001b[0m_get_loc_level\u001b[0m\u001b[0;34m(\u001b[0m\u001b[0mkey\u001b[0m\u001b[0;34m,\u001b[0m \u001b[0mlevel\u001b[0m\u001b[0;34m=\u001b[0m\u001b[0mlevel\u001b[0m\u001b[0;34m,\u001b[0m \u001b[0mdrop_level\u001b[0m\u001b[0;34m=\u001b[0m\u001b[0mdrop_level\u001b[0m\u001b[0;34m)\u001b[0m\u001b[0;34m\u001b[0m\u001b[0;34m\u001b[0m\u001b[0m\n\u001b[0m\u001b[1;32m   2966\u001b[0m \u001b[0;34m\u001b[0m\u001b[0m\n\u001b[1;32m   2967\u001b[0m     def _get_loc_level(\n",
      "\u001b[0;32m/usr/local/linux/anaconda3.8/lib/python3.8/site-packages/pandas/core/indexes/multi.py\u001b[0m in \u001b[0;36m_get_loc_level\u001b[0;34m(self, key, level, drop_level)\u001b[0m\n\u001b[1;32m   2995\u001b[0m             \u001b[0mresult\u001b[0m \u001b[0;34m=\u001b[0m \u001b[0;32mNone\u001b[0m\u001b[0;34m\u001b[0m\u001b[0;34m\u001b[0m\u001b[0m\n\u001b[1;32m   2996\u001b[0m             \u001b[0;32mfor\u001b[0m \u001b[0mlev\u001b[0m\u001b[0;34m,\u001b[0m \u001b[0mk\u001b[0m \u001b[0;32min\u001b[0m \u001b[0mzip\u001b[0m\u001b[0;34m(\u001b[0m\u001b[0mlevel\u001b[0m\u001b[0;34m,\u001b[0m \u001b[0mkey\u001b[0m\u001b[0;34m)\u001b[0m\u001b[0;34m:\u001b[0m\u001b[0;34m\u001b[0m\u001b[0;34m\u001b[0m\u001b[0m\n\u001b[0;32m-> 2997\u001b[0;31m                 \u001b[0mloc\u001b[0m\u001b[0;34m,\u001b[0m \u001b[0mnew_index\u001b[0m \u001b[0;34m=\u001b[0m \u001b[0mself\u001b[0m\u001b[0;34m.\u001b[0m\u001b[0m_get_loc_level\u001b[0m\u001b[0;34m(\u001b[0m\u001b[0mk\u001b[0m\u001b[0;34m,\u001b[0m \u001b[0mlevel\u001b[0m\u001b[0;34m=\u001b[0m\u001b[0mlev\u001b[0m\u001b[0;34m)\u001b[0m\u001b[0;34m\u001b[0m\u001b[0;34m\u001b[0m\u001b[0m\n\u001b[0m\u001b[1;32m   2998\u001b[0m                 \u001b[0;32mif\u001b[0m \u001b[0misinstance\u001b[0m\u001b[0;34m(\u001b[0m\u001b[0mloc\u001b[0m\u001b[0;34m,\u001b[0m \u001b[0mslice\u001b[0m\u001b[0;34m)\u001b[0m\u001b[0;34m:\u001b[0m\u001b[0;34m\u001b[0m\u001b[0;34m\u001b[0m\u001b[0m\n\u001b[1;32m   2999\u001b[0m                     \u001b[0mmask\u001b[0m \u001b[0;34m=\u001b[0m \u001b[0mnp\u001b[0m\u001b[0;34m.\u001b[0m\u001b[0mzeros\u001b[0m\u001b[0;34m(\u001b[0m\u001b[0mlen\u001b[0m\u001b[0;34m(\u001b[0m\u001b[0mself\u001b[0m\u001b[0;34m)\u001b[0m\u001b[0;34m,\u001b[0m \u001b[0mdtype\u001b[0m\u001b[0;34m=\u001b[0m\u001b[0mbool\u001b[0m\u001b[0;34m)\u001b[0m\u001b[0;34m\u001b[0m\u001b[0;34m\u001b[0m\u001b[0m\n",
      "\u001b[0;32m/usr/local/linux/anaconda3.8/lib/python3.8/site-packages/pandas/core/indexes/multi.py\u001b[0m in \u001b[0;36m_get_loc_level\u001b[0;34m(self, key, level, drop_level)\u001b[0m\n\u001b[1;32m   3066\u001b[0m                 \u001b[0;32mreturn\u001b[0m \u001b[0mindexer\u001b[0m\u001b[0;34m,\u001b[0m \u001b[0mmaybe_mi_droplevels\u001b[0m\u001b[0;34m(\u001b[0m\u001b[0mindexer\u001b[0m\u001b[0;34m,\u001b[0m \u001b[0milevels\u001b[0m\u001b[0;34m,\u001b[0m \u001b[0mdrop_level\u001b[0m\u001b[0;34m)\u001b[0m\u001b[0;34m\u001b[0m\u001b[0;34m\u001b[0m\u001b[0m\n\u001b[1;32m   3067\u001b[0m         \u001b[0;32melse\u001b[0m\u001b[0;34m:\u001b[0m\u001b[0;34m\u001b[0m\u001b[0;34m\u001b[0m\u001b[0m\n\u001b[0;32m-> 3068\u001b[0;31m             \u001b[0mindexer\u001b[0m \u001b[0;34m=\u001b[0m \u001b[0mself\u001b[0m\u001b[0;34m.\u001b[0m\u001b[0m_get_level_indexer\u001b[0m\u001b[0;34m(\u001b[0m\u001b[0mkey\u001b[0m\u001b[0;34m,\u001b[0m \u001b[0mlevel\u001b[0m\u001b[0;34m=\u001b[0m\u001b[0mlevel\u001b[0m\u001b[0;34m)\u001b[0m\u001b[0;34m\u001b[0m\u001b[0;34m\u001b[0m\u001b[0m\n\u001b[0m\u001b[1;32m   3069\u001b[0m             \u001b[0;32mreturn\u001b[0m \u001b[0mindexer\u001b[0m\u001b[0;34m,\u001b[0m \u001b[0mmaybe_mi_droplevels\u001b[0m\u001b[0;34m(\u001b[0m\u001b[0mindexer\u001b[0m\u001b[0;34m,\u001b[0m \u001b[0;34m[\u001b[0m\u001b[0mlevel\u001b[0m\u001b[0;34m]\u001b[0m\u001b[0;34m,\u001b[0m \u001b[0mdrop_level\u001b[0m\u001b[0;34m)\u001b[0m\u001b[0;34m\u001b[0m\u001b[0;34m\u001b[0m\u001b[0m\n\u001b[1;32m   3070\u001b[0m \u001b[0;34m\u001b[0m\u001b[0m\n",
      "\u001b[0;32m/usr/local/linux/anaconda3.8/lib/python3.8/site-packages/pandas/core/indexes/multi.py\u001b[0m in \u001b[0;36m_get_level_indexer\u001b[0;34m(self, key, level, indexer)\u001b[0m\n\u001b[1;32m   3163\u001b[0m                 \u001b[0;32mif\u001b[0m \u001b[0;32mnot\u001b[0m \u001b[0mlocs\u001b[0m\u001b[0;34m.\u001b[0m\u001b[0many\u001b[0m\u001b[0;34m(\u001b[0m\u001b[0;34m)\u001b[0m\u001b[0;34m:\u001b[0m\u001b[0;34m\u001b[0m\u001b[0;34m\u001b[0m\u001b[0m\n\u001b[1;32m   3164\u001b[0m                     \u001b[0;31m# The label is present in self.levels[level] but unused:\u001b[0m\u001b[0;34m\u001b[0m\u001b[0;34m\u001b[0m\u001b[0;34m\u001b[0m\u001b[0m\n\u001b[0;32m-> 3165\u001b[0;31m                     \u001b[0;32mraise\u001b[0m \u001b[0mKeyError\u001b[0m\u001b[0;34m(\u001b[0m\u001b[0mkey\u001b[0m\u001b[0;34m)\u001b[0m\u001b[0;34m\u001b[0m\u001b[0;34m\u001b[0m\u001b[0m\n\u001b[0m\u001b[1;32m   3166\u001b[0m                 \u001b[0;32mreturn\u001b[0m \u001b[0mlocs\u001b[0m\u001b[0;34m\u001b[0m\u001b[0;34m\u001b[0m\u001b[0m\n\u001b[1;32m   3167\u001b[0m \u001b[0;34m\u001b[0m\u001b[0m\n",
      "\u001b[0;31mKeyError\u001b[0m: 1"
     ]
    }
   ],
   "source": [
    "avdf_all = Dataset().get_data(use_robust_av = False)\n",
    "avdf_ran = Dataset().get_data(use_robust_av = False, control_types=['ran'])\n",
    "avdf_moi = Dataset().get_data(use_robust_av = False, control_types=['moi'])\n",
    "avdf_ems = Dataset().get_data(use_robust_av = False, control_types=['ems'])\n",
    "\n",
    "avdf_ran_train = avdf_ran[0]\n",
    "avdf_ran_tuning = avdf_ran[1]\n",
    "avdf_ran_testing = avdf_ran[2]\n",
    "\n",
    "avdf_all_train = avdf_all[0]\n",
    "avdf_all_tuning = avdf_all[1]\n",
    "avdf_all_testing = avdf_all[2]\n",
    "\n",
    "avdf_ems_train = avdf_ems[0]\n",
    "avdf_ems_tuning = avdf_ems[1]\n",
    "avdf_ems_testing = avdf_ems[2]\n",
    "\n",
    "avdf_moi_train = avdf_moi[0]\n",
    "avdf_moi_tuning = avdf_moi[1]\n",
    "avdf_moi_testing = avdf_moi[2]\n"
   ]
  },
  {
   "cell_type": "markdown",
   "id": "e3b5a488",
   "metadata": {},
   "source": [
    "### Leonard (2011)"
   ]
  },
  {
   "cell_type": "code",
   "execution_count": null,
   "id": "e126ea34",
   "metadata": {},
   "outputs": [],
   "source": [
    "Leonard = ['AlteredMentalStatus','FocalNeuroFindings','PainNeck','Torticollis',\n",
    "          'SubInj_TorsoTrunk','Predisposed','HighriskDiving','HighriskMVC']\n",
    "RF = ['AlteredMentalStatus','FocalNeuroFindings','PainNeck','Torticollis',\n",
    "          'LOC','NonAmbulatory','HighriskDiving','HighriskMVC']"
   ]
  },
  {
   "cell_type": "code",
   "execution_count": null,
   "id": "237aa37a",
   "metadata": {},
   "outputs": [],
   "source": [
    "v_list = listavdf_all_train.columns\n",
    "v_list.remove('outcome')"
   ]
  },
  {
   "cell_type": "code",
   "execution_count": null,
   "id": "5a3e2301",
   "metadata": {},
   "outputs": [],
   "source": [
    "# avdf_all_train['indicator'] = avdf_all_train[v_list].sum(axis = 1)\n",
    "# avdf_all_train['indicator'].hist(by = avdf_all_train['outcome'])"
   ]
  },
  {
   "cell_type": "code",
   "execution_count": null,
   "id": "3ddb49ae",
   "metadata": {},
   "outputs": [],
   "source": [
    "def find_best(data, v_list, method = \"gini\"):\n",
    "    '''\n",
    "    find the best one to split the data from a variable list\n",
    "    \n",
    "    Parameters:\n",
    "    data: same structure as what we get from Dataset().get_data()[0]\n",
    "    v_list: names of variable names we are considering\n",
    "    '''\n",
    "    \n",
    "    v = len(v_list)\n",
    "    n = data.shape[0]\n",
    "    \n",
    "    score = [1]*v\n",
    "    \n",
    "    for i in range(v):\n",
    "        \n",
    "        variable = v_list[i]\n",
    "        \n",
    "        v1c1 = data[(data[variable] == 1) & (data['outcome'] == 1)].shape[0]\n",
    "        v1c0 = data[(data[variable] == 1) & (data['outcome'] == 0)].shape[0]\n",
    "        if (v1c1+v1c0) == 0:\n",
    "            p1 = 1/2\n",
    "        else:\n",
    "            p1 = v1c1/(v1c1+v1c0)\n",
    "        \n",
    "        v0c1 = data[(data[variable] == 0) & (data['outcome'] == 1)].shape[0]\n",
    "        v0c0 = data[(data[variable] == 0) & (data['outcome'] == 0)].shape[0]\n",
    "        if (v0c1+v0c0) == 0:\n",
    "            p2 = 1/2\n",
    "        else:\n",
    "            p2 = v0c1/(v0c1+v0c0)\n",
    "        \n",
    "        if method == 'gini':\n",
    "            score[i] = (v1c1+v1c0)/n * p1 * (1-p1) + (v0c1+v0c0)/n * p2 * (1-p2)\n",
    "            \n",
    "        elif method == 'semi_gini':\n",
    "            score[i] = 1-p1\n",
    "            \n",
    "        # print(variable, p1, score[i])\n",
    "    \n",
    "    ind = score.index(min(score))\n",
    "    variable_best = v_list[ind]\n",
    "    v_list.remove(variable_best)\n",
    "    data_update = data[data[variable_best] == 0]\n",
    "    \n",
    "    return [variable_best, v_list, data_update]\n",
    "\n",
    "def find_best_two(data, v_list, method = \"gini\"):\n",
    "    '''\n",
    "    find the best one to split the data from a variable list\n",
    "    \n",
    "    Parameters:\n",
    "    data: same structure as what we get from Dataset().get_data()[0]\n",
    "    v_list: names of variable names we are considering\n",
    "    '''\n",
    "    \n",
    "    v = len(v_list)\n",
    "    n = data.shape[0]\n",
    "    \n",
    "    score = [1]*v\n",
    "    for i in range(v):\n",
    "        variable = v_list[i]\n",
    "        v1c1 = data[(data[variable] == 1) & (data['outcome'] == 1)].shape[0]\n",
    "        v1c0 = data[(data[variable] == 1) & (data['outcome'] == 0)].shape[0]\n",
    "        if (v1c1+v1c0) == 0:\n",
    "            p1 = 1/2\n",
    "        else:\n",
    "            p1 = v1c1/(v1c1+v1c0)\n",
    "        v0c1 = data[(data[variable] == 0) & (data['outcome'] == 1)].shape[0]\n",
    "        v0c0 = data[(data[variable] == 0) & (data['outcome'] == 0)].shape[0]\n",
    "        if (v0c1+v0c0) == 0:\n",
    "            p2 = 1/2\n",
    "        else:\n",
    "            p2 = v0c1/(v0c1+v0c0)\n",
    "        if method == 'gini':\n",
    "            score[i] = (v1c1+v1c0)/n * p1 * (1-p1) + (v0c1+v0c0)/n * p2 * (1-p2)  \n",
    "        elif method == 'semi_gini':\n",
    "            score[i] = 1-p1   \n",
    "        # print(variable, p1, score[i])\n",
    "    ind = score.index(min(score))\n",
    "    variable_best = v_list[ind]\n",
    "    v_list.remove(variable_best)\n",
    "    data_update = data[data[variable_best] == 0]\n",
    "    \n",
    "    # find the second rule\n",
    "    \n",
    "    data_selected = data[data[variable_best] == 1]\n",
    "    n0 = data_selected.shape[0]\n",
    "    \n",
    "    if n0 == 0:\n",
    "        variable_best_two = [variable_best, \"no observations\"]\n",
    "        return [variable_best_two, v_list, data_update]\n",
    "    \n",
    "    p0 = data_selected[data_selected['outcome'] == 1].shape[0]/n0\n",
    "    score0 = p0*(1-p0)\n",
    "    \n",
    "    score = [1]*(v-1)\n",
    "    for i in range(v-1):\n",
    "        variable = v_list[i]\n",
    "        \n",
    "        v1c1 = data_selected[(data_selected[variable] == 1) & (data_selected['outcome'] == 1)].shape[0]\n",
    "        v1c0 = data_selected[(data_selected[variable] == 1) & (data_selected['outcome'] == 0)].shape[0]\n",
    "        if (v1c1+v1c0) == 0:\n",
    "            p1 = 1/2\n",
    "        else:\n",
    "            p1 = v1c1/(v1c1+v1c0)\n",
    "        v0c1 = data_selected[(data_selected[variable] == 0) & (data_selected['outcome'] == 1)].shape[0]\n",
    "        v0c0 = data_selected[(data_selected[variable] == 0) & (data_selected['outcome'] == 0)].shape[0]\n",
    "        if (v0c1+v0c0) == 0:\n",
    "            p2 = 1/2\n",
    "        else:\n",
    "            p2 = v0c1/(v0c1+v0c0)\n",
    "    \n",
    "        # use gini index -- will improve specificity but great hurt sensitivity\n",
    "        # score[i] = (v1c1+v1c0)/n0 * p1 * (1-p1) + (v0c1+v0c0)/n0 * p2 * (1-p2)  \n",
    "        score[i] = p2\n",
    "    \n",
    "    min_score = min(score)\n",
    "    if min_score > 0.1:\n",
    "        variable_best_two = [variable_best, \"no need\"]\n",
    "    else:\n",
    "        ind = score.index(min_score)\n",
    "        variable_best_two = [variable_best, v_list[ind]]\n",
    "    \n",
    "    return [variable_best_two, v_list, data_update]\n",
    "\n",
    "\n",
    "def make_decision_ob(observation, v_list):\n",
    "    \n",
    "    '''\n",
    "    make decision by v_list with two columns\n",
    "    '''\n",
    "    n = len(v_list)\n",
    "    for i in range(n):\n",
    "        \n",
    "        v0 = v_list[i][0]\n",
    "        v1 = v_list[i][1]\n",
    "        \n",
    "        if (observation[v0].item() == 1):\n",
    "            if (v1 in [\"no need\", 'no observations']):\n",
    "                return 1\n",
    "            elif (observation[v1].item() == 1):\n",
    "                return 1\n",
    "            \n",
    "    return 0\n",
    "        \n",
    "\n",
    "def make_decision_data(data, v_list):\n",
    "    \n",
    "    n = data.shape[0]\n",
    "    decision = [0]*n\n",
    "    for i in range(n):\n",
    "        observation = data.iloc[[i]]\n",
    "        decision[i] = make_decision_ob(observation, v_list)\n",
    "    return decision\n",
    "\n",
    "def evaluate_vlist(data, v_list, method = 'one'):\n",
    "    \n",
    "    data0 = pd.DataFrame({'outcome': data['outcome']})\n",
    "    \n",
    "    if method == \"one\":\n",
    "        indicator = data[v_list].sum(axis = 1)\n",
    "        data0['pred'] = [1 if (i > 0) else 0 for i in indicator]\n",
    "    if method == \"two\":\n",
    "        data0['pred'] = make_decision_data(data, v_list)\n",
    "\n",
    "    TN = data0[ (data0['pred'] == 0) & (data0['outcome'] == 0)].shape[0]\n",
    "    TP = data0[ (data0['pred'] == 1) & (data0['outcome'] == 1)].shape[0]\n",
    "    FN = data0[ (data0['pred'] == 0) & (data0['outcome'] == 1)].shape[0]\n",
    "    FP = data0[ (data0['pred'] == 1) & (data0['outcome'] == 0)].shape[0]\n",
    "    \n",
    "    sensitivity = TP/(FN+TP)\n",
    "    specificity = TN/(FP+TN)\n",
    "    \n",
    "    return [sensitivity, specificity]\n",
    "    "
   ]
  },
  {
   "cell_type": "code",
   "execution_count": null,
   "id": "17e2f57c",
   "metadata": {},
   "outputs": [],
   "source": [
    "data = avdf_ems_train\n",
    "v_list = list(data.columns)\n",
    "# v_list.remove('outcome')\n",
    "result = find_best_two(data,v_list)\n",
    "result[0]"
   ]
  },
  {
   "cell_type": "code",
   "execution_count": null,
   "id": "2dcb4725",
   "metadata": {},
   "outputs": [],
   "source": [
    "data = avdf_all_train\n",
    "v_list = list(data.columns)\n",
    "v_list.remove('outcome')\n",
    "variable_rank_ems = []\n",
    "while len(v_list) > 0:\n",
    "    result = find_best_two(data,v_list)\n",
    "    variable_rank_ems.append(result[0])\n",
    "    v_list = result[1]\n",
    "    data = result[2]"
   ]
  },
  {
   "cell_type": "code",
   "execution_count": null,
   "id": "a2c6966e",
   "metadata": {},
   "outputs": [],
   "source": [
    "variable_rank_ems[0:8]"
   ]
  },
  {
   "cell_type": "code",
   "execution_count": null,
   "id": "9247dc89",
   "metadata": {},
   "outputs": [],
   "source": [
    "data = avdf_all_train\n",
    "evaluate_vlist(data,variable_rank_ems[0:8], method = 'two')"
   ]
  },
  {
   "cell_type": "code",
   "execution_count": null,
   "id": "2d84f300",
   "metadata": {},
   "outputs": [],
   "source": [
    "v_list = variable_rank_ems\n",
    "data = avdf_all_train\n",
    "l = len(v_list)\n",
    "ind = range(l)\n",
    "sens = [0]*l\n",
    "spec = [0]*l\n",
    "for i in ind:\n",
    "    r = evaluate_vlist(data,v_list[0:i], method = 'two')\n",
    "    sens[i] = r[0]\n",
    "    spec[i] = r[1]\n",
    "\n",
    "d = {'num': ind, 'sensitivity': sens, 'specificity': spec}\n",
    "evaluation = pd.DataFrame(data = d)\n",
    "fig, ax = plt.subplots(figsize=(6,4))\n",
    "sns.lineplot(x='sensitivity', y= 'specificity', data = evaluation, marker='d')"
   ]
  },
  {
   "cell_type": "code",
   "execution_count": null,
   "id": "dd82cc4a",
   "metadata": {},
   "outputs": [],
   "source": [
    "evaluate_vlist(avdf_all_train, Leonard)"
   ]
  },
  {
   "cell_type": "code",
   "execution_count": null,
   "id": "08edd16f",
   "metadata": {},
   "outputs": [],
   "source": [
    "variable_rank_ems"
   ]
  },
  {
   "cell_type": "code",
   "execution_count": null,
   "id": "07c7e331",
   "metadata": {},
   "outputs": [],
   "source": [
    "data = avdf_ems_train\n",
    "v_list = list(data.columns)\n",
    "v_list.remove('outcome')\n",
    "variable_rank_ems = []\n",
    "while len(v_list) > 0:\n",
    "    result = find_best(data,v_list)\n",
    "    variable_rank_ems.append(result[0])\n",
    "    v_list = result[1]\n",
    "    data = result[2]"
   ]
  },
  {
   "cell_type": "code",
   "execution_count": null,
   "id": "ad7eeebc",
   "metadata": {},
   "outputs": [],
   "source": [
    "data = avdf_moi_train\n",
    "v_list = list(data.columns)\n",
    "v_list.remove('outcome')\n",
    "variable_rank_moi = []\n",
    "while len(v_list) > 0:\n",
    "    result = find_best(data,v_list)\n",
    "    variable_rank_moi.append(result[0])\n",
    "    v_list = result[1]\n",
    "    data = result[2]"
   ]
  },
  {
   "cell_type": "code",
   "execution_count": null,
   "id": "753c15ba",
   "metadata": {},
   "outputs": [],
   "source": [
    "variable_rank_ems[0:8] "
   ]
  },
  {
   "cell_type": "code",
   "execution_count": null,
   "id": "b9dd9047",
   "metadata": {},
   "outputs": [],
   "source": [
    "variable_rank_moi[0:8] "
   ]
  },
  {
   "cell_type": "code",
   "execution_count": null,
   "id": "e8d184e5",
   "metadata": {},
   "outputs": [],
   "source": [
    "Leonard"
   ]
  },
  {
   "cell_type": "code",
   "execution_count": null,
   "id": "2907fe46",
   "metadata": {},
   "outputs": [],
   "source": [
    "evaluate_vlist(avdf_ems_train, Leonard)"
   ]
  },
  {
   "cell_type": "code",
   "execution_count": null,
   "id": "f9c2743d",
   "metadata": {},
   "outputs": [],
   "source": [
    "evaluate_vlist(avdf_ran_train, variable_rank_moi[0:8])"
   ]
  },
  {
   "cell_type": "code",
   "execution_count": null,
   "id": "1050b7f6",
   "metadata": {},
   "outputs": [],
   "source": [
    "evaluate_vlist(avdf_ran_tuning, Leonard)"
   ]
  },
  {
   "cell_type": "code",
   "execution_count": null,
   "id": "47968da5",
   "metadata": {},
   "outputs": [],
   "source": [
    "evaluate_vlist(avdf_ran_tuning, variable_rank_moi[0:8])"
   ]
  },
  {
   "cell_type": "code",
   "execution_count": null,
   "id": "7ecd6c80",
   "metadata": {},
   "outputs": [],
   "source": [
    "data = avdf_ran_train\n",
    "v_list = list(data.columns)\n",
    "v_list.remove('outcome')\n",
    "variable_rank = []\n",
    "while len(v_list) > 0:\n",
    "    result = find_best(data,v_list,method = 'semi_gini')\n",
    "    variable_rank.append(result[0])\n",
    "    v_list = result[1]\n",
    "    data = result[2]"
   ]
  },
  {
   "cell_type": "code",
   "execution_count": null,
   "id": "c7eab982",
   "metadata": {},
   "outputs": [],
   "source": [
    "print(evaluate_vlist(avdf_ran_train, Leonard))\n",
    "print(evaluate_vlist(avdf_ran_train, variable_rank[0:11]))"
   ]
  },
  {
   "cell_type": "code",
   "execution_count": null,
   "id": "a751ffb0",
   "metadata": {},
   "outputs": [],
   "source": [
    "print(evaluate_vlist(avdf_ran_tuning, Leonard))\n",
    "print(evaluate_vlist(avdf_ran_tuning, variable_rank[0:11]))"
   ]
  },
  {
   "cell_type": "code",
   "execution_count": null,
   "id": "2777a1ae",
   "metadata": {},
   "outputs": [],
   "source": [
    "variable_rank[0:11]"
   ]
  },
  {
   "cell_type": "code",
   "execution_count": null,
   "id": "28a64e37",
   "metadata": {},
   "outputs": [],
   "source": [
    "Leonard"
   ]
  }
 ],
 "metadata": {
  "kernelspec": {
   "display_name": "Python 3.8",
   "language": "python",
   "name": "python3"
  },
  "language_info": {
   "codemirror_mode": {
    "name": "ipython",
    "version": 3
   },
   "file_extension": ".py",
   "mimetype": "text/x-python",
   "name": "python",
   "nbconvert_exporter": "python",
   "pygments_lexer": "ipython3",
   "version": "3.8.3"
  }
 },
 "nbformat": 4,
 "nbformat_minor": 5
}
