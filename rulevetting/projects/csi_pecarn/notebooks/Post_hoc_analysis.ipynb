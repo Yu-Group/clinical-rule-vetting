{
 "cells": [
  {
   "cell_type": "code",
   "execution_count": 118,
   "id": "38cbafb6",
   "metadata": {},
   "outputs": [
    {
     "name": "stdout",
     "output_type": "stream",
     "text": [
      "The autoreload extension is already loaded. To reload it, use:\n",
      "  %reload_ext autoreload\n",
      "/\n"
     ]
    }
   ],
   "source": [
    "%load_ext autoreload\n",
    "%autoreload 2\n",
    "\n",
    "import numpy as np\n",
    "import pandas as pd\n",
    "import matplotlib.pyplot as plt\n",
    "%matplotlib inline\n",
    "import seaborn as sns\n",
    "import sys \n",
    "import os\n",
    "\n",
    "# this line walks up file directory so rule-vetting is cwd\n",
    "# Currently this breaks if chunk is run multiple times\n",
    "os.chdir(os.path.dirname(os.path.dirname(os.path.dirname(os.path.dirname(os.getcwd())))))\n",
    "print(os.getcwd())\n",
    "\n",
    "import rulevetting.api.viz as viz\n",
    "from rulevetting.projects.csi_pecarn.dataset import Dataset\n",
    "from rulevetting.projects.csi_pecarn.tree_functions import *\n",
    "from rulevetting.projects.csi_pecarn.baseline import Baseline\n",
    "from rulevetting.projects.csi_pecarn.model_best import SpecialTree\n",
    "\n",
    "from sklearn import tree\n",
    "from sklearn.inspection import permutation_importance\n",
    "from sklearn.ensemble import RandomForestClassifier\n",
    "from sklearn.metrics import RocCurveDisplay\n",
    "sns.set_style(\"white\")"
   ]
  },
  {
   "cell_type": "code",
   "execution_count": 119,
   "id": "a602963c",
   "metadata": {},
   "outputs": [],
   "source": [
    "df_ran = Dataset().get_data(control_types=['ran'])\n",
    "\n",
    "\n",
    "df0 = df_ran[0]\n",
    "df1 = df_ran[1]\n",
    "df2 = df_ran[2]\n",
    "\n",
    "# \n",
    "# df0 = df0[(df0['NonVerbal'] == 1) & (df0['VeryYoung'] == 0)]\n",
    "# df1 = df1[(df1['NonVerbal'] == 1) & (df1['VeryYoung'] == 0)]\n",
    "# df2 = df2[(df2['NonVerbal'] == 1) & (df2['VeryYoung'] == 0)]\n",
    "\n",
    "frames = [df0,df1]\n",
    "\n",
    "data_train = pd.concat(frames)\n",
    "data_test = df2"
   ]
  },
  {
   "cell_type": "code",
   "execution_count": 120,
   "id": "b828debd",
   "metadata": {},
   "outputs": [
    {
     "name": "stdout",
     "output_type": "stream",
     "text": [
      "sens: 0.966542750929368,spec: 0.34355828220858897\n"
     ]
    }
   ],
   "source": [
    "# SpecialTree on training+tuning\n",
    "\n",
    "pred_train = SpecialTree().predict(data_train)\n",
    "evaluate = pd.DataFrame(data = {'outcome': data_train['outcome'], \n",
    "                                'pred': pred_train})\n",
    "TN = evaluate[ (evaluate['pred'] == 0) & (evaluate['outcome'] == 0)].shape[0]\n",
    "TP = evaluate[ (evaluate['pred'] == 1) & (evaluate['outcome'] == 1)].shape[0]\n",
    "FN = evaluate[ (evaluate['pred'] == 0) & (evaluate['outcome'] == 1)].shape[0]\n",
    "FP = evaluate[ (evaluate['pred'] == 1) & (evaluate['outcome'] == 0)].shape[0]\n",
    "sensitivity = TP/(FN+TP)\n",
    "specificity = TN/(FP+TN)\n",
    "print('sens: '+ str(sensitivity) +',spec: '+ str(specificity))"
   ]
  },
  {
   "cell_type": "code",
   "execution_count": 121,
   "id": "68bf2e37",
   "metadata": {},
   "outputs": [
    {
     "data": {
      "text/plain": [
       "'Classification summary: 581 patients labeled 1 and 177 patients labeled 0.'"
      ]
     },
     "execution_count": 121,
     "metadata": {},
     "output_type": "execute_result"
    }
   ],
   "source": [
    "SpecialTree().print_model(data_train)"
   ]
  },
  {
   "cell_type": "code",
   "execution_count": 122,
   "id": "a07f19bc",
   "metadata": {},
   "outputs": [
    {
     "name": "stdout",
     "output_type": "stream",
     "text": [
      "sens: 0.9182156133828996, spec: 0.3987730061349693\n"
     ]
    }
   ],
   "source": [
    "# Baseline on training+tuning\n",
    "\n",
    "pred_train = Baseline().predict(data_train)\n",
    "evaluate = pd.DataFrame(data = {'outcome': data_train['outcome'], \n",
    "                                'pred': pred_train})\n",
    "TN = evaluate[ (evaluate['pred'] == 0) & (evaluate['outcome'] == 0)].shape[0]\n",
    "TP = evaluate[ (evaluate['pred'] == 1) & (evaluate['outcome'] == 1)].shape[0]\n",
    "FN = evaluate[ (evaluate['pred'] == 0) & (evaluate['outcome'] == 1)].shape[0]\n",
    "FP = evaluate[ (evaluate['pred'] == 1) & (evaluate['outcome'] == 0)].shape[0]\n",
    "sensitivity = TP/(FN+TP)\n",
    "specificity = TN/(FP+TN)\n",
    "print('sens: '+ str(sensitivity) +', spec: '+ str(specificity))"
   ]
  },
  {
   "cell_type": "code",
   "execution_count": 123,
   "id": "997c95fa",
   "metadata": {},
   "outputs": [
    {
     "data": {
      "text/plain": [
       "541"
      ]
     },
     "execution_count": 123,
     "metadata": {},
     "output_type": "execute_result"
    }
   ],
   "source": [
    "sum(pred_train)"
   ]
  },
  {
   "cell_type": "code",
   "execution_count": 124,
   "id": "db6f4235",
   "metadata": {},
   "outputs": [
    {
     "data": {
      "text/plain": [
       "'Classification summary: 541 patients labeled 1 and 217 patients labeled 0.'"
      ]
     },
     "execution_count": 124,
     "metadata": {},
     "output_type": "execute_result"
    }
   ],
   "source": [
    "Baseline().print_model(data_train)"
   ]
  },
  {
   "cell_type": "code",
   "execution_count": 125,
   "id": "0bf395fe",
   "metadata": {},
   "outputs": [
    {
     "name": "stdout",
     "output_type": "stream",
     "text": [
      "sens: 0.96, spec: 0.366412213740458\n"
     ]
    }
   ],
   "source": [
    "# SpecialTree on testing\n",
    "\n",
    "pred_test = SpecialTree().predict(data_test)\n",
    "evaluate = pd.DataFrame(data = {'outcome': data_test['outcome'], \n",
    "                                'pred': pred_test})\n",
    "TN = evaluate[ (evaluate['pred'] == 0) & (evaluate['outcome'] == 0)].shape[0]\n",
    "TP = evaluate[ (evaluate['pred'] == 1) & (evaluate['outcome'] == 1)].shape[0]\n",
    "FN = evaluate[ (evaluate['pred'] == 0) & (evaluate['outcome'] == 1)].shape[0]\n",
    "FP = evaluate[ (evaluate['pred'] == 1) & (evaluate['outcome'] == 0)].shape[0]\n",
    "sensitivity = TP/(FN+TP)\n",
    "specificity = TN/(FP+TN)\n",
    "print('sens: '+ str(sensitivity) +', spec: '+ str(specificity))"
   ]
  },
  {
   "cell_type": "code",
   "execution_count": 126,
   "id": "6a461e2d",
   "metadata": {},
   "outputs": [
    {
     "name": "stdout",
     "output_type": "stream",
     "text": [
      "sens: 0.92, spec: 0.4122137404580153\n"
     ]
    }
   ],
   "source": [
    "# Baseline on testing\n",
    "pred_test = Baseline().predict(data_test)\n",
    "evaluate = pd.DataFrame(data = {'outcome': data_test['outcome'], \n",
    "                                'pred': pred_test})\n",
    "TN = evaluate[ (evaluate['pred'] == 0) & (evaluate['outcome'] == 0)].shape[0]\n",
    "TP = evaluate[ (evaluate['pred'] == 1) & (evaluate['outcome'] == 1)].shape[0]\n",
    "FN = evaluate[ (evaluate['pred'] == 0) & (evaluate['outcome'] == 1)].shape[0]\n",
    "FP = evaluate[ (evaluate['pred'] == 1) & (evaluate['outcome'] == 0)].shape[0]\n",
    "sensitivity = TP/(FN+TP)\n",
    "specificity = TN/(FP+TN)\n",
    "print('sens: '+ str(sensitivity) +', spec: '+ str(specificity))"
   ]
  },
  {
   "cell_type": "code",
   "execution_count": 127,
   "id": "f78bfde7",
   "metadata": {},
   "outputs": [],
   "source": [
    "post_hoc = data_test[[\"CervicalSpineFractures_posthoc\", \"LigamentInjury_posthoc\", \"CervicalSpineSignalChange_posthoc\", \n",
    "           \"Race_posthoc\", \"PayorType_posthoc\", \"OutcomeStudySite_posthoc\", \n",
    "           \"OutcomeStudySiteMobility_posthoc\", \"OutcomeStudySiteNeuro_posthoc\", \"outcome\"]]"
   ]
  },
  {
   "cell_type": "code",
   "execution_count": 128,
   "id": "5a7f8d87",
   "metadata": {},
   "outputs": [
    {
     "name": "stderr",
     "output_type": "stream",
     "text": [
      "/Users/ishaansrivastava/miniconda2/envs/stat215/lib/python3.7/site-packages/ipykernel_launcher.py:2: SettingWithCopyWarning: \n",
      "A value is trying to be set on a copy of a slice from a DataFrame.\n",
      "Try using .loc[row_indexer,col_indexer] = value instead\n",
      "\n",
      "See the caveats in the documentation: https://pandas.pydata.org/pandas-docs/stable/user_guide/indexing.html#returning-a-view-versus-a-copy\n",
      "  \n"
     ]
    }
   ],
   "source": [
    "post_hoc_fn = post_hoc[(evaluate['pred'] == 0) & (evaluate['outcome'] == 1)]\n",
    "post_hoc_fn[\"classification\"] = \"FN\""
   ]
  },
  {
   "cell_type": "code",
   "execution_count": 129,
   "id": "f9f54fb8",
   "metadata": {},
   "outputs": [
    {
     "name": "stderr",
     "output_type": "stream",
     "text": [
      "/Users/ishaansrivastava/miniconda2/envs/stat215/lib/python3.7/site-packages/ipykernel_launcher.py:2: SettingWithCopyWarning: \n",
      "A value is trying to be set on a copy of a slice from a DataFrame.\n",
      "Try using .loc[row_indexer,col_indexer] = value instead\n",
      "\n",
      "See the caveats in the documentation: https://pandas.pydata.org/pandas-docs/stable/user_guide/indexing.html#returning-a-view-versus-a-copy\n",
      "  \n"
     ]
    }
   ],
   "source": [
    "post_hoc_tp = post_hoc[(evaluate['pred'] == 1) & (evaluate['outcome'] == 1)]\n",
    "post_hoc_tp[\"classification\"] = \"TP\""
   ]
  },
  {
   "cell_type": "code",
   "execution_count": 130,
   "id": "58035a73",
   "metadata": {},
   "outputs": [],
   "source": [
    "post_hoc = pd.concat([post_hoc_fn, post_hoc_tp])"
   ]
  },
  {
   "cell_type": "code",
   "execution_count": 131,
   "id": "84ce5862",
   "metadata": {},
   "outputs": [
    {
     "data": {
      "text/plain": [
       "0.5866666666666667"
      ]
     },
     "execution_count": 131,
     "metadata": {},
     "output_type": "execute_result"
    }
   ],
   "source": [
    "post_hoc[\"CervicalSpineFractures_posthoc\"].mean()"
   ]
  },
  {
   "cell_type": "code",
   "execution_count": 132,
   "id": "52b18257",
   "metadata": {},
   "outputs": [
    {
     "data": {
      "text/html": [
       "<div>\n",
       "<style scoped>\n",
       "    .dataframe tbody tr th:only-of-type {\n",
       "        vertical-align: middle;\n",
       "    }\n",
       "\n",
       "    .dataframe tbody tr th {\n",
       "        vertical-align: top;\n",
       "    }\n",
       "\n",
       "    .dataframe thead th {\n",
       "        text-align: right;\n",
       "    }\n",
       "</style>\n",
       "<table border=\"1\" class=\"dataframe\">\n",
       "  <thead>\n",
       "    <tr style=\"text-align: right;\">\n",
       "      <th></th>\n",
       "      <th>0</th>\n",
       "    </tr>\n",
       "  </thead>\n",
       "  <tbody>\n",
       "    <tr>\n",
       "      <th>CervicalSpineFractures_posthoc</th>\n",
       "      <td>0.565217</td>\n",
       "    </tr>\n",
       "    <tr>\n",
       "      <th>LigamentInjury_posthoc</th>\n",
       "      <td>0.550725</td>\n",
       "    </tr>\n",
       "    <tr>\n",
       "      <th>CervicalSpineSignalChange_posthoc</th>\n",
       "      <td>0.275362</td>\n",
       "    </tr>\n",
       "  </tbody>\n",
       "</table>\n",
       "</div>"
      ],
      "text/plain": [
       "                                          0\n",
       "CervicalSpineFractures_posthoc     0.565217\n",
       "LigamentInjury_posthoc             0.550725\n",
       "CervicalSpineSignalChange_posthoc  0.275362"
      ]
     },
     "execution_count": 132,
     "metadata": {},
     "output_type": "execute_result"
    }
   ],
   "source": [
    "pd.DataFrame(post_hoc_tp[[\"CervicalSpineFractures_posthoc\", \"LigamentInjury_posthoc\", \"CervicalSpineSignalChange_posthoc\"]].mean())"
   ]
  },
  {
   "cell_type": "code",
   "execution_count": 142,
   "id": "59fb4bde",
   "metadata": {},
   "outputs": [
    {
     "ename": "OSError",
     "evalue": "[Errno 30] Read-only file system: 'pls.png'",
     "output_type": "error",
     "traceback": [
      "\u001b[0;31m---------------------------------------------------------------------------\u001b[0m",
      "\u001b[0;31mOSError\u001b[0m                                   Traceback (most recent call last)",
      "\u001b[0;32m/var/folders/4d/j14rky6n3ts7d90t9hm1mgrr0000gn/T/ipykernel_53370/247981238.py\u001b[0m in \u001b[0;36m<module>\u001b[0;34m\u001b[0m\n\u001b[1;32m      6\u001b[0m \u001b[0mplt\u001b[0m\u001b[0;34m.\u001b[0m\u001b[0mylabel\u001b[0m\u001b[0;34m(\u001b[0m\u001b[0;34m\"Frequency\"\u001b[0m\u001b[0;34m)\u001b[0m\u001b[0;34m;\u001b[0m\u001b[0;34m\u001b[0m\u001b[0;34m\u001b[0m\u001b[0m\n\u001b[1;32m      7\u001b[0m \u001b[0mplt\u001b[0m\u001b[0;34m.\u001b[0m\u001b[0mylim\u001b[0m\u001b[0;34m(\u001b[0m\u001b[0;36m0\u001b[0m\u001b[0;34m,\u001b[0m \u001b[0;36m1\u001b[0m\u001b[0;34m)\u001b[0m\u001b[0;34m\u001b[0m\u001b[0;34m\u001b[0m\u001b[0m\n\u001b[0;32m----> 8\u001b[0;31m \u001b[0mplt\u001b[0m\u001b[0;34m.\u001b[0m\u001b[0msavefig\u001b[0m\u001b[0;34m(\u001b[0m\u001b[0;34m\"pls\"\u001b[0m\u001b[0;34m)\u001b[0m\u001b[0;34m\u001b[0m\u001b[0;34m\u001b[0m\u001b[0m\n\u001b[0m",
      "\u001b[0;32m~/miniconda2/envs/stat215/lib/python3.7/site-packages/matplotlib/pyplot.py\u001b[0m in \u001b[0;36msavefig\u001b[0;34m(*args, **kwargs)\u001b[0m\n\u001b[1;32m    956\u001b[0m \u001b[0;32mdef\u001b[0m \u001b[0msavefig\u001b[0m\u001b[0;34m(\u001b[0m\u001b[0;34m*\u001b[0m\u001b[0margs\u001b[0m\u001b[0;34m,\u001b[0m \u001b[0;34m**\u001b[0m\u001b[0mkwargs\u001b[0m\u001b[0;34m)\u001b[0m\u001b[0;34m:\u001b[0m\u001b[0;34m\u001b[0m\u001b[0;34m\u001b[0m\u001b[0m\n\u001b[1;32m    957\u001b[0m     \u001b[0mfig\u001b[0m \u001b[0;34m=\u001b[0m \u001b[0mgcf\u001b[0m\u001b[0;34m(\u001b[0m\u001b[0;34m)\u001b[0m\u001b[0;34m\u001b[0m\u001b[0;34m\u001b[0m\u001b[0m\n\u001b[0;32m--> 958\u001b[0;31m     \u001b[0mres\u001b[0m \u001b[0;34m=\u001b[0m \u001b[0mfig\u001b[0m\u001b[0;34m.\u001b[0m\u001b[0msavefig\u001b[0m\u001b[0;34m(\u001b[0m\u001b[0;34m*\u001b[0m\u001b[0margs\u001b[0m\u001b[0;34m,\u001b[0m \u001b[0;34m**\u001b[0m\u001b[0mkwargs\u001b[0m\u001b[0;34m)\u001b[0m\u001b[0;34m\u001b[0m\u001b[0;34m\u001b[0m\u001b[0m\n\u001b[0m\u001b[1;32m    959\u001b[0m     \u001b[0mfig\u001b[0m\u001b[0;34m.\u001b[0m\u001b[0mcanvas\u001b[0m\u001b[0;34m.\u001b[0m\u001b[0mdraw_idle\u001b[0m\u001b[0;34m(\u001b[0m\u001b[0;34m)\u001b[0m   \u001b[0;31m# need this if 'transparent=True' to reset colors\u001b[0m\u001b[0;34m\u001b[0m\u001b[0;34m\u001b[0m\u001b[0m\n\u001b[1;32m    960\u001b[0m     \u001b[0;32mreturn\u001b[0m \u001b[0mres\u001b[0m\u001b[0;34m\u001b[0m\u001b[0;34m\u001b[0m\u001b[0m\n",
      "\u001b[0;32m~/miniconda2/envs/stat215/lib/python3.7/site-packages/matplotlib/figure.py\u001b[0m in \u001b[0;36msavefig\u001b[0;34m(self, fname, transparent, **kwargs)\u001b[0m\n\u001b[1;32m   3010\u001b[0m                         ax.patch._cm_set(facecolor='none', edgecolor='none'))\n\u001b[1;32m   3011\u001b[0m \u001b[0;34m\u001b[0m\u001b[0m\n\u001b[0;32m-> 3012\u001b[0;31m             \u001b[0mself\u001b[0m\u001b[0;34m.\u001b[0m\u001b[0mcanvas\u001b[0m\u001b[0;34m.\u001b[0m\u001b[0mprint_figure\u001b[0m\u001b[0;34m(\u001b[0m\u001b[0mfname\u001b[0m\u001b[0;34m,\u001b[0m \u001b[0;34m**\u001b[0m\u001b[0mkwargs\u001b[0m\u001b[0;34m)\u001b[0m\u001b[0;34m\u001b[0m\u001b[0;34m\u001b[0m\u001b[0m\n\u001b[0m\u001b[1;32m   3013\u001b[0m \u001b[0;34m\u001b[0m\u001b[0m\n\u001b[1;32m   3014\u001b[0m     def ginput(self, n=1, timeout=30, show_clicks=True,\n",
      "\u001b[0;32m~/miniconda2/envs/stat215/lib/python3.7/site-packages/matplotlib/backend_bases.py\u001b[0m in \u001b[0;36mprint_figure\u001b[0;34m(self, filename, dpi, facecolor, edgecolor, orientation, format, bbox_inches, pad_inches, bbox_extra_artists, backend, **kwargs)\u001b[0m\n\u001b[1;32m   2318\u001b[0m                         \u001b[0morientation\u001b[0m\u001b[0;34m=\u001b[0m\u001b[0morientation\u001b[0m\u001b[0;34m,\u001b[0m\u001b[0;34m\u001b[0m\u001b[0;34m\u001b[0m\u001b[0m\n\u001b[1;32m   2319\u001b[0m                         \u001b[0mbbox_inches_restore\u001b[0m\u001b[0;34m=\u001b[0m\u001b[0m_bbox_inches_restore\u001b[0m\u001b[0;34m,\u001b[0m\u001b[0;34m\u001b[0m\u001b[0;34m\u001b[0m\u001b[0m\n\u001b[0;32m-> 2320\u001b[0;31m                         **kwargs)\n\u001b[0m\u001b[1;32m   2321\u001b[0m             \u001b[0;32mfinally\u001b[0m\u001b[0;34m:\u001b[0m\u001b[0;34m\u001b[0m\u001b[0;34m\u001b[0m\u001b[0m\n\u001b[1;32m   2322\u001b[0m                 \u001b[0;32mif\u001b[0m \u001b[0mbbox_inches\u001b[0m \u001b[0;32mand\u001b[0m \u001b[0mrestore_bbox\u001b[0m\u001b[0;34m:\u001b[0m\u001b[0;34m\u001b[0m\u001b[0;34m\u001b[0m\u001b[0m\n",
      "\u001b[0;32m~/miniconda2/envs/stat215/lib/python3.7/site-packages/matplotlib/backend_bases.py\u001b[0m in \u001b[0;36mwrapper\u001b[0;34m(*args, **kwargs)\u001b[0m\n\u001b[1;32m   1641\u001b[0m             \u001b[0mkwargs\u001b[0m\u001b[0;34m.\u001b[0m\u001b[0mpop\u001b[0m\u001b[0;34m(\u001b[0m\u001b[0marg\u001b[0m\u001b[0;34m)\u001b[0m\u001b[0;34m\u001b[0m\u001b[0;34m\u001b[0m\u001b[0m\n\u001b[1;32m   1642\u001b[0m \u001b[0;34m\u001b[0m\u001b[0m\n\u001b[0;32m-> 1643\u001b[0;31m         \u001b[0;32mreturn\u001b[0m \u001b[0mfunc\u001b[0m\u001b[0;34m(\u001b[0m\u001b[0;34m*\u001b[0m\u001b[0margs\u001b[0m\u001b[0;34m,\u001b[0m \u001b[0;34m**\u001b[0m\u001b[0mkwargs\u001b[0m\u001b[0;34m)\u001b[0m\u001b[0;34m\u001b[0m\u001b[0;34m\u001b[0m\u001b[0m\n\u001b[0m\u001b[1;32m   1644\u001b[0m \u001b[0;34m\u001b[0m\u001b[0m\n\u001b[1;32m   1645\u001b[0m     \u001b[0;32mreturn\u001b[0m \u001b[0mwrapper\u001b[0m\u001b[0;34m\u001b[0m\u001b[0;34m\u001b[0m\u001b[0m\n",
      "\u001b[0;32m~/miniconda2/envs/stat215/lib/python3.7/site-packages/matplotlib/_api/deprecation.py\u001b[0m in \u001b[0;36mwrapper\u001b[0;34m(*inner_args, **inner_kwargs)\u001b[0m\n\u001b[1;32m    410\u001b[0m                          \u001b[0;32melse\u001b[0m \u001b[0mdeprecation_addendum\u001b[0m\u001b[0;34m,\u001b[0m\u001b[0;34m\u001b[0m\u001b[0;34m\u001b[0m\u001b[0m\n\u001b[1;32m    411\u001b[0m                 **kwargs)\n\u001b[0;32m--> 412\u001b[0;31m         \u001b[0;32mreturn\u001b[0m \u001b[0mfunc\u001b[0m\u001b[0;34m(\u001b[0m\u001b[0;34m*\u001b[0m\u001b[0minner_args\u001b[0m\u001b[0;34m,\u001b[0m \u001b[0;34m**\u001b[0m\u001b[0minner_kwargs\u001b[0m\u001b[0;34m)\u001b[0m\u001b[0;34m\u001b[0m\u001b[0;34m\u001b[0m\u001b[0m\n\u001b[0m\u001b[1;32m    413\u001b[0m \u001b[0;34m\u001b[0m\u001b[0m\n\u001b[1;32m    414\u001b[0m     \u001b[0mDECORATORS\u001b[0m\u001b[0;34m[\u001b[0m\u001b[0mwrapper\u001b[0m\u001b[0;34m]\u001b[0m \u001b[0;34m=\u001b[0m \u001b[0mdecorator\u001b[0m\u001b[0;34m\u001b[0m\u001b[0;34m\u001b[0m\u001b[0m\n",
      "\u001b[0;32m~/miniconda2/envs/stat215/lib/python3.7/site-packages/matplotlib/backends/backend_agg.py\u001b[0m in \u001b[0;36mprint_png\u001b[0;34m(self, filename_or_obj, metadata, pil_kwargs, *args)\u001b[0m\n\u001b[1;32m    541\u001b[0m         mpl.image.imsave(\n\u001b[1;32m    542\u001b[0m             \u001b[0mfilename_or_obj\u001b[0m\u001b[0;34m,\u001b[0m \u001b[0mself\u001b[0m\u001b[0;34m.\u001b[0m\u001b[0mbuffer_rgba\u001b[0m\u001b[0;34m(\u001b[0m\u001b[0;34m)\u001b[0m\u001b[0;34m,\u001b[0m \u001b[0mformat\u001b[0m\u001b[0;34m=\u001b[0m\u001b[0;34m\"png\"\u001b[0m\u001b[0;34m,\u001b[0m \u001b[0morigin\u001b[0m\u001b[0;34m=\u001b[0m\u001b[0;34m\"upper\"\u001b[0m\u001b[0;34m,\u001b[0m\u001b[0;34m\u001b[0m\u001b[0;34m\u001b[0m\u001b[0m\n\u001b[0;32m--> 543\u001b[0;31m             dpi=self.figure.dpi, metadata=metadata, pil_kwargs=pil_kwargs)\n\u001b[0m\u001b[1;32m    544\u001b[0m \u001b[0;34m\u001b[0m\u001b[0m\n\u001b[1;32m    545\u001b[0m     \u001b[0;32mdef\u001b[0m \u001b[0mprint_to_buffer\u001b[0m\u001b[0;34m(\u001b[0m\u001b[0mself\u001b[0m\u001b[0;34m)\u001b[0m\u001b[0;34m:\u001b[0m\u001b[0;34m\u001b[0m\u001b[0;34m\u001b[0m\u001b[0m\n",
      "\u001b[0;32m~/miniconda2/envs/stat215/lib/python3.7/site-packages/matplotlib/image.py\u001b[0m in \u001b[0;36mimsave\u001b[0;34m(fname, arr, vmin, vmax, cmap, format, origin, dpi, metadata, pil_kwargs)\u001b[0m\n\u001b[1;32m   1673\u001b[0m         \u001b[0mpil_kwargs\u001b[0m\u001b[0;34m.\u001b[0m\u001b[0msetdefault\u001b[0m\u001b[0;34m(\u001b[0m\u001b[0;34m\"format\"\u001b[0m\u001b[0;34m,\u001b[0m \u001b[0mformat\u001b[0m\u001b[0;34m)\u001b[0m\u001b[0;34m\u001b[0m\u001b[0;34m\u001b[0m\u001b[0m\n\u001b[1;32m   1674\u001b[0m         \u001b[0mpil_kwargs\u001b[0m\u001b[0;34m.\u001b[0m\u001b[0msetdefault\u001b[0m\u001b[0;34m(\u001b[0m\u001b[0;34m\"dpi\"\u001b[0m\u001b[0;34m,\u001b[0m \u001b[0;34m(\u001b[0m\u001b[0mdpi\u001b[0m\u001b[0;34m,\u001b[0m \u001b[0mdpi\u001b[0m\u001b[0;34m)\u001b[0m\u001b[0;34m)\u001b[0m\u001b[0;34m\u001b[0m\u001b[0;34m\u001b[0m\u001b[0m\n\u001b[0;32m-> 1675\u001b[0;31m         \u001b[0mimage\u001b[0m\u001b[0;34m.\u001b[0m\u001b[0msave\u001b[0m\u001b[0;34m(\u001b[0m\u001b[0mfname\u001b[0m\u001b[0;34m,\u001b[0m \u001b[0;34m**\u001b[0m\u001b[0mpil_kwargs\u001b[0m\u001b[0;34m)\u001b[0m\u001b[0;34m\u001b[0m\u001b[0;34m\u001b[0m\u001b[0m\n\u001b[0m\u001b[1;32m   1676\u001b[0m \u001b[0;34m\u001b[0m\u001b[0m\n\u001b[1;32m   1677\u001b[0m \u001b[0;34m\u001b[0m\u001b[0m\n",
      "\u001b[0;32m~/miniconda2/envs/stat215/lib/python3.7/site-packages/PIL/Image.py\u001b[0m in \u001b[0;36msave\u001b[0;34m(self, fp, format, **params)\u001b[0m\n\u001b[1;32m   2235\u001b[0m                 \u001b[0mfp\u001b[0m \u001b[0;34m=\u001b[0m \u001b[0mbuiltins\u001b[0m\u001b[0;34m.\u001b[0m\u001b[0mopen\u001b[0m\u001b[0;34m(\u001b[0m\u001b[0mfilename\u001b[0m\u001b[0;34m,\u001b[0m \u001b[0;34m\"r+b\"\u001b[0m\u001b[0;34m)\u001b[0m\u001b[0;34m\u001b[0m\u001b[0;34m\u001b[0m\u001b[0m\n\u001b[1;32m   2236\u001b[0m             \u001b[0;32melse\u001b[0m\u001b[0;34m:\u001b[0m\u001b[0;34m\u001b[0m\u001b[0;34m\u001b[0m\u001b[0m\n\u001b[0;32m-> 2237\u001b[0;31m                 \u001b[0mfp\u001b[0m \u001b[0;34m=\u001b[0m \u001b[0mbuiltins\u001b[0m\u001b[0;34m.\u001b[0m\u001b[0mopen\u001b[0m\u001b[0;34m(\u001b[0m\u001b[0mfilename\u001b[0m\u001b[0;34m,\u001b[0m \u001b[0;34m\"w+b\"\u001b[0m\u001b[0;34m)\u001b[0m\u001b[0;34m\u001b[0m\u001b[0;34m\u001b[0m\u001b[0m\n\u001b[0m\u001b[1;32m   2238\u001b[0m \u001b[0;34m\u001b[0m\u001b[0m\n\u001b[1;32m   2239\u001b[0m         \u001b[0;32mtry\u001b[0m\u001b[0;34m:\u001b[0m\u001b[0;34m\u001b[0m\u001b[0;34m\u001b[0m\u001b[0m\n",
      "\u001b[0;31mOSError\u001b[0m: [Errno 30] Read-only file system: 'pls.png'"
     ]
    },
    {
     "data": {
      "image/png": "[encoded data removed]",
      "text/plain": [
       "<Figure size 432x288 with 1 Axes>"
      ]
     },
     "metadata": {},
     "output_type": "display_data"
    }
   ],
   "source": [
    "grouped_tp_data = post_hoc_tp.groupby(\"Race_posthoc\").size().reset_index().rename(columns = {0: \"Frequency\"})\n",
    "grouped_tp_data[\"Frequency\"] = grouped_tp_data[\"Frequency\"]/grouped_tp_data[\"Frequency\"].sum()\n",
    "plt.figure()\n",
    "sns.barplot(data = grouped_tp_data, x = \"Race_posthoc\", y = \"Frequency\")\n",
    "plt.xlabel(\"Race\")\n",
    "plt.ylabel(\"Frequency\");\n",
    "plt.ylim(0, 1)\n",
    "plt.savefig(\"pls\")"
   ]
  },
  {
   "cell_type": "code",
   "execution_count": 135,
   "id": "6cc80bb0",
   "metadata": {},
   "outputs": [
    {
     "data": {
      "text/plain": [
       "(0.0, 1.0)"
      ]
     },
     "execution_count": 135,
     "metadata": {},
     "output_type": "execute_result"
    },
    {
     "data": {
      "image/png": "[encoded data removed]",
      "text/plain": [
       "<Figure size 432x288 with 1 Axes>"
      ]
     },
     "metadata": {},
     "output_type": "display_data"
    }
   ],
   "source": [
    "grouped_fn_data = post_hoc_fn.groupby(\"Race_posthoc\").size().reset_index().rename(columns = {0: \"Frequency\"})\n",
    "grouped_fn_data[\"Frequency\"] = grouped_fn_data[\"Frequency\"]/grouped_fn_data[\"Frequency\"].sum()\n",
    "sns.barplot(data = grouped_fn_data, x = \"Race_posthoc\", y = \"Frequency\")\n",
    "plt.xlabel(\"Race\")\n",
    "plt.ylabel(\"Frequency\");\n",
    "plt.ylim(0, 1)"
   ]
  },
  {
   "cell_type": "code",
   "execution_count": 136,
   "id": "0fc1cfe8",
   "metadata": {},
   "outputs": [
    {
     "data": {
      "image/png": "[encoded data removed]",
      "text/plain": [
       "<Figure size 432x288 with 1 Axes>"
      ]
     },
     "metadata": {},
     "output_type": "display_data"
    }
   ],
   "source": [
    "sns.barplot(x = [\"CS Fracture\", \"Ligament Injury\", \"CS Signal Change\"],\n",
    "            y = post_hoc_fn[[\"CervicalSpineFractures_posthoc\", \"LigamentInjury_posthoc\", \n",
    "                             \"CervicalSpineSignalChange_posthoc\"]].mean());\n",
    "plt.ylim(0, 1);"
   ]
  },
  {
   "cell_type": "code",
   "execution_count": 137,
   "id": "37b79326",
   "metadata": {},
   "outputs": [
    {
     "data": {
      "image/png": "[encoded data removed]",
      "text/plain": [
       "<Figure size 432x288 with 1 Axes>"
      ]
     },
     "metadata": {},
     "output_type": "display_data"
    }
   ],
   "source": [
    "sns.barplot(x = [\"CS Fracture\", \"Ligament Injury\", \"CS Signal Change\"],\n",
    "            y = post_hoc_tp[[\"CervicalSpineFractures_posthoc\", \"LigamentInjury_posthoc\", \n",
    "                             \"CervicalSpineSignalChange_posthoc\"]].mean());\n",
    "plt.ylim(0, 1);"
   ]
  },
  {
   "cell_type": "code",
   "execution_count": 91,
   "id": "f87648b9",
   "metadata": {},
   "outputs": [
    {
     "data": {
      "text/plain": [
       "CervicalSpineFractures_posthoc       0.833333\n",
       "LigamentInjury_posthoc               0.333333\n",
       "CervicalSpineSignalChange_posthoc    0.000000\n",
       "dtype: float64"
      ]
     },
     "execution_count": 91,
     "metadata": {},
     "output_type": "execute_result"
    }
   ],
   "source": [
    "post_hoc_fn[[\"CervicalSpineFractures_posthoc\", \"LigamentInjury_posthoc\", \n",
    "                             \"CervicalSpineSignalChange_posthoc\"]].mean()"
   ]
  },
  {
   "cell_type": "code",
   "execution_count": 117,
   "id": "9765204d",
   "metadata": {},
   "outputs": [
    {
     "data": {
      "text/html": [
       "<div>\n",
       "<style scoped>\n",
       "    .dataframe tbody tr th:only-of-type {\n",
       "        vertical-align: middle;\n",
       "    }\n",
       "\n",
       "    .dataframe tbody tr th {\n",
       "        vertical-align: top;\n",
       "    }\n",
       "\n",
       "    .dataframe thead th {\n",
       "        text-align: right;\n",
       "    }\n",
       "</style>\n",
       "<table border=\"1\" class=\"dataframe\">\n",
       "  <thead>\n",
       "    <tr style=\"text-align: right;\">\n",
       "      <th></th>\n",
       "      <th></th>\n",
       "      <th></th>\n",
       "      <th></th>\n",
       "      <th>CervicalSpineFractures_posthoc</th>\n",
       "      <th>LigamentInjury_posthoc</th>\n",
       "      <th>CervicalSpineSignalChange_posthoc</th>\n",
       "      <th>Race_posthoc</th>\n",
       "      <th>PayorType_posthoc</th>\n",
       "      <th>OutcomeStudySite_posthoc</th>\n",
       "      <th>OutcomeStudySiteMobility_posthoc</th>\n",
       "      <th>OutcomeStudySiteNeuro_posthoc</th>\n",
       "      <th>outcome</th>\n",
       "      <th>classification</th>\n",
       "    </tr>\n",
       "    <tr>\n",
       "      <th>id</th>\n",
       "      <th>case_id</th>\n",
       "      <th>site</th>\n",
       "      <th>control_type</th>\n",
       "      <th></th>\n",
       "      <th></th>\n",
       "      <th></th>\n",
       "      <th></th>\n",
       "      <th></th>\n",
       "      <th></th>\n",
       "      <th></th>\n",
       "      <th></th>\n",
       "      <th></th>\n",
       "      <th></th>\n",
       "    </tr>\n",
       "  </thead>\n",
       "  <tbody>\n",
       "    <tr>\n",
       "      <th>310290</th>\n",
       "      <th>310290</th>\n",
       "      <th>3</th>\n",
       "      <th>case</th>\n",
       "      <td>1.0</td>\n",
       "      <td>1.0</td>\n",
       "      <td>0.0</td>\n",
       "      <td>White</td>\n",
       "      <td>CI</td>\n",
       "      <td>Normal</td>\n",
       "      <td>N</td>\n",
       "      <td>NR</td>\n",
       "      <td>1.0</td>\n",
       "      <td>FN</td>\n",
       "    </tr>\n",
       "    <tr>\n",
       "      <th>710862</th>\n",
       "      <th>710862</th>\n",
       "      <th>7</th>\n",
       "      <th>case</th>\n",
       "      <td>1.0</td>\n",
       "      <td>1.0</td>\n",
       "      <td>0.0</td>\n",
       "      <td>White</td>\n",
       "      <td>CI</td>\n",
       "      <td>Normal</td>\n",
       "      <td>N</td>\n",
       "      <td>NR</td>\n",
       "      <td>1.0</td>\n",
       "      <td>FN</td>\n",
       "    </tr>\n",
       "    <tr>\n",
       "      <th>1312180</th>\n",
       "      <th>1312180</th>\n",
       "      <th>13</th>\n",
       "      <th>case</th>\n",
       "      <td>1.0</td>\n",
       "      <td>0.0</td>\n",
       "      <td>0.0</td>\n",
       "      <td>White</td>\n",
       "      <td>CI</td>\n",
       "      <td>Normal</td>\n",
       "      <td>N</td>\n",
       "      <td>NR</td>\n",
       "      <td>1.0</td>\n",
       "      <td>FN</td>\n",
       "    </tr>\n",
       "    <tr>\n",
       "      <th>1412380</th>\n",
       "      <th>1412380</th>\n",
       "      <th>14</th>\n",
       "      <th>case</th>\n",
       "      <td>0.0</td>\n",
       "      <td>0.0</td>\n",
       "      <td>0.0</td>\n",
       "      <td>White</td>\n",
       "      <td>CI</td>\n",
       "      <td>Normal</td>\n",
       "      <td>N</td>\n",
       "      <td>NR</td>\n",
       "      <td>1.0</td>\n",
       "      <td>FN</td>\n",
       "    </tr>\n",
       "    <tr>\n",
       "      <th>1412368</th>\n",
       "      <th>1412368</th>\n",
       "      <th>14</th>\n",
       "      <th>case</th>\n",
       "      <td>1.0</td>\n",
       "      <td>0.0</td>\n",
       "      <td>0.0</td>\n",
       "      <td>White</td>\n",
       "      <td>CI</td>\n",
       "      <td>Normal</td>\n",
       "      <td>N</td>\n",
       "      <td>NR</td>\n",
       "      <td>1.0</td>\n",
       "      <td>FN</td>\n",
       "    </tr>\n",
       "    <tr>\n",
       "      <th>1612780</th>\n",
       "      <th>1612780</th>\n",
       "      <th>16</th>\n",
       "      <th>case</th>\n",
       "      <td>1.0</td>\n",
       "      <td>0.0</td>\n",
       "      <td>0.0</td>\n",
       "      <td>Black or African American</td>\n",
       "      <td>CI</td>\n",
       "      <td>Normal</td>\n",
       "      <td>N</td>\n",
       "      <td>NR</td>\n",
       "      <td>1.0</td>\n",
       "      <td>FN</td>\n",
       "    </tr>\n",
       "  </tbody>\n",
       "</table>\n",
       "</div>"
      ],
      "text/plain": [
       "                                   CervicalSpineFractures_posthoc  \\\n",
       "id      case_id site control_type                                   \n",
       "310290  310290  3    case                                     1.0   \n",
       "710862  710862  7    case                                     1.0   \n",
       "1312180 1312180 13   case                                     1.0   \n",
       "1412380 1412380 14   case                                     0.0   \n",
       "1412368 1412368 14   case                                     1.0   \n",
       "1612780 1612780 16   case                                     1.0   \n",
       "\n",
       "                                   LigamentInjury_posthoc  \\\n",
       "id      case_id site control_type                           \n",
       "310290  310290  3    case                             1.0   \n",
       "710862  710862  7    case                             1.0   \n",
       "1312180 1312180 13   case                             0.0   \n",
       "1412380 1412380 14   case                             0.0   \n",
       "1412368 1412368 14   case                             0.0   \n",
       "1612780 1612780 16   case                             0.0   \n",
       "\n",
       "                                   CervicalSpineSignalChange_posthoc  \\\n",
       "id      case_id site control_type                                      \n",
       "310290  310290  3    case                                        0.0   \n",
       "710862  710862  7    case                                        0.0   \n",
       "1312180 1312180 13   case                                        0.0   \n",
       "1412380 1412380 14   case                                        0.0   \n",
       "1412368 1412368 14   case                                        0.0   \n",
       "1612780 1612780 16   case                                        0.0   \n",
       "\n",
       "                                                Race_posthoc  \\\n",
       "id      case_id site control_type                              \n",
       "310290  310290  3    case                              White   \n",
       "710862  710862  7    case                              White   \n",
       "1312180 1312180 13   case                              White   \n",
       "1412380 1412380 14   case                              White   \n",
       "1412368 1412368 14   case                              White   \n",
       "1612780 1612780 16   case          Black or African American   \n",
       "\n",
       "                                  PayorType_posthoc OutcomeStudySite_posthoc  \\\n",
       "id      case_id site control_type                                              \n",
       "310290  310290  3    case                        CI                   Normal   \n",
       "710862  710862  7    case                        CI                   Normal   \n",
       "1312180 1312180 13   case                        CI                   Normal   \n",
       "1412380 1412380 14   case                        CI                   Normal   \n",
       "1412368 1412368 14   case                        CI                   Normal   \n",
       "1612780 1612780 16   case                        CI                   Normal   \n",
       "\n",
       "                                  OutcomeStudySiteMobility_posthoc  \\\n",
       "id      case_id site control_type                                    \n",
       "310290  310290  3    case                                        N   \n",
       "710862  710862  7    case                                        N   \n",
       "1312180 1312180 13   case                                        N   \n",
       "1412380 1412380 14   case                                        N   \n",
       "1412368 1412368 14   case                                        N   \n",
       "1612780 1612780 16   case                                        N   \n",
       "\n",
       "                                  OutcomeStudySiteNeuro_posthoc  outcome  \\\n",
       "id      case_id site control_type                                          \n",
       "310290  310290  3    case                                    NR      1.0   \n",
       "710862  710862  7    case                                    NR      1.0   \n",
       "1312180 1312180 13   case                                    NR      1.0   \n",
       "1412380 1412380 14   case                                    NR      1.0   \n",
       "1412368 1412368 14   case                                    NR      1.0   \n",
       "1612780 1612780 16   case                                    NR      1.0   \n",
       "\n",
       "                                  classification  \n",
       "id      case_id site control_type                 \n",
       "310290  310290  3    case                     FN  \n",
       "710862  710862  7    case                     FN  \n",
       "1312180 1312180 13   case                     FN  \n",
       "1412380 1412380 14   case                     FN  \n",
       "1412368 1412368 14   case                     FN  \n",
       "1612780 1612780 16   case                     FN  "
      ]
     },
     "execution_count": 117,
     "metadata": {},
     "output_type": "execute_result"
    }
   ],
   "source": [
    "post_hoc_fn"
   ]
  },
  {
   "cell_type": "code",
   "execution_count": null,
   "id": "6bc36edd",
   "metadata": {},
   "outputs": [],
   "source": []
  }
 ],
 "metadata": {
  "kernelspec": {
   "display_name": "Python 3 (ipykernel)",
   "language": "python",
   "name": "python3"
  },
  "language_info": {
   "codemirror_mode": {
    "name": "ipython",
    "version": 3
   },
   "file_extension": ".py",
   "mimetype": "text/x-python",
   "name": "python",
   "nbconvert_exporter": "python",
   "pygments_lexer": "ipython3",
   "version": "3.7.11"
  }
 },
 "nbformat": 4,
 "nbformat_minor": 5
}
