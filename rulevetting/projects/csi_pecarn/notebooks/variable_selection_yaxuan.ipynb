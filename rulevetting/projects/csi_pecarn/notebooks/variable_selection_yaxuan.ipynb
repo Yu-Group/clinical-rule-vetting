{
 "cells": [
  {
   "cell_type": "code",
   "execution_count": 90,
   "id": "3a6fd903",
   "metadata": {},
   "outputs": [
    {
     "name": "stdout",
     "output_type": "stream",
     "text": [
      "The autoreload extension is already loaded. To reload it, use:\n",
      "  %reload_ext autoreload\n",
      "/Users\n"
     ]
    }
   ],
   "source": [
    "%load_ext autoreload\n",
    "%autoreload 2\n",
    "\n",
    "import numpy as np\n",
    "import pandas as pd\n",
    "\n",
    "import matplotlib.pyplot as plt\n",
    "%matplotlib inline\n",
    "import seaborn as sns\n",
    "\n",
    "import sys \n",
    "import os\n",
    "\n",
    "# TODO: make more pythonic\n",
    "# this line walks up file directory so rule-vetting is cwd\n",
    "# Currently this breaks if chunk is run multiple times\n",
    "os.chdir(os.path.dirname(os.path.dirname(os.path.dirname(os.path.dirname(os.getcwd())))))\n",
    "print(os.getcwd())"
   ]
  },
  {
   "cell_type": "code",
   "execution_count": 91,
   "id": "804506e5",
   "metadata": {},
   "outputs": [],
   "source": [
    "import rulevetting.api.viz as viz\n",
    "from rulevetting.projects.csi_pecarn.av_dataset import Dataset"
   ]
  },
  {
   "cell_type": "code",
   "execution_count": 92,
   "id": "9e079670",
   "metadata": {},
   "outputs": [
    {
     "name": "stdout",
     "output_type": "stream",
     "text": [
      "clean_data kwargs {'use_robust_av': True}\n",
      "read all the csvs...\n",
      " ['analysisvariables.csv']\n"
     ]
    },
    {
     "name": "stderr",
     "output_type": "stream",
     "text": [
      "100%|█████████████████████████████████████████████| 1/1 [00:00<00:00, 50.87it/s]"
     ]
    },
    {
     "name": "stdout",
     "output_type": "stream",
     "text": [
      "preprocess_data kwargs {'frac_missing_allowed': 0.05}\n",
      "split_data kwargs {'control_types': ['ran', 'moi', 'ems']}\n",
      "['ran', 'moi', 'ems']\n"
     ]
    },
    {
     "name": "stderr",
     "output_type": "stream",
     "text": [
      "\n",
      "/Users/Yaxuan/opt/anaconda3/envs/“rule-env”/lib/python3.7/site-packages/pandas/core/frame.py:4174: SettingWithCopyWarning: \n",
      "A value is trying to be set on a copy of a slice from a DataFrame\n",
      "\n",
      "See the caveats in the documentation: https://pandas.pydata.org/pandas-docs/stable/user_guide/indexing.html#returning-a-view-versus-a-copy\n",
      "  errors=errors,\n",
      "/Users/Yaxuan/opt/anaconda3/envs/“rule-env”/lib/python3.7/site-packages/pandas/core/frame.py:4327: SettingWithCopyWarning: \n",
      "A value is trying to be set on a copy of a slice from a DataFrame\n",
      "\n",
      "See the caveats in the documentation: https://pandas.pydata.org/pandas-docs/stable/user_guide/indexing.html#returning-a-view-versus-a-copy\n",
      "  downcast=downcast,\n"
     ]
    },
    {
     "name": "stdout",
     "output_type": "stream",
     "text": [
      "clean_data kwargs {'use_robust_av': False}\n",
      "read all the csvs...\n",
      " ['analysisvariables.csv']\n"
     ]
    },
    {
     "name": "stderr",
     "output_type": "stream",
     "text": [
      "100%|████████████████████████████████████████████| 1/1 [00:00<00:00, 134.75it/s]"
     ]
    },
    {
     "name": "stdout",
     "output_type": "stream",
     "text": [
      "preprocess_data kwargs {'frac_missing_allowed': 0.05}\n",
      "split_data kwargs {'control_types': ['ran']}\n",
      "['ran']\n"
     ]
    },
    {
     "name": "stderr",
     "output_type": "stream",
     "text": [
      "\n",
      "/Users/Yaxuan/opt/anaconda3/envs/“rule-env”/lib/python3.7/site-packages/pandas/core/frame.py:4174: SettingWithCopyWarning: \n",
      "A value is trying to be set on a copy of a slice from a DataFrame\n",
      "\n",
      "See the caveats in the documentation: https://pandas.pydata.org/pandas-docs/stable/user_guide/indexing.html#returning-a-view-versus-a-copy\n",
      "  errors=errors,\n",
      "/Users/Yaxuan/opt/anaconda3/envs/“rule-env”/lib/python3.7/site-packages/pandas/core/frame.py:4327: SettingWithCopyWarning: \n",
      "A value is trying to be set on a copy of a slice from a DataFrame\n",
      "\n",
      "See the caveats in the documentation: https://pandas.pydata.org/pandas-docs/stable/user_guide/indexing.html#returning-a-view-versus-a-copy\n",
      "  downcast=downcast,\n"
     ]
    },
    {
     "name": "stdout",
     "output_type": "stream",
     "text": [
      "split_data kwargs {'control_types': ['moi']}\n",
      "['moi']\n",
      "split_data kwargs {'control_types': ['ems']}\n",
      "['ems']\n"
     ]
    }
   ],
   "source": [
    "avdf_all = Dataset().get_data()\n",
    "avdf_ran = Dataset().get_data(use_robust_av = False, control_types=['ran'])\n",
    "avdf_moi = Dataset().get_data(use_robust_av = False, control_types=['moi'])\n",
    "avdf_ems = Dataset().get_data(use_robust_av = False, control_types=['ems'])"
   ]
  },
  {
   "cell_type": "code",
   "execution_count": 93,
   "id": "fe4cf5b7",
   "metadata": {},
   "outputs": [],
   "source": [
    "avdf_ran_train = avdf_ran[0]\n",
    "avdf_ran_tuning = avdf_ran[1]\n",
    "avdf_ran_testing = avdf_ran[2]"
   ]
  },
  {
   "cell_type": "code",
   "execution_count": 94,
   "id": "444c73d0",
   "metadata": {},
   "outputs": [
    {
     "name": "stdout",
     "output_type": "stream",
     "text": [
      "(821, 23)\n",
      "(279, 23)\n",
      "(290, 23)\n"
     ]
    }
   ],
   "source": [
    "print(avdf_ran_train.shape)\n",
    "print(avdf_ran_tuning.shape)\n",
    "print(avdf_ran_testing.shape)"
   ]
  },
  {
   "cell_type": "markdown",
   "id": "e3b5a488",
   "metadata": {},
   "source": [
    "### Variable selection by tree-based methods"
   ]
  },
  {
   "cell_type": "code",
   "execution_count": 125,
   "id": "8731c686",
   "metadata": {},
   "outputs": [],
   "source": [
    "from sklearn import tree\n",
    "from sklearn.inspection import permutation_importance\n",
    "from sklearn.ensemble import RandomForestClassifier\n",
    "from sklearn.metrics import RocCurveDisplay"
   ]
  },
  {
   "cell_type": "code",
   "execution_count": 206,
   "id": "490f92f6",
   "metadata": {},
   "outputs": [],
   "source": [
    "# data preparation\n",
    "\n",
    "X = avdf_ran_train.loc[:,'LOC':'NonAmbulatory']\n",
    "y = avdf_ran_train['csi_injury'].astype('int')\n",
    "X_tuning = avdf_ran_tuning.loc[:,'LOC':'NonAmbulatory']\n",
    "y_tuning = avdf_ran_tuning['csi_injury'].astype('int')\n",
    "\n",
    "d = {'name':X.columns}\n",
    "VI_df = pd.DataFrame(data = d)"
   ]
  },
  {
   "cell_type": "code",
   "execution_count": 207,
   "id": "00e431c5",
   "metadata": {},
   "outputs": [],
   "source": [
    "# cart with default setting\n",
    "cart = tree.DecisionTreeClassifier()\n",
    "cart = cart.fit(X,y)\n",
    "\n",
    "VI_df['cart_dini'] = (-cart.feature_importances_).argsort().argsort()\n",
    "\n",
    "perm1 = permutation_importance(cart, X, y, n_repeats = 20, random_state = 1)\n",
    "VI_df['cart_perm_train'] = (-perm1.importances_mean).argsort().argsort()\n",
    "perm2 = permutation_importance(cart, X_tuning, y_tuning, n_repeats= 20, random_state = 1)\n",
    "VI_df['cart_perm_tuning'] = (-perm2.importances_mean).argsort().argsort()"
   ]
  },
  {
   "cell_type": "code",
   "execution_count": 208,
   "id": "c6bc36c5",
   "metadata": {},
   "outputs": [],
   "source": [
    "# cart with max_depth parameter\n",
    "cart2 = tree.DecisionTreeClassifier(max_depth = 10)\n",
    "cart2 = cart2.fit(X,y)\n",
    "\n",
    "# VI_df['cart2_dini'] = (-cart2.feature_importances_).argsort().argsort()\n",
    "\n",
    "# perm = permutation_importance(cart2, X, y, n_repeats=20, random_state=42)\n",
    "# VI_df['cart2_perm_train'] = (-perm.importances_mean).argsort().argsort()\n",
    "# perm = permutation_importance(cart2, X_tuning, y_tuning, n_repeats=10, random_state=42)\n",
    "# VI_df['cart2_perm_tuning'] = (-perm.importances_mean).argsort().argsort()"
   ]
  },
  {
   "cell_type": "code",
   "execution_count": 209,
   "id": "688cc548",
   "metadata": {},
   "outputs": [],
   "source": [
    "# plot tree\n",
    "# plt.figure(figsize=(12,12))  # set plot size (denoted in inches)\n",
    "# tree.plot_tree(cart2, fontsize=10)\n",
    "# plt.show()"
   ]
  },
  {
   "cell_type": "code",
   "execution_count": 210,
   "id": "0662cf36",
   "metadata": {},
   "outputs": [
    {
     "data": {
      "image/png": "[encoded data removed]",
      "text/plain": [
       "<Figure size 576x432 with 1 Axes>"
      ]
     },
     "metadata": {
      "needs_background": "light"
     },
     "output_type": "display_data"
    }
   ],
   "source": [
    "result = permutation_importance(cart, X, y, n_repeats = 20, random_state = 1)\n",
    "sorted_idx = result.importances_mean.argsort()\n",
    "\n",
    "fig, ax = plt.subplots(figsize=(8,6))\n",
    "ax.boxplot(result.importances[sorted_idx].T, vert=False, labels=X.columns[sorted_idx])\n",
    "ax.set_title(\"Permutation Importances (train set)\")\n",
    "fig.tight_layout()\n",
    "plt.show()"
   ]
  },
  {
   "cell_type": "code",
   "execution_count": 213,
   "id": "88d03d17",
   "metadata": {},
   "outputs": [],
   "source": [
    "rf = RandomForestClassifier()\n",
    "rf = rf.fit(X,y)\n",
    "\n",
    "VI_df['rf_dini'] = (-rf.feature_importances_).argsort().argsort()\n",
    "\n",
    "perm1 = permutation_importance(rf, X, y, n_repeats = 20, random_state = 1)\n",
    "VI_df['rf_perm_train'] = (-perm1.importances_mean).argsort().argsort()\n",
    "perm2 = permutation_importance(rf, X_tuning, y_tuning, n_repeats = 20, random_state = 1)\n",
    "VI_df['rf_perm_tuning'] = (-perm2.importances_mean).argsort().argsort()\n",
    "VI_df = VI_df.assign(ave_rank = VI_df.mean(axis = 1))"
   ]
  },
  {
   "cell_type": "code",
   "execution_count": 214,
   "id": "5e2a9421",
   "metadata": {},
   "outputs": [
    {
     "data": {
      "text/html": [
       "<div>\n",
       "<style scoped>\n",
       "    .dataframe tbody tr th:only-of-type {\n",
       "        vertical-align: middle;\n",
       "    }\n",
       "\n",
       "    .dataframe tbody tr th {\n",
       "        vertical-align: top;\n",
       "    }\n",
       "\n",
       "    .dataframe thead th {\n",
       "        text-align: right;\n",
       "    }\n",
       "</style>\n",
       "<table border=\"1\" class=\"dataframe\">\n",
       "  <thead>\n",
       "    <tr style=\"text-align: right;\">\n",
       "      <th></th>\n",
       "      <th>name</th>\n",
       "      <th>cart_dini</th>\n",
       "      <th>cart_perm_train</th>\n",
       "      <th>cart_perm_tuning</th>\n",
       "      <th>rf_dini</th>\n",
       "      <th>rf_perm_train</th>\n",
       "      <th>rf_perm_tuning</th>\n",
       "      <th>ave_rank</th>\n",
       "    </tr>\n",
       "  </thead>\n",
       "  <tbody>\n",
       "    <tr>\n",
       "      <th>1</th>\n",
       "      <td>FocalNeuroFindings</td>\n",
       "      <td>0</td>\n",
       "      <td>0</td>\n",
       "      <td>0</td>\n",
       "      <td>0</td>\n",
       "      <td>0</td>\n",
       "      <td>0</td>\n",
       "      <td>0.000000</td>\n",
       "    </tr>\n",
       "    <tr>\n",
       "      <th>0</th>\n",
       "      <td>LOC</td>\n",
       "      <td>1</td>\n",
       "      <td>3</td>\n",
       "      <td>2</td>\n",
       "      <td>1</td>\n",
       "      <td>1</td>\n",
       "      <td>1</td>\n",
       "      <td>1.595238</td>\n",
       "    </tr>\n",
       "    <tr>\n",
       "      <th>20</th>\n",
       "      <td>NonAmbulatory</td>\n",
       "      <td>2</td>\n",
       "      <td>4</td>\n",
       "      <td>1</td>\n",
       "      <td>2</td>\n",
       "      <td>3</td>\n",
       "      <td>6</td>\n",
       "      <td>2.976190</td>\n",
       "    </tr>\n",
       "    <tr>\n",
       "      <th>2</th>\n",
       "      <td>PainNeck</td>\n",
       "      <td>7</td>\n",
       "      <td>1</td>\n",
       "      <td>3</td>\n",
       "      <td>5</td>\n",
       "      <td>2</td>\n",
       "      <td>13</td>\n",
       "      <td>4.809524</td>\n",
       "    </tr>\n",
       "    <tr>\n",
       "      <th>15</th>\n",
       "      <td>HighriskMVC</td>\n",
       "      <td>8</td>\n",
       "      <td>5</td>\n",
       "      <td>7</td>\n",
       "      <td>4</td>\n",
       "      <td>4</td>\n",
       "      <td>4</td>\n",
       "      <td>5.738095</td>\n",
       "    </tr>\n",
       "    <tr>\n",
       "      <th>11</th>\n",
       "      <td>HighriskDiving</td>\n",
       "      <td>5</td>\n",
       "      <td>12</td>\n",
       "      <td>5</td>\n",
       "      <td>8</td>\n",
       "      <td>11</td>\n",
       "      <td>2</td>\n",
       "      <td>7.214286</td>\n",
       "    </tr>\n",
       "    <tr>\n",
       "      <th>5</th>\n",
       "      <td>Torticollis</td>\n",
       "      <td>12</td>\n",
       "      <td>8</td>\n",
       "      <td>4</td>\n",
       "      <td>11</td>\n",
       "      <td>6</td>\n",
       "      <td>3</td>\n",
       "      <td>7.333333</td>\n",
       "    </tr>\n",
       "    <tr>\n",
       "      <th>8</th>\n",
       "      <td>SubInj_Ext</td>\n",
       "      <td>4</td>\n",
       "      <td>7</td>\n",
       "      <td>12</td>\n",
       "      <td>7</td>\n",
       "      <td>9</td>\n",
       "      <td>5</td>\n",
       "      <td>7.380952</td>\n",
       "    </tr>\n",
       "    <tr>\n",
       "      <th>6</th>\n",
       "      <td>SubInj_Head</td>\n",
       "      <td>14</td>\n",
       "      <td>6</td>\n",
       "      <td>8</td>\n",
       "      <td>6</td>\n",
       "      <td>7</td>\n",
       "      <td>9</td>\n",
       "      <td>8.571429</td>\n",
       "    </tr>\n",
       "    <tr>\n",
       "      <th>17</th>\n",
       "      <td>AxialLoadAnyDoc</td>\n",
       "      <td>3</td>\n",
       "      <td>10</td>\n",
       "      <td>16</td>\n",
       "      <td>3</td>\n",
       "      <td>5</td>\n",
       "      <td>20</td>\n",
       "      <td>9.547619</td>\n",
       "    </tr>\n",
       "    <tr>\n",
       "      <th>4</th>\n",
       "      <td>TenderNeck</td>\n",
       "      <td>6</td>\n",
       "      <td>2</td>\n",
       "      <td>20</td>\n",
       "      <td>10</td>\n",
       "      <td>12</td>\n",
       "      <td>11</td>\n",
       "      <td>9.761905</td>\n",
       "    </tr>\n",
       "    <tr>\n",
       "      <th>3</th>\n",
       "      <td>PosMidNeckTenderness</td>\n",
       "      <td>11</td>\n",
       "      <td>9</td>\n",
       "      <td>6</td>\n",
       "      <td>9</td>\n",
       "      <td>8</td>\n",
       "      <td>18</td>\n",
       "      <td>10.023810</td>\n",
       "    </tr>\n",
       "    <tr>\n",
       "      <th>14</th>\n",
       "      <td>HighriskHitByCar</td>\n",
       "      <td>10</td>\n",
       "      <td>14</td>\n",
       "      <td>10</td>\n",
       "      <td>12</td>\n",
       "      <td>14</td>\n",
       "      <td>16</td>\n",
       "      <td>12.452381</td>\n",
       "    </tr>\n",
       "    <tr>\n",
       "      <th>9</th>\n",
       "      <td>SubInj_TorsoTrunk</td>\n",
       "      <td>16</td>\n",
       "      <td>11</td>\n",
       "      <td>11</td>\n",
       "      <td>13</td>\n",
       "      <td>10</td>\n",
       "      <td>15</td>\n",
       "      <td>12.761905</td>\n",
       "    </tr>\n",
       "    <tr>\n",
       "      <th>19</th>\n",
       "      <td>Clotheslining</td>\n",
       "      <td>9</td>\n",
       "      <td>13</td>\n",
       "      <td>17</td>\n",
       "      <td>14</td>\n",
       "      <td>13</td>\n",
       "      <td>10</td>\n",
       "      <td>12.833333</td>\n",
       "    </tr>\n",
       "    <tr>\n",
       "      <th>7</th>\n",
       "      <td>SubInj_Face</td>\n",
       "      <td>15</td>\n",
       "      <td>15</td>\n",
       "      <td>14</td>\n",
       "      <td>15</td>\n",
       "      <td>15</td>\n",
       "      <td>12</td>\n",
       "      <td>14.285714</td>\n",
       "    </tr>\n",
       "    <tr>\n",
       "      <th>16</th>\n",
       "      <td>HighriskOtherMV</td>\n",
       "      <td>13</td>\n",
       "      <td>17</td>\n",
       "      <td>15</td>\n",
       "      <td>17</td>\n",
       "      <td>19</td>\n",
       "      <td>7</td>\n",
       "      <td>14.785714</td>\n",
       "    </tr>\n",
       "    <tr>\n",
       "      <th>10</th>\n",
       "      <td>Predisposed</td>\n",
       "      <td>19</td>\n",
       "      <td>18</td>\n",
       "      <td>9</td>\n",
       "      <td>19</td>\n",
       "      <td>18</td>\n",
       "      <td>8</td>\n",
       "      <td>15.285714</td>\n",
       "    </tr>\n",
       "    <tr>\n",
       "      <th>12</th>\n",
       "      <td>HighriskFall</td>\n",
       "      <td>17</td>\n",
       "      <td>16</td>\n",
       "      <td>18</td>\n",
       "      <td>16</td>\n",
       "      <td>17</td>\n",
       "      <td>17</td>\n",
       "      <td>16.738095</td>\n",
       "    </tr>\n",
       "    <tr>\n",
       "      <th>18</th>\n",
       "      <td>axialloadtop</td>\n",
       "      <td>18</td>\n",
       "      <td>19</td>\n",
       "      <td>13</td>\n",
       "      <td>18</td>\n",
       "      <td>16</td>\n",
       "      <td>19</td>\n",
       "      <td>17.000000</td>\n",
       "    </tr>\n",
       "    <tr>\n",
       "      <th>13</th>\n",
       "      <td>HighriskHanging</td>\n",
       "      <td>20</td>\n",
       "      <td>20</td>\n",
       "      <td>19</td>\n",
       "      <td>20</td>\n",
       "      <td>20</td>\n",
       "      <td>14</td>\n",
       "      <td>18.904762</td>\n",
       "    </tr>\n",
       "  </tbody>\n",
       "</table>\n",
       "</div>"
      ],
      "text/plain": [
       "                    name  cart_dini  cart_perm_train  cart_perm_tuning  \\\n",
       "1     FocalNeuroFindings          0                0                 0   \n",
       "0                    LOC          1                3                 2   \n",
       "20         NonAmbulatory          2                4                 1   \n",
       "2               PainNeck          7                1                 3   \n",
       "15           HighriskMVC          8                5                 7   \n",
       "11        HighriskDiving          5               12                 5   \n",
       "5            Torticollis         12                8                 4   \n",
       "8             SubInj_Ext          4                7                12   \n",
       "6            SubInj_Head         14                6                 8   \n",
       "17       AxialLoadAnyDoc          3               10                16   \n",
       "4             TenderNeck          6                2                20   \n",
       "3   PosMidNeckTenderness         11                9                 6   \n",
       "14      HighriskHitByCar         10               14                10   \n",
       "9      SubInj_TorsoTrunk         16               11                11   \n",
       "19         Clotheslining          9               13                17   \n",
       "7            SubInj_Face         15               15                14   \n",
       "16       HighriskOtherMV         13               17                15   \n",
       "10           Predisposed         19               18                 9   \n",
       "12          HighriskFall         17               16                18   \n",
       "18          axialloadtop         18               19                13   \n",
       "13       HighriskHanging         20               20                19   \n",
       "\n",
       "    rf_dini  rf_perm_train  rf_perm_tuning   ave_rank  \n",
       "1         0              0               0   0.000000  \n",
       "0         1              1               1   1.595238  \n",
       "20        2              3               6   2.976190  \n",
       "2         5              2              13   4.809524  \n",
       "15        4              4               4   5.738095  \n",
       "11        8             11               2   7.214286  \n",
       "5        11              6               3   7.333333  \n",
       "8         7              9               5   7.380952  \n",
       "6         6              7               9   8.571429  \n",
       "17        3              5              20   9.547619  \n",
       "4        10             12              11   9.761905  \n",
       "3         9              8              18  10.023810  \n",
       "14       12             14              16  12.452381  \n",
       "9        13             10              15  12.761905  \n",
       "19       14             13              10  12.833333  \n",
       "7        15             15              12  14.285714  \n",
       "16       17             19               7  14.785714  \n",
       "10       19             18               8  15.285714  \n",
       "12       16             17              17  16.738095  \n",
       "18       18             16              19  17.000000  \n",
       "13       20             20              14  18.904762  "
      ]
     },
     "execution_count": 214,
     "metadata": {},
     "output_type": "execute_result"
    }
   ],
   "source": [
    "VI_df.sort_values(by = 'ave_rank')"
   ]
  },
  {
   "cell_type": "code",
   "execution_count": 215,
   "id": "21af0a97",
   "metadata": {},
   "outputs": [
    {
     "data": {
      "image/png": "[encoded data removed]",
      "text/plain": [
       "<Figure size 576x432 with 1 Axes>"
      ]
     },
     "metadata": {
      "needs_background": "light"
     },
     "output_type": "display_data"
    }
   ],
   "source": [
    "# ax = plt.gca()\n",
    "fig, ax = plt.subplots(figsize=(8,6))\n",
    "rf_disp = RocCurveDisplay.from_estimator(rf, X_tuning, y_tuning, ax=ax, name = \"RandomForest\")\n",
    "cart_disp = RocCurveDisplay.from_estimator(cart, X_tuning, y_tuning, ax=ax, name = \"CART\")\n",
    "cart2_disp = RocCurveDisplay.from_estimator(cart2, X_tuning, y_tuning, ax=ax, name = \"CART2\")\n",
    "rf_disp_train = RocCurveDisplay.from_estimator(rf, X, y, ax=ax, name = \"RandomForest_train\")\n",
    "cart_disp_train = RocCurveDisplay.from_estimator(cart, X, y, ax=ax, name = \"CART_train\")\n",
    "cart2_disp_train = RocCurveDisplay.from_estimator(cart2, X, y, ax=ax, name = \"CART2_train\")\n",
    "plt.show()"
   ]
  },
  {
   "cell_type": "code",
   "execution_count": null,
   "id": "85c85468",
   "metadata": {},
   "outputs": [],
   "source": []
  }
 ],
 "metadata": {
  "kernelspec": {
   "display_name": "Python 3 (ipykernel)",
   "language": "python",
   "name": "python3"
  },
  "language_info": {
   "codemirror_mode": {
    "name": "ipython",
    "version": 3
   },
   "file_extension": ".py",
   "mimetype": "text/x-python",
   "name": "python",
   "nbconvert_exporter": "python",
   "pygments_lexer": "ipython3",
   "version": "3.7.0"
  }
 },
 "nbformat": 4,
 "nbformat_minor": 5
}
