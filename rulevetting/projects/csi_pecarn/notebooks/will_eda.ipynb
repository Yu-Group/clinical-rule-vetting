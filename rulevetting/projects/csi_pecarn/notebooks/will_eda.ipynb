{
 "cells": [
  {
   "cell_type": "code",
   "execution_count": 1,
   "metadata": {},
   "outputs": [
    {
     "name": "stderr",
     "output_type": "stream",
     "text": [
      "/accounts/grad/wtorous/.local/lib/python3.7/site-packages/pandas/compat/_optional.py:138: UserWarning: Pandas requires version '2.7.0' or newer of 'numexpr' (version '2.6.9' currently installed).\n",
      "  warnings.warn(msg, UserWarning)\n"
     ]
    },
    {
     "name": "stdout",
     "output_type": "stream",
     "text": [
      "/accounts/grad/wtorous/rule-vetting\n"
     ]
    }
   ],
   "source": [
    "%load_ext autoreload\n",
    "%autoreload 2\n",
    "\n",
    "import numpy as np\n",
    "import pandas as pd\n",
    "\n",
    "import matplotlib.pyplot as plt\n",
    "%matplotlib inline\n",
    "import seaborn as sns\n",
    "\n",
    "import sys \n",
    "import os\n",
    "\n",
    "# TODO: make more pythonic\n",
    "# this line walks up file directory so rule-vetting is cwd\n",
    "# Currently this breaks if chunk is run multiple times\n",
    "os.chdir(os.path.dirname(os.path.dirname(os.path.dirname(os.path.dirname(os.getcwd())))))\n",
    "print(os.getcwd())"
   ]
  },
  {
   "cell_type": "code",
   "execution_count": 61,
   "metadata": {},
   "outputs": [],
   "source": [
    "import rulevetting.api.viz as viz\n",
    "from rulevetting.projects.csi_pecarn.dataset import Dataset"
   ]
  },
  {
   "cell_type": "code",
   "execution_count": 62,
   "metadata": {},
   "outputs": [],
   "source": [
    "dfs = Dataset().get_data(keep_na=False)"
   ]
  },
  {
   "cell_type": "code",
   "execution_count": 63,
   "metadata": {},
   "outputs": [],
   "source": [
    "eda_df = dfs[0]"
   ]
  },
  {
   "cell_type": "code",
   "execution_count": 64,
   "metadata": {},
   "outputs": [],
   "source": [
    "posthoc_columns = [col for col in eda_df.columns if 'posthoc' in col]\n",
    "#eda_df.drop(posthoc_columns,axis=1,inplace=True)"
   ]
  },
  {
   "cell_type": "code",
   "execution_count": 65,
   "metadata": {},
   "outputs": [
    {
     "name": "stdout",
     "output_type": "stream",
     "text": [
      "[1704, 96]\n"
     ]
    }
   ],
   "source": [
    "print(list(eda_df.shape))"
   ]
  },
  {
   "cell_type": "code",
   "execution_count": 66,
   "metadata": {},
   "outputs": [],
   "source": [
    "outcome_def = 'csi_injury'"
   ]
  },
  {
   "cell_type": "code",
   "execution_count": 67,
   "metadata": {},
   "outputs": [
    {
     "data": {
      "text/plain": [
       "Index(['AlteredMentalStatus', 'LOC', 'FocalNeuroFindings', 'PainNeck',\n",
       "       'PosMidNeckTenderness', 'TenderNeck', 'Torticollis', 'SubInj_Head',\n",
       "       'SubInj_Face', 'SubInj_Ext', 'SubInj_TorsoTrunk', 'Predisposed',\n",
       "       'HighriskDiving', 'HighriskFall', 'HighriskHanging', 'HighriskHitByCar',\n",
       "       'HighriskMVC', 'HighriskOtherMV', 'AxialLoadAnyDoc', 'axialloadtop',\n",
       "       'Clotheslining', 'CervicalSpineImmobilization', 'GCSEye', 'MotorGCS',\n",
       "       'VerbalGCS', 'TotalGCS', 'PtCompPainFace', 'PtCompPainHead',\n",
       "       'PtTenderNeck', 'PtTenderFace', 'PtTenderHead',\n",
       "       'posthoc_CervicalSpinePrecautionsCC',\n",
       "       'posthoc_CervicalSpinePrecautionsRLB',\n",
       "       'posthoc_CervicalSpinePrecautionsOther',\n",
       "       'posthoc_IntervForCervicalStabSCollar',\n",
       "       'posthoc_IntervForCervicalStabRCollar',\n",
       "       'posthoc_IntervForCervicalStabBrace',\n",
       "       'posthoc_IntervForCervicalStabTraction',\n",
       "       'posthoc_IntervForCervicalStabSurgical',\n",
       "       'posthoc_IntervForCervicalStabHalo',\n",
       "       'posthoc_IntervForCervicalStabIntFix',\n",
       "       'posthoc_IntervForCervicalStabOther',\n",
       "       'posthoc_OutcomeStudySiteMobility1',\n",
       "       'posthoc_OutcomeStudySiteMobility2', 'PassRestraint', 'Assault',\n",
       "       'ChildAbuse', 'csi_injury', 'EMSArrival', 'NonAmbulatory',\n",
       "       'AVPUDetails_AVPU_A', 'AVPUDetails_AVPU_P', 'AVPUDetails_AVPU_U',\n",
       "       'AVPUDetails_AVPU_V', 'AVPUDetails_AVPU_nan', 'GCSnot15',\n",
       "       'ReceivedInTransfer_binary', 'PtAmbulatoryPriorArrival_binary',\n",
       "       'ArrPtIntub_binary', 'PtCompPainNeckMove_binary',\n",
       "       'posthoc_CervicalSpinePrecautions_binary',\n",
       "       'posthoc_IntervForCervicalStab_binary',\n",
       "       'posthoc_OutcomeStudySiteBowel_binary',\n",
       "       'posthoc_OutcomeStudySiteUrine_binary', 'posthoc_MedsGiven_binary',\n",
       "       'posthoc_IntubatedSS_binary', 'posthoc_LongTermRehab_binary',\n",
       "       'posthoc_TrfToLongTermRehab_binary',\n",
       "       'CervicalSpineImmobilization_outside_binary',\n",
       "       'posthoc_CervicalSpineFractures_binary',\n",
       "       'posthoc_LigamentInjury_binary',\n",
       "       'posthoc_CervicalSpineSignalChange_binary', 'helmet_binary',\n",
       "       'HEENT_binary', 'Cardiovascular_binary', 'Respiratory_binary',\n",
       "       'Gastrointestinal_binary', 'Musculoskeletal_binary',\n",
       "       'Neurological_binary', 'Medications_binary', 'Xrays_outside_binary',\n",
       "       'CTPerformed_outside_binary', 'MRIPerformed_outside_binary',\n",
       "       'posthoc_Xrays_site_binary', 'posthoc_CTPerformed_site_binary',\n",
       "       'posthoc_MRIPerformed_site_binary', 'NonVerbal', 'YoungAdult',\n",
       "       'HighRiskFallDownStairs', 'PainNeck_Robust', 'GCS_na', 'posthoc_Race',\n",
       "       'posthoc_PayorType', 'posthoc_OutcomeStudySite',\n",
       "       'posthoc_OutcomeStudySiteMobility', 'posthoc_OutcomeStudySiteNeuro'],\n",
       "      dtype='object')"
      ]
     },
     "execution_count": 67,
     "metadata": {},
     "output_type": "execute_result"
    }
   ],
   "source": [
    "eda_df.columns"
   ]
  },
  {
   "cell_type": "code",
   "execution_count": 68,
   "metadata": {},
   "outputs": [
    {
     "data": {
      "text/plain": [
       "id       case_id  site  control_type\n",
       "110001   110001   1     case            0.0\n",
       "110021   110021   1     case            0.0\n",
       "110019   110019   1     case            0.0\n",
       "110002   110002   1     case            0.0\n",
       "110011   110011   1     case            0.0\n",
       "                                       ... \n",
       "1723134  1713099  17    ems             0.0\n",
       "1723165  1713124  17    ems             0.0\n",
       "1723141  1713104  17    ems             0.0\n",
       "1723147  1713105  17    ems             0.0\n",
       "1723135  1713119  17    ems             0.0\n",
       "Name: GCS_na, Length: 1704, dtype: float64"
      ]
     },
     "execution_count": 68,
     "metadata": {},
     "output_type": "execute_result"
    }
   ],
   "source": [
    "eda_df['GCS_na']"
   ]
  },
  {
   "cell_type": "code",
   "execution_count": 69,
   "metadata": {},
   "outputs": [],
   "source": [
    "# get list of columns with only two recorded outcomes\n",
    "binary_columns = eda_df.columns[eda_df.nunique()==2]\n",
    "binary_eda_data = eda_df.loc[:,binary_columns].copy() \n",
    "\n",
    "cont_columns = eda_df.columns[eda_df.nunique()!=2]\n",
    "cont_eda_data = eda_df.loc[:,cont_columns].copy()\n",
    "cont_eda_data.loc[:,outcome_def] = eda_df.loc[:,outcome_def].copy() #add binary outcome indicator back in"
   ]
  },
  {
   "cell_type": "code",
   "execution_count": 70,
   "metadata": {},
   "outputs": [
    {
     "name": "stdout",
     "output_type": "stream",
     "text": [
      "(1704, 96)\n",
      "(1704, 87)\n",
      "(1704, 10)\n"
     ]
    }
   ],
   "source": [
    "# outcome indicator is double counted\n",
    "print(eda_df.shape)\n",
    "print(binary_eda_data.shape)\n",
    "print(cont_eda_data.shape)"
   ]
  },
  {
   "cell_type": "code",
   "execution_count": 71,
   "metadata": {},
   "outputs": [
    {
     "name": "stdout",
     "output_type": "stream",
     "text": [
      "                                  GCSEye  MotorGCS  VerbalGCS  TotalGCS  \\\n",
      "id     case_id site control_type                                          \n",
      "110001 110001  1    case             1.0       1.0        1.0       3.0   \n",
      "110021 110021  1    case             4.0       6.0        5.0      15.0   \n",
      "110019 110019  1    case             4.0       6.0        5.0      15.0   \n",
      "110002 110002  1    case             4.0       6.0        5.0      15.0   \n",
      "110011 110011  1    case             4.0       6.0        5.0      15.0   \n",
      "\n",
      "                                               posthoc_Race posthoc_PayorType  \\\n",
      "id     case_id site control_type                                                \n",
      "110001 110001  1    case                              White                CI   \n",
      "110021 110021  1    case                              White                ND   \n",
      "110019 110019  1    case                              White                CI   \n",
      "110002 110002  1    case          Black or African American                MA   \n",
      "110011 110011  1    case                              White                CI   \n",
      "\n",
      "                                         posthoc_OutcomeStudySite  \\\n",
      "id     case_id site control_type                                    \n",
      "110001 110001  1    case          Persistent Neurological Deficit   \n",
      "110021 110021  1    case                                   Normal   \n",
      "110019 110019  1    case                                   Normal   \n",
      "110002 110002  1    case                                   Normal   \n",
      "110011 110011  1    case                                   Normal   \n",
      "\n",
      "                                 posthoc_OutcomeStudySiteMobility  \\\n",
      "id     case_id site control_type                                    \n",
      "110001 110001  1    case                     Wheelchair dependent   \n",
      "110021 110021  1    case                                        N   \n",
      "110019 110019  1    case                                        N   \n",
      "110002 110002  1    case                                        N   \n",
      "110011 110011  1    case                                        N   \n",
      "\n",
      "                                 posthoc_OutcomeStudySiteNeuro  csi_injury  \n",
      "id     case_id site control_type                                            \n",
      "110001 110001  1    case                     Severe disability         0.0  \n",
      "110021 110021  1    case                                    NR         0.0  \n",
      "110019 110019  1    case                                    NR         0.0  \n",
      "110002 110002  1    case                                    NR         0.0  \n",
      "110011 110011  1    case                                    NR         0.0  \n"
     ]
    }
   ],
   "source": [
    "print(cont_eda_data.head())"
   ]
  },
  {
   "cell_type": "code",
   "execution_count": 72,
   "metadata": {},
   "outputs": [
    {
     "name": "stdout",
     "output_type": "stream",
     "text": [
      "['case' 'ems' 'moi' 'ran']\n"
     ]
    }
   ],
   "source": [
    "print(np.unique(eda_df.index.get_level_values('control_type')))"
   ]
  },
  {
   "cell_type": "markdown",
   "metadata": {},
   "source": [
    "# Summary EDA"
   ]
  },
  {
   "cell_type": "code",
   "execution_count": 73,
   "metadata": {},
   "outputs": [
    {
     "data": {
      "text/html": [
       "<div>\n",
       "<style scoped>\n",
       "    .dataframe tbody tr th:only-of-type {\n",
       "        vertical-align: middle;\n",
       "    }\n",
       "\n",
       "    .dataframe tbody tr th {\n",
       "        vertical-align: top;\n",
       "    }\n",
       "\n",
       "    .dataframe thead th {\n",
       "        text-align: right;\n",
       "    }\n",
       "</style>\n",
       "<table border=\"1\" class=\"dataframe\">\n",
       "  <thead>\n",
       "    <tr style=\"text-align: right;\">\n",
       "      <th></th>\n",
       "      <th>AlteredMentalStatus</th>\n",
       "      <th>LOC</th>\n",
       "      <th>FocalNeuroFindings</th>\n",
       "      <th>PainNeck</th>\n",
       "      <th>PosMidNeckTenderness</th>\n",
       "      <th>TenderNeck</th>\n",
       "      <th>Torticollis</th>\n",
       "      <th>SubInj_Head</th>\n",
       "      <th>SubInj_Face</th>\n",
       "      <th>SubInj_Ext</th>\n",
       "      <th>...</th>\n",
       "      <th>CTPerformed_outside_binary</th>\n",
       "      <th>MRIPerformed_outside_binary</th>\n",
       "      <th>posthoc_Xrays_site_binary</th>\n",
       "      <th>posthoc_CTPerformed_site_binary</th>\n",
       "      <th>posthoc_MRIPerformed_site_binary</th>\n",
       "      <th>NonVerbal</th>\n",
       "      <th>YoungAdult</th>\n",
       "      <th>HighRiskFallDownStairs</th>\n",
       "      <th>PainNeck_Robust</th>\n",
       "      <th>GCS_na</th>\n",
       "    </tr>\n",
       "  </thead>\n",
       "  <tbody>\n",
       "    <tr>\n",
       "      <th>count</th>\n",
       "      <td>1704.000000</td>\n",
       "      <td>1704.000000</td>\n",
       "      <td>1704.000000</td>\n",
       "      <td>1704.000000</td>\n",
       "      <td>1704.000000</td>\n",
       "      <td>1704.000000</td>\n",
       "      <td>1704.000000</td>\n",
       "      <td>1704.000000</td>\n",
       "      <td>1704.000000</td>\n",
       "      <td>1704.000000</td>\n",
       "      <td>...</td>\n",
       "      <td>1704.000000</td>\n",
       "      <td>1704.000000</td>\n",
       "      <td>1704.000000</td>\n",
       "      <td>1704.000000</td>\n",
       "      <td>1704.000000</td>\n",
       "      <td>1704.000000</td>\n",
       "      <td>1704.000000</td>\n",
       "      <td>1704.000000</td>\n",
       "      <td>1704.000000</td>\n",
       "      <td>1704.000000</td>\n",
       "    </tr>\n",
       "    <tr>\n",
       "      <th>mean</th>\n",
       "      <td>0.176643</td>\n",
       "      <td>0.378521</td>\n",
       "      <td>0.122066</td>\n",
       "      <td>0.343897</td>\n",
       "      <td>0.299296</td>\n",
       "      <td>0.382042</td>\n",
       "      <td>0.049883</td>\n",
       "      <td>0.123826</td>\n",
       "      <td>0.044601</td>\n",
       "      <td>0.092136</td>\n",
       "      <td>...</td>\n",
       "      <td>0.370892</td>\n",
       "      <td>0.026995</td>\n",
       "      <td>0.907277</td>\n",
       "      <td>0.327465</td>\n",
       "      <td>0.128521</td>\n",
       "      <td>0.187793</td>\n",
       "      <td>0.461854</td>\n",
       "      <td>0.017606</td>\n",
       "      <td>0.322183</td>\n",
       "      <td>0.061620</td>\n",
       "    </tr>\n",
       "    <tr>\n",
       "      <th>std</th>\n",
       "      <td>0.381478</td>\n",
       "      <td>0.485161</td>\n",
       "      <td>0.327458</td>\n",
       "      <td>0.475147</td>\n",
       "      <td>0.458084</td>\n",
       "      <td>0.486029</td>\n",
       "      <td>0.217766</td>\n",
       "      <td>0.329480</td>\n",
       "      <td>0.206487</td>\n",
       "      <td>0.289303</td>\n",
       "      <td>...</td>\n",
       "      <td>0.483185</td>\n",
       "      <td>0.162117</td>\n",
       "      <td>0.290129</td>\n",
       "      <td>0.469426</td>\n",
       "      <td>0.334767</td>\n",
       "      <td>0.390662</td>\n",
       "      <td>0.498689</td>\n",
       "      <td>0.131552</td>\n",
       "      <td>0.467450</td>\n",
       "      <td>0.240534</td>\n",
       "    </tr>\n",
       "    <tr>\n",
       "      <th>min</th>\n",
       "      <td>0.000000</td>\n",
       "      <td>0.000000</td>\n",
       "      <td>0.000000</td>\n",
       "      <td>0.000000</td>\n",
       "      <td>0.000000</td>\n",
       "      <td>0.000000</td>\n",
       "      <td>0.000000</td>\n",
       "      <td>0.000000</td>\n",
       "      <td>0.000000</td>\n",
       "      <td>0.000000</td>\n",
       "      <td>...</td>\n",
       "      <td>0.000000</td>\n",
       "      <td>0.000000</td>\n",
       "      <td>0.000000</td>\n",
       "      <td>0.000000</td>\n",
       "      <td>0.000000</td>\n",
       "      <td>0.000000</td>\n",
       "      <td>0.000000</td>\n",
       "      <td>0.000000</td>\n",
       "      <td>0.000000</td>\n",
       "      <td>0.000000</td>\n",
       "    </tr>\n",
       "    <tr>\n",
       "      <th>25%</th>\n",
       "      <td>0.000000</td>\n",
       "      <td>0.000000</td>\n",
       "      <td>0.000000</td>\n",
       "      <td>0.000000</td>\n",
       "      <td>0.000000</td>\n",
       "      <td>0.000000</td>\n",
       "      <td>0.000000</td>\n",
       "      <td>0.000000</td>\n",
       "      <td>0.000000</td>\n",
       "      <td>0.000000</td>\n",
       "      <td>...</td>\n",
       "      <td>0.000000</td>\n",
       "      <td>0.000000</td>\n",
       "      <td>1.000000</td>\n",
       "      <td>0.000000</td>\n",
       "      <td>0.000000</td>\n",
       "      <td>0.000000</td>\n",
       "      <td>0.000000</td>\n",
       "      <td>0.000000</td>\n",
       "      <td>0.000000</td>\n",
       "      <td>0.000000</td>\n",
       "    </tr>\n",
       "    <tr>\n",
       "      <th>50%</th>\n",
       "      <td>0.000000</td>\n",
       "      <td>0.000000</td>\n",
       "      <td>0.000000</td>\n",
       "      <td>0.000000</td>\n",
       "      <td>0.000000</td>\n",
       "      <td>0.000000</td>\n",
       "      <td>0.000000</td>\n",
       "      <td>0.000000</td>\n",
       "      <td>0.000000</td>\n",
       "      <td>0.000000</td>\n",
       "      <td>...</td>\n",
       "      <td>0.000000</td>\n",
       "      <td>0.000000</td>\n",
       "      <td>1.000000</td>\n",
       "      <td>0.000000</td>\n",
       "      <td>0.000000</td>\n",
       "      <td>0.000000</td>\n",
       "      <td>0.000000</td>\n",
       "      <td>0.000000</td>\n",
       "      <td>0.000000</td>\n",
       "      <td>0.000000</td>\n",
       "    </tr>\n",
       "    <tr>\n",
       "      <th>75%</th>\n",
       "      <td>0.000000</td>\n",
       "      <td>1.000000</td>\n",
       "      <td>0.000000</td>\n",
       "      <td>1.000000</td>\n",
       "      <td>1.000000</td>\n",
       "      <td>1.000000</td>\n",
       "      <td>0.000000</td>\n",
       "      <td>0.000000</td>\n",
       "      <td>0.000000</td>\n",
       "      <td>0.000000</td>\n",
       "      <td>...</td>\n",
       "      <td>1.000000</td>\n",
       "      <td>0.000000</td>\n",
       "      <td>1.000000</td>\n",
       "      <td>1.000000</td>\n",
       "      <td>0.000000</td>\n",
       "      <td>0.000000</td>\n",
       "      <td>1.000000</td>\n",
       "      <td>0.000000</td>\n",
       "      <td>1.000000</td>\n",
       "      <td>0.000000</td>\n",
       "    </tr>\n",
       "    <tr>\n",
       "      <th>max</th>\n",
       "      <td>1.000000</td>\n",
       "      <td>1.000000</td>\n",
       "      <td>1.000000</td>\n",
       "      <td>1.000000</td>\n",
       "      <td>1.000000</td>\n",
       "      <td>1.000000</td>\n",
       "      <td>1.000000</td>\n",
       "      <td>1.000000</td>\n",
       "      <td>1.000000</td>\n",
       "      <td>1.000000</td>\n",
       "      <td>...</td>\n",
       "      <td>1.000000</td>\n",
       "      <td>1.000000</td>\n",
       "      <td>1.000000</td>\n",
       "      <td>1.000000</td>\n",
       "      <td>1.000000</td>\n",
       "      <td>1.000000</td>\n",
       "      <td>1.000000</td>\n",
       "      <td>1.000000</td>\n",
       "      <td>1.000000</td>\n",
       "      <td>1.000000</td>\n",
       "    </tr>\n",
       "  </tbody>\n",
       "</table>\n",
       "<p>8 rows × 91 columns</p>\n",
       "</div>"
      ],
      "text/plain": [
       "       AlteredMentalStatus          LOC  FocalNeuroFindings     PainNeck  \\\n",
       "count          1704.000000  1704.000000         1704.000000  1704.000000   \n",
       "mean              0.176643     0.378521            0.122066     0.343897   \n",
       "std               0.381478     0.485161            0.327458     0.475147   \n",
       "min               0.000000     0.000000            0.000000     0.000000   \n",
       "25%               0.000000     0.000000            0.000000     0.000000   \n",
       "50%               0.000000     0.000000            0.000000     0.000000   \n",
       "75%               0.000000     1.000000            0.000000     1.000000   \n",
       "max               1.000000     1.000000            1.000000     1.000000   \n",
       "\n",
       "       PosMidNeckTenderness   TenderNeck  Torticollis  SubInj_Head  \\\n",
       "count           1704.000000  1704.000000  1704.000000  1704.000000   \n",
       "mean               0.299296     0.382042     0.049883     0.123826   \n",
       "std                0.458084     0.486029     0.217766     0.329480   \n",
       "min                0.000000     0.000000     0.000000     0.000000   \n",
       "25%                0.000000     0.000000     0.000000     0.000000   \n",
       "50%                0.000000     0.000000     0.000000     0.000000   \n",
       "75%                1.000000     1.000000     0.000000     0.000000   \n",
       "max                1.000000     1.000000     1.000000     1.000000   \n",
       "\n",
       "       SubInj_Face   SubInj_Ext  ...  CTPerformed_outside_binary  \\\n",
       "count  1704.000000  1704.000000  ...                 1704.000000   \n",
       "mean      0.044601     0.092136  ...                    0.370892   \n",
       "std       0.206487     0.289303  ...                    0.483185   \n",
       "min       0.000000     0.000000  ...                    0.000000   \n",
       "25%       0.000000     0.000000  ...                    0.000000   \n",
       "50%       0.000000     0.000000  ...                    0.000000   \n",
       "75%       0.000000     0.000000  ...                    1.000000   \n",
       "max       1.000000     1.000000  ...                    1.000000   \n",
       "\n",
       "       MRIPerformed_outside_binary  posthoc_Xrays_site_binary  \\\n",
       "count                  1704.000000                1704.000000   \n",
       "mean                      0.026995                   0.907277   \n",
       "std                       0.162117                   0.290129   \n",
       "min                       0.000000                   0.000000   \n",
       "25%                       0.000000                   1.000000   \n",
       "50%                       0.000000                   1.000000   \n",
       "75%                       0.000000                   1.000000   \n",
       "max                       1.000000                   1.000000   \n",
       "\n",
       "       posthoc_CTPerformed_site_binary  posthoc_MRIPerformed_site_binary  \\\n",
       "count                      1704.000000                       1704.000000   \n",
       "mean                          0.327465                          0.128521   \n",
       "std                           0.469426                          0.334767   \n",
       "min                           0.000000                          0.000000   \n",
       "25%                           0.000000                          0.000000   \n",
       "50%                           0.000000                          0.000000   \n",
       "75%                           1.000000                          0.000000   \n",
       "max                           1.000000                          1.000000   \n",
       "\n",
       "         NonVerbal   YoungAdult  HighRiskFallDownStairs  PainNeck_Robust  \\\n",
       "count  1704.000000  1704.000000             1704.000000      1704.000000   \n",
       "mean      0.187793     0.461854                0.017606         0.322183   \n",
       "std       0.390662     0.498689                0.131552         0.467450   \n",
       "min       0.000000     0.000000                0.000000         0.000000   \n",
       "25%       0.000000     0.000000                0.000000         0.000000   \n",
       "50%       0.000000     0.000000                0.000000         0.000000   \n",
       "75%       0.000000     1.000000                0.000000         1.000000   \n",
       "max       1.000000     1.000000                1.000000         1.000000   \n",
       "\n",
       "            GCS_na  \n",
       "count  1704.000000  \n",
       "mean      0.061620  \n",
       "std       0.240534  \n",
       "min       0.000000  \n",
       "25%       0.000000  \n",
       "50%       0.000000  \n",
       "75%       0.000000  \n",
       "max       1.000000  \n",
       "\n",
       "[8 rows x 91 columns]"
      ]
     },
     "execution_count": 73,
     "metadata": {},
     "output_type": "execute_result"
    }
   ],
   "source": [
    "eda_df.describe()"
   ]
  },
  {
   "cell_type": "code",
   "execution_count": 82,
   "metadata": {},
   "outputs": [
    {
     "name": "stdout",
     "output_type": "stream",
     "text": [
      "(1704, 87) (1704, 87)\n",
      "              GCSEye  MotorGCS  VerbalGCS  TotalGCS  csi_injury\n",
      "GCSEye      1.000000  0.815939   0.790269  0.832520    0.004388\n",
      "MotorGCS    0.815939  1.000000   0.846215  0.866670    0.007385\n",
      "VerbalGCS   0.790269  0.846215   1.000000  0.951456   -0.006260\n",
      "TotalGCS    0.832520  0.866670   0.951456  1.000000   -0.006504\n",
      "csi_injury  0.004388  0.007385  -0.006260 -0.006504    1.000000\n"
     ]
    }
   ],
   "source": [
    "binary_imputed_data = binary_eda_data.fillna(0)\n",
    "print(binary_eda_data.shape, binary_imputed_data.shape)\n",
    "binary_corrs = binary_imputed_data.corr(method='spearman')\n",
    "cont_corrs = cont_eda_data.corr(method='spearman')\n",
    "\n",
    "print(cont_corrs)"
   ]
  },
  {
   "cell_type": "code",
   "execution_count": 83,
   "metadata": {},
   "outputs": [
    {
     "data": {
      "text/plain": [
       "Text(0.5, 0.98, 'Spearman Correlation of Binary Covariates with Mean Imputation')"
      ]
     },
     "execution_count": 83,
     "metadata": {},
     "output_type": "execute_result"
    },
    {
     "data": {
      "image/png": "[encoded data removed]",
      "text/plain": [
       "<Figure size 720x720 with 4 Axes>"
      ]
     },
     "metadata": {
      "needs_background": "light"
     },
     "output_type": "display_data"
    }
   ],
   "source": [
    "binary_corrmap = sns.clustermap(binary_corrs, cmap=viz.cmap_div, vmin=-1, vmax=1, cbar_kws={'label': 'Correlation'})\n",
    "binary_corrmap.ax_row_dendrogram.set_visible(False)\n",
    "binary_corrmap.ax_col_dendrogram.set_visible(False)\n",
    "binary_corrmap.fig.suptitle(\"Spearman Correlation of Binary Covariates with Mean Imputation\")"
   ]
  },
  {
   "cell_type": "code",
   "execution_count": 84,
   "metadata": {},
   "outputs": [
    {
     "data": {
      "image/png": "[encoded data removed]",
      "text/plain": [
       "<Figure size 720x720 with 4 Axes>"
      ]
     },
     "metadata": {
      "needs_background": "light"
     },
     "output_type": "display_data"
    }
   ],
   "source": [
    "cont_corrmap = sns.clustermap(cont_corrs, cmap=viz.cmap_div, vmin=-1, vmax=1, cbar_kws={'label': 'Correlation'})\n",
    "cont_corrmap.ax_row_dendrogram.set_visible(False)\n",
    "cont_corrmap.ax_col_dendrogram.set_visible(False)"
   ]
  },
  {
   "cell_type": "code",
   "execution_count": null,
   "metadata": {},
   "outputs": [],
   "source": [
    "plt.figure(dpi=250, figsize=(4, 7))\n",
    "#vals = binary_corrs[outcome_def]\n",
    "vals = binary_corrs['GCSnot15']\n",
    "args = np.argsort(vals)\n",
    "labs = vals.index.values[args]\n",
    "ax = plt.subplot(111)\n",
    "plt.barh(labs[:20], vals[args][:20])\n",
    "plt.xlabel('Correlation w/ GCS Missing')\n",
    "ax.spines['right'].set_visible(False)\n",
    "ax.spines['top'].set_visible(False)\n",
    "plt.title(\"Bottom 20 Correlations\")\n",
    "plt.show()"
   ]
  },
  {
   "cell_type": "code",
   "execution_count": null,
   "metadata": {},
   "outputs": [],
   "source": [
    "plt.figure(dpi=250, figsize=(4, 7))\n",
    "vals = binary_corrs['csi_injury']\n",
    "args = np.argsort(vals)\n",
    "labs = vals.index.values[args]\n",
    "ax = plt.subplot(111)\n",
    "plt.barh(labs[:25], vals[args][:25])\n",
    "plt.xlabel('Correlation w/ outcome')\n",
    "ax.spines['right'].set_visible(False)\n",
    "ax.spines['top'].set_visible(False)\n",
    "plt.show()"
   ]
  },
  {
   "cell_type": "code",
   "execution_count": null,
   "metadata": {},
   "outputs": [],
   "source": [
    "confusion_matrix = pd.crosstab(binary_imputed_data['AlteredMentalStatus'], binary_imputed_data['AVPUDetails_AVPU_A'], rownames=['AlteredMentalStatus'], colnames=['GCS=15'])\n",
    "\n",
    "sns.heatmap(confusion_matrix, annot=True)\n",
    "plt.title(\"Confusion Matrix for GCS Imputation from AVPU=A\")\n",
    "plt.show()\n"
   ]
  },
  {
   "cell_type": "code",
   "execution_count": null,
   "metadata": {},
   "outputs": [],
   "source": [
    "print(eda_df['TotalGCS'])"
   ]
  },
  {
   "cell_type": "code",
   "execution_count": null,
   "metadata": {},
   "outputs": [],
   "source": [
    "plt.figure(dpi=250, figsize=(4, 7))\n",
    "vals = cont_corrs[outcome_def]\n",
    "args = np.argsort(vals)\n",
    "labs = vals.index.values[args]\n",
    "ax = plt.subplot(111)\n",
    "plt.barh(labs, vals[args])\n",
    "plt.xlabel('Correlation w/ outcome')\n",
    "ax.spines['right'].set_visible(False)\n",
    "ax.spines['top'].set_visible(False)\n",
    "plt.show()"
   ]
  },
  {
   "cell_type": "code",
   "execution_count": null,
   "metadata": {},
   "outputs": [],
   "source": [
    "with pd.option_context('display.max_rows', None, 'display.max_columns', None):  # more options can be specified also\n",
    "    print(binary_corrs['GCS_NA_total'].sort_values())"
   ]
  },
  {
   "cell_type": "markdown",
   "metadata": {},
   "source": [
    "# EDA of Missingness"
   ]
  },
  {
   "cell_type": "code",
   "execution_count": null,
   "metadata": {},
   "outputs": [],
   "source": [
    "# get percent missing by column\n",
    "pd.set_option(\"display.max_rows\", None, \"display.max_columns\", None)\n",
    "print(\"25 Covariates with Highest Percent Missingness\\n\")\n",
    "print(\"All Covariates:\")\n",
    "missing_frac = (eda_df.isna().sum() / eda_df.shape[0]) * 100\n",
    "print(missing_frac.sort_values(ascending=False)[:])"
   ]
  },
  {
   "cell_type": "code",
   "execution_count": null,
   "metadata": {},
   "outputs": [],
   "source": [
    "complete_covar = missing_frac[missing_frac==0.]\n",
    "print(\"Covar. with no missing data:\",len(complete_covar))\n",
    "\n",
    "missing_columns = missing_frac[missing_frac!=0]\n",
    "print(\"Covar. with some missing data:\",len(missing_columns))"
   ]
  },
  {
   "cell_type": "code",
   "execution_count": null,
   "metadata": {},
   "outputs": [],
   "source": [
    "binary_missing_bools = eda_df[missing_columns.index].isna()\n",
    "binary_missing_corrs = binary_missing_bools.corr(method='spearman')"
   ]
  },
  {
   "cell_type": "code",
   "execution_count": null,
   "metadata": {},
   "outputs": [],
   "source": [
    "corrmap = sns.clustermap(binary_missing_corrs, cmap=viz.cmap_div, vmin=-1, vmax=1, cbar_kws={'label': 'Correlation'})\n",
    "corrmap.ax_row_dendrogram.set_visible(False)\n",
    "corrmap.ax_col_dendrogram.set_visible(False)\n",
    "plt.title(\"Correlation of Missigness by Covariate\")"
   ]
  },
  {
   "cell_type": "code",
   "execution_count": null,
   "metadata": {},
   "outputs": [],
   "source": [
    "print(max(binary_missing_corrs))"
   ]
  },
  {
   "cell_type": "code",
   "execution_count": null,
   "metadata": {},
   "outputs": [],
   "source": [
    "print(sorted(binary_missing_corrs.iloc[:,3]))"
   ]
  },
  {
   "cell_type": "markdown",
   "metadata": {},
   "source": [
    "# EDA of Demographic Data"
   ]
  },
  {
   "cell_type": "code",
   "execution_count": null,
   "metadata": {},
   "outputs": [],
   "source": [
    "eda_demographic_df = pd.read_csv(\"data/csi_pecarn/raw/demographics.csv\").set_index([\"studysubjectid\"])\n",
    "print(eda_demographic_df.columns)"
   ]
  },
  {
   "cell_type": "code",
   "execution_count": null,
   "metadata": {},
   "outputs": [],
   "source": [
    "gender_df = eda_demographic_df.groupby('site')['Gender'].value_counts(normalize=True)\n",
    "\n",
    "fig = plt.figure()\n",
    "plt.title('Summary of Gender Variable Across Study Sites')\n",
    "gender_df.unstack().plot(kind='bar', stacked=True,ax=fig.gca())\n",
    "plt.legend(loc='center left', bbox_to_anchor=(1.0, 0.5))\n",
    "plt.xticks(rotation = 0)\n",
    "plt.show()"
   ]
  },
  {
   "cell_type": "code",
   "execution_count": null,
   "metadata": {},
   "outputs": [],
   "source": [
    "race_df = eda_demographic_df.groupby('site')['Race'].value_counts(normalize=True)\n",
    "\n",
    "fig = plt.figure()\n",
    "plt.title('Summary of Race Variable Across Study Sites')\n",
    "race_df.unstack().plot(kind='bar', stacked=True,ax=fig.gca())\n",
    "plt.legend(loc='center left', bbox_to_anchor=(1.0, 0.5))\n",
    "plt.xticks(rotation = 0)\n",
    "plt.show()"
   ]
  },
  {
   "cell_type": "code",
   "execution_count": null,
   "metadata": {},
   "outputs": [],
   "source": [
    "ethnicity_df = eda_demographic_df.groupby('site')['Ethnicity'].value_counts(normalize=True)\n",
    "\n",
    "fig = plt.figure()\n",
    "plt.title('Summary of Ethnicity Variable Across Study Sites')\n",
    "ethnicity_df.unstack().plot(kind='bar', stacked=True,ax=fig.gca())\n",
    "plt.legend(loc='center left', bbox_to_anchor=(1.0, 0.5))\n",
    "plt.xticks(rotation = 0)\n",
    "plt.show()"
   ]
  },
  {
   "cell_type": "code",
   "execution_count": null,
   "metadata": {},
   "outputs": [],
   "source": [
    "payor_df = eda_demographic_df.groupby('site')['PayorType'].value_counts(normalize=True)\n",
    "\n",
    "fig = plt.figure()\n",
    "plt.title('Summary of Payor Type Across Study Sites')\n",
    "payor_df.unstack().plot(kind='bar', stacked=True,ax=fig.gca())\n",
    "plt.legend(loc='center left', bbox_to_anchor=(1.0, 0.5))\n",
    "plt.xticks(rotation = 0)\n",
    "plt.show()"
   ]
  },
  {
   "cell_type": "code",
   "execution_count": null,
   "metadata": {},
   "outputs": [],
   "source": [
    "age_df = eda_demographic_df[['site','AgeInYears']]\n",
    "\n",
    "\n",
    "bins = [0, 2, 5, 10, 13, np.inf]\n",
    "names = ['<2', '2-5', '5-10', '10-13', '13+']\n",
    "\n",
    "age_df.loc[:,['AgeBin']] = pd.cut(age_df.loc[:,'AgeInYears'], bins, labels=names)\n",
    "\n",
    "age_range_df = age_df.groupby('site')['AgeBin'].value_counts(normalize=True)\n",
    "\n",
    "fig = plt.figure()\n",
    "plt.title('Summary of Age Range Across Study Sites')\n",
    "age_range_df.unstack().plot(kind='bar', stacked=True,ax=fig.gca())\n",
    "plt.legend(loc='center left', bbox_to_anchor=(1.0, 0.5))\n",
    "plt.xticks(rotation = 0)\n",
    "plt.show()\n"
   ]
  },
  {
   "cell_type": "code",
   "execution_count": null,
   "metadata": {},
   "outputs": [],
   "source": []
  }
 ],
 "metadata": {
  "kernelspec": {
   "display_name": "Python 3.7",
   "language": "python",
   "name": "python3.7"
  },
  "language_info": {
   "codemirror_mode": {
    "name": "ipython",
    "version": 3
   },
   "file_extension": ".py",
   "mimetype": "text/x-python",
   "name": "python",
   "nbconvert_exporter": "python",
   "pygments_lexer": "ipython3",
   "version": "3.7.5"
  }
 },
 "nbformat": 4,
 "nbformat_minor": 4
}
