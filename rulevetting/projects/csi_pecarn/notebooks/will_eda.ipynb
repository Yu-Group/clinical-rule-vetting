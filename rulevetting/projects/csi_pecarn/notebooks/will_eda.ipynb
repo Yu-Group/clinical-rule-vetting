{
 "cells": [
  {
   "cell_type": "code",
   "execution_count": 1,
   "metadata": {},
   "outputs": [
    {
     "name": "stdout",
     "output_type": "stream",
     "text": [
      "/accounts/grad/wtorous/rule-vetting\n"
     ]
    }
   ],
   "source": [
    "%load_ext autoreload\n",
    "%autoreload 2\n",
    "\n",
    "import numpy as np\n",
    "import pandas as pd\n",
    "\n",
    "import matplotlib.pyplot as plt\n",
    "%matplotlib inline\n",
    "import seaborn as sns\n",
    "\n",
    "import sys \n",
    "import os\n",
    "\n",
    "# TODO: make more pythonic\n",
    "# this line walks up file directory so rule-vetting is cwd\n",
    "# Currently this breaks if chunk is run multiple times\n",
    "os.chdir(os.path.dirname(os.path.dirname(os.path.dirname(os.path.dirname(os.getcwd())))))\n",
    "print(os.getcwd())"
   ]
  },
  {
   "cell_type": "code",
   "execution_count": 25,
   "metadata": {},
   "outputs": [],
   "source": [
    "import rulevetting.api.viz as viz\n",
    "from rulevetting.projects.csi_pecarn.av_dataset import Dataset"
   ]
  },
  {
   "cell_type": "code",
   "execution_count": 26,
   "metadata": {},
   "outputs": [
    {
     "name": "stdout",
     "output_type": "stream",
     "text": [
      "kwargs {'clean_data': {'use_robust_av': True}, 'preprocess_data': {'frac_missing_allowed': 0.05}, 'split_data': {'control_types': ['ran', 'moi', 'ems']}}\n",
      "['moi']\n"
     ]
    }
   ],
   "source": [
    "eda_df = Dataset().get_data(control_types=['moi','ems'])"
   ]
  },
  {
   "cell_type": "code",
   "execution_count": 27,
   "metadata": {},
   "outputs": [
    {
     "name": "stdout",
     "output_type": "stream",
     "text": [
      "(801, 23)\n"
     ]
    }
   ],
   "source": [
    "print(eda_df[0].shape)"
   ]
  },
  {
   "cell_type": "code",
   "execution_count": null,
   "metadata": {},
   "outputs": [],
   "source": [
    "outcome_def = 'csi_injury'"
   ]
  },
  {
   "cell_type": "code",
   "execution_count": null,
   "metadata": {},
   "outputs": [],
   "source": [
    "print(eda_df.shape)"
   ]
  },
  {
   "cell_type": "code",
   "execution_count": null,
   "metadata": {},
   "outputs": [],
   "source": [
    "# get list of columns with only two recorded outcomes\n",
    "binary_columns = eda_df.columns[eda_df.nunique()==2]\n",
    "binary_eda_data = eda_df.loc[:,binary_columns].copy() \n",
    "\n",
    "cont_columns = eda_df.columns[eda_df.nunique()!=2]\n",
    "cont_eda_data = eda_df.loc[:,cont_columns].copy()\n",
    "cont_eda_data.loc[:,outcome_def] = eda_df.loc[:,outcome_def].copy() #add binary outcome indicator back in"
   ]
  },
  {
   "cell_type": "code",
   "execution_count": null,
   "metadata": {},
   "outputs": [],
   "source": [
    "# outcome indicator is double counted\n",
    "print(eda_df.shape)\n",
    "print(binary_eda_data.shape)\n",
    "print(cont_eda_data.shape)"
   ]
  },
  {
   "cell_type": "code",
   "execution_count": null,
   "metadata": {},
   "outputs": [],
   "source": [
    "print(eda_df[0[.head())"
   ]
  },
  {
   "cell_type": "code",
   "execution_count": null,
   "metadata": {},
   "outputs": [],
   "source": [
    "print(np.unique(eda_df[0].index.get_level_values('control_type')))"
   ]
  },
  {
   "cell_type": "markdown",
   "metadata": {},
   "source": [
    "# Summary EDA"
   ]
  },
  {
   "cell_type": "code",
   "execution_count": null,
   "metadata": {},
   "outputs": [],
   "source": [
    "eda_df.describe()"
   ]
  },
  {
   "cell_type": "code",
   "execution_count": null,
   "metadata": {},
   "outputs": [],
   "source": [
    "binary_corrs = binary_eda_data.corr(method='spearman')\n",
    "cont_corrs = cont_eda_data.corr(method='spearman')\n",
    "\n",
    "print(cont_corrs)"
   ]
  },
  {
   "cell_type": "code",
   "execution_count": null,
   "metadata": {},
   "outputs": [],
   "source": [
    "ems_time = cont_eda_data.loc[:,'EMSEstimateTime']\n",
    "ems_time.describe()"
   ]
  },
  {
   "cell_type": "code",
   "execution_count": null,
   "metadata": {},
   "outputs": [],
   "source": [
    "binary_corrmap = sns.clustermap(binary_corrs, cmap=viz.cmap_div, vmin=-1, vmax=1, cbar_kws={'label': 'Correlation'})\n",
    "binary_corrmap.ax_row_dendrogram.set_visible(False)\n",
    "binary_corrmap.ax_col_dendrogram.set_visible(False)"
   ]
  },
  {
   "cell_type": "code",
   "execution_count": null,
   "metadata": {},
   "outputs": [],
   "source": [
    "cont_corrmap = sns.clustermap(cont_corrs, cmap=viz.cmap_div, vmin=-1, vmax=1, cbar_kws={'label': 'Correlation'})\n",
    "cont_corrmap.ax_row_dendrogram.set_visible(False)\n",
    "cont_corrmap.ax_col_dendrogram.set_visible(False)"
   ]
  },
  {
   "cell_type": "code",
   "execution_count": null,
   "metadata": {},
   "outputs": [],
   "source": [
    "print(binary_corrs)"
   ]
  },
  {
   "cell_type": "code",
   "execution_count": null,
   "metadata": {},
   "outputs": [],
   "source": [
    "plt.figure(dpi=250, figsize=(4, 7))\n",
    "vals = binary_corrs[outcome_def]\n",
    "args = np.argsort(vals)\n",
    "labs = vals.index.values[args]\n",
    "ax = plt.subplot(111)\n",
    "plt.barh(labs[-25:], vals[args][-25:])\n",
    "plt.xlabel('Correlation w/ outcome')\n",
    "ax.spines['right'].set_visible(False)\n",
    "ax.spines['top'].set_visible(False)\n",
    "plt.show()"
   ]
  },
  {
   "cell_type": "code",
   "execution_count": null,
   "metadata": {},
   "outputs": [],
   "source": [
    "plt.figure(dpi=250, figsize=(4, 7))\n",
    "vals = binary_corrs[outcome_def]\n",
    "args = np.argsort(vals)\n",
    "labs = vals.index.values[args]\n",
    "ax = plt.subplot(111)\n",
    "plt.barh(labs[:25], vals[args][:25])\n",
    "plt.xlabel('Correlation w/ outcome')\n",
    "ax.spines['right'].set_visible(False)\n",
    "ax.spines['top'].set_visible(False)\n",
    "plt.show()"
   ]
  },
  {
   "cell_type": "code",
   "execution_count": null,
   "metadata": {},
   "outputs": [],
   "source": [
    "plt.figure(dpi=250, figsize=(4, 7))\n",
    "vals = cont_corrs[outcome_def]\n",
    "args = np.argsort(vals)\n",
    "labs = vals.index.values[args]\n",
    "ax = plt.subplot(111)\n",
    "plt.barh(labs, vals[args])\n",
    "plt.xlabel('Correlation w/ outcome')\n",
    "ax.spines['right'].set_visible(False)\n",
    "ax.spines['top'].set_visible(False)\n",
    "plt.show()"
   ]
  },
  {
   "cell_type": "markdown",
   "metadata": {},
   "source": [
    "# EDA of Missingness"
   ]
  },
  {
   "cell_type": "code",
   "execution_count": null,
   "metadata": {},
   "outputs": [],
   "source": [
    "# get percent missing by column\n",
    "print(\"25 Covariates with Highest Percent Missingness\\n\")\n",
    "print(\"All Covariates:\")\n",
    "missing_frac = (eda_df.isna().sum() / eda_df.shape[0]) * 100\n",
    "print(missing_frac.sort_values(ascending=False)[:25])\n",
    "\n",
    "print(\"\\nContinuous Covariates:\")\n",
    "bin_missing_frac = (binary_eda_data.isna().sum() / binary_eda_data.shape[0]) * 100\n",
    "print(bin_missing_frac.sort_values(ascending=False)[:25])"
   ]
  },
  {
   "cell_type": "code",
   "execution_count": null,
   "metadata": {},
   "outputs": [],
   "source": [
    "complete_binary_covar = binary_columns[bin_missing_frac==0]\n",
    "print(\"Binary covar. with no missing data:\",len(complete_binary_covar))\n",
    "\n",
    "missing_columns = binary_columns[bin_missing_frac!=0]\n",
    "print(\"Binary covar. with some missing data:\",len(missing_columns))"
   ]
  },
  {
   "cell_type": "code",
   "execution_count": null,
   "metadata": {},
   "outputs": [],
   "source": [
    "binary_missing_bools = binary_eda_data[missing_columns].isna()\n",
    "binary_missing_corrs = binary_missing_bools.corr(method='spearman')"
   ]
  },
  {
   "cell_type": "code",
   "execution_count": null,
   "metadata": {},
   "outputs": [],
   "source": [
    "corrmap = sns.clustermap(binary_missing_corrs, cmap=viz.cmap_div, vmin=-1, vmax=1, cbar_kws={'label': 'Correlation'})\n",
    "corrmap.ax_row_dendrogram.set_visible(False)\n",
    "corrmap.ax_col_dendrogram.set_visible(False)"
   ]
  },
  {
   "cell_type": "markdown",
   "metadata": {},
   "source": [
    "# EDA of Demographic Data"
   ]
  },
  {
   "cell_type": "code",
   "execution_count": null,
   "metadata": {},
   "outputs": [],
   "source": [
    "eda_demographic_df = pd.read_csv(\"data/csi_pecarn/raw/demographics.csv\").set_index([\"studysubjectid\"])\n",
    "print(eda_demographic_df.columns)"
   ]
  },
  {
   "cell_type": "code",
   "execution_count": null,
   "metadata": {},
   "outputs": [],
   "source": [
    "gender_df = eda_demographic_df.groupby('site')['Gender'].value_counts(normalize=True)\n",
    "\n",
    "fig = plt.figure()\n",
    "plt.title('Summary of Gender Variable Across Study Sites')\n",
    "gender_df.unstack().plot(kind='bar', stacked=True,ax=fig.gca())\n",
    "plt.legend(loc='center left', bbox_to_anchor=(1.0, 0.5))\n",
    "plt.xticks(rotation = 0)\n",
    "plt.show()"
   ]
  },
  {
   "cell_type": "code",
   "execution_count": null,
   "metadata": {},
   "outputs": [],
   "source": [
    "race_df = eda_demographic_df.groupby('site')['Race'].value_counts(normalize=True)\n",
    "\n",
    "fig = plt.figure()\n",
    "plt.title('Summary of Race Variable Across Study Sites')\n",
    "race_df.unstack().plot(kind='bar', stacked=True,ax=fig.gca())\n",
    "plt.legend(loc='center left', bbox_to_anchor=(1.0, 0.5))\n",
    "plt.xticks(rotation = 0)\n",
    "plt.show()"
   ]
  },
  {
   "cell_type": "code",
   "execution_count": null,
   "metadata": {},
   "outputs": [],
   "source": [
    "ethnicity_df = eda_demographic_df.groupby('site')['Ethnicity'].value_counts(normalize=True)\n",
    "\n",
    "fig = plt.figure()\n",
    "plt.title('Summary of Ethnicity Variable Across Study Sites')\n",
    "ethnicity_df.unstack().plot(kind='bar', stacked=True,ax=fig.gca())\n",
    "plt.legend(loc='center left', bbox_to_anchor=(1.0, 0.5))\n",
    "plt.xticks(rotation = 0)\n",
    "plt.show()"
   ]
  },
  {
   "cell_type": "code",
   "execution_count": null,
   "metadata": {},
   "outputs": [],
   "source": [
    "payor_df = eda_demographic_df.groupby('site')['PayorType'].value_counts(normalize=True)\n",
    "\n",
    "fig = plt.figure()\n",
    "plt.title('Summary of Payor Type Across Study Sites')\n",
    "payor_df.unstack().plot(kind='bar', stacked=True,ax=fig.gca())\n",
    "plt.legend(loc='center left', bbox_to_anchor=(1.0, 0.5))\n",
    "plt.xticks(rotation = 0)\n",
    "plt.show()"
   ]
  },
  {
   "cell_type": "code",
   "execution_count": null,
   "metadata": {},
   "outputs": [],
   "source": [
    "age_df = eda_demographic_df[['site','AgeInYears']]\n",
    "\n",
    "\n",
    "bins = [0, 2, 5, 10, 13, np.inf]\n",
    "names = ['<2', '2-5', '5-10', '10-13', '13+']\n",
    "\n",
    "age_df.loc[:,['AgeBin']] = pd.cut(age_df.loc[:,'AgeInYears'], bins, labels=names)\n",
    "\n",
    "age_range_df = age_df.groupby('site')['AgeBin'].value_counts(normalize=True)\n",
    "\n",
    "fig = plt.figure()\n",
    "plt.title('Summary of Age Range Across Study Sites')\n",
    "age_range_df.unstack().plot(kind='bar', stacked=True,ax=fig.gca())\n",
    "plt.legend(loc='center left', bbox_to_anchor=(1.0, 0.5))\n",
    "plt.xticks(rotation = 0)\n",
    "plt.show()\n"
   ]
  },
  {
   "cell_type": "code",
   "execution_count": null,
   "metadata": {},
   "outputs": [],
   "source": []
  }
 ],
 "metadata": {
  "kernelspec": {
   "display_name": "Python 3.8",
   "language": "python",
   "name": "python3"
  },
  "language_info": {
   "codemirror_mode": {
    "name": "ipython",
    "version": 3
   },
   "file_extension": ".py",
   "mimetype": "text/x-python",
   "name": "python",
   "nbconvert_exporter": "python",
   "pygments_lexer": "ipython3",
   "version": "3.8.3"
  }
 },
 "nbformat": 4,
 "nbformat_minor": 4
}
