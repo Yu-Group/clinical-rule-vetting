{
 "cells": [
  {
   "cell_type": "code",
   "execution_count": 1,
   "metadata": {},
   "outputs": [
    {
     "name": "stderr",
     "output_type": "stream",
     "text": [
      "/accounts/grad/wtorous/.local/lib/python3.7/site-packages/pandas/compat/_optional.py:138: UserWarning: Pandas requires version '2.7.0' or newer of 'numexpr' (version '2.6.9' currently installed).\n",
      "  warnings.warn(msg, UserWarning)\n"
     ]
    },
    {
     "name": "stdout",
     "output_type": "stream",
     "text": [
      "/accounts/grad/wtorous/rule-vetting\n"
     ]
    }
   ],
   "source": [
    "%load_ext autoreload\n",
    "%autoreload 2\n",
    "\n",
    "import numpy as np\n",
    "import pandas as pd\n",
    "\n",
    "import matplotlib.pyplot as plt\n",
    "%matplotlib inline\n",
    "import seaborn as sns\n",
    "\n",
    "import sys \n",
    "import os\n",
    "\n",
    "# TODO: make more pythonic\n",
    "# this line walks up file directory so rule-vetting is cwd\n",
    "# Currently this breaks if chunk is run multiple times\n",
    "os.chdir(os.path.dirname(os.path.dirname(os.path.dirname(os.path.dirname(os.getcwd())))))\n",
    "print(os.getcwd())"
   ]
  },
  {
   "cell_type": "code",
   "execution_count": 159,
   "metadata": {},
   "outputs": [],
   "source": [
    "import rulevetting.api.viz as viz\n",
    "from rulevetting.projects.csi_pecarn.eda_dataset import Dataset"
   ]
  },
  {
   "cell_type": "code",
   "execution_count": 160,
   "metadata": {},
   "outputs": [
    {
     "name": "stdout",
     "output_type": "stream",
     "text": [
      "IC Removed: 188\n",
      "Radiology Removed: 19\n",
      "MOI Removed: 19\n",
      "# no information: 9\n"
     ]
    },
    {
     "name": "stderr",
     "output_type": "stream",
     "text": [
      "/accounts/grad/wtorous/rule-vetting/rulevetting/projects/csi_pecarn/helper.py:138: PerformanceWarning: DataFrame is highly fragmented.  This is usually the result of calling `frame.insert` many times, which has poor performance.  Consider joining all columns at once using pd.concat(axis=1) instead.  To get a de-fragmented frame, use `newframe = frame.copy()`\n",
      "  # note we remove the `_binary` suffix, will do this for other variables later in this function\n"
     ]
    },
    {
     "name": "stdout",
     "output_type": "stream",
     "text": [
      "A:: count     3314\n",
      "unique       4\n",
      "top         ND\n",
      "freq      2705\n",
      "Name: Ethnicity_posthoc, dtype: object\n"
     ]
    },
    {
     "name": "stderr",
     "output_type": "stream",
     "text": [
      "/accounts/grad/wtorous/rule-vetting/rulevetting/projects/csi_pecarn/eda_dataset.py:431: UserWarning: Persisting input arguments took 2.12s to run.\n",
      "If this happens often in your code, it can cause performance problems \n",
      "(results will be correct in all cases). \n",
      "The reason for this is probably some large input arguments for a wrapped\n",
      " function (e.g. large strings).\n",
      "THIS IS A JOBLIB ISSUE. If you can, kindly provide the joblib's team with an\n",
      " example so that they can fix the problem.\n",
      "  if preprocess:\n"
     ]
    },
    {
     "name": "stdout",
     "output_type": "stream",
     "text": [
      "split_data kwargs {'control_types': ['none']}\n",
      "split_data kwargs {'control_types': ['ran']}\n"
     ]
    }
   ],
   "source": [
    "full_sample_data = Dataset().get_data(preprocess=True,extract_features=False,impute=False,control_types=['none'])[0]\n",
    "# use full sample only for demographic trends, random control only for EDA\n",
    "eda_df = Dataset().get_data(preprocess=True,extract_features=False,impute=False,control_types=['ran'])[0]"
   ]
  },
  {
   "cell_type": "code",
   "execution_count": 162,
   "metadata": {},
   "outputs": [
    {
     "name": "stdout",
     "output_type": "stream",
     "text": [
      "(944, 335)\n"
     ]
    }
   ],
   "source": [
    "print(eda_df.shape)"
   ]
  },
  {
   "cell_type": "code",
   "execution_count": 163,
   "metadata": {},
   "outputs": [],
   "source": [
    "outcome_def = 'csi_injury'"
   ]
  },
  {
   "cell_type": "code",
   "execution_count": 164,
   "metadata": {},
   "outputs": [],
   "source": [
    "# get list of columns with only two recorded outcomes\n",
    "binary_columns = eda_df.columns[eda_df.nunique()==2]\n",
    "binary_eda_data = eda_df.loc[:,binary_columns].copy() \n",
    "\n",
    "cat_columns = eda_df.columns[eda_df.nunique()!=2]\n",
    "cat_eda_data = eda_df.loc[:,cat_columns].copy()\n",
    "cat_eda_data.loc[:,outcome_def] = eda_df.loc[:,outcome_def].copy() #add binary outcome indicator back in"
   ]
  },
  {
   "cell_type": "code",
   "execution_count": 165,
   "metadata": {},
   "outputs": [
    {
     "name": "stdout",
     "output_type": "stream",
     "text": [
      "(944, 335)\n",
      "(944, 279)\n",
      "(944, 57)\n"
     ]
    }
   ],
   "source": [
    "# outcome indicator is double counted\n",
    "print(eda_df.shape)\n",
    "print(binary_eda_data.shape)\n",
    "print(cat_eda_data.shape)"
   ]
  },
  {
   "cell_type": "code",
   "execution_count": 166,
   "metadata": {},
   "outputs": [
    {
     "name": "stdout",
     "output_type": "stream",
     "text": [
      "['AlteredMentalStatus', 'LOC', 'FocalNeuroFindings', 'PainNeck', 'PosMidNeckTenderness', 'TenderNeck', 'Torticollis', 'SubInj_Head', 'SubInj_Face', 'SubInj_Ext', 'SubInj_TorsoTrunk', 'Predisposed', 'HighriskDiving', 'HighriskFall', 'HighriskHanging', 'HighriskHitByCar', 'HighriskMVC', 'HighriskOtherMV', 'AxialLoadAnyDoc', 'axialloadtop', 'PtTenderOther_ems', 'OtherInjuriesExtr_ems', 'MinorInjuriesPel_ems', 'MedsRecdOth_outside', 'PtTenderNeckLevelOther_outside', 'MinorInjuriesPelvis_outside', 'CervicalSpineImmobilization', 'CervicalSpineIntervCC', 'CervicalSpineIntervRLB', 'CervicalSpineIntervOther', 'MedsRecdAna', 'MedsRecdGlu', 'MedsRecdPar', 'MedsRecdSed', 'MedsRecdOR', 'PtCompPainHead', 'PtCompPainFace', 'PtCompPainNeck', 'PtCompPainChest', 'PtCompPainBack', 'PtCompPainFlank', 'PtCompPainAbd', 'PtCompPainPelvis', 'PtCompPainExt', 'PtTenderHead', 'PtTenderFace', 'PtTenderNeck', 'PtTenderNeckLevel', 'PtTenderNeckLevelC1', 'PtTenderNeckLevelC2', 'PtTenderNeckLevelC3', 'PtTenderNeckLevelC4', 'PtTenderNeckLevelC5', 'PtTenderNeckLevelC6', 'PtTenderNeckLevelC7', 'PtTenderNeckAnt', 'PtTenderNeckPos', 'PtTenderNeckLat', 'PtTenderNeckMid', 'PtTenderNeckOther', 'PtTenderChest', 'PtTenderBack', 'PtTenderFlank', 'PtTenderAbd', 'PtTenderPelvis', 'PtTenderExt', 'OtherInjuriesHead', 'OtherInjuriesFace', 'OtherInjuriesNeck', 'OtherInjuriesChest', 'OtherInjuriesBack', 'OtherInjuriesAbd', 'OtherInjuriesPelvis', 'OtherInjuriesExt', 'MinorInjuriesHead', 'MinorInjuriesFace', 'MinorInjuriesNeck', 'MinorInjuriesChest', 'MinorInjuriesBack', 'MinorInjuriesFlank', 'MinorInjuriesAbs', 'MinorInjuriesPelv', 'MinorInjuriesExt', 'CervicalSpinePrecautionsCC', 'CervicalSpinePrecautionsRLB', 'CervicalSpinePrecautionsOther', 'MedsGivenAna', 'MedsGivenGlu', 'MedsGivenPar', 'MedsGivenSed', 'MedsGivenOther', 'IntervForCervicalStabSCollar', 'IntervForCervicalStabRCollar', 'IntervForCervicalStabBrace', 'IntervForCervicalStabTraction', 'IntervForCervicalStabSurgical', 'IntervForCervicalStabHalo', 'IntervForCervicalStabIntFix', 'IntervForCervicalStabOther', 'OutcomeStudySiteMobility1_posthoc', 'OutcomeStudySiteMobility2_posthoc', 'PassRestraint', 'Assault', 'ChildAbuse', 'FormOff', 'BodyAsAWhole0', 'BodyAsAWhole5', 'BodyAsAWhole6', 'Genitourinary2', 'Endocrinological2', 'HematologicLymphatic3', 'csi_injury', 'EMSArrival', 'NonAmbulatory', 'Male', 'AVPUDetails_ems_AVPU_A', 'AVPUDetails_ems_AVPU_P', 'AVPUDetails_ems_AVPU_U', 'AVPUDetails_ems_AVPU_V', 'AVPUDetails_ems_AVPU_nan', 'AVPUMental_ems_AVPU_OTH', 'AVPUMental_ems_AVPU_U', 'AVPUMental_ems_AVPU_nan', 'AVPUMentalTxtCat_ems_AVPU_ALTERED', 'AVPUMentalTxtCat_ems_AVPU_UNALTERED', 'AVPUMentalTxtCat_ems_AVPU_nan', 'AVPUDetails_outside_AVPU_A', 'AVPUDetails_outside_AVPU_P', 'AVPUDetails_outside_AVPU_U', 'AVPUDetails_outside_AVPU_V', 'AVPUDetails_outside_AVPU_nan', 'AVPUMental_outside_AVPU_C', 'AVPUMental_outside_AVPU_OTH', 'AVPUMental_outside_AVPU_U', 'AVPUMental_outside_AVPU_nan', 'AVPUDetails_AVPU_A', 'AVPUDetails_AVPU_P', 'AVPUDetails_AVPU_U', 'AVPUDetails_AVPU_V', 'AVPUDetails_AVPU_nan', 'AVPUMental_AVPU_OB', 'AVPUMental_AVPU_OTH', 'AVPUMental_AVPU_U', 'AVPUMental_AVPU_nan', 'Clotheslining', 'PtAmbulatoryPriorEMSArrival_ems', 'MinorInjuriesList_ems', 'MedsbyEMS_ems', 'IntubatedbyEMS_ems', 'MedsbyED_outside', 'IntubatedED_outside', 'ReceivedInTransfer', 'DxCspineInjury', 'PtAmbulatoryPriorArrival', 'MedsRecdPriorArrival', 'ArrPtIntub', 'HxLOC', 'PtCompPain', 'PtCompPainNeckMove', 'PtTender', 'LimitedRangeMotion', 'OtherInjuries', 'MinorInjuries', 'PtParesthesias', 'PtSensoryLoss', 'PtExtremityWeakness', 'OtherNeuroDeficit', 'CervicalSpinePrecautions', 'MedsGiven', 'IntubatedSS', 'IntervForCervicalStab', 'LongTermRehab', 'TrfToLongTermRehab', 'OutcomeStudySiteBowel_posthoc', 'OutcomeStudySiteUrine_posthoc', 'CervicalSpineFractures_posthoc', 'LigamentInjury_posthoc', 'CervicalSpineSignalChange_posthoc', 'helmet', 'BodyAsAWhole', 'HEENT', 'Cardiovascular', 'Respiratory', 'Gastrointestinal', 'Genitourinary', 'Musculoskeletal', 'Neurological', 'Endocrinological', 'DermatologicalSkin', 'HematologicLymphatic', 'Medications', 'CTPerformed_outside', 'MRIPerformed_outside', 'CTPerformed_posthoc', 'MRIPerformed_posthoc', 'AlteredMentalStatus_improved', 'FocalNeuroFindings_improved', 'PainNeck_improved', 'PosMidNeckTenderness_improved', 'TenderNeck_improved', 'Torticollis_improved', 'SubInj_Head_improved', 'SubInj_Face_improved', 'SubInj_Ext_improved', 'SubInj_TorsoTrunk_improved', 'MedsGivenSed_improved', 'CervicalSpineImmobilization_improved', 'CervicalSpinePrecautionsCC_improved', 'PtTenderChest_improved', 'MedsRecdAna_improved', 'PtTenderBack_improved', 'CervicalSpineIntervCC_improved', 'LimitedRangeMotion_improved', 'MinorInjuriesFlank_improved', 'MinorInjuriesFace_improved', 'CervicalSpinePrecautions_improved', 'MinorInjuriesHead_improved', 'OtherInjuriesBack_improved', 'PtCompPainPelvis_improved', 'PtCompPain_improved', 'CervicalSpineIntervOther_improved', 'PtTenderFlank_improved', 'MinorInjuriesExt_improved', 'OtherInjuriesNeck_improved', 'MedsGivenOther_improved', 'PtCompPainNeck_improved', 'MinorInjuriesChest_improved', 'PtExtremityWeakness_improved', 'PtTenderNeckLevel_improved', 'PtTenderNeckLevelC1_improved', 'PtTenderNeckPos_improved', 'OtherInjuriesFlank_improved', 'MedsGivenPar_improved', 'PtTenderAbd_improved', 'OtherInjuriesExt_improved', 'PtTenderNeckLevelC6_improved', 'OtherInjuriesAbd_improved', 'OtherInjuriesHead_improved', 'MedsGivenAna_improved', 'MinorInjuriesBack_improved', 'PtCompPainFlank_improved', 'HxLOC_improved', 'OtherInjuries_improved', 'OtherNeuroDeficit_improved', 'PtTender_improved', 'MinorInjuriesNeck_improved', 'PtTenderNeckAnt_improved', 'PtSensoryLoss_improved', 'PtCompPainNeckMove_improved', 'MedsGivenGlu_improved', 'PtTenderNeckLevelC7_improved', 'MinorInjuries_improved', 'PtTenderNeckLevelC2_improved', 'PtTenderNeck_improved', 'PtCompPainHead_improved', 'MinorInjuriesAbs_improved', 'CervicalSpineIntervRLB_improved', 'MedsRecdPriorArrival_improved', 'PtTenderPelvis_improved', 'OtherInjuriesPelvis_improved', 'PtTenderNeckLat_improved', 'PtAmbulatoryPriorArrival_improved', 'OtherInjuriesFace_improved', 'PtTenderNeckLevelC3_improved', 'PtCompPainExt_improved', 'PtCompPainBack_improved', 'PtCompPainFace_improved', 'PtTenderFace_improved', 'PtTenderHead_improved', 'PtTenderNeckLevelC4_improved', 'PtTenderExt_improved', 'PtTenderNeckMid_improved', 'PtTenderNeckLevelC5_improved', 'CervicalSpinePrecautionsOther_improved', 'PtParesthesias_improved', 'PtCompPainChest_improved', 'CervicalSpinePrecautionsRLB_improved', 'PtCompPainAbd_improved', 'OtherInjuriesChest_improved']\n"
     ]
    }
   ],
   "source": [
    "print(list(binary_eda_data.columns))"
   ]
  },
  {
   "cell_type": "code",
   "execution_count": 167,
   "metadata": {},
   "outputs": [
    {
     "name": "stdout",
     "output_type": "stream",
     "text": [
      "['TotalGCSManual_ems', 'GCSEye_ems', 'VerbalGCS_ems', 'MotorGCS_ems', 'TotalGCS_ems', 'TotalGCSManual_outside', 'GCSEye_outside', 'VerbalGCS_outside', 'MotorGCS_outside', 'TotalGCS_outside', 'LocEvalPhysician', 'TotalGCSManual', 'GCSEye', 'VerbalGCS', 'MotorGCS', 'TotalGCS', 'OtherInjuriesFlank', 'AgeInYears', 'FallDownStairs', 'BodyAsAWhole2', 'BodyAsAWhole3', 'HematologicLymphatic1', 'AVPU_ems_AVPU_nan', 'AVPUMental_ems_AVPU_OB', 'AVPU_outside_AVPU_nan', 'AVPUMental_outside_AVPU_OB', 'AVPU_AVPU_nan', 'AVPUMental_AVPU_C', 'FieldDocumentation_ems', 'PatientsPosition_ems', 'EDDocumentation_outside', 'ModeArrivalOutsideHospital_outside', 'OutsideEDDisposition_outside', 'SectionGCSAvailable', 'TotalGCSAvailable', 'PtTenderNeckOtherTxtCat', 'OtherNeuroDeficitDesc', 'OtherNeuroDeficitDescCat', 'EDDisposition', 'PayorTypeCI_posthoc', 'PayorTypeMA_posthoc', 'OtherPredisposingCondition', 'Race_posthoc', 'PayorType_posthoc', 'Ethnicity_posthoc', 'OutcomeStudySite_posthoc', 'OutcomeStudySiteMobility_posthoc', 'OutcomeStudySiteNeuro_posthoc', 'MedsRecdPar_improved', 'TotalGCSAvailable_improved', 'MedsRecdSed_improved', 'SectionGCSAvailable_improved', 'OtherNeuroDeficitDescCat_improved', 'OtherNeuroDeficitDesc_improved', 'MedsRecdGlu_improved', 'ArrPtIntub_improved', 'csi_injury']\n"
     ]
    }
   ],
   "source": [
    "print(list(cat_eda_data.columns))"
   ]
  },
  {
   "cell_type": "markdown",
   "metadata": {},
   "source": [
    "# Demographic EDA"
   ]
  },
  {
   "cell_type": "code",
   "execution_count": 168,
   "metadata": {},
   "outputs": [],
   "source": [
    "demographic_df = full_sample_data[['Race_posthoc', 'PayorType_posthoc','Ethnicity_posthoc','Male','AgeInYears']].copy()"
   ]
  },
  {
   "cell_type": "code",
   "execution_count": 182,
   "metadata": {},
   "outputs": [
    {
     "data": {
      "image/png": "[encoded data removed]",
      "text/plain": [
       "<Figure size 432x288 with 1 Axes>"
      ]
     },
     "metadata": {
      "needs_background": "light"
     },
     "output_type": "display_data"
    }
   ],
   "source": [
    "gender_df = demographic_df.replace([0,1],['Female','Male']).groupby('site')['Male'].value_counts(normalize=True)\n",
    "\n",
    "fig = plt.figure()\n",
    "plt.title('Summary of Gender Across Study Sites')\n",
    "gender_df.unstack().plot(kind='bar', stacked=True,ax=fig.gca())\n",
    "plt.legend(loc='center left', bbox_to_anchor=(1.0, 0.5))\n",
    "plt.xticks(rotation = 0)\n",
    "plt.xlabel(\"Study Site\")\n",
    "plt.ylabel(\"Proportion\")\n",
    "plt.show()"
   ]
  },
  {
   "cell_type": "code",
   "execution_count": 183,
   "metadata": {},
   "outputs": [
    {
     "data": {
      "image/png": "[encoded data removed]",
      "text/plain": [
       "<Figure size 432x288 with 1 Axes>"
      ]
     },
     "metadata": {
      "needs_background": "light"
     },
     "output_type": "display_data"
    }
   ],
   "source": [
    "race_map = {\n",
    "        'AI': 'American Indian or Alaska Native',\n",
    "        'A': 'Asian',\n",
    "        'B': 'Black or African American',\n",
    "        'PI': 'Native Hawaiian or other Pacific Islander',\n",
    "        'W': 'White',\n",
    "        'ND': 'unknown',  # stated as unknown\n",
    "        'O': 'unknown'  # other\n",
    "    }\n",
    "\n",
    "race_df = demographic_df['Race_posthoc'].map(race_map).groupby('site').value_counts(normalize=True)\n",
    "\n",
    "fig = plt.figure()\n",
    "plt.title('Summary of Race Across Study Sites')\n",
    "race_df.unstack().plot(kind='bar', stacked=True,ax=fig.gca())\n",
    "plt.legend(loc='center left', bbox_to_anchor=(1.0, 0.5))\n",
    "plt.xticks(rotation = 0)\n",
    "plt.xlabel(\"Study Site\")\n",
    "plt.ylabel(\"Proportion\")\n",
    "plt.show()"
   ]
  },
  {
   "cell_type": "code",
   "execution_count": 184,
   "metadata": {},
   "outputs": [
    {
     "data": {
      "image/png": "[encoded data removed]",
      "text/plain": [
       "<Figure size 432x288 with 1 Axes>"
      ]
     },
     "metadata": {
      "needs_background": "light"
     },
     "output_type": "display_data"
    }
   ],
   "source": [
    "ethnicity_map = {\n",
    "    'H':'Hispanic',\n",
    "    'NH': 'Not Hispanic',\n",
    "    'ND': 'unknown',\n",
    "    'O': 'unknown'\n",
    "    }\n",
    "\n",
    "ethnicity_df = demographic_df['Ethnicity_posthoc'].map(ethnicity_map).groupby('site').value_counts(normalize=True)\n",
    "\n",
    "fig = plt.figure()\n",
    "plt.title('Summary of Ethnicity Across Study Sites')\n",
    "ethnicity_df.unstack().plot(kind='bar', stacked=True,ax=fig.gca())\n",
    "plt.legend(loc='center left', bbox_to_anchor=(1.0, 0.5))\n",
    "plt.xticks(rotation = 0)\n",
    "plt.xlabel(\"Study Site\")\n",
    "plt.ylabel(\"Proportion\")\n",
    "plt.show()"
   ]
  },
  {
   "cell_type": "code",
   "execution_count": 190,
   "metadata": {},
   "outputs": [
    {
     "data": {
      "image/png": "[encoded data removed]",
      "text/plain": [
       "<Figure size 432x288 with 1 Axes>"
      ]
     },
     "metadata": {
      "needs_background": "light"
     },
     "output_type": "display_data"
    }
   ],
   "source": [
    "payor_map = {\n",
    "    'CH':'Government',\n",
    "    'OG':'Government',\n",
    "    'WC':'Government',\n",
    "    'MA':'Government',\n",
    "    'CI':'Private',\n",
    "    'SU':'Other',\n",
    "    'ND':'Other'\n",
    "    }\n",
    "\n",
    "payor_df = demographic_df['PayorType_posthoc'].map(payor_map).groupby('site').value_counts(normalize=True)\n",
    "\n",
    "fig = plt.figure()\n",
    "plt.title('Summary of Insurance Type Across Study Sites')\n",
    "payor_df.unstack().plot(kind='bar', stacked=True,ax=fig.gca())\n",
    "plt.legend(loc='center left', bbox_to_anchor=(1.0, 0.5))\n",
    "plt.xticks(rotation = 0)\n",
    "plt.xlabel(\"Study Site\")\n",
    "plt.ylabel(\"Proportion\")\n",
    "plt.show()"
   ]
  },
  {
   "cell_type": "code",
   "execution_count": 200,
   "metadata": {},
   "outputs": [
    {
     "data": {
      "image/png": "[encoded data removed]",
      "text/plain": [
       "<Figure size 432x288 with 1 Axes>"
      ]
     },
     "metadata": {
      "needs_background": "light"
     },
     "output_type": "display_data"
    }
   ],
   "source": [
    "age_df = demographic_df.reset_index()[['site','AgeInYears']]\n",
    "\n",
    "\n",
    "bins = [0, 2, 5, 12, np.inf]\n",
    "names = ['<2', '2-5', '5-12', '12+']\n",
    "\n",
    "age_df.loc[:,['AgeBin']] = pd.cut(age_df.loc[:,'AgeInYears'], bins, labels=names)\n",
    "\n",
    "age_range_df = age_df.groupby('site')['AgeBin'].value_counts(normalize=True)\n",
    "\n",
    "fig = plt.figure()\n",
    "plt.title('Summary of Age Range Across Study Sites')\n",
    "age_range_df.unstack().plot(kind='bar', stacked=True,ax=fig.gca())\n",
    "plt.legend(loc='center left', bbox_to_anchor=(1.0, 0.5))\n",
    "plt.xticks(rotation = 0)\n",
    "plt.xlabel(\"Study Site\")\n",
    "plt.ylabel(\"Proportion\")\n",
    "\n",
    "plt.show()\n"
   ]
  },
  {
   "cell_type": "markdown",
   "metadata": {},
   "source": [
    "# Summary EDA"
   ]
  },
  {
   "cell_type": "code",
   "execution_count": 14,
   "metadata": {},
   "outputs": [
    {
     "data": {
      "text/html": [
       "<div>\n",
       "<style scoped>\n",
       "    .dataframe tbody tr th:only-of-type {\n",
       "        vertical-align: middle;\n",
       "    }\n",
       "\n",
       "    .dataframe tbody tr th {\n",
       "        vertical-align: top;\n",
       "    }\n",
       "\n",
       "    .dataframe thead th {\n",
       "        text-align: right;\n",
       "    }\n",
       "</style>\n",
       "<table border=\"1\" class=\"dataframe\">\n",
       "  <thead>\n",
       "    <tr style=\"text-align: right;\">\n",
       "      <th></th>\n",
       "      <th>AlteredMentalStatus</th>\n",
       "      <th>LOC</th>\n",
       "      <th>FocalNeuroFindings</th>\n",
       "      <th>PainNeck</th>\n",
       "      <th>PosMidNeckTenderness</th>\n",
       "      <th>TenderNeck</th>\n",
       "      <th>Torticollis</th>\n",
       "      <th>SubInj_Head</th>\n",
       "      <th>SubInj_Face</th>\n",
       "      <th>SubInj_Ext</th>\n",
       "      <th>...</th>\n",
       "      <th>PtTenderNeckLevelC5_improved</th>\n",
       "      <th>CervicalSpinePrecautionsOther_improved</th>\n",
       "      <th>PtParesthesias_improved</th>\n",
       "      <th>PtCompPainChest_improved</th>\n",
       "      <th>CervicalSpinePrecautionsRLB_improved</th>\n",
       "      <th>PtCompPainAbd_improved</th>\n",
       "      <th>OtherInjuriesChest_improved</th>\n",
       "      <th>OtherNeuroDeficitDesc_improved</th>\n",
       "      <th>MedsRecdGlu_improved</th>\n",
       "      <th>ArrPtIntub_improved</th>\n",
       "    </tr>\n",
       "  </thead>\n",
       "  <tbody>\n",
       "    <tr>\n",
       "      <th>count</th>\n",
       "      <td>3230.000000</td>\n",
       "      <td>3047.000000</td>\n",
       "      <td>2979.000000</td>\n",
       "      <td>3131.000000</td>\n",
       "      <td>3222.000000</td>\n",
       "      <td>3222.000000</td>\n",
       "      <td>3078.000000</td>\n",
       "      <td>3279.000000</td>\n",
       "      <td>3279.000000</td>\n",
       "      <td>3279.000000</td>\n",
       "      <td>...</td>\n",
       "      <td>3314.000000</td>\n",
       "      <td>3314.000000</td>\n",
       "      <td>3314.000000</td>\n",
       "      <td>3314.000000</td>\n",
       "      <td>3314.000000</td>\n",
       "      <td>3314.000000</td>\n",
       "      <td>3314.000000</td>\n",
       "      <td>3314.0</td>\n",
       "      <td>3314.0</td>\n",
       "      <td>3314.0</td>\n",
       "    </tr>\n",
       "    <tr>\n",
       "      <th>mean</th>\n",
       "      <td>0.182972</td>\n",
       "      <td>0.376764</td>\n",
       "      <td>0.122524</td>\n",
       "      <td>0.356116</td>\n",
       "      <td>0.285537</td>\n",
       "      <td>0.375854</td>\n",
       "      <td>0.051982</td>\n",
       "      <td>0.125038</td>\n",
       "      <td>0.050015</td>\n",
       "      <td>0.093016</td>\n",
       "      <td>...</td>\n",
       "      <td>0.004828</td>\n",
       "      <td>0.112553</td>\n",
       "      <td>0.019916</td>\n",
       "      <td>0.017502</td>\n",
       "      <td>0.378998</td>\n",
       "      <td>0.016295</td>\n",
       "      <td>0.009354</td>\n",
       "      <td>0.0</td>\n",
       "      <td>0.0</td>\n",
       "      <td>0.0</td>\n",
       "    </tr>\n",
       "    <tr>\n",
       "      <th>std</th>\n",
       "      <td>0.386704</td>\n",
       "      <td>0.484655</td>\n",
       "      <td>0.327945</td>\n",
       "      <td>0.478927</td>\n",
       "      <td>0.451740</td>\n",
       "      <td>0.484418</td>\n",
       "      <td>0.222026</td>\n",
       "      <td>0.330813</td>\n",
       "      <td>0.218010</td>\n",
       "      <td>0.290499</td>\n",
       "      <td>...</td>\n",
       "      <td>0.069326</td>\n",
       "      <td>0.316093</td>\n",
       "      <td>0.139731</td>\n",
       "      <td>0.131150</td>\n",
       "      <td>0.485211</td>\n",
       "      <td>0.126625</td>\n",
       "      <td>0.096279</td>\n",
       "      <td>0.0</td>\n",
       "      <td>0.0</td>\n",
       "      <td>0.0</td>\n",
       "    </tr>\n",
       "    <tr>\n",
       "      <th>min</th>\n",
       "      <td>0.000000</td>\n",
       "      <td>0.000000</td>\n",
       "      <td>0.000000</td>\n",
       "      <td>0.000000</td>\n",
       "      <td>0.000000</td>\n",
       "      <td>0.000000</td>\n",
       "      <td>0.000000</td>\n",
       "      <td>0.000000</td>\n",
       "      <td>0.000000</td>\n",
       "      <td>0.000000</td>\n",
       "      <td>...</td>\n",
       "      <td>0.000000</td>\n",
       "      <td>0.000000</td>\n",
       "      <td>0.000000</td>\n",
       "      <td>0.000000</td>\n",
       "      <td>0.000000</td>\n",
       "      <td>0.000000</td>\n",
       "      <td>0.000000</td>\n",
       "      <td>0.0</td>\n",
       "      <td>0.0</td>\n",
       "      <td>0.0</td>\n",
       "    </tr>\n",
       "    <tr>\n",
       "      <th>25%</th>\n",
       "      <td>0.000000</td>\n",
       "      <td>0.000000</td>\n",
       "      <td>0.000000</td>\n",
       "      <td>0.000000</td>\n",
       "      <td>0.000000</td>\n",
       "      <td>0.000000</td>\n",
       "      <td>0.000000</td>\n",
       "      <td>0.000000</td>\n",
       "      <td>0.000000</td>\n",
       "      <td>0.000000</td>\n",
       "      <td>...</td>\n",
       "      <td>0.000000</td>\n",
       "      <td>0.000000</td>\n",
       "      <td>0.000000</td>\n",
       "      <td>0.000000</td>\n",
       "      <td>0.000000</td>\n",
       "      <td>0.000000</td>\n",
       "      <td>0.000000</td>\n",
       "      <td>0.0</td>\n",
       "      <td>0.0</td>\n",
       "      <td>0.0</td>\n",
       "    </tr>\n",
       "    <tr>\n",
       "      <th>50%</th>\n",
       "      <td>0.000000</td>\n",
       "      <td>0.000000</td>\n",
       "      <td>0.000000</td>\n",
       "      <td>0.000000</td>\n",
       "      <td>0.000000</td>\n",
       "      <td>0.000000</td>\n",
       "      <td>0.000000</td>\n",
       "      <td>0.000000</td>\n",
       "      <td>0.000000</td>\n",
       "      <td>0.000000</td>\n",
       "      <td>...</td>\n",
       "      <td>0.000000</td>\n",
       "      <td>0.000000</td>\n",
       "      <td>0.000000</td>\n",
       "      <td>0.000000</td>\n",
       "      <td>0.000000</td>\n",
       "      <td>0.000000</td>\n",
       "      <td>0.000000</td>\n",
       "      <td>0.0</td>\n",
       "      <td>0.0</td>\n",
       "      <td>0.0</td>\n",
       "    </tr>\n",
       "    <tr>\n",
       "      <th>75%</th>\n",
       "      <td>0.000000</td>\n",
       "      <td>1.000000</td>\n",
       "      <td>0.000000</td>\n",
       "      <td>1.000000</td>\n",
       "      <td>1.000000</td>\n",
       "      <td>1.000000</td>\n",
       "      <td>0.000000</td>\n",
       "      <td>0.000000</td>\n",
       "      <td>0.000000</td>\n",
       "      <td>0.000000</td>\n",
       "      <td>...</td>\n",
       "      <td>0.000000</td>\n",
       "      <td>0.000000</td>\n",
       "      <td>0.000000</td>\n",
       "      <td>0.000000</td>\n",
       "      <td>1.000000</td>\n",
       "      <td>0.000000</td>\n",
       "      <td>0.000000</td>\n",
       "      <td>0.0</td>\n",
       "      <td>0.0</td>\n",
       "      <td>0.0</td>\n",
       "    </tr>\n",
       "    <tr>\n",
       "      <th>max</th>\n",
       "      <td>1.000000</td>\n",
       "      <td>1.000000</td>\n",
       "      <td>1.000000</td>\n",
       "      <td>1.000000</td>\n",
       "      <td>1.000000</td>\n",
       "      <td>1.000000</td>\n",
       "      <td>1.000000</td>\n",
       "      <td>1.000000</td>\n",
       "      <td>1.000000</td>\n",
       "      <td>1.000000</td>\n",
       "      <td>...</td>\n",
       "      <td>1.000000</td>\n",
       "      <td>1.000000</td>\n",
       "      <td>1.000000</td>\n",
       "      <td>1.000000</td>\n",
       "      <td>1.000000</td>\n",
       "      <td>1.000000</td>\n",
       "      <td>1.000000</td>\n",
       "      <td>0.0</td>\n",
       "      <td>0.0</td>\n",
       "      <td>0.0</td>\n",
       "    </tr>\n",
       "  </tbody>\n",
       "</table>\n",
       "<p>8 rows × 329 columns</p>\n",
       "</div>"
      ],
      "text/plain": [
       "       AlteredMentalStatus          LOC  FocalNeuroFindings     PainNeck  \\\n",
       "count          3230.000000  3047.000000         2979.000000  3131.000000   \n",
       "mean              0.182972     0.376764            0.122524     0.356116   \n",
       "std               0.386704     0.484655            0.327945     0.478927   \n",
       "min               0.000000     0.000000            0.000000     0.000000   \n",
       "25%               0.000000     0.000000            0.000000     0.000000   \n",
       "50%               0.000000     0.000000            0.000000     0.000000   \n",
       "75%               0.000000     1.000000            0.000000     1.000000   \n",
       "max               1.000000     1.000000            1.000000     1.000000   \n",
       "\n",
       "       PosMidNeckTenderness   TenderNeck  Torticollis  SubInj_Head  \\\n",
       "count           3222.000000  3222.000000  3078.000000  3279.000000   \n",
       "mean               0.285537     0.375854     0.051982     0.125038   \n",
       "std                0.451740     0.484418     0.222026     0.330813   \n",
       "min                0.000000     0.000000     0.000000     0.000000   \n",
       "25%                0.000000     0.000000     0.000000     0.000000   \n",
       "50%                0.000000     0.000000     0.000000     0.000000   \n",
       "75%                1.000000     1.000000     0.000000     0.000000   \n",
       "max                1.000000     1.000000     1.000000     1.000000   \n",
       "\n",
       "       SubInj_Face   SubInj_Ext  ...  PtTenderNeckLevelC5_improved  \\\n",
       "count  3279.000000  3279.000000  ...                   3314.000000   \n",
       "mean      0.050015     0.093016  ...                      0.004828   \n",
       "std       0.218010     0.290499  ...                      0.069326   \n",
       "min       0.000000     0.000000  ...                      0.000000   \n",
       "25%       0.000000     0.000000  ...                      0.000000   \n",
       "50%       0.000000     0.000000  ...                      0.000000   \n",
       "75%       0.000000     0.000000  ...                      0.000000   \n",
       "max       1.000000     1.000000  ...                      1.000000   \n",
       "\n",
       "       CervicalSpinePrecautionsOther_improved  PtParesthesias_improved  \\\n",
       "count                             3314.000000              3314.000000   \n",
       "mean                                 0.112553                 0.019916   \n",
       "std                                  0.316093                 0.139731   \n",
       "min                                  0.000000                 0.000000   \n",
       "25%                                  0.000000                 0.000000   \n",
       "50%                                  0.000000                 0.000000   \n",
       "75%                                  0.000000                 0.000000   \n",
       "max                                  1.000000                 1.000000   \n",
       "\n",
       "       PtCompPainChest_improved  CervicalSpinePrecautionsRLB_improved  \\\n",
       "count               3314.000000                           3314.000000   \n",
       "mean                   0.017502                              0.378998   \n",
       "std                    0.131150                              0.485211   \n",
       "min                    0.000000                              0.000000   \n",
       "25%                    0.000000                              0.000000   \n",
       "50%                    0.000000                              0.000000   \n",
       "75%                    0.000000                              1.000000   \n",
       "max                    1.000000                              1.000000   \n",
       "\n",
       "       PtCompPainAbd_improved  OtherInjuriesChest_improved  \\\n",
       "count             3314.000000                  3314.000000   \n",
       "mean                 0.016295                     0.009354   \n",
       "std                  0.126625                     0.096279   \n",
       "min                  0.000000                     0.000000   \n",
       "25%                  0.000000                     0.000000   \n",
       "50%                  0.000000                     0.000000   \n",
       "75%                  0.000000                     0.000000   \n",
       "max                  1.000000                     1.000000   \n",
       "\n",
       "       OtherNeuroDeficitDesc_improved  MedsRecdGlu_improved  \\\n",
       "count                          3314.0                3314.0   \n",
       "mean                              0.0                   0.0   \n",
       "std                               0.0                   0.0   \n",
       "min                               0.0                   0.0   \n",
       "25%                               0.0                   0.0   \n",
       "50%                               0.0                   0.0   \n",
       "75%                               0.0                   0.0   \n",
       "max                               0.0                   0.0   \n",
       "\n",
       "       ArrPtIntub_improved  \n",
       "count               3314.0  \n",
       "mean                   0.0  \n",
       "std                    0.0  \n",
       "min                    0.0  \n",
       "25%                    0.0  \n",
       "50%                    0.0  \n",
       "75%                    0.0  \n",
       "max                    0.0  \n",
       "\n",
       "[8 rows x 329 columns]"
      ]
     },
     "execution_count": 14,
     "metadata": {},
     "output_type": "execute_result"
    }
   ],
   "source": [
    "eda_df.describe()"
   ]
  },
  {
   "cell_type": "code",
   "execution_count": 13,
   "metadata": {},
   "outputs": [
    {
     "name": "stdout",
     "output_type": "stream",
     "text": [
      "(3314, 286) (3314, 286)\n"
     ]
    },
    {
     "ename": "NameError",
     "evalue": "name 'cont_eda_data' is not defined",
     "output_type": "error",
     "traceback": [
      "\u001b[0;31m---------------------------------------------------------------------------\u001b[0m",
      "\u001b[0;31mNameError\u001b[0m                                 Traceback (most recent call last)",
      "\u001b[0;32m<ipython-input-13-a39e26049afd>\u001b[0m in \u001b[0;36m<module>\u001b[0;34m\u001b[0m\n\u001b[1;32m      2\u001b[0m \u001b[0mprint\u001b[0m\u001b[0;34m(\u001b[0m\u001b[0mbinary_eda_data\u001b[0m\u001b[0;34m.\u001b[0m\u001b[0mshape\u001b[0m\u001b[0;34m,\u001b[0m \u001b[0mbinary_imputed_data\u001b[0m\u001b[0;34m.\u001b[0m\u001b[0mshape\u001b[0m\u001b[0;34m)\u001b[0m\u001b[0;34m\u001b[0m\u001b[0;34m\u001b[0m\u001b[0m\n\u001b[1;32m      3\u001b[0m \u001b[0mbinary_corrs\u001b[0m \u001b[0;34m=\u001b[0m \u001b[0mbinary_imputed_data\u001b[0m\u001b[0;34m.\u001b[0m\u001b[0mcorr\u001b[0m\u001b[0;34m(\u001b[0m\u001b[0mmethod\u001b[0m\u001b[0;34m=\u001b[0m\u001b[0;34m'spearman'\u001b[0m\u001b[0;34m)\u001b[0m\u001b[0;34m\u001b[0m\u001b[0;34m\u001b[0m\u001b[0m\n\u001b[0;32m----> 4\u001b[0;31m \u001b[0mcont_corrs\u001b[0m \u001b[0;34m=\u001b[0m \u001b[0mcont_eda_data\u001b[0m\u001b[0;34m.\u001b[0m\u001b[0mcorr\u001b[0m\u001b[0;34m(\u001b[0m\u001b[0mmethod\u001b[0m\u001b[0;34m=\u001b[0m\u001b[0;34m'spearman'\u001b[0m\u001b[0;34m)\u001b[0m\u001b[0;34m\u001b[0m\u001b[0;34m\u001b[0m\u001b[0m\n\u001b[0m\u001b[1;32m      5\u001b[0m \u001b[0;34m\u001b[0m\u001b[0m\n\u001b[1;32m      6\u001b[0m \u001b[0mprint\u001b[0m\u001b[0;34m(\u001b[0m\u001b[0mbinary_imputed_data\u001b[0m\u001b[0;34m.\u001b[0m\u001b[0mcolumns\u001b[0m\u001b[0;34m)\u001b[0m\u001b[0;34m\u001b[0m\u001b[0;34m\u001b[0m\u001b[0m\n",
      "\u001b[0;31mNameError\u001b[0m: name 'cont_eda_data' is not defined"
     ]
    }
   ],
   "source": [
    "binary_imputed_data = binary_eda_data.fillna(0)\n",
    "print(binary_eda_data.shape, binary_imputed_data.shape)\n",
    "binary_corrs = binary_imputed_data.corr(method='spearman')\n",
    "cont_corrs = cont_eda_data.corr(method='spearman')\n",
    "\n",
    "print(binary_imputed_data.columns)"
   ]
  },
  {
   "cell_type": "code",
   "execution_count": null,
   "metadata": {},
   "outputs": [],
   "source": [
    "binary_corrmap = sns.clustermap(binary_corrs, cmap=viz.cmap_div, vmin=-1, vmax=1, cbar_kws={'label': 'Correlation'})\n",
    "binary_corrmap.ax_row_dendrogram.set_visible(False)\n",
    "binary_corrmap.ax_col_dendrogram.set_visible(False)\n",
    "binary_corrmap.fig.suptitle(\"Spearman Correlation of Binary Covariates with Mean Imputation\")"
   ]
  },
  {
   "cell_type": "code",
   "execution_count": null,
   "metadata": {},
   "outputs": [],
   "source": []
  },
  {
   "cell_type": "code",
   "execution_count": null,
   "metadata": {},
   "outputs": [],
   "source": [
    "cont_corrmap = sns.clustermap(cont_corrs, cmap=viz.cmap_div, vmin=-1, vmax=1, cbar_kws={'label': 'Correlation'})\n",
    "cont_corrmap.ax_row_dendrogram.set_visible(False)\n",
    "cont_corrmap.ax_col_dendrogram.set_visible(False)"
   ]
  },
  {
   "cell_type": "code",
   "execution_count": null,
   "metadata": {},
   "outputs": [],
   "source": [
    "plt.figure(dpi=250, figsize=(4, 7))\n",
    "#vals = binary_corrs[outcome_def]\n",
    "vals = binary_corrs['csi_injury']\n",
    "args = np.argsort(vals)\n",
    "labs = vals.index.values[args]\n",
    "ax = plt.subplot(111)\n",
    "plt.barh(labs[-20:], vals[args][-20:])\n",
    "plt.xlabel('Correlation w/ GCS Missing')\n",
    "ax.spines['right'].set_visible(False)\n",
    "ax.spines['top'].set_visible(False)\n",
    "plt.title(\"Top 20 Correlations\")\n",
    "plt.show()"
   ]
  },
  {
   "cell_type": "code",
   "execution_count": null,
   "metadata": {},
   "outputs": [],
   "source": [
    "plt.figure(dpi=250, figsize=(4, 7))\n",
    "vals = binary_corrs['csi_injury']\n",
    "args = np.argsort(vals)\n",
    "labs = vals.index.values[args]\n",
    "ax = plt.subplot(111)\n",
    "plt.barh(labs[:25], vals[args][:25])\n",
    "plt.xlabel('Correlation w/ outcome')\n",
    "ax.spines['right'].set_visible(False)\n",
    "ax.spines['top'].set_visible(False)\n",
    "plt.show()"
   ]
  },
  {
   "cell_type": "code",
   "execution_count": null,
   "metadata": {},
   "outputs": [],
   "source": [
    "list(binary_imputed_data.columns)"
   ]
  },
  {
   "cell_type": "code",
   "execution_count": null,
   "metadata": {},
   "outputs": [],
   "source": [
    "cc_data = binary_imputed_data#[(binary_imputed_data['NonVerbal']==1)]\n",
    "#confusion_matrix = pd.crosstab(cc_data['HighriskDiving'], cc_data['IntervForCervicalStabSurgical'], rownames=['CSI Injury'], colnames=['Neck Pain'])\n",
    "#confusion_matrix = pd.crosstab(cc_data['csi_injury'], cc_data['PtTenderNeck'], rownames=['CSI Injury'], colnames=['Neck Pain'])\n",
    "\n",
    "sns.heatmap(confusion_matrix, annot=True)\n",
    "plt.title(\"Confusion Matrix for Injury and GCS with AlteredMentalStatus\")\n",
    "plt.show()\n"
   ]
  },
  {
   "cell_type": "code",
   "execution_count": null,
   "metadata": {},
   "outputs": [],
   "source": [
    "intervention_types = [col_name for col_name in binary_imputed_data if 'IntervFor' in col_name]\n",
    "injury_types = [col_name for col_name in binary_imputed_data if 'Highrisk' in col_name]\n",
    "\n",
    "intervention_data = binary_imputed_data[injury_types+intervention_types]"
   ]
  },
  {
   "cell_type": "code",
   "execution_count": null,
   "metadata": {},
   "outputs": [],
   "source": [
    "for injury in injury_types:\n",
    "    intervention_information = intervention_data.drop([i for i in injury_types if i is not injury],axis=1)\n",
    "    summary_data = intervention_information.groupby([injury]).mean()\n",
    "    print(summary_data)"
   ]
  },
  {
   "cell_type": "code",
   "execution_count": null,
   "metadata": {},
   "outputs": [],
   "source": []
  },
  {
   "cell_type": "code",
   "execution_count": null,
   "metadata": {},
   "outputs": [],
   "source": []
  },
  {
   "cell_type": "code",
   "execution_count": null,
   "metadata": {},
   "outputs": [],
   "source": [
    "with pd.option_context('display.max_rows', None, 'display.max_columns', None): \n",
    "    print(binary_imputed_data[(binary_imputed_data['csi_injury']==1)&(binary_imputed_data['GCS_na']==0)])"
   ]
  },
  {
   "cell_type": "code",
   "execution_count": null,
   "metadata": {},
   "outputs": [],
   "source": [
    "print(eda_df['TotalGCS'])"
   ]
  },
  {
   "cell_type": "code",
   "execution_count": null,
   "metadata": {},
   "outputs": [],
   "source": [
    "plt.figure(dpi=250, figsize=(4, 7))\n",
    "vals = cont_corrs[outcome_def]\n",
    "args = np.argsort(vals)\n",
    "labs = vals.index.values[args]\n",
    "ax = plt.subplot(111)\n",
    "plt.barh(labs, vals[args])\n",
    "plt.xlabel('Correlation w/ outcome')\n",
    "ax.spines['right'].set_visible(False)\n",
    "ax.spines['top'].set_visible(False)\n",
    "plt.show()"
   ]
  },
  {
   "cell_type": "code",
   "execution_count": null,
   "metadata": {},
   "outputs": [],
   "source": [
    "with pd.option_context('display.max_rows', None, 'display.max_columns', None):  # more options can be specified also\n",
    "    print(binary_corrs['GCS_NA_total'].sort_values())"
   ]
  },
  {
   "cell_type": "code",
   "execution_count": null,
   "metadata": {},
   "outputs": [],
   "source": [
    "# EDA of Missingness"
   ]
  },
  {
   "cell_type": "code",
   "execution_count": null,
   "metadata": {},
   "outputs": [],
   "source": [
    "# get percent missing by column\n",
    "pd.set_option(\"display.max_rows\", None, \"display.max_columns\", None)\n",
    "print(\"25 Covariates with Highest Percent Missingness\\n\")\n",
    "print(\"All Covariates:\")\n",
    "missing_frac = (eda_df.isna().sum() / eda_df.shape[0]) * 100\n",
    "print(missing_frac.sort_values(ascending=False)[:])"
   ]
  },
  {
   "cell_type": "code",
   "execution_count": null,
   "metadata": {},
   "outputs": [],
   "source": [
    "complete_covar = missing_frac[missing_frac==0.]\n",
    "print(\"Covar. with no missing data:\",len(complete_covar))\n",
    "\n",
    "missing_columns = missing_frac[missing_frac!=0]\n",
    "print(\"Covar. with some missing data:\",len(missing_columns))"
   ]
  },
  {
   "cell_type": "code",
   "execution_count": null,
   "metadata": {},
   "outputs": [],
   "source": [
    "binary_missing_bools = eda_df[missing_columns.index].isna()\n",
    "binary_missing_corrs = binary_missing_bools.corr(method='spearman')"
   ]
  },
  {
   "cell_type": "code",
   "execution_count": null,
   "metadata": {},
   "outputs": [],
   "source": [
    "corrmap = sns.clustermap(binary_missing_corrs, cmap=viz.cmap_div, vmin=-1, vmax=1, cbar_kws={'label': 'Correlation'})\n",
    "corrmap.ax_row_dendrogram.set_visible(False)\n",
    "corrmap.ax_col_dendrogram.set_visible(False)\n",
    "plt.title(\"Correlation of Missigness by Covariate\")"
   ]
  },
  {
   "cell_type": "code",
   "execution_count": null,
   "metadata": {},
   "outputs": [],
   "source": [
    "print(max(binary_missing_corrs))"
   ]
  },
  {
   "cell_type": "code",
   "execution_count": null,
   "metadata": {},
   "outputs": [],
   "source": [
    "print(sorted(binary_missing_corrs.iloc[:,3]))"
   ]
  },
  {
   "cell_type": "code",
   "execution_count": null,
   "metadata": {},
   "outputs": [],
   "source": [
    "# EDA of Demographic Data"
   ]
  },
  {
   "cell_type": "code",
   "execution_count": null,
   "metadata": {},
   "outputs": [],
   "source": [
    "eda_demographic_df = pd.read_csv(\"data/csi_pecarn/raw/demographics.csv\").set_index([\"studysubjectid\"])\n",
    "print(eda_demographic_df.columns)"
   ]
  },
  {
   "cell_type": "code",
   "execution_count": null,
   "metadata": {},
   "outputs": [],
   "source": [
    "gender_df = eda_demographic_df.groupby('site')['Gender'].value_counts(normalize=True)\n",
    "\n",
    "fig = plt.figure()\n",
    "plt.title('Summary of Gender Variable Across Study Sites')\n",
    "gender_df.unstack().plot(kind='bar', stacked=True,ax=fig.gca())\n",
    "plt.legend(loc='center left', bbox_to_anchor=(1.0, 0.5))\n",
    "plt.xticks(rotation = 0)\n",
    "plt.show()"
   ]
  },
  {
   "cell_type": "code",
   "execution_count": null,
   "metadata": {},
   "outputs": [],
   "source": [
    "race_df = eda_demographic_df.groupby('site')['Race'].value_counts(normalize=True)\n",
    "\n",
    "fig = plt.figure()\n",
    "plt.title('Summary of Race Variable Across Study Sites')\n",
    "race_df.unstack().plot(kind='bar', stacked=True,ax=fig.gca())\n",
    "plt.legend(loc='center left', bbox_to_anchor=(1.0, 0.5))\n",
    "plt.xticks(rotation = 0)\n",
    "plt.show()"
   ]
  },
  {
   "cell_type": "code",
   "execution_count": null,
   "metadata": {},
   "outputs": [],
   "source": [
    "ethnicity_df = eda_demographic_df.groupby('site')['Ethnicity'].value_counts(normalize=True)\n",
    "\n",
    "fig = plt.figure()\n",
    "plt.title('Summary of Ethnicity Variable Across Study Sites')\n",
    "ethnicity_df.unstack().plot(kind='bar', stacked=True,ax=fig.gca())\n",
    "plt.legend(loc='center left', bbox_to_anchor=(1.0, 0.5))\n",
    "plt.xticks(rotation = 0)\n",
    "plt.show()"
   ]
  },
  {
   "cell_type": "code",
   "execution_count": null,
   "metadata": {},
   "outputs": [],
   "source": [
    "payor_df = eda_demographic_df.groupby('site')['PayorType'].value_counts(normalize=True)\n",
    "\n",
    "fig = plt.figure()\n",
    "plt.title('Summary of Payor Type Across Study Sites')\n",
    "payor_df.unstack().plot(kind='bar', stacked=True,ax=fig.gca())\n",
    "plt.legend(loc='center left', bbox_to_anchor=(1.0, 0.5))\n",
    "plt.xticks(rotation = 0)\n",
    "plt.show()"
   ]
  },
  {
   "cell_type": "code",
   "execution_count": null,
   "metadata": {},
   "outputs": [],
   "source": [
    "age_df = eda_demographic_df[['site','AgeInYears']]\n",
    "\n",
    "\n",
    "bins = [0, 2, 5, 10, 13, np.inf]\n",
    "names = ['<2', '2-5', '5-10', '10-13', '13+']\n",
    "\n",
    "age_df.loc[:,['AgeBin']] = pd.cut(age_df.loc[:,'AgeInYears'], bins, labels=names)\n",
    "\n",
    "age_range_df = age_df.groupby('site')['AgeBin'].value_counts(normalize=True)\n",
    "\n",
    "fig = plt.figure()\n",
    "plt.title('Summary of Age Range Across Study Sites')\n",
    "age_range_df.unstack().plot(kind='bar', stacked=True,ax=fig.gca())\n",
    "plt.legend(loc='center left', bbox_to_anchor=(1.0, 0.5))\n",
    "plt.xticks(rotation = 0)\n",
    "plt.show()\n"
   ]
  },
  {
   "cell_type": "code",
   "execution_count": null,
   "metadata": {},
   "outputs": [],
   "source": []
  }
 ],
 "metadata": {
  "kernelspec": {
   "display_name": "Python 3.7",
   "language": "python",
   "name": "python3.7"
  },
  "language_info": {
   "codemirror_mode": {
    "name": "ipython",
    "version": 3
   },
   "file_extension": ".py",
   "mimetype": "text/x-python",
   "name": "python",
   "nbconvert_exporter": "python",
   "pygments_lexer": "ipython3",
   "version": "3.7.5"
  }
 },
 "nbformat": 4,
 "nbformat_minor": 4
}
